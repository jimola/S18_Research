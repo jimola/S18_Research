{
 "cells": [
  {
   "cell_type": "markdown",
   "metadata": {},
   "source": [
    "### Decision Tree (DecisionTree.ipynb)\n",
    "\n",
    "Train a Decision Tree using a ChoiceMaker to decide when to stop branching.\n",
    "\n",
    "Goal: See how a ChoiceMaker performs when applied to a novel area. Having the lowest error \n",
    "compared to naive methods would be great.\n",
    "\n",
    "Comparison: We compare against a naive way of making a decision tree algorithm\n",
    "private, as well as another method described in a sketchy paper. I implemented\n",
    "everything.\n",
    "\n",
    "Current Results: The Choicemaker seems to be competitive with the two other methods\n",
    "sometimes. We definitely need more data supporting this claim for a final submission.\n",
    "\n",
    "Improvement 1: figure out a way to make epsilon equal to 1.0 always.\n",
    "Improvement 2: simplify the error computations.\n"
   ]
  },
  {
   "cell_type": "code",
   "execution_count": 2,
   "metadata": {},
   "outputs": [],
   "source": [
    "import DPrivacy as dp\n",
    "from ChoiceMaker import DTChoice\n",
    "from sklearn import model_selection, feature_selection\n",
    "from sklearn.tree import DecisionTreeClassifier\n",
    "#import graphviz\n",
    "from sklearn.tree import export_graphviz\n",
    "%matplotlib inline\n",
    "import pickle\n",
    "import collections\n",
    "import numpy as np\n",
    "import pandas as pd\n",
    "from decision_tree import CoefCM, Leaf, Split, DB, DBMetas, PDTree"
   ]
  },
  {
   "cell_type": "code",
   "execution_count": 3,
   "metadata": {},
   "outputs": [],
   "source": [
    "#Retrain flags!\n",
    "rerun_gen_training_data = False\n",
    "rerun_train_cms = False\n",
    "rerun_exps = [False, False, True, True, True]"
   ]
  },
  {
   "cell_type": "code",
   "execution_count": 4,
   "metadata": {},
   "outputs": [],
   "source": [
    "tree_algs = {'leaf': Leaf(), 'split': Split()}\n",
    "\"\"\"\n",
    "\n",
    "This competitor algorithm appears in:\n",
    "\n",
    "Sam Fletcher and Md Zahidul Islam. Decision Tree Classification with Differential Privacy: A Survey.\n",
    "In CoRR, volume = abs/1611.01919, 2016\n",
    "\n",
    "This algorithm was chosen because it is \"subsumed\" by Jostle, meaning its code can be represented internally\n",
    "by Jostle's trees.\n",
    "\"\"\"\n",
    "fried_cm = CoefCM([1, 0, 1, 0, -1, 0, -1], np.log(1.414))"
   ]
  },
  {
   "cell_type": "markdown",
   "metadata": {},
   "source": [
    "### DATASETS"
   ]
  },
  {
   "cell_type": "code",
   "execution_count": 5,
   "metadata": {},
   "outputs": [
    {
     "name": "stderr",
     "output_type": "stream",
     "text": [
      "/home/arthur/python-envs/jostle/lib/python3.5/site-packages/ipykernel_launcher.py:1: FutureWarning: 'pandas.core' is private. Use 'pandas.Categorical'\n",
      "  \"\"\"Entry point for launching an IPython kernel.\n"
     ]
    }
   ],
   "source": [
    "adult = pickle.load(open('decision_tree_data/adult.pkl', 'rb'))\n",
    "\n",
    "nurs = pd.read_csv('../datasets/nursery.data', header=None)\n",
    "nurs = nurs.apply(lambda x: x.astype('category'))\n",
    "\n",
    "default = pickle.load(open('decision_tree_data/default.pkl', 'rb'))\n",
    "\n",
    "loan = pd.read_csv('../datasets/student-loan.csv')\n",
    "loan = loan.apply(lambda x: x.astype('category'))\n",
    "\n",
    "lending = pickle.load(open('decision_tree_data/lending.pkl', 'rb'))"
   ]
  },
  {
   "cell_type": "code",
   "execution_count": 6,
   "metadata": {
    "collapsed": true
   },
   "outputs": [],
   "source": [
    "class null_cm:\n",
    "    def __init__(self):\n",
    "        self.leaf = Leaf()\n",
    "        self.split = Split()\n",
    "    def choose(self, db):\n",
    "        if db.depth < db.max_depth:\n",
    "            return self.split.run(db)\n",
    "        else:\n",
    "            return self.leaf.run(db)"
   ]
  },
  {
   "cell_type": "markdown",
   "metadata": {},
   "source": [
    "### Experiments"
   ]
  },
  {
   "cell_type": "code",
   "execution_count": 7,
   "metadata": {
    "collapsed": true
   },
   "outputs": [],
   "source": [
    "\"\"\"\n",
    "Performs dataset surgery on a seed_db. Parameters such as target number of rows are fixed here, \n",
    "which makes sense because seed databases are roughly the same size in this experiment.\n",
    "\n",
    "Parameters:\n",
    "seed_db: dataset to slice up\n",
    "eps: value of epsilon for the experiments\n",
    "prng: random number generator\n",
    "returns a tuple: (regret of algorithm on each db, metafeatures associated with db, and the db itself)\n",
    "\"\"\"\n",
    "def get_train_dbs(seed_db, eps, prng):\n",
    "    regs = []\n",
    "    X = []\n",
    "    D = []\n",
    "    for l in range(1, 4): #Used to be 6\n",
    "        for x in range(2**(l+3)):\n",
    "            cols = prng.permutation(seed_db.columns[:-1])\n",
    "            db_groups = seed_db.groupby(list(cols[:l])).groups\n",
    "            idxs = db_groups[list(db_groups)[prng.randint(len(db_groups))]]\n",
    "            L = idxs.size\n",
    "            L = min(L, 5000)\n",
    "            L = prng.randint(0.7*L, L)\n",
    "            idxs = prng.choice(idxs, L)\n",
    "            data = DB(seed_db.loc[idxs, cols[l:]], seed_db.loc[idxs, seed_db.columns[-1]], None, None, epsilon=eps, depth=l)\n",
    "            regs.append({name: alg.error(data) for name, alg in tree_algs.items()})\n",
    "            X.append(DBMetas()(data))\n",
    "            D.append(data)\n",
    "    #Large DBs    \n",
    "    for x in range(16):\n",
    "        cols = seed_db.columns[:-1]\n",
    "        L = len(seed_db)\n",
    "        L = min(L, 5000)\n",
    "        L = prng.randint(0.7*L, L)\n",
    "        new_db = seed_db.sample(L, random_state=prng)\n",
    "        data = DB(new_db.loc[:, cols], new_db.loc[:, seed_db.columns[-1]], None, None, epsilon=eps, depth=0)\n",
    "        regs.append({name: alg.error(data) for name, alg in tree_algs.items()})\n",
    "        X.append(DBMetas()(data))\n",
    "        D.append(data)\n",
    "    return (regs, X, D)"
   ]
  },
  {
   "cell_type": "code",
   "execution_count": 8,
   "metadata": {
    "collapsed": true
   },
   "outputs": [],
   "source": [
    "\"\"\"\n",
    "Does a similar thing as get_train_dbs, but makes fewer slices, and the slices are large\n",
    "because these are databases we want to test on (and we probably won't be using tiny dbs in real life).\n",
    "\"\"\"\n",
    "\n",
    "def get_test_dbs(seed_db, eps, prng):\n",
    "    cols = seed_db.columns[:-1]\n",
    "    y_col = seed_db.columns[-1]\n",
    "    L = len(seed_db)\n",
    "    L = min(L, int(5000/0.7))\n",
    "    L = prng.randint(0.7*L, L)\n",
    "    new_db = seed_db.sample(L, random_state=prng).reset_index(drop=True)\n",
    "    split = int(0.7*L)\n",
    "    md = min(len(cols), 4)\n",
    "    d = DB(new_db.loc[:split, cols], new_db.loc[:split, y_col], \\\n",
    "           new_db.loc[split:, cols], new_db.loc[split:, y_col], epsilon=eps, max_depth=md)\n",
    "    return d"
   ]
  },
  {
   "cell_type": "code",
   "execution_count": 9,
   "metadata": {
    "collapsed": true,
    "scrolled": false
   },
   "outputs": [],
   "source": [
    "directory = '/longterm/jimola/data_train.pkl'\n",
    "if rerun_gen_training_data:\n",
    "    prng=np.random.RandomState(12345)\n",
    "    eps_vals = np.array([0.05, 0.1, 0.25, 0.5, 0.8])\n",
    "    def get_test(db, prng):\n",
    "        dbs = []\n",
    "        for i in range(0, 3):\n",
    "            for e in eps_vals:\n",
    "                dbs.append(get_train_dbs(db, e, prng))\n",
    "        return dbs\n",
    "    data_train = [get_test(db, prng) for db in \\\n",
    "                  [nurs, default, loan, adult, lending]]\n",
    "    pickle.dump(data_train, open(directory, 'wb'))\n",
    "else:\n",
    "    #These dbs take up a ton of memory. They are not on the github repo but they are in a directory on Matt's machine\n",
    "    data_train = pickle.load(open(directory, 'rb'))"
   ]
  },
  {
   "cell_type": "code",
   "execution_count": 10,
   "metadata": {},
   "outputs": [],
   "source": [
    "\"\"\"\n",
    "Trains a choicemaker\n",
    "\n",
    "Parameters:\n",
    "info: list of (regrets, metafeatures, db) tuples. \n",
    "            db is actually not needed; could just be a metafeature list.\n",
    "\"\"\"\n",
    "def get_cm(info):\n",
    "    regrets, X, datas = zip(*info)\n",
    "    regrets = pd.concat([pd.DataFrame(r) for r in regrets], ignore_index=True)\n",
    "    X = pd.concat([pd.DataFrame(r) for r in X], ignore_index=True)\n",
    "    return DTChoice(X, DBMetas(), tree_algs, regrets=regrets)\n",
    "\n",
    "if rerun_train_cms:\n",
    "    cms = [get_cm(o) for o in data_train]\n",
    "    mfs = [cm.X for cm in cms]\n",
    "    regs = [cm.regrets for cm in cms]\n",
    "    pickle.dump(mfs, open('decision_tree_metadata/data.pkl', 'wb'))\n",
    "    pickle.dump(regs, open('decision_tree_metadata/regrets.pkl', 'wb'))\n",
    "else:\n",
    "    mfs = pickle.load(open('decision_tree_metadata/data.pkl', 'rb'))\n",
    "    regs = pickle.load(open('decision_tree_metadata/regrets.pkl', 'rb'))\n",
    "    cms = [ DTChoice(mfs[i], DBMetas(), tree_algs, regrets=regs[i]) for i in range(len(mfs))]"
   ]
  },
  {
   "cell_type": "code",
   "execution_count": 11,
   "metadata": {},
   "outputs": [],
   "source": [
    "\"\"\"\n",
    "A convenience method for taking training data in choicemakers and combining it into one choicemaker.\n",
    "Used in my experiments for leave-one-out cross validation.\n",
    "\n",
    "Parameters:\n",
    "cms: list of choicemakers.\n",
    "C, msl: parameters of the choicemaker's internal tree, but not super important as they can be set later.\n",
    "\"\"\"\n",
    "def combine_cms(cms, C=0, msl=1):\n",
    "    Xs = pd.concat([cm.X for cm in cms], ignore_index=True)\n",
    "    regs = pd.concat([cm.regrets for cm in cms], ignore_index=True)\n",
    "    dt = DTChoice(Xs, DBMetas(), tree_algs, regrets=regs, C=0)\n",
    "    dt.model = DecisionTreeClassifier(min_samples_leaf=msl, max_depth=3)\n",
    "    dt.retrain_model()\n",
    "    return dt"
   ]
  },
  {
   "cell_type": "code",
   "execution_count": 12,
   "metadata": {},
   "outputs": [],
   "source": [
    "\"\"\"\n",
    "Tests a set of choicemakers on a test of databases and returns % classified correctly.\n",
    "Parameters:\n",
    "cm_list: list of choicemakers.\n",
    "dbs: list of test dbs.\n",
    "\"\"\"\n",
    "def get_results(dbs, cm_list):\n",
    "    budgets = [x.epsilon for x in dbs]\n",
    "    ans = []\n",
    "    for cm in cm_list:\n",
    "        dt = PDTree()\n",
    "        L = []\n",
    "        for t in dbs:\n",
    "            L.append( dt.fit_and_predict(t, cm) )\n",
    "            #print(dt.leaf.numruns)\n",
    "        for i in range(len(dbs)):\n",
    "            dbs[i].epsilon = budgets[i]\n",
    "        M = np.array([(L[i] == dbs[i].y_test).sum() / len(dbs[i].y_test) for i in range(len(dbs))])\n",
    "        ans.append(M)\n",
    "    return ans"
   ]
  },
  {
   "cell_type": "code",
   "execution_count": 13,
   "metadata": {},
   "outputs": [],
   "source": [
    "#Reinitialize prng before the experiments so we can reproduce their exact runs\n",
    "prng = np.random.RandomState(12345)"
   ]
  },
  {
   "cell_type": "markdown",
   "metadata": {},
   "source": [
    "### Experiment 0"
   ]
  },
  {
   "cell_type": "code",
   "execution_count": 14,
   "metadata": {},
   "outputs": [],
   "source": [
    "\"\"\"\n",
    "Format for the experiments:\n",
    "outsample_cm{i} is the choicemaker for all databases from which the test database are not generated, \n",
    "        a sort of leave-one-out cross-validation.\n",
    "insample_cm{i} is the complement of big_cm{i}, so the same database is used for both training and\n",
    "        testing data. This is to serve as a comparison.\n",
    "I set the depth of the internal tree to 4,\n",
    "    and min. samples per leaf (see sklearn documentation) to 10, somewhat arbitrarily.\n",
    "I test using epsilon=0.25 and run 5 trials for each experiment on each database. This could certainly be increased\n",
    "as the error bars have high noise.\n",
    "\"\"\"\n",
    "epsilon = 0.25\n",
    "num_trials = 5"
   ]
  },
  {
   "cell_type": "code",
   "execution_count": 15,
   "metadata": {},
   "outputs": [],
   "source": [
    "def run_experiment(i, db, msl=10, md=4):\n",
    "    insample_cm = cms[i]\n",
    "    insample_cm.model = DecisionTreeClassifier(min_samples_leaf=msl, max_depth=md)\n",
    "    insample_cm.retrain_model()\n",
    "    outsample_cm = combine_cms(cms[:i] + cms[(i+1):])\n",
    "    outsample_cm.model = DecisionTreeClassifier(min_samples_leaf=msl, max_depth=md)\n",
    "    outsample_cm.retrain_model()\n",
    "    if rerun_exps[i]:\n",
    "        res = get_results(db, [null_cm(), outsample_cm, insample_cm, fried_cm])\n",
    "        pickle.dump(res0, open('decision_tree_results/experiment%d.pkl' % i, 'wb'))\n",
    "    else:\n",
    "        res = pickle.load(open('decision_tree_results/experiment%d.pkl' % i, 'rb'))\n",
    "    return res"
   ]
  },
  {
   "cell_type": "code",
   "execution_count": 16,
   "metadata": {},
   "outputs": [],
   "source": [
    "nursdata = [get_test_dbs(nurs, epsilon, prng) for x in range(0, num_trials)]\n",
    "res0 = run_experiment(0, nursdata)"
   ]
  },
  {
   "cell_type": "code",
   "execution_count": 17,
   "metadata": {},
   "outputs": [
    {
     "data": {
      "text/plain": [
       "array([0.38088367, 0.53083703, 0.55432364, 0.5441282 ])"
      ]
     },
     "execution_count": 17,
     "metadata": {},
     "output_type": "execute_result"
    }
   ],
   "source": [
    "np.array(res0).mean(axis=1)"
   ]
  },
  {
   "cell_type": "markdown",
   "metadata": {},
   "source": [
    "### Experiment 1"
   ]
  },
  {
   "cell_type": "code",
   "execution_count": 18,
   "metadata": {},
   "outputs": [],
   "source": [
    "defaultsdata = [get_test_dbs(default, epsilon, prng) for i in range(0, num_trials)]\n",
    "res1 = run_experiment(1, defaultsdata)"
   ]
  },
  {
   "cell_type": "code",
   "execution_count": 19,
   "metadata": {},
   "outputs": [
    {
     "data": {
      "text/plain": [
       "array([0.68098526, 0.7832593 , 0.77740296, 0.76155978])"
      ]
     },
     "execution_count": 19,
     "metadata": {},
     "output_type": "execute_result"
    }
   ],
   "source": [
    "(np.array(res1)).mean(axis=1)"
   ]
  },
  {
   "cell_type": "markdown",
   "metadata": {},
   "source": [
    "### Experiment 2"
   ]
  },
  {
   "cell_type": "code",
   "execution_count": 20,
   "metadata": {},
   "outputs": [],
   "source": [
    "loandata = [get_test_dbs(loan, epsilon, prng) for i in range(num_trials)]\n",
    "res2 = run_experiment(2, loandata)"
   ]
  },
  {
   "cell_type": "code",
   "execution_count": 21,
   "metadata": {},
   "outputs": [
    {
     "data": {
      "text/plain": [
       "array([0.57311085, 0.89991541, 0.89991541, 0.89991541])"
      ]
     },
     "execution_count": 21,
     "metadata": {},
     "output_type": "execute_result"
    }
   ],
   "source": [
    "np.array(res2).mean(axis=1)"
   ]
  },
  {
   "cell_type": "markdown",
   "metadata": {},
   "source": [
    "### Experiment 3"
   ]
  },
  {
   "cell_type": "code",
   "execution_count": 22,
   "metadata": {},
   "outputs": [],
   "source": [
    "adultdata = [get_test_dbs(adult, epsilon, prng) for i in range(num_trials)]\n",
    "res3 = run_experiment(3, adultdata)"
   ]
  },
  {
   "cell_type": "code",
   "execution_count": 23,
   "metadata": {},
   "outputs": [
    {
     "data": {
      "text/plain": [
       "array([0.67459951, 0.76163534, 0.76163534, 0.76344575])"
      ]
     },
     "execution_count": 23,
     "metadata": {},
     "output_type": "execute_result"
    }
   ],
   "source": [
    "np.array(res3).mean(axis=1)"
   ]
  },
  {
   "cell_type": "markdown",
   "metadata": {},
   "source": [
    "### Experiment 4"
   ]
  },
  {
   "cell_type": "code",
   "execution_count": 24,
   "metadata": {},
   "outputs": [],
   "source": [
    "lendingdata = [get_test_dbs(lending, epsilon, prng) for x in range(num_trials)]\n",
    "res4 = run_experiment(4, lendingdata)"
   ]
  },
  {
   "cell_type": "code",
   "execution_count": 25,
   "metadata": {},
   "outputs": [
    {
     "data": {
      "text/plain": [
       "array([0.62547642, 0.85044425, 0.8342078 , 0.83395231])"
      ]
     },
     "execution_count": 25,
     "metadata": {},
     "output_type": "execute_result"
    }
   ],
   "source": [
    "np.array(res4).mean(axis=1)"
   ]
  },
  {
   "cell_type": "code",
   "execution_count": 26,
   "metadata": {},
   "outputs": [],
   "source": [
    "E = np.array([res0,res1,res2,res3,res4])"
   ]
  },
  {
   "cell_type": "code",
   "execution_count": 27,
   "metadata": {},
   "outputs": [],
   "source": [
    "#E[dataset][algorithm][trial]\n",
    "stds = E.std(axis=2).mean(axis=0)"
   ]
  },
  {
   "cell_type": "code",
   "execution_count": 28,
   "metadata": {},
   "outputs": [],
   "source": [
    "errors = 1.0-E.mean(axis=2).mean(axis=0)"
   ]
  },
  {
   "cell_type": "code",
   "execution_count": 29,
   "metadata": {},
   "outputs": [],
   "source": [
    "import matplotlib.patches as mpatches\n",
    "import matplotlib.pyplot as plt"
   ]
  },
  {
   "cell_type": "code",
   "execution_count": 30,
   "metadata": {},
   "outputs": [],
   "source": [
    "colors = ['red', 'blue', 'green', 'orange']"
   ]
  },
  {
   "cell_type": "code",
   "execution_count": 31,
   "metadata": {},
   "outputs": [],
   "source": [
    "patches = [mpatches.Patch(color=c) for c in colors]"
   ]
  },
  {
   "cell_type": "code",
   "execution_count": 32,
   "metadata": {},
   "outputs": [
    {
     "data": {
      "text/plain": [
       "<BarContainer object of 4 artists>"
      ]
     },
     "execution_count": 32,
     "metadata": {},
     "output_type": "execute_result"
    },
    {
     "data": {
      "image/png": "[encoded data removed]",
      "text/plain": [
       "<Figure size 432x288 with 1 Axes>"
      ]
     },
     "metadata": {
      "needs_background": "light"
     },
     "output_type": "display_data"
    }
   ],
   "source": [
    "fig, axis = plt.subplots()\n",
    "axis.set_xticks([0,1,2,3])\n",
    "axis.set_xticklabels(['Naive','Jostle\\n,In Sample','Jostle,\\nOut of Sample','Competitor\\nAlgorithm'])\n",
    "axis.set_xlabel('Algorithm')\n",
    "axis.set_ylabel('Mean Error')\n",
    "#axis.legend(handles=patches, labels=['Alg1', 'Alg2', 'Jostle'])\n",
    "axis.set_title('Mean Performance for 3 Stopping Criteria')\n",
    "axis.bar(range(4), errors, color=colors, yerr=stds)"
   ]
  },
  {
   "cell_type": "code",
   "execution_count": null,
   "metadata": {
    "collapsed": true
   },
   "outputs": [],
   "source": []
  }
 ],
 "metadata": {
  "kernelspec": {
   "display_name": "Python 3",
   "language": "python",
   "name": "python3"
  },
  "language_info": {
   "codemirror_mode": {
    "name": "ipython",
    "version": 3
   },
   "file_extension": ".py",
   "mimetype": "text/x-python",
   "name": "python",
   "nbconvert_exporter": "python",
   "pygments_lexer": "ipython3",
   "version": "3.5.2"
  }
 },
 "nbformat": 4,
 "nbformat_minor": 2
}
