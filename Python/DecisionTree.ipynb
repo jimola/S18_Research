{
 "cells": [
  {
   "cell_type": "markdown",
   "metadata": {},
   "source": [
    "### Decision Tree (DecisionTree.ipynb)\n",
    "Train a Decision Tree classifier, selecting a rule for when it is time to stop branching to\n",
    "avoid overfitting.\n",
    "\n",
    "Goal: See how a ChoiceMaker performs when applied to a novel area. Having the lowest error \n",
    "compared to naive methods would be great.\n",
    "\n",
    "Comparison: We compare against a naive way of making a decision tree algorithm\n",
    "private, as well as another method described in a sketchy paper. I implemented\n",
    "everything.\n",
    "\n",
    "Current Results: The Choicemaker seems to be competitive with the two other methods\n",
    "sometimes. We definitely need more data supporting this claim for a final submission.\n",
    "\n",
    "Improvement 1: figure out a way to make epsilon equal to 1.0 always.\n",
    "Improvement 2: simplify the error computations.\n"
   ]
  },
  {
   "cell_type": "code",
   "execution_count": 1,
   "metadata": {
    "collapsed": true
   },
   "outputs": [],
   "source": [
    "import DPrivacy as dp\n",
    "from ChoiceMaker import DTChoice\n",
    "from sklearn import model_selection, feature_selection\n",
    "from sklearn.tree import DecisionTreeClassifier\n",
    "import graphviz\n",
    "from sklearn.tree import export_graphviz\n",
    "%matplotlib inline\n",
    "import pickle\n",
    "import collections\n",
    "import numpy as np\n",
    "import pandas as pd\n",
    "from decision_tree import CoefCM, Leaf, Split, DB, DBMetas, PDTree"
   ]
  },
  {
   "cell_type": "code",
   "execution_count": 2,
   "metadata": {},
   "outputs": [],
   "source": [
    "tree_algs = {'leaf': Leaf(), 'split': Split()}\n",
    "fried_cm = CoefCM([1, 0, 1, 0, -1, 0, -1], np.log(1.414))"
   ]
  },
  {
   "cell_type": "markdown",
   "metadata": {},
   "source": [
    "### DATASETS"
   ]
  },
  {
   "cell_type": "code",
   "execution_count": 4,
   "metadata": {
    "collapsed": true
   },
   "outputs": [],
   "source": [
    "adult = pickle.load(open('decision_tree_data/adult.pkl', 'rb'))\n",
    "\n",
    "nurs = pd.read_csv('../datasets/nursery.data', header=None)\n",
    "nurs = nurs.apply(lambda x: x.astype('category'))\n",
    "\n",
    "skin = pd.read_csv('data/Skin.csv', sep='\\t', header=None)\n",
    "skin = skin.apply(lambda x: x.astype('category'))\n",
    "\n",
    "default = pickle.load(open('decision_tree_data/default.pkl', 'rb'))\n",
    "\n",
    "loan = pd.read_csv('../datasets/student-loan.csv')\n",
    "loan = loan.apply(lambda x: x.astype('category'))\n",
    "\n",
    "lending = pickle.load(open('decision_tree_data/lending.pkl', 'rb'))"
   ]
  },
  {
   "cell_type": "code",
   "execution_count": 5,
   "metadata": {
    "collapsed": true
   },
   "outputs": [],
   "source": [
    "class null_cm:\n",
    "    def __init__(self):\n",
    "        self.leaf = Leaf()\n",
    "        self.split = Split()\n",
    "    def choose(self, db):\n",
    "        if db.depth < db.max_depth:\n",
    "            return self.split.run(db)\n",
    "        else:\n",
    "            return self.leaf.run(db)"
   ]
  },
  {
   "cell_type": "markdown",
   "metadata": {},
   "source": [
    "### Experiments"
   ]
  },
  {
   "cell_type": "code",
   "execution_count": 6,
   "metadata": {
    "collapsed": true
   },
   "outputs": [],
   "source": [
    "\"\"\"\n",
    "Performs dataset surgery on a seed_db. Parameters such as target number of rows are fixed here, \n",
    "makes sense because seed databases are roughly the same size in this experiment.\n",
    "\n",
    "Parameters:\n",
    "seed_db: dataset on which to slice up\n",
    "eps: value of epsilon for the experiments\n",
    "prng: random number generator\n",
    "\"\"\"\n",
    "def get_train_dbs(seed_db, eps, prng):\n",
    "    regs = []\n",
    "    X = []\n",
    "    D = []\n",
    "    for l in range(1, 4): #Used to be 6\n",
    "        for x in range(2**(l+3)):\n",
    "            cols = prng.permutation(seed_db.columns[:-1])\n",
    "            db_groups = seed_db.groupby(list(cols[:l])).groups\n",
    "            idxs = db_groups[list(db_groups)[prng.randint(len(db_groups))]]\n",
    "            L = idxs.size\n",
    "            L = min(L, 5000)\n",
    "            L = prng.randint(0.7*L, L)\n",
    "            idxs = prng.choice(idxs, L)\n",
    "            data = DB(seed_db.loc[idxs, cols[l:]], seed_db.loc[idxs, seed_db.columns[-1]], None, None, epsilon=eps, depth=l)\n",
    "            regs.append({name: alg.error(data) for name, alg in tree_algs.items()})\n",
    "            X.append(DBMetas()(data))\n",
    "            D.append(data)\n",
    "    #Large DBs    \n",
    "    for x in range(16):\n",
    "        cols = seed_db.columns[:-1]\n",
    "        L = len(seed_db)\n",
    "        L = min(L, 5000)\n",
    "        L = prng.randint(0.7*L, L)\n",
    "        new_db = seed_db.sample(L, random_state=prng)\n",
    "        data = DB(new_db.loc[:, cols], new_db.loc[:, seed_db.columns[-1]], None, None, epsilon=eps, depth=0)\n",
    "        regs.append({name: alg.error(data) for name, alg in tree_algs.items()})\n",
    "        X.append(DBMetas()(data))\n",
    "        D.append(data)\n",
    "    return (regs, X, D)"
   ]
  },
  {
   "cell_type": "code",
   "execution_count": 164,
   "metadata": {
    "collapsed": true
   },
   "outputs": [],
   "source": [
    "\"\"\"\n",
    "Does a similar thing as get_train_dbs, but makes fewer slices, and the slices are large\n",
    "because these are databases we want to test on (and we probably won't be using tiny dbs in real life).\n",
    "\"\"\"\n",
    "\n",
    "def get_test_dbs(seed_db, eps, prng):\n",
    "    cols = seed_db.columns[:-1]\n",
    "    y_col = seed_db.columns[-1]\n",
    "    L = len(seed_db)\n",
    "    L = min(L, int(5000/0.7))\n",
    "    L = prng.randint(0.7*L, L)\n",
    "    new_db = seed_db.sample(L, random_state=prng).reset_index(drop=True)\n",
    "    split = int(0.7*L)\n",
    "    md = min(len(cols), 4)\n",
    "    d = DB(new_db.loc[:split, cols], new_db.loc[:split, y_col], \\\n",
    "           new_db.loc[split:, cols], new_db.loc[split:, y_col], epsilon=eps, max_depth=md)\n",
    "    return d"
   ]
  },
  {
   "cell_type": "code",
   "execution_count": null,
   "metadata": {
    "scrolled": false
   },
   "outputs": [],
   "source": [
    "#This code that trains the choicemaker takes about an hour to run (skip it unless generating new data)\n",
    "prng=np.random.RandomState(12345)\n",
    "eps_vals = np.array([0.05, 0.1, 0.25, 0.5, 0.8])\n",
    "def get_test(db, prng):\n",
    "    dbs = []\n",
    "    for i in range(0, 3):\n",
    "        for e in eps_vals:\n",
    "            dbs.append(get_train_dbs(db, e, prng))\n",
    "    return dbs\n",
    "data_train = [get_test(db, prng) for db in [nurs, default, loan, adult, lending]]"
   ]
  },
  {
   "cell_type": "code",
   "execution_count": 48,
   "metadata": {
    "collapsed": true
   },
   "outputs": [],
   "source": [
    "#Skip this too\n",
    "def get_cm(info):\n",
    "    regrets, X, datas = zip(*info)\n",
    "    regrets = pd.concat([pd.DataFrame(r) for r in regrets], ignore_index=True)\n",
    "    X = pd.concat([pd.DataFrame(r) for r in X], ignore_index=True)\n",
    "    return DTChoice(X, DBMetas(), tree_algs, regrets=regrets)\n",
    "\n",
    "cms = [get_cm(o) for o in data_train]"
   ]
  },
  {
   "cell_type": "code",
   "execution_count": 58,
   "metadata": {
    "collapsed": true
   },
   "outputs": [],
   "source": [
    "#Code for dumping trained choicemakers if we train new ones.\n",
    "#pickle.dump([cm.X for cm in cms], open('decision_tree_metadata/data2.pkl', 'wb'))\n",
    "#pickle.dump([cm.regrets for cm in cms], open('decision_tree_metadata/regrets2.pkl', 'wb'))"
   ]
  },
  {
   "cell_type": "code",
   "execution_count": 9,
   "metadata": {
    "collapsed": true
   },
   "outputs": [],
   "source": [
    "#We have already run the above code so you don't have to!\n",
    "mfs = pickle.load(open('decision_tree_metadata/data2.pkl', 'rb'))\n",
    "regs = pickle.load(open('decision_tree_metadata/regrets2.pkl', 'rb'))\n",
    "tdbs = pickle.load(open('decision_tree_metadata/training_dbs.pkl', 'rb'))"
   ]
  },
  {
   "cell_type": "code",
   "execution_count": 10,
   "metadata": {
    "collapsed": true
   },
   "outputs": [],
   "source": [
    "cms = [ DTChoice(mfs[i], DBMetas(), tree_algs, regrets=regs[i]) for i in range(len(mfs))]"
   ]
  },
  {
   "cell_type": "code",
   "execution_count": 11,
   "metadata": {
    "collapsed": true
   },
   "outputs": [],
   "source": [
    "\"\"\"\n",
    "A convenience method for taking training data in choicemakers and combining it into one choicemaker.\n",
    "Used in my experiments for leave-one-out cross validation.\n",
    "\n",
    "Parameters:\n",
    "cms: list of choicemakers.\n",
    "C, msl: parameters of the choicemaker's internal tree, but not super important as they can be set later.\n",
    "\"\"\"\n",
    "def combine_cms(cms, C=0, msl=1):\n",
    "    Xs = pd.concat([cm.X for cm in cms], ignore_index=True)\n",
    "    regs = pd.concat([cm.regrets for cm in cms], ignore_index=True)\n",
    "    dt = DTChoice(Xs, DBMetas(), tree_algs, regrets=regs, C=0)\n",
    "    dt.model = DecisionTreeClassifier(min_samples_leaf=msl, max_depth=3)\n",
    "    dt.retrain_model()\n",
    "    return dt"
   ]
  },
  {
   "cell_type": "code",
   "execution_count": 27,
   "metadata": {
    "collapsed": true
   },
   "outputs": [],
   "source": [
    "\"\"\"\n",
    "Tests a set of choicemakers on a test of databases and returns % classified correctly.\n",
    "Parameters:\n",
    "cm_list: list of choicemakers.\n",
    "dbs: list of test dbs.\n",
    "\"\"\"\n",
    "def get_results(dbs, cm_list):\n",
    "    budgets = [x.epsilon for x in dbs]\n",
    "    ans = []\n",
    "    for cm in cm_list:\n",
    "        dt = PDTree()\n",
    "        L = []\n",
    "        for t in dbs:\n",
    "            L.append( dt.fit_and_predict(t, cm) )\n",
    "            print(dt.leaf.numruns)\n",
    "        for i in range(len(dbs)):\n",
    "            dbs[i].epsilon = budgets[i]\n",
    "        M = np.array([(L[i] == dbs[i].y_test).sum() / len(dbs[i].y_test) for i in range(len(dbs))])\n",
    "        ans.append(M)\n",
    "    return ans"
   ]
  },
  {
   "cell_type": "code",
   "execution_count": 13,
   "metadata": {
    "collapsed": true
   },
   "outputs": [],
   "source": [
    "prng = np.random.RandomState(12345)"
   ]
  },
  {
   "cell_type": "markdown",
   "metadata": {},
   "source": [
    "### Experiment 0"
   ]
  },
  {
   "cell_type": "code",
   "execution_count": null,
   "metadata": {
    "collapsed": true
   },
   "outputs": [],
   "source": [
    "\"\"\"\n",
    "Format for the experiments:\n",
    "big_cm{i} is the choicemaker for all databases from which the test database are not generated from, \n",
    "        a sort of leave-one-out cross-validation.\n",
    "comp_cm{i} represents the complement of big_cm{i}, so the same database is used for both training and\n",
    "        testing data. This is to serve as a comparison.\n",
    "I set the depth of the internal tree to 4,\n",
    "    and min. samples per leaf (see sklearn documentation) to 10, somewhat arbitrarily.\n",
    "I test using epsilon=0.25 and run 5 trials for each experiment on each database. This could certainly be increased\n",
    "as the error bars have high noise.\n",
    "\"\"\"\n",
    "epsilon = 0.25\n",
    "num_trials = 5"
   ]
  },
  {
   "cell_type": "code",
   "execution_count": 95,
   "metadata": {
    "collapsed": true
   },
   "outputs": [],
   "source": [
    "comp_cm0 = cms[0]\n",
    "comp_cm0 = combine_cms(cms[1:])\n",
    "big_cm0.model = DecisionTreeClassifier(min_samples_leaf=10, max_depth=4)\n",
    "big_cm0.retrain_model()\n",
    "comp_cm0.model = DecisionTreeClassifier(min_samples_leaf=10, max_depth=4)\n",
    "comp_cm0.retrain_model()"
   ]
  },
  {
   "cell_type": "code",
   "execution_count": 96,
   "metadata": {
    "collapsed": true
   },
   "outputs": [],
   "source": [
    "nursdata = [get_test_dbs(nurs, epsilon, prng) for x in range(0, num_trials)]"
   ]
  },
  {
   "cell_type": "code",
   "execution_count": 97,
   "metadata": {
    "scrolled": false
   },
   "outputs": [
    {
     "name": "stdout",
     "output_type": "stream",
     "text": [
      "132\n",
      "238\n",
      "340\n",
      "438\n",
      "561\n",
      "0\n",
      "4\n",
      "14\n",
      "14\n",
      "14\n",
      "0\n",
      "0\n",
      "0\n",
      "0\n",
      "0\n",
      "0\n",
      "0\n",
      "0\n",
      "0\n",
      "0\n"
     ]
    }
   ],
   "source": [
    "res0 = get_results(nursdata, [null_cm(), big_cm0, comp_cm0, fried_cm])"
   ]
  },
  {
   "cell_type": "code",
   "execution_count": 98,
   "metadata": {},
   "outputs": [
    {
     "data": {
      "text/plain": [
       "array([ 0.41259083,  0.53268695,  0.54068402,  0.50523581])"
      ]
     },
     "execution_count": 98,
     "metadata": {},
     "output_type": "execute_result"
    }
   ],
   "source": [
    "np.array(res0).mean(axis=1)"
   ]
  },
  {
   "cell_type": "markdown",
   "metadata": {},
   "source": [
    "### Experiment 1"
   ]
  },
  {
   "cell_type": "code",
   "execution_count": 105,
   "metadata": {},
   "outputs": [],
   "source": [
    "comp_cm1 = cms[1]\n",
    "big_cm1 = combine_cms(cms[:1] + cms[2:])\n",
    "big_cm1.model = DecisionTreeClassifier(min_samples_leaf=10, max_depth=4)\n",
    "big_cm1.retrain_model()\n",
    "comp_cm1.model = DecisionTreeClassifier(min_samples_leaf=10, max_depth=4)\n",
    "comp_cm1.retrain_model()"
   ]
  },
  {
   "cell_type": "code",
   "execution_count": 106,
   "metadata": {
    "collapsed": true
   },
   "outputs": [],
   "source": [
    "defaultsdata = [get_test_dbs(default, epsilon, prng) for i in range(0, num_trials)]"
   ]
  },
  {
   "cell_type": "code",
   "execution_count": 107,
   "metadata": {
    "scrolled": true
   },
   "outputs": [
    {
     "name": "stdout",
     "output_type": "stream",
     "text": [
      "252\n",
      "604\n",
      "904\n",
      "1156\n",
      "1478\n",
      "0\n",
      "0\n",
      "4\n",
      "10\n",
      "12\n",
      "0\n",
      "0\n",
      "0\n",
      "0\n",
      "0\n",
      "0\n",
      "0\n",
      "0\n",
      "0\n",
      "0\n"
     ]
    }
   ],
   "source": [
    "res1 = get_results(defaultsdata, [null_cm(), big_cm1, comp_cm1, fried_cm])"
   ]
  },
  {
   "cell_type": "code",
   "execution_count": 108,
   "metadata": {},
   "outputs": [
    {
     "data": {
      "text/plain": [
       "array([ 0.67104495,  0.78070992,  0.77980918,  0.7569951 ])"
      ]
     },
     "execution_count": 108,
     "metadata": {},
     "output_type": "execute_result"
    }
   ],
   "source": [
    "(np.array(res1)).mean(axis=1)"
   ]
  },
  {
   "cell_type": "markdown",
   "metadata": {},
   "source": [
    "### Experiment 2"
   ]
  },
  {
   "cell_type": "code",
   "execution_count": 110,
   "metadata": {},
   "outputs": [],
   "source": [
    "big_cm2 = combine_cms(cms[:2] + cms[3:])\n",
    "comp_cm2 = cms[2]\n",
    "big_cm2.model = DecisionTreeClassifier(min_samples_leaf=10, max_depth=1)\n",
    "big_cm2.retrain_model()\n",
    "comp_cm2.model = DecisionTreeClassifier(min_samples_leaf=10, max_depth=1)\n",
    "comp_cm2.retrain_model()"
   ]
  },
  {
   "cell_type": "code",
   "execution_count": 111,
   "metadata": {
    "collapsed": true
   },
   "outputs": [],
   "source": [
    "loandata = [get_test_dbs(loan, epsilon, prng) for i in range(num_trials)]"
   ]
  },
  {
   "cell_type": "code",
   "execution_count": 112,
   "metadata": {},
   "outputs": [
    {
     "name": "stdout",
     "output_type": "stream",
     "text": [
      "109\n",
      "259\n",
      "325\n",
      "439\n",
      "497\n",
      "0\n",
      "0\n",
      "0\n",
      "0\n",
      "0\n",
      "0\n",
      "0\n",
      "0\n",
      "0\n",
      "0\n",
      "0\n",
      "0\n",
      "0\n",
      "0\n",
      "0\n"
     ]
    }
   ],
   "source": [
    "res2 = get_results(loandata, [null_cm(), big_cm2, comp_cm2, fried_cm])"
   ]
  },
  {
   "cell_type": "code",
   "execution_count": 113,
   "metadata": {},
   "outputs": [
    {
     "data": {
      "text/plain": [
       "array([ 0.61858333,  0.89671604,  0.89671604,  0.89671604])"
      ]
     },
     "execution_count": 113,
     "metadata": {},
     "output_type": "execute_result"
    }
   ],
   "source": [
    "np.array(res2).mean(axis=1)"
   ]
  },
  {
   "cell_type": "markdown",
   "metadata": {},
   "source": [
    "### Experiment 3"
   ]
  },
  {
   "cell_type": "code",
   "execution_count": 114,
   "metadata": {
    "collapsed": true
   },
   "outputs": [],
   "source": [
    "big_cm3 = combine_cms(cms[:3] + cms[4:])\n",
    "comp_cm3 = cms[3]\n",
    "big_cm3.model = DecisionTreeClassifier(min_samples_leaf=10, max_depth=1)\n",
    "big_cm3.retrain_model()\n",
    "comp_cm3.model = DecisionTreeClassifier(min_samples_leaf=10, max_depth=1)\n",
    "comp_cm3.retrain_model()"
   ]
  },
  {
   "cell_type": "code",
   "execution_count": 115,
   "metadata": {
    "collapsed": true
   },
   "outputs": [],
   "source": [
    "adultdata = [get_test_dbs(adult, epsilon, prng) for i in range(num_trials)]"
   ]
  },
  {
   "cell_type": "code",
   "execution_count": 116,
   "metadata": {},
   "outputs": [
    {
     "name": "stdout",
     "output_type": "stream",
     "text": [
      "449\n",
      "769\n",
      "1153\n",
      "1435\n",
      "1633\n",
      "0\n",
      "0\n",
      "0\n",
      "0\n",
      "0\n",
      "0\n",
      "0\n",
      "0\n",
      "0\n",
      "0\n",
      "0\n",
      "0\n",
      "0\n",
      "0\n",
      "0\n"
     ]
    }
   ],
   "source": [
    "res3 = get_results(adultdata, [null_cm(), big_cm3, comp_cm3, fried_cm])"
   ]
  },
  {
   "cell_type": "code",
   "execution_count": 117,
   "metadata": {},
   "outputs": [
    {
     "data": {
      "text/plain": [
       "array([ 0.67137373,  0.76513876,  0.76807864,  0.7423111 ])"
      ]
     },
     "execution_count": 117,
     "metadata": {},
     "output_type": "execute_result"
    }
   ],
   "source": [
    "np.array(res3).mean(axis=1)"
   ]
  },
  {
   "cell_type": "markdown",
   "metadata": {},
   "source": [
    "### Experiment 4"
   ]
  },
  {
   "cell_type": "code",
   "execution_count": 118,
   "metadata": {},
   "outputs": [],
   "source": [
    "big_cm4 = combine_cms(cms[:4] + cms[5:])\n",
    "comp_cm4 = cms[4]\n",
    "big_cm4.model = DecisionTreeClassifier(min_samples_leaf=10, max_depth=4)\n",
    "big_cm4.retrain_model()\n",
    "comp_cm4.model = DecisionTreeClassifier(min_samples_leaf=10, max_depth=4)\n",
    "comp_cm4.retrain_model()"
   ]
  },
  {
   "cell_type": "code",
   "execution_count": 119,
   "metadata": {
    "collapsed": true
   },
   "outputs": [],
   "source": [
    "lendingdata = [get_test_dbs(lending, epsilon, prng) for x in range(num_trials)]"
   ]
  },
  {
   "cell_type": "code",
   "execution_count": 127,
   "metadata": {},
   "outputs": [
    {
     "name": "stdout",
     "output_type": "stream",
     "text": [
      "189\n",
      "518\n",
      "792\n",
      "1199\n",
      "1527\n",
      "0\n",
      "0\n",
      "0\n",
      "0\n",
      "0\n",
      "0\n",
      "0\n",
      "0\n",
      "0\n",
      "0\n",
      "0\n",
      "0\n",
      "0\n",
      "0\n",
      "0\n"
     ]
    }
   ],
   "source": [
    "res4 = get_results(lendingdata, [null_cm(), big_cm4, comp_cm3, fried_cm])"
   ]
  },
  {
   "cell_type": "code",
   "execution_count": 128,
   "metadata": {},
   "outputs": [
    {
     "data": {
      "text/plain": [
       "array([ 0.5716228 ,  0.85011227,  0.8325532 ,  0.83701077])"
      ]
     },
     "execution_count": 128,
     "metadata": {},
     "output_type": "execute_result"
    }
   ],
   "source": [
    "np.array(res4).mean(axis=1)"
   ]
  },
  {
   "cell_type": "code",
   "execution_count": 136,
   "metadata": {},
   "outputs": [],
   "source": [
    "#Code for dumping result of experiments.\n",
    "#E = np.array([res0,res1,res2,res3,res4])\n",
    "#pickle.dump(E, open('decision_tree_data/perf0.25', 'wb'))\n",
    "E = pickle.load(open('decision_tree_data/perf0.25', 'rb'))"
   ]
  },
  {
   "cell_type": "code",
   "execution_count": 141,
   "metadata": {
    "collapsed": true
   },
   "outputs": [],
   "source": []
  },
  {
   "cell_type": "code",
   "execution_count": 153,
   "metadata": {},
   "outputs": [],
   "source": [
    "#E[dataset][algorithm][trial]\n",
    "stds = E.std(axis=2).mean(axis=0)"
   ]
  },
  {
   "cell_type": "code",
   "execution_count": 143,
   "metadata": {},
   "outputs": [],
   "source": [
    "errors = 1.0-E.mean(axis=2).mean(axis=0)"
   ]
  },
  {
   "cell_type": "code",
   "execution_count": 144,
   "metadata": {},
   "outputs": [
    {
     "data": {
      "text/plain": [
       "array([ 0.41095687,  0.23492721,  0.23643179,  0.25234624])"
      ]
     },
     "execution_count": 144,
     "metadata": {},
     "output_type": "execute_result"
    }
   ],
   "source": [
    "errors"
   ]
  },
  {
   "cell_type": "code",
   "execution_count": 146,
   "metadata": {
    "collapsed": true
   },
   "outputs": [],
   "source": [
    "import matplotlib.patches as mpatches"
   ]
  },
  {
   "cell_type": "code",
   "execution_count": 150,
   "metadata": {
    "collapsed": true
   },
   "outputs": [],
   "source": [
    "colors = ['red', 'blue', 'green', 'orange']"
   ]
  },
  {
   "cell_type": "code",
   "execution_count": 151,
   "metadata": {
    "collapsed": true
   },
   "outputs": [],
   "source": [
    "patches = [mpatches.Patch(color=c) for c in colors]"
   ]
  },
  {
   "cell_type": "code",
   "execution_count": 163,
   "metadata": {},
   "outputs": [
    {
     "data": {
      "text/plain": [
       "<Container object of 4 artists>"
      ]
     },
     "execution_count": 163,
     "metadata": {},
     "output_type": "execute_result"
    },
    {
     "data": {
      "image/png": "[encoded data removed]",
      "text/plain": [
       "<matplotlib.figure.Figure at 0x7fc4e771d4a8>"
      ]
     },
     "metadata": {},
     "output_type": "display_data"
    }
   ],
   "source": [
    "fig, axis = plt.subplots()\n",
    "axis.set_xticks([0,1,2,3])\n",
    "axis.set_xticklabels(['Naive','Jostle\\n,In Sample','Jostle,\\nOut of Sample','Competitor\\nAlgorithm'])\n",
    "axis.set_xlabel('Algorithm')\n",
    "axis.set_ylabel('Mean Error')\n",
    "#axis.legend(handles=patches, labels=['Alg1', 'Alg2', 'Jostle'])\n",
    "axis.set_title('Mean Performance for 3 Stopping Criteria')\n",
    "axis.bar(range(4), errors, color=colors, yerr=stds)"
   ]
  },
  {
   "cell_type": "code",
   "execution_count": null,
   "metadata": {
    "collapsed": true
   },
   "outputs": [],
   "source": [
    "#Once we test multiple epsilons, we can use this code"
   ]
  },
  {
   "cell_type": "code",
   "execution_count": 294,
   "metadata": {
    "collapsed": true
   },
   "outputs": [],
   "source": [
    "x_pos = np.array([4*x + y for x in [0,1,2] for y in [0,1,2]])"
   ]
  },
  {
   "cell_type": "code",
   "execution_count": 295,
   "metadata": {
    "collapsed": true
   },
   "outputs": [],
   "source": [
    "colors = ['red', 'blue', 'green']*3"
   ]
  },
  {
   "cell_type": "code",
   "execution_count": 296,
   "metadata": {
    "collapsed": true
   },
   "outputs": [],
   "source": [
    "patches = [mpatches.Patch(color=c) for c in ['red', 'blue', 'green']]"
   ]
  },
  {
   "cell_type": "code",
   "execution_count": 297,
   "metadata": {},
   "outputs": [
    {
     "data": {
      "text/plain": [
       "<Container object of 9 artists>"
      ]
     },
     "execution_count": 297,
     "metadata": {},
     "output_type": "execute_result"
    },
    {
     "data": {
      "image/png": "[encoded data removed]",
      "text/plain": [
       "<matplotlib.figure.Figure at 0x7f8bed374860>"
      ]
     },
     "metadata": {},
     "output_type": "display_data"
    }
   ],
   "source": [
    "fig, axis = plt.subplots()\n",
    "axis.set_xticks([1,5,9])\n",
    "axis.set_xticklabels(['1.0', '4.0', '7.0'])\n",
    "axis.set_xlabel('epsilon')\n",
    "axis.set_ylabel('Mean Error')\n",
    "axis.legend(handles=patches, labels=['Alg1', 'Alg2', 'Jostle'])\n",
    "axis.set_title('Mean Performance for 3 Stopping Criteria')\n",
    "axis.bar(x_pos, juxtaposed_alg_perfs, color=colors)"
   ]
  },
  {
   "cell_type": "code",
   "execution_count": null,
   "metadata": {
    "collapsed": true
   },
   "outputs": [],
   "source": [
    "fig, axis = plt.subplots()\n",
    "for a in "
   ]
  }
 ],
 "metadata": {
  "kernelspec": {
   "display_name": "Python 3",
   "language": "python",
   "name": "python3"
  },
  "language_info": {
   "codemirror_mode": {
    "name": "ipython",
    "version": 3
   },
   "file_extension": ".py",
   "mimetype": "text/x-python",
   "name": "python",
   "nbconvert_exporter": "python",
   "pygments_lexer": "ipython3",
   "version": "3.6.3"
  }
 },
 "nbformat": 4,
 "nbformat_minor": 2
}
