{
 "cells": [
  {
   "cell_type": "markdown",
   "metadata": {},
   "source": [
    "### Decision Tree (DecisionTree.ipynb)\n",
    "\n",
    "Train a Decision Tree using a ChoiceMaker to decide when to stop branching.\n",
    "\n",
    "Goal: See how a ChoiceMaker performs when applied to a novel area. Having the lowest error \n",
    "compared to naive methods would be great.\n",
    "\n",
    "Comparison: We compare against a naive way of making a decision tree algorithm\n",
    "private, as well as another method described in a sketchy paper. I implemented\n",
    "everything.\n",
    "\n",
    "Current Results: The Choicemaker seems to be competitive with the two other methods\n",
    "sometimes. We definitely need more data supporting this claim for a final submission.\n",
    "\n",
    "Improvement 1: figure out a way to make epsilon equal to 1.0 always.\n",
    "Improvement 2: simplify the error computations.\n"
   ]
  },
  {
   "cell_type": "code",
   "execution_count": 34,
   "metadata": {},
   "outputs": [],
   "source": [
    "import DPrivacy as dp\n",
    "from ChoiceMaker import DTChoice\n",
    "from sklearn import model_selection, feature_selection\n",
    "from sklearn.tree import DecisionTreeClassifier\n",
    "#import graphviz\n",
    "from sklearn.tree import export_graphviz\n",
    "%matplotlib inline\n",
    "import pickle\n",
    "import collections\n",
    "import numpy as np\n",
    "import pandas as pd\n",
    "from decision_tree import CoefCM, Leaf, Split, DB, DBMetas, PDTree\n",
    "import copy"
   ]
  },
  {
   "cell_type": "code",
   "execution_count": 49,
   "metadata": {},
   "outputs": [],
   "source": [
    "#Retrain flags!\n",
    "rerun_gen_training_data = False\n",
    "rerun_train_cms = False\n",
    "rerun_exps = [True, True, True, True, True, True, True]"
   ]
  },
  {
   "cell_type": "code",
   "execution_count": 3,
   "metadata": {},
   "outputs": [],
   "source": [
    "tree_algs = {'leaf': Leaf(), 'split': Split()}\n",
    "\"\"\"\n",
    "\n",
    "This competitor algorithm appears in:\n",
    "\n",
    "Sam Fletcher and Md Zahidul Islam. Decision Tree Classification with Differential Privacy: A Survey.\n",
    "In CoRR, volume = abs/1611.01919, 2016\n",
    "\n",
    "This algorithm was chosen because it is \"subsumed\" by Jostle, meaning its code can be represented internally\n",
    "by Jostle's trees.\n",
    "\"\"\"\n",
    "fried_cm = CoefCM([1, 0, 1, 0, -1, 0, -1], np.log(1.414))"
   ]
  },
  {
   "cell_type": "markdown",
   "metadata": {},
   "source": [
    "### DATASETS"
   ]
  },
  {
   "cell_type": "code",
   "execution_count": 4,
   "metadata": {},
   "outputs": [
    {
     "name": "stderr",
     "output_type": "stream",
     "text": [
      "/home/jacob/anaconda3/lib/python3.6/site-packages/ipykernel_launcher.py:1: FutureWarning: 'pandas.core' is private. Use 'pandas.Categorical'\n",
      "  \"\"\"Entry point for launching an IPython kernel.\n"
     ]
    }
   ],
   "source": [
    "adult = pickle.load(open('decision_tree_data/adult.pkl', 'rb'))\n",
    "\n",
    "nurs = pd.read_csv('../datasets/nursery.data', header=None)\n",
    "nurs = nurs.apply(lambda x: x.astype('category'))\n",
    "\n",
    "default = pickle.load(open('decision_tree_data/default.pkl', 'rb'))\n",
    "\n",
    "loan = pd.read_csv('../datasets/student-loan.csv')\n",
    "loan = loan.apply(lambda x: x.astype('category'))\n",
    "\n",
    "lending = pickle.load(open('decision_tree_data/lending.pkl', 'rb'))"
   ]
  },
  {
   "cell_type": "code",
   "execution_count": 56,
   "metadata": {},
   "outputs": [],
   "source": [
    "letter = pickle.load(open('decision_tree_data/letter.pkl', 'rb'))\n",
    "magicdb = pickle.load(open('decision_tree_data/magic.pkl', 'rb'))"
   ]
  },
  {
   "cell_type": "code",
   "execution_count": 8,
   "metadata": {},
   "outputs": [
    {
     "name": "stdout",
     "output_type": "stream",
     "text": [
      "[7, 9, 10, 16, 16, 7, 15, 6, 5, 2, 2, 2, 4, 5, 2]\n",
      "[3, 5, 4, 4, 3, 2, 3, 3, 5]\n",
      "[10, 2, 7, 4, 7, 11, 11, 11, 11, 10, 10, 5, 5, 5, 5, 5, 5, 5, 5, 5, 5, 5, 5, 2]\n",
      "[10, 2, 2, 8, 7, 16, 2, 2, 2]\n",
      "[2, 4, 4, 6, 8, 6, 10, 10, 5, 2, 3, 7, 5, 4]\n",
      "[12, 16, 14, 11, 13, 13, 13, 16, 13, 12, 13, 14, 12, 9, 12, 14, 5]\n",
      "[5, 5, 5, 5, 5, 5, 5, 5, 5, 5, 2]\n"
     ]
    }
   ],
   "source": [
    "print([len(adult[c].cat.categories) for c in adult])\n",
    "print([len(nurs[c].cat.categories) for c in nurs])\n",
    "print([len(default[c].cat.categories) for c in default])\n",
    "print([len(loan[c].cat.categories) for c in loan])\n",
    "print([len(lending[c].cat.categories) for c in lending])\n",
    "print([len(letter[0][c].cat.categories) for c in letter[0]])\n",
    "print([len(magicdb[c].cat.categories) for c in magicdb])"
   ]
  },
  {
   "cell_type": "markdown",
   "metadata": {},
   "source": [
    "### Experiments"
   ]
  },
  {
   "cell_type": "code",
   "execution_count": 9,
   "metadata": {},
   "outputs": [],
   "source": [
    "#database generation infrastructure\n",
    "exec(open('d_tree_dbinfra.py').read())"
   ]
  },
  {
   "cell_type": "code",
   "execution_count": 10,
   "metadata": {},
   "outputs": [],
   "source": [
    "eps_vals = np.array([0.05, 0.1, 0.25, 0.5, 0.8])\n",
    "def get_test(db, prng, eps_vals):\n",
    "    dbs = []\n",
    "    for i in range(0, 3):\n",
    "        for e in eps_vals:\n",
    "            dbs.append(get_train_dbs(db, e, prng))\n",
    "    return dbs"
   ]
  },
  {
   "cell_type": "code",
   "execution_count": 11,
   "metadata": {
    "scrolled": false
   },
   "outputs": [],
   "source": [
    "\n",
    "#directory = '/longterm/jimola/data_train.pkl'\n",
    "directory = 'decision_tree_metadata/training_dbs.pkl'\n",
    "if rerun_gen_training_data:\n",
    "    prng=np.random.RandomState(12345)\n",
    "    data_train = [get_test(db, prng, eps_vals) for db in \\\n",
    "                  [nurs, default, loan, adult, lending]]\n",
    "    if rerun_save_training_data:\n",
    "        pickle.dump(data_train, open(directory, 'wb'))\n",
    "else:\n",
    "    #These dbs take up a ton of memory. They are not on the github repo but they are in a directory on Matt's machine\n",
    "    data_train = pickle.load(open(directory, 'rb'))"
   ]
  },
  {
   "cell_type": "code",
   "execution_count": 12,
   "metadata": {},
   "outputs": [],
   "source": [
    "\"\"\"\n",
    "Trains a choicemaker\n",
    "\n",
    "Parameters:\n",
    "info: list of (regrets, metafeatures, db) tuples. \n",
    "            db is actually not needed; could just be a metafeature list.\n",
    "\"\"\"\n",
    "def get_cm(info):\n",
    "    regrets, X, datas = zip(*info)\n",
    "    regrets = pd.concat([pd.DataFrame(r) for r in regrets], ignore_index=True)\n",
    "    X = pd.concat([pd.DataFrame(r) for r in X], ignore_index=True)\n",
    "    return DTChoice(X, DBMetas(), tree_algs, regrets=regrets)\n",
    "\n",
    "if rerun_train_cms:\n",
    "    cms = [get_cm(o) for o in data_train]\n",
    "    mfs = [cm.X for cm in cms]\n",
    "    regs = [cm.regrets for cm in cms]\n",
    "    pickle.dump(mfs, open('decision_tree_metadata/data.pkl', 'wb'))\n",
    "    pickle.dump(regs, open('decision_tree_metadata/regrets.pkl', 'wb'))\n",
    "else:\n",
    "    mfs = pickle.load(open('decision_tree_metadata/data.pkl', 'rb'))\n",
    "    regs = pickle.load(open('decision_tree_metadata/regrets.pkl', 'rb'))\n",
    "    cms = [ DTChoice(mfs[i], DBMetas(), tree_algs, regrets=regs[i]) for i in range(len(mfs))]"
   ]
  },
  {
   "cell_type": "code",
   "execution_count": 13,
   "metadata": {},
   "outputs": [],
   "source": [
    "\"\"\"\n",
    "A convenience method for taking training data in choicemakers and combining it into one choicemaker.\n",
    "Used in my experiments for leave-one-out cross validation.\n",
    "\n",
    "Parameters:\n",
    "cms: list of choicemakers.\n",
    "C, msl: parameters of the choicemaker's internal tree, but not super important as they can be set later.\n",
    "\"\"\"\n",
    "def combine_cms(cms, C=0, msl=1):\n",
    "    Xs = pd.concat([cm.X for cm in cms], ignore_index=True)\n",
    "    regs = pd.concat([cm.regrets for cm in cms], ignore_index=True)\n",
    "    dt = DTChoice(Xs, DBMetas(), tree_algs, regrets=regs, C=0)\n",
    "    dt.model = DecisionTreeClassifier(min_samples_leaf=msl, max_depth=3)\n",
    "    dt.retrain_model()\n",
    "    return dt"
   ]
  },
  {
   "cell_type": "code",
   "execution_count": 35,
   "metadata": {},
   "outputs": [],
   "source": [
    "\"\"\"\n",
    "Tests a set of choicemakers on a test of databases and returns % classified correctly.\n",
    "Parameters:\n",
    "cm_list: list of choicemakers.\n",
    "dbs: list of test dbs.\n",
    "\"\"\"\n",
    "def get_results(dbs, cm_list):\n",
    "    budgets = [x.epsilon for x in dbs]\n",
    "    ans = []\n",
    "    for cm in cm_list:\n",
    "        dt = PDTree()\n",
    "        L = []\n",
    "        for t in dbs:\n",
    "            L.append( dt.fit_and_predict(t, cm) )\n",
    "        for i in range(len(dbs)):\n",
    "            dbs[i].epsilon = budgets[i]\n",
    "        M = np.array([(L[i] == dbs[i].y_test).sum() / len(dbs[i].y_test) for i in range(len(dbs))])\n",
    "        ans.append(M)\n",
    "    return ans"
   ]
  },
  {
   "cell_type": "code",
   "execution_count": 15,
   "metadata": {},
   "outputs": [],
   "source": [
    "#Reinitialize prng before the experiments so we can reproduce their exact runs\n",
    "prng = np.random.RandomState(12345)"
   ]
  },
  {
   "cell_type": "markdown",
   "metadata": {},
   "source": [
    "### Testing properties of different choicemakers:"
   ]
  },
  {
   "cell_type": "code",
   "execution_count": 16,
   "metadata": {},
   "outputs": [],
   "source": [
    "# Prints basic stats about cm run on a db\n",
    "def choicemaker_stats(db, cm, epsilon,D=4):\n",
    "    testdb = copy.deepcopy(db)\n",
    "    testdb_train = copy.deepcopy(db)\n",
    "    if isinstance(cm, DTChoice):\n",
    "        cm.algs['split'].numruns = 0\n",
    "        cm.algs['leaf'].numruns = 0\n",
    "    elif isinstance(cm, CoefCM):\n",
    "        cm.leaf.numruns = 0\n",
    "        cm.split.numruns = 0\n",
    "    testdb.max_depth=D\n",
    "    testdb_train.max_depth=D\n",
    "    testdb_train.X_test = testdb_train.X\n",
    "    testdb_train.y_test = testdb_train.y\n",
    "    testdb.epsilon = 1.0\n",
    "    testdb_train.epsilon = 1.0\n",
    "    dt = PDTree()\n",
    "    P_out = dt.fit_and_predict(testdb, cm)\n",
    "    P_in = dt.fit_and_predict(testdb_train, cm)\n",
    "    M_out = (P_out == testdb.y_test).mean()\n",
    "    M_in = (P_in == testdb_train.y_test).mean()\n",
    "    print(\"No. times maximum depth: %d\" % dt.leaf.numruns)\n",
    "    if isinstance(cm, DTChoice):\n",
    "        print(\"No. times chose to split: %d\" % cm.algs['split'].numruns)\n",
    "        print(\"No. times chose to leaf: %d\" % cm.algs['leaf'].numruns)\n",
    "    elif isinstance(cm, CoefCM):\n",
    "        print(\"No. times chose to split: %d\" % cm.split.numruns)\n",
    "        print(\"No. times chose to leaf: %d\" % cm.leaf.numruns)\n",
    "    print(\"In-sample score: %f\" % M_in)\n",
    "    print(\"Out-of-sample score: %f\" % M_out)\n",
    "    return M_out\n",
    "def db_stats(i, db, epsilon,D=4):\n",
    "    insample_cm = cms[i]\n",
    "    insample_cm.model = DecisionTreeClassifier(min_samples_leaf=msl, max_depth=md)\n",
    "    insample_cm.retrain_model()\n",
    "    outsample_cm = combine_cms(cms[:i] + cms[(i+1):])\n",
    "    outsample_cm.model = DecisionTreeClassifier(min_samples_leaf=msl, max_depth=md)\n",
    "    outsample_cm.retrain_model()\n",
    "    cm_list = [null_cm(0), null_cm(1), null_cm(2), outsample_cm, insample_cm, fried_cm]\n",
    "    return [choicemaker_stats(db, C, epsilon) for C in cm_list]"
   ]
  },
  {
   "cell_type": "code",
   "execution_count": 19,
   "metadata": {},
   "outputs": [],
   "source": [
    "def run_experiment(i, db, msl=10, md=4):\n",
    "    insample_cm = cms[i]\n",
    "    insample_cm.model = DecisionTreeClassifier(min_samples_leaf=msl, max_depth=md)\n",
    "    insample_cm.retrain_model()\n",
    "    outsample_cm = combine_cms(cms[:i] + cms[(i+1):])\n",
    "    outsample_cm.model = DecisionTreeClassifier(min_samples_leaf=msl, max_depth=md)\n",
    "    outsample_cm.retrain_model()\n",
    "    if rerun_exps[i]:\n",
    "        res = get_results(db, [null_cm(0), null_cm(1), null_cm(2), outsample_cm, insample_cm, fried_cm])\n",
    "        pickle.dump(res, open('decision_tree_results/experiment%d.pkl' % i, 'wb'))\n",
    "    else:\n",
    "        res = pickle.load(open('decision_tree_results/experiment%d.pkl' % i, 'rb'))\n",
    "    return res"
   ]
  },
  {
   "cell_type": "markdown",
   "metadata": {},
   "source": [
    "### Experiment 0"
   ]
  },
  {
   "cell_type": "code",
   "execution_count": 32,
   "metadata": {},
   "outputs": [],
   "source": [
    "\"\"\"\n",
    "Format for the experiments:\n",
    "outsample_cm{i} is the choicemaker for all databases from which the test database are not generated, \n",
    "        a sort of leave-one-out cross-validation.\n",
    "insample_cm{i} is the complement of big_cm{i}, so the same database is used for both training and\n",
    "        testing data. This is to serve as a comparison.\n",
    "I set the depth of the internal tree to 4,\n",
    "    and min. samples per leaf (see sklearn documentation) to 10, somewhat arbitrarily.\n",
    "I test using epsilon=0.25 and run 5 trials for each experiment on each database. This could certainly be increased\n",
    "as the error bars have high noise.\n",
    "\"\"\"\n",
    "epsilon = 0.25\n",
    "num_trials = 5"
   ]
  },
  {
   "cell_type": "code",
   "execution_count": 42,
   "metadata": {},
   "outputs": [],
   "source": [
    "nursdata = [get_test_dbs(nurs, epsilon, prng) for i in range(0, num_trials)]\n",
    "res0 = run_experiment(0, nursdata)"
   ]
  },
  {
   "cell_type": "code",
   "execution_count": 44,
   "metadata": {},
   "outputs": [
    {
     "data": {
      "text/plain": [
       "[array([0.3295393 , 0.31914894, 0.32113821, 0.33089214, 0.32306057]),\n",
       " array([0.50352304, 0.51359338, 0.51277584, 0.52729694, 0.52603613]),\n",
       " array([0.46829268, 0.58747045, 0.51277584, 0.55858855, 0.52603613]),\n",
       " array([0.50352304, 0.51359338, 0.51277584, 0.52729694, 0.52603613]),\n",
       " array([0.50081301, 0.5212766 , 0.44889663, 0.42143808, 0.58714134]),\n",
       " array([0.51598916, 0.50177305, 0.48490128, 0.63182423, 0.63124336])]"
      ]
     },
     "execution_count": 44,
     "metadata": {},
     "output_type": "execute_result"
    }
   ],
   "source": [
    "res0"
   ]
  },
  {
   "cell_type": "markdown",
   "metadata": {},
   "source": [
    "### Experiment 1"
   ]
  },
  {
   "cell_type": "code",
   "execution_count": 20,
   "metadata": {},
   "outputs": [],
   "source": [
    "defaultsdata = [get_test_dbs(default, epsilon, prng) for i in range(0, num_trials)]\n",
    "res1 = run_experiment(1, defaultsdata)"
   ]
  },
  {
   "cell_type": "code",
   "execution_count": 45,
   "metadata": {},
   "outputs": [
    {
     "data": {
      "text/plain": [
       "[array([0.77682119, 0.77948464, 0.77430556, 0.77408143, 0.7803943 ,\n",
       "        0.78929385, 0.78286734, 0.78131524, 0.77790766, 0.77949511,\n",
       "        0.78437341, 0.78228087, 0.78246206, 0.7814676 , 0.77053292,\n",
       "        0.77486911, 0.80036742, 0.78753541, 0.78329298, 0.78442728]),\n",
       " array([0.77615894, 0.77948464, 0.77430556, 0.79096326, 0.7803943 ,\n",
       "        0.78929385, 0.78524688, 0.78131524, 0.77790766, 0.77949511,\n",
       "        0.7869102 , 0.78228087, 0.78246206, 0.7814676 , 0.77053292,\n",
       "        0.77058544, 0.80832823, 0.78753541, 0.80750605, 0.78442728]),\n",
       " array([0.69602649, 0.77552032, 0.71775794, 0.76713009, 0.7803943 ,\n",
       "        0.72209567, 0.71088638, 0.71764092, 0.78375219, 0.6573931 ,\n",
       "        0.79604262, 0.73279925, 0.76559865, 0.7412962 , 0.77304075,\n",
       "        0.75440267, 0.80404164, 0.72294618, 0.74757869, 0.68404118]),\n",
       " array([0.77682119, 0.77948464, 0.77430556, 0.77408143, 0.7803943 ,\n",
       "        0.78929385, 0.78286734, 0.78131524, 0.77790766, 0.77949511,\n",
       "        0.78437341, 0.78228087, 0.78246206, 0.7814676 , 0.77053292,\n",
       "        0.76772965, 0.80036742, 0.78753541, 0.78329298, 0.78442728]),\n",
       " array([0.77682119, 0.77948464, 0.77430556, 0.77408143, 0.7803943 ,\n",
       "        0.78929385, 0.78286734, 0.78131524, 0.77790766, 0.77949511,\n",
       "        0.78437341, 0.78228087, 0.78246206, 0.7814676 , 0.77053292,\n",
       "        0.77486911, 0.80036742, 0.78753541, 0.78329298, 0.78442728]),\n",
       " array([0.77682119, 0.77948464, 0.77430556, 0.77408143, 0.7803943 ,\n",
       "        0.64350797, 0.81856038, 0.78549061, 0.77790766, 0.77897991,\n",
       "        0.78437341, 0.78228087, 0.78246206, 0.7814676 , 0.77053292,\n",
       "        0.67920038, 0.80036742, 0.78753541, 0.78329298, 0.77413127])]"
      ]
     },
     "execution_count": 45,
     "metadata": {},
     "output_type": "execute_result"
    }
   ],
   "source": []
  },
  {
   "cell_type": "markdown",
   "metadata": {},
   "source": [
    "### Experiment 2"
   ]
  },
  {
   "cell_type": "code",
   "execution_count": 46,
   "metadata": {},
   "outputs": [],
   "source": [
    "#This experiment is not great\n",
    "loandata = [get_test_dbs(loan, epsilon, prng) for i in range(num_trials)]\n",
    "res2 = run_experiment(2, loandata)"
   ]
  },
  {
   "cell_type": "code",
   "execution_count": 68,
   "metadata": {
    "scrolled": true
   },
   "outputs": [
    {
     "name": "stdout",
     "output_type": "stream",
     "text": [
      "No. times maximum depth: 0\n",
      "In-sample score: 0.910581\n",
      "Out-of-sample score: 0.892361\n",
      "No. times maximum depth: 0\n",
      "In-sample score: 0.910581\n",
      "Out-of-sample score: 0.892361\n",
      "No. times maximum depth: 0\n",
      "In-sample score: 0.910581\n",
      "Out-of-sample score: 0.840278\n",
      "No. times maximum depth: 0\n",
      "No. times chose to split: 0\n",
      "No. times chose to leaf: 2\n",
      "In-sample score: 0.910581\n",
      "Out-of-sample score: 0.892361\n",
      "No. times maximum depth: 0\n",
      "No. times chose to split: 0\n",
      "No. times chose to leaf: 2\n",
      "In-sample score: 0.910581\n",
      "Out-of-sample score: 0.892361\n",
      "No. times maximum depth: 7\n",
      "No. times chose to split: 8\n",
      "No. times chose to leaf: 35\n",
      "In-sample score: 0.910581\n",
      "Out-of-sample score: 0.878472\n"
     ]
    },
    {
     "data": {
      "text/plain": [
       "[0.8923611111111112,\n",
       " 0.8923611111111112,\n",
       " 0.8402777777777778,\n",
       " 0.8923611111111112,\n",
       " 0.8923611111111112,\n",
       " 0.8784722222222222]"
      ]
     },
     "execution_count": 68,
     "metadata": {},
     "output_type": "execute_result"
    }
   ],
   "source": [
    "db_stats(2, loandata[0], 0.25, 4)"
   ]
  },
  {
   "cell_type": "markdown",
   "metadata": {},
   "source": [
    "### Experiment 3"
   ]
  },
  {
   "cell_type": "code",
   "execution_count": 71,
   "metadata": {},
   "outputs": [],
   "source": [
    "adultdata = [get_test_dbs(adult, epsilon, prng) for i in range(num_trials)]\n",
    "res3 = run_experiment(3, adultdata)"
   ]
  },
  {
   "cell_type": "code",
   "execution_count": 82,
   "metadata": {},
   "outputs": [
    {
     "data": {
      "text/plain": [
       " <=50K    0.75919\n",
       " >50K     0.24081\n",
       "Name: TARGET, dtype: float64"
      ]
     },
     "execution_count": 82,
     "metadata": {},
     "output_type": "execute_result"
    }
   ],
   "source": [
    "#Problem 2. Why is naive doing worse?? Why can't we do any better?\n",
    "pd.value_counts(adult.TARGET) / len(adult)"
   ]
  },
  {
   "cell_type": "code",
   "execution_count": 72,
   "metadata": {},
   "outputs": [
    {
     "name": "stdout",
     "output_type": "stream",
     "text": [
      "No. times maximum depth: 0\n",
      "In-sample score: 0.758247\n",
      "Out-of-sample score: 0.750807\n",
      "No. times maximum depth: 0\n",
      "In-sample score: 0.758478\n",
      "Out-of-sample score: 0.750807\n",
      "No. times maximum depth: 0\n",
      "In-sample score: 0.811534\n",
      "Out-of-sample score: 0.777180\n",
      "No. times maximum depth: 0\n",
      "No. times chose to split: 3\n",
      "No. times chose to leaf: 23\n",
      "In-sample score: 0.783160\n",
      "Out-of-sample score: 0.750807\n",
      "No. times maximum depth: 0\n",
      "No. times chose to split: 0\n",
      "No. times chose to leaf: 2\n",
      "In-sample score: 0.758247\n",
      "Out-of-sample score: 0.750807\n",
      "No. times maximum depth: 36\n",
      "No. times chose to split: 26\n",
      "No. times chose to leaf: 96\n",
      "In-sample score: 0.770012\n",
      "Out-of-sample score: 0.790635\n"
     ]
    },
    {
     "data": {
      "text/plain": [
       "[0.7508073196986006,\n",
       " 0.7508073196986006,\n",
       " 0.7771797631862217,\n",
       " 0.7508073196986006,\n",
       " 0.7508073196986006,\n",
       " 0.7906350914962325]"
      ]
     },
     "execution_count": 72,
     "metadata": {},
     "output_type": "execute_result"
    }
   ],
   "source": [
    "db_stats(3, adultdata[0], 0.25, 4)"
   ]
  },
  {
   "cell_type": "markdown",
   "metadata": {},
   "source": [
    "### Experiment 4"
   ]
  },
  {
   "cell_type": "code",
   "execution_count": 73,
   "metadata": {
    "collapsed": true
   },
   "outputs": [],
   "source": [
    "lendingdata = [get_test_dbs(lending, epsilon, prng) for x in range(num_trials)]\n",
    "res4 = run_experiment(4, lendingdata)"
   ]
  },
  {
   "cell_type": "code",
   "execution_count": 74,
   "metadata": {},
   "outputs": [
    {
     "data": {
      "text/plain": [
       "array([0.60280253, 0.82704829, 0.82636571, 0.82192822])"
      ]
     },
     "execution_count": 74,
     "metadata": {},
     "output_type": "execute_result"
    }
   ],
   "source": [
    "np.array(res4).mean(axis=1)"
   ]
  },
  {
   "cell_type": "code",
   "execution_count": 50,
   "metadata": {},
   "outputs": [],
   "source": [
    "letterdb = [get_test_dbs(letter[0], epsilon, prng) for x in range(num_trials)]\n",
    "res5 = run_experiment(5, letterdb)"
   ]
  },
  {
   "cell_type": "code",
   "execution_count": 52,
   "metadata": {},
   "outputs": [
    {
     "data": {
      "text/plain": [
       "[array([0.19296117, 0.19081272, 0.18508535, 0.19832402, 0.2057971 ]),\n",
       " array([0.5461165 , 0.55712603, 0.4690027 , 0.51582868, 0.57101449]),\n",
       " array([0.5473301 , 0.52650177, 0.42767296, 0.53724395, 0.46666667]),\n",
       " array([0.19296117, 0.20023557, 0.20754717, 0.19832402, 0.2057971 ]),\n",
       " array([0.40291262, 0.43345112, 0.47349506, 0.36405959, 0.43381643]),\n",
       " array([0.41747573, 0.28504122, 0.50224618, 0.56052142, 0.45700483])]"
      ]
     },
     "execution_count": 52,
     "metadata": {},
     "output_type": "execute_result"
    }
   ],
   "source": [
    "res5"
   ]
  },
  {
   "cell_type": "code",
   "execution_count": 57,
   "metadata": {
    "scrolled": true
   },
   "outputs": [],
   "source": [
    "magic = [get_test_dbs(magicdb, epsilon, prng) for x in range(num_trials)]\n",
    "res6 = run_experiment(6, magic)"
   ]
  },
  {
   "cell_type": "code",
   "execution_count": 58,
   "metadata": {},
   "outputs": [
    {
     "data": {
      "text/plain": [
       "[array([0.65155974, 0.65224626, 0.62990068, 0.65120868, 0.65106383]),\n",
       " array([0.65155974, 0.65224626, 0.7396759 , 0.72372965, 0.71755319]),\n",
       " array([0.76692172, 0.69828064, 0.64506012, 0.77207696, 0.65106383]),\n",
       " array([0.72513243, 0.66389351, 0.77313121, 0.73803651, 0.66595745]),\n",
       " array([0.67981165, 0.6921797 , 0.69106116, 0.68327578, 0.70585106]),\n",
       " array([0.72513243, 0.71547421, 0.73863042, 0.65416872, 0.69095745])]"
      ]
     },
     "execution_count": 58,
     "metadata": {},
     "output_type": "execute_result"
    }
   ],
   "source": [
    "res6"
   ]
  },
  {
   "cell_type": "code",
   "execution_count": 26,
   "metadata": {
    "collapsed": true
   },
   "outputs": [],
   "source": [
    "E = np.array([res0,res1,res2,res3,res4])"
   ]
  },
  {
   "cell_type": "code",
   "execution_count": 27,
   "metadata": {
    "collapsed": true
   },
   "outputs": [],
   "source": [
    "#E[dataset][algorithm][trial]\n",
    "stds = E.std(axis=2).mean(axis=0)"
   ]
  },
  {
   "cell_type": "code",
   "execution_count": 28,
   "metadata": {
    "collapsed": true
   },
   "outputs": [],
   "source": [
    "errors = 1.0-E.mean(axis=2).mean(axis=0)"
   ]
  },
  {
   "cell_type": "code",
   "execution_count": 29,
   "metadata": {
    "collapsed": true
   },
   "outputs": [],
   "source": [
    "import matplotlib.patches as mpatches\n",
    "import matplotlib.pyplot as plt"
   ]
  },
  {
   "cell_type": "code",
   "execution_count": 30,
   "metadata": {
    "collapsed": true
   },
   "outputs": [],
   "source": [
    "colors = ['red', 'blue', 'green', 'orange']"
   ]
  },
  {
   "cell_type": "code",
   "execution_count": 31,
   "metadata": {
    "collapsed": true
   },
   "outputs": [],
   "source": [
    "patches = [mpatches.Patch(color=c) for c in colors]"
   ]
  },
  {
   "cell_type": "code",
   "execution_count": 32,
   "metadata": {},
   "outputs": [
    {
     "data": {
      "text/plain": [
       "<BarContainer object of 4 artists>"
      ]
     },
     "execution_count": 32,
     "metadata": {},
     "output_type": "execute_result"
    },
    {
     "data": {
      "image/png": "[encoded data removed]",
      "text/plain": [
       "<Figure size 432x288 with 1 Axes>"
      ]
     },
     "metadata": {
      "needs_background": "light"
     },
     "output_type": "display_data"
    }
   ],
   "source": [
    "fig, axis = plt.subplots()\n",
    "axis.set_xticks([0,1,2,3])\n",
    "axis.set_xticklabels(['Naive','Jostle\\n,In Sample','Jostle,\\nOut of Sample','Competitor\\nAlgorithm'])\n",
    "axis.set_xlabel('Algorithm')\n",
    "axis.set_ylabel('Mean Error')\n",
    "#axis.legend(handles=patches, labels=['Alg1', 'Alg2', 'Jostle'])\n",
    "axis.set_title('Mean Performance for 3 Stopping Criteria')\n",
    "axis.bar(range(4), errors, color=colors, yerr=stds)"
   ]
  },
  {
   "cell_type": "code",
   "execution_count": null,
   "metadata": {
    "collapsed": true
   },
   "outputs": [],
   "source": []
  }
 ],
 "metadata": {
  "kernelspec": {
   "display_name": "Python 3",
   "language": "python",
   "name": "python3"
  },
  "language_info": {
   "codemirror_mode": {
    "name": "ipython",
    "version": 3
   },
   "file_extension": ".py",
   "mimetype": "text/x-python",
   "name": "python",
   "nbconvert_exporter": "python",
   "pygments_lexer": "ipython3",
   "version": "3.6.8"
  }
 },
 "nbformat": 4,
 "nbformat_minor": 2
}
