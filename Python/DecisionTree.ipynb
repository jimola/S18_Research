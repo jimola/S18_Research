{
 "cells": [
  {
   "cell_type": "markdown",
   "metadata": {},
   "source": [
    "### Decision Tree (DecisionTree.ipynb)\n",
    "Train a Decision Tree classifier, selecting a rule for when it is time to stop branching to\n",
    "avoid overfitting.\n",
    "\n",
    "Goal: See how a ChoiceMaker performs when applied to a novel area. Having the lowest error \n",
    "compared to naive methods would be great.\n",
    "\n",
    "Comparison: We compare against a naive way of making a decision tree algorithm\n",
    "private, as well as another method described in a sketchy paper. I implemented\n",
    "everything.\n",
    "\n",
    "Current Results: The Choicemaker seems to be competitive with the two other methods\n",
    "sometimes. We definitely need more data supporting this claim for a final submission.\n",
    "\n",
    "Improvement 1: figure out a way to make epsilon equal to 1.0 always.\n",
    "Improvement 2: simplify the error computations.\n"
   ]
  },
  {
   "cell_type": "code",
   "execution_count": 1,
   "metadata": {
    "collapsed": true
   },
   "outputs": [],
   "source": [
    "import DPrivacy as dp\n",
    "from ChoiceMaker import DTChoice\n",
    "from sklearn import model_selection, feature_selection\n",
    "from sklearn.tree import DecisionTreeClassifier\n",
    "import graphviz\n",
    "from sklearn.tree import export_graphviz\n",
    "%matplotlib inline\n",
    "import pickle\n",
    "import collections"
   ]
  },
  {
   "cell_type": "code",
   "execution_count": 2,
   "metadata": {
    "collapsed": true
   },
   "outputs": [],
   "source": [
    "from decision_tree import CoefCM, Leaf, Split, DB, DBMetas, PDTree"
   ]
  },
  {
   "cell_type": "code",
   "execution_count": 3,
   "metadata": {
    "collapsed": true
   },
   "outputs": [],
   "source": [
    "tree_algs = {'leaf': Leaf(), 'split': Split()}\n",
    "fried_cm = CoefCM([1, 0, 1, 0, -1, 0, -1], np.log(1.414))"
   ]
  },
  {
   "cell_type": "markdown",
   "metadata": {},
   "source": [
    "### DATASETS"
   ]
  },
  {
   "cell_type": "code",
   "execution_count": 4,
   "metadata": {
    "collapsed": true
   },
   "outputs": [],
   "source": [
    "adult = pickle.load(open('decision_tree_data/adult.pkl', 'rb'))\n",
    "\n",
    "nurs = pd.read_csv('../datasets/nursery.data', header=None)\n",
    "nurs = nurs.apply(lambda x: x.astype('category'))\n",
    "\n",
    "skin = pd.read_csv('data/Skin.csv', sep='\\t', header=None)\n",
    "skin = skin.apply(lambda x: x.astype('category'))\n",
    "\n",
    "default = pickle.load(open('decision_tree_data/default.pkl', 'rb'))\n",
    "\n",
    "loan = pd.read_csv('../datasets/student-loan.csv')\n",
    "loan = loan.apply(lambda x: x.astype('category'))\n",
    "\n",
    "lending = pickle.load(open('decision_tree_data/lending.pkl', 'rb'))"
   ]
  },
  {
   "cell_type": "code",
   "execution_count": 5,
   "metadata": {
    "collapsed": true
   },
   "outputs": [],
   "source": [
    "class null_cm:\n",
    "    def __init__(self):\n",
    "        self.leaf = Leaf()\n",
    "        self.split = Split()\n",
    "    def choose(self, db):\n",
    "        if db.depth < db.max_depth:\n",
    "            return self.split.run(db)\n",
    "        else:\n",
    "            return self.leaf.run(db)"
   ]
  },
  {
   "cell_type": "markdown",
   "metadata": {},
   "source": [
    "### Experiments"
   ]
  },
  {
   "cell_type": "code",
   "execution_count": 6,
   "metadata": {
    "collapsed": true
   },
   "outputs": [],
   "source": [
    "def get_train_dbs(seed_db, eps, prng):\n",
    "    regs = []\n",
    "    X = []\n",
    "    D = []\n",
    "    for l in range(1, 4): #Used to be 6\n",
    "        for x in range(2**(l+3)):\n",
    "            cols = prng.permutation(seed_db.columns[:-1])\n",
    "            db_groups = seed_db.groupby(list(cols[:l])).groups\n",
    "            idxs = db_groups[list(db_groups)[prng.randint(len(db_groups))]]\n",
    "            L = idxs.size\n",
    "            L = min(L, 5000)\n",
    "            L = prng.randint(0.7*L, L)\n",
    "            idxs = prng.choice(idxs, L)\n",
    "            data = DB(seed_db.loc[idxs, cols[l:]], seed_db.loc[idxs, seed_db.columns[-1]], None, None, epsilon=eps, depth=l)\n",
    "            regs.append({name: alg.error(data) for name, alg in tree_algs.items()})\n",
    "            X.append(DBMetas()(data))\n",
    "            D.append(data)\n",
    "    #Large DBs    \n",
    "    for x in range(16):\n",
    "        cols = seed_db.columns[:-1]\n",
    "        L = len(seed_db)\n",
    "        L = min(L, 5000)\n",
    "        L = prng.randint(0.7*L, L)\n",
    "        new_db = seed_db.sample(L, random_state=prng)\n",
    "        data = DB(new_db.loc[:, cols], new_db.loc[:, seed_db.columns[-1]], None, None, epsilon=eps, depth=0)\n",
    "        regs.append({name: alg.error(data) for name, alg in tree_algs.items()})\n",
    "        X.append(DBMetas()(data))\n",
    "        D.append(data)\n",
    "    return (regs, X, D)"
   ]
  },
  {
   "cell_type": "code",
   "execution_count": 7,
   "metadata": {
    "collapsed": true
   },
   "outputs": [],
   "source": [
    "def get_test_dbs(seed_db, eps, prng):\n",
    "    cols = seed_db.columns[:-1]\n",
    "    y_col = seed_db.columns[-1]\n",
    "    L = len(seed_db)\n",
    "    L = min(L, int(5000/0.7))\n",
    "    L = prng.randint(0.7*L, L)\n",
    "    new_db = seed_db.sample(L, random_state=prng).reset_index(drop=True)\n",
    "    split = int(0.7*L)\n",
    "    md = min(len(cols), 4)\n",
    "    d = DB(new_db.loc[:split, cols], new_db.loc[:split, y_col], \\\n",
    "           new_db.loc[split:, cols], new_db.loc[split:, y_col], epsilon=eps, max_depth=md)\n",
    "    return d"
   ]
  },
  {
   "cell_type": "code",
   "execution_count": null,
   "metadata": {
    "scrolled": false
   },
   "outputs": [],
   "source": [
    "prng=np.random.RandomState(12345)\n",
    "eps_vals = np.array([0.05, 0.1, 0.25, 0.5, 0.8])\n",
    "def get_test(db, prng):\n",
    "    dbs = []\n",
    "    for i in range(0, 3):\n",
    "        for e in eps_vals:\n",
    "            dbs.append(get_train_dbs(db, e, prng))\n",
    "    return dbs\n",
    "data_train = [get_test(db, prng) for db in [nurs, default, loan, adult, lending]]"
   ]
  },
  {
   "cell_type": "code",
   "execution_count": 48,
   "metadata": {
    "collapsed": true
   },
   "outputs": [],
   "source": [
    "def get_cm(info):\n",
    "    regrets, X, datas = zip(*info)\n",
    "    regrets = pd.concat([pd.DataFrame(r) for r in regrets], ignore_index=True)\n",
    "    X = pd.concat([pd.DataFrame(r) for r in X], ignore_index=True)\n",
    "    return DTChoice(X, DBMetas(), tree_algs, regrets=regrets)\n",
    "\n",
    "out = [get_cm(o) for o in data_train]"
   ]
  },
  {
   "cell_type": "code",
   "execution_count": 58,
   "metadata": {
    "collapsed": true
   },
   "outputs": [],
   "source": [
    "#pickle.dump([cm.X for cm in out], open('decision_tree_metadata/data2.pkl', 'wb'))\n",
    "#pickle.dump([cm.regrets for cm in out], open('decision_tree_metadata/regrets2.pkl', 'wb'))"
   ]
  },
  {
   "cell_type": "code",
   "execution_count": 8,
   "metadata": {
    "collapsed": true
   },
   "outputs": [],
   "source": [
    "#We have already run the above code so you don't have to!\n",
    "mfs = pickle.load(open('decision_tree_metadata/data2.pkl', 'rb'))\n",
    "regs = pickle.load(open('decision_tree_metadata/regrets2.pkl', 'rb'))\n",
    "tdbs = pickle.load(open('decision_tree_metadata/training_dbs.pkl', 'rb'))"
   ]
  },
  {
   "cell_type": "code",
   "execution_count": 9,
   "metadata": {
    "collapsed": true
   },
   "outputs": [],
   "source": [
    "cms = [ DTChoice(mfs[i], DBMetas(), tree_algs, regrets=regs[i]) for i in range(len(mfs))]"
   ]
  },
  {
   "cell_type": "code",
   "execution_count": 10,
   "metadata": {
    "collapsed": true
   },
   "outputs": [],
   "source": [
    "def combine_cms(cms, C=0, msl=1):\n",
    "    Xs = pd.concat([cm.X for cm in cms], ignore_index=True)\n",
    "    regs = pd.concat([cm.regrets for cm in cms], ignore_index=True)\n",
    "    dt = DTChoice(Xs, DBMetas(), tree_algs, regrets=regs, C=0)\n",
    "    dt.model = DecisionTreeClassifier(min_samples_leaf=msl, max_depth=3)\n",
    "    dt.retrain_model()\n",
    "    return dt"
   ]
  },
  {
   "cell_type": "code",
   "execution_count": 11,
   "metadata": {
    "collapsed": true
   },
   "outputs": [],
   "source": [
    "def get_results(dbs, cm, cm2):\n",
    "    dt = PDTree()\n",
    "    budgets = [x.epsilon for x in dbs]\n",
    "    L = []\n",
    "    for t in dbs:\n",
    "        L.append( dt.fit_and_predict(t, null_cm()) )\n",
    "        print(dt.leaf.numruns)\n",
    "    for i in range(len(dbs)):\n",
    "        dbs[i].epsilon = budgets[i]\n",
    "    dt = PDTree()\n",
    "    L2 = []\n",
    "    for t in dbs:\n",
    "        L2.append(dt.fit_and_predict(t, cm))\n",
    "        print(dt.leaf.numruns)\n",
    "    for i in range(len(dbs)):\n",
    "        dbs[i].epsilon = budgets[i]\n",
    "    dt = PDTree()\n",
    "    L3 = []\n",
    "    for t in dbs:\n",
    "        L3.append(dt.fit_and_predict(t, cm2))\n",
    "        print(dt.leaf.numruns)\n",
    "    for i in range(len(dbs)):\n",
    "        dbs[i].epsilon = budgets[i]\n",
    "    M = np.array([(L[i] == dbs[i].y_test).sum() / len(dbs[i].y_test) for i in range(len(dbs))])\n",
    "    M2 = np.array([(L2[i] == dbs[i].y_test).sum() / len(dbs[i].y_test) for i in range(len(dbs))])\n",
    "    M3 = np.array([(L3[i] == dbs[i].y_test).sum() / len(dbs[i].y_test) for i in range(len(dbs))])\n",
    "    return (M, M2, M3)"
   ]
  },
  {
   "cell_type": "code",
   "execution_count": 12,
   "metadata": {
    "collapsed": true
   },
   "outputs": [],
   "source": [
    "prng = np.random.RandomState(12345)"
   ]
  },
  {
   "cell_type": "code",
   "execution_count": 13,
   "metadata": {
    "scrolled": true
   },
   "outputs": [
    {
     "data": {
      "text/plain": [
       "[           leaf     split\n",
       " depth                    \n",
       " 0      0.670763  0.290492\n",
       " 1      0.592515  0.252064\n",
       " 2      0.505531  0.227715\n",
       " 3      0.439362  0.259333,            leaf     split\n",
       " depth                    \n",
       " 0      0.221413  0.191791\n",
       " 1      0.246675  0.233749\n",
       " 2      0.266957  0.255174\n",
       " 3      0.260614  0.286893,            leaf     split\n",
       " depth                    \n",
       " 0      0.097797  0.106767\n",
       " 1      0.129402  0.179181\n",
       " 2      0.203432  0.257402\n",
       " 3      0.246144  0.290095,            leaf     split\n",
       " depth                    \n",
       " 0      0.241172  0.241581\n",
       " 1      0.231314  0.208118\n",
       " 2      0.229867  0.243665\n",
       " 3      0.254233  0.283510,            leaf     split\n",
       " depth                    \n",
       " 0      0.216574  0.140478\n",
       " 1      0.239620  0.206000\n",
       " 2      0.262655  0.279596\n",
       " 3      0.280774  0.354431]"
      ]
     },
     "execution_count": 13,
     "metadata": {},
     "output_type": "execute_result"
    }
   ],
   "source": [
    "[cm.regrets.groupby(cm.X.depth).mean() for cm in cms]"
   ]
  },
  {
   "cell_type": "markdown",
   "metadata": {},
   "source": [
    "### Experiment 0"
   ]
  },
  {
   "cell_type": "code",
   "execution_count": null,
   "metadata": {},
   "outputs": [],
   "source": []
  },
  {
   "cell_type": "code",
   "execution_count": 14,
   "metadata": {
    "collapsed": true
   },
   "outputs": [],
   "source": [
    "#big_cm0 = cms[0]\n",
    "big_cm0 = combine_cms(cms[1:])\n",
    "big_cm0.model = DecisionTreeClassifier(min_samples_leaf=10, max_depth=4)\n",
    "big_cm0.retrain_model()"
   ]
  },
  {
   "cell_type": "code",
   "execution_count": 15,
   "metadata": {
    "scrolled": true
   },
   "outputs": [
    {
     "data": {
      "image/svg+xml": [
       "<?xml version=\"1.0\" encoding=\"UTF-8\" standalone=\"no\"?>\n",
       "<!DOCTYPE svg PUBLIC \"-//W3C//DTD SVG 1.1//EN\"\n",
       " \"http://www.w3.org/Graphics/SVG/1.1/DTD/svg11.dtd\">\n",
       "<!-- Generated by graphviz version 2.40.1 (20161225.0304)\n",
       " -->\n",
       "<!-- Title: Tree Pages: 1 -->\n",
       "<svg width=\"1951pt\" height=\"477pt\"\n",
       " viewBox=\"0.00 0.00 1951.00 477.00\" xmlns=\"http://www.w3.org/2000/svg\" xmlns:xlink=\"http://www.w3.org/1999/xlink\">\n",
       "<g id=\"graph0\" class=\"graph\" transform=\"scale(1 1) rotate(0) translate(4 473)\">\n",
       "<title>Tree</title>\n",
       "<polygon fill=\"#ffffff\" stroke=\"transparent\" points=\"-4,4 -4,-473 1947,-473 1947,4 -4,4\"/>\n",
       "<!-- 0 -->\n",
       "<g id=\"node1\" class=\"node\">\n",
       "<title>0</title>\n",
       "<path fill=\"transparent\" stroke=\"#000000\" d=\"M1029,-469C1029,-469 906,-469 906,-469 900,-469 894,-463 894,-457 894,-457 894,-413 894,-413 894,-407 900,-401 906,-401 906,-401 1029,-401 1029,-401 1035,-401 1041,-407 1041,-413 1041,-413 1041,-457 1041,-457 1041,-463 1035,-469 1029,-469\"/>\n",
       "<text text-anchor=\"middle\" x=\"967.5\" y=\"-453.8\" font-family=\"Helvetica,sans-Serif\" font-size=\"14.00\" fill=\"#000000\">X[40] &lt;= &#45;8.272</text>\n",
       "<text text-anchor=\"middle\" x=\"967.5\" y=\"-438.8\" font-family=\"Helvetica,sans-Serif\" font-size=\"14.00\" fill=\"#000000\">gini = 0.241</text>\n",
       "<text text-anchor=\"middle\" x=\"967.5\" y=\"-423.8\" font-family=\"Helvetica,sans-Serif\" font-size=\"14.00\" fill=\"#000000\">samples = 7680</text>\n",
       "<text text-anchor=\"middle\" x=\"967.5\" y=\"-408.8\" font-family=\"Helvetica,sans-Serif\" font-size=\"14.00\" fill=\"#000000\">value = [0.759, 0.736]</text>\n",
       "</g>\n",
       "<!-- 1 -->\n",
       "<g id=\"node2\" class=\"node\">\n",
       "<title>1</title>\n",
       "<path fill=\"transparent\" stroke=\"#000000\" d=\"M864,-365C864,-365 741,-365 741,-365 735,-365 729,-359 729,-353 729,-353 729,-309 729,-309 729,-303 735,-297 741,-297 741,-297 864,-297 864,-297 870,-297 876,-303 876,-309 876,-309 876,-353 876,-353 876,-359 870,-365 864,-365\"/>\n",
       "<text text-anchor=\"middle\" x=\"802.5\" y=\"-349.8\" font-family=\"Helvetica,sans-Serif\" font-size=\"14.00\" fill=\"#000000\">X[522] &lt;= &#45;1.967</text>\n",
       "<text text-anchor=\"middle\" x=\"802.5\" y=\"-334.8\" font-family=\"Helvetica,sans-Serif\" font-size=\"14.00\" fill=\"#000000\">gini = 0.175</text>\n",
       "<text text-anchor=\"middle\" x=\"802.5\" y=\"-319.8\" font-family=\"Helvetica,sans-Serif\" font-size=\"14.00\" fill=\"#000000\">samples = 2721</text>\n",
       "<text text-anchor=\"middle\" x=\"802.5\" y=\"-304.8\" font-family=\"Helvetica,sans-Serif\" font-size=\"14.00\" fill=\"#000000\">value = [0.798, 0.825]</text>\n",
       "</g>\n",
       "<!-- 0&#45;&gt;1 -->\n",
       "<g id=\"edge1\" class=\"edge\">\n",
       "<title>0&#45;&gt;1</title>\n",
       "<path fill=\"none\" stroke=\"#000000\" d=\"M913.4728,-400.9465C898.0885,-391.2497 881.1984,-380.6039 865.3379,-370.6069\"/>\n",
       "<polygon fill=\"#000000\" stroke=\"#000000\" points=\"866.9746,-367.5013 856.6486,-365.13 863.242,-373.4232 866.9746,-367.5013\"/>\n",
       "<text text-anchor=\"middle\" x=\"862.1773\" y=\"-385.811\" font-family=\"Helvetica,sans-Serif\" font-size=\"14.00\" fill=\"#000000\">True</text>\n",
       "</g>\n",
       "<!-- 14 -->\n",
       "<g id=\"node15\" class=\"node\">\n",
       "<title>14</title>\n",
       "<path fill=\"transparent\" stroke=\"#000000\" d=\"M1194,-365C1194,-365 1071,-365 1071,-365 1065,-365 1059,-359 1059,-353 1059,-353 1059,-309 1059,-309 1059,-303 1065,-297 1071,-297 1071,-297 1194,-297 1194,-297 1200,-297 1206,-303 1206,-309 1206,-309 1206,-353 1206,-353 1206,-359 1200,-365 1194,-365\"/>\n",
       "<text text-anchor=\"middle\" x=\"1132.5\" y=\"-349.8\" font-family=\"Helvetica,sans-Serif\" font-size=\"14.00\" fill=\"#000000\">X[61] &lt;= &#45;3.772</text>\n",
       "<text text-anchor=\"middle\" x=\"1132.5\" y=\"-334.8\" font-family=\"Helvetica,sans-Serif\" font-size=\"14.00\" fill=\"#000000\">gini = 0.263</text>\n",
       "<text text-anchor=\"middle\" x=\"1132.5\" y=\"-319.8\" font-family=\"Helvetica,sans-Serif\" font-size=\"14.00\" fill=\"#000000\">samples = 4959</text>\n",
       "<text text-anchor=\"middle\" x=\"1132.5\" y=\"-304.8\" font-family=\"Helvetica,sans-Serif\" font-size=\"14.00\" fill=\"#000000\">value = [0.737, 0.687]</text>\n",
       "</g>\n",
       "<!-- 0&#45;&gt;14 -->\n",
       "<g id=\"edge14\" class=\"edge\">\n",
       "<title>0&#45;&gt;14</title>\n",
       "<path fill=\"none\" stroke=\"#000000\" d=\"M1021.5272,-400.9465C1036.9115,-391.2497 1053.8016,-380.6039 1069.6621,-370.6069\"/>\n",
       "<polygon fill=\"#000000\" stroke=\"#000000\" points=\"1071.758,-373.4232 1078.3514,-365.13 1068.0254,-367.5013 1071.758,-373.4232\"/>\n",
       "<text text-anchor=\"middle\" x=\"1072.8227\" y=\"-385.811\" font-family=\"Helvetica,sans-Serif\" font-size=\"14.00\" fill=\"#000000\">False</text>\n",
       "</g>\n",
       "<!-- 2 -->\n",
       "<g id=\"node3\" class=\"node\">\n",
       "<title>2</title>\n",
       "<path fill=\"transparent\" stroke=\"#000000\" d=\"M538,-261C538,-261 415,-261 415,-261 409,-261 403,-255 403,-249 403,-249 403,-205 403,-205 403,-199 409,-193 415,-193 415,-193 538,-193 538,-193 544,-193 550,-199 550,-205 550,-205 550,-249 550,-249 550,-255 544,-261 538,-261\"/>\n",
       "<text text-anchor=\"middle\" x=\"476.5\" y=\"-245.8\" font-family=\"Helvetica,sans-Serif\" font-size=\"14.00\" fill=\"#000000\">X[855] &lt;= &#45;1.5</text>\n",
       "<text text-anchor=\"middle\" x=\"476.5\" y=\"-230.8\" font-family=\"Helvetica,sans-Serif\" font-size=\"14.00\" fill=\"#000000\">gini = 0.173</text>\n",
       "<text text-anchor=\"middle\" x=\"476.5\" y=\"-215.8\" font-family=\"Helvetica,sans-Serif\" font-size=\"14.00\" fill=\"#000000\">samples = 2548</text>\n",
       "<text text-anchor=\"middle\" x=\"476.5\" y=\"-200.8\" font-family=\"Helvetica,sans-Serif\" font-size=\"14.00\" fill=\"#000000\">value = [0.798, 0.827]</text>\n",
       "</g>\n",
       "<!-- 1&#45;&gt;2 -->\n",
       "<g id=\"edge2\" class=\"edge\">\n",
       "<title>1&#45;&gt;2</title>\n",
       "<path fill=\"none\" stroke=\"#000000\" d=\"M728.9328,-307.5307C678.636,-291.4851 611.8847,-270.1902 559.657,-253.5286\"/>\n",
       "<polygon fill=\"#000000\" stroke=\"#000000\" points=\"560.6719,-250.1786 550.0812,-250.4737 558.5443,-256.8475 560.6719,-250.1786\"/>\n",
       "</g>\n",
       "<!-- 9 -->\n",
       "<g id=\"node10\" class=\"node\">\n",
       "<title>9</title>\n",
       "<path fill=\"transparent\" stroke=\"#000000\" d=\"M864,-261C864,-261 741,-261 741,-261 735,-261 729,-255 729,-249 729,-249 729,-205 729,-205 729,-199 735,-193 741,-193 741,-193 864,-193 864,-193 870,-193 876,-199 876,-205 876,-205 876,-249 876,-249 876,-255 870,-261 864,-261\"/>\n",
       "<text text-anchor=\"middle\" x=\"802.5\" y=\"-245.8\" font-family=\"Helvetica,sans-Serif\" font-size=\"14.00\" fill=\"#000000\">X[40] &lt;= &#45;8.3</text>\n",
       "<text text-anchor=\"middle\" x=\"802.5\" y=\"-230.8\" font-family=\"Helvetica,sans-Serif\" font-size=\"14.00\" fill=\"#000000\">gini = 0.199</text>\n",
       "<text text-anchor=\"middle\" x=\"802.5\" y=\"-215.8\" font-family=\"Helvetica,sans-Serif\" font-size=\"14.00\" fill=\"#000000\">samples = 173</text>\n",
       "<text text-anchor=\"middle\" x=\"802.5\" y=\"-200.8\" font-family=\"Helvetica,sans-Serif\" font-size=\"14.00\" fill=\"#000000\">value = [0.801, 0.799]</text>\n",
       "</g>\n",
       "<!-- 1&#45;&gt;9 -->\n",
       "<g id=\"edge9\" class=\"edge\">\n",
       "<title>1&#45;&gt;9</title>\n",
       "<path fill=\"none\" stroke=\"#000000\" d=\"M802.5,-296.9465C802.5,-288.776 802.5,-279.9318 802.5,-271.3697\"/>\n",
       "<polygon fill=\"#000000\" stroke=\"#000000\" points=\"806.0001,-271.13 802.5,-261.13 799.0001,-271.13 806.0001,-271.13\"/>\n",
       "</g>\n",
       "<!-- 3 -->\n",
       "<g id=\"node4\" class=\"node\">\n",
       "<title>3</title>\n",
       "<path fill=\"transparent\" stroke=\"#000000\" d=\"M293.5,-157C293.5,-157 177.5,-157 177.5,-157 171.5,-157 165.5,-151 165.5,-145 165.5,-145 165.5,-101 165.5,-101 165.5,-95 171.5,-89 177.5,-89 177.5,-89 293.5,-89 293.5,-89 299.5,-89 305.5,-95 305.5,-101 305.5,-101 305.5,-145 305.5,-145 305.5,-151 299.5,-157 293.5,-157\"/>\n",
       "<text text-anchor=\"middle\" x=\"235.5\" y=\"-141.8\" font-family=\"Helvetica,sans-Serif\" font-size=\"14.00\" fill=\"#000000\">X[467] &lt;= &#45;6.864</text>\n",
       "<text text-anchor=\"middle\" x=\"235.5\" y=\"-126.8\" font-family=\"Helvetica,sans-Serif\" font-size=\"14.00\" fill=\"#000000\">gini = 0.18</text>\n",
       "<text text-anchor=\"middle\" x=\"235.5\" y=\"-111.8\" font-family=\"Helvetica,sans-Serif\" font-size=\"14.00\" fill=\"#000000\">samples = 2317</text>\n",
       "<text text-anchor=\"middle\" x=\"235.5\" y=\"-96.8\" font-family=\"Helvetica,sans-Serif\" font-size=\"14.00\" fill=\"#000000\">value = [0.787, 0.82]</text>\n",
       "</g>\n",
       "<!-- 2&#45;&gt;3 -->\n",
       "<g id=\"edge3\" class=\"edge\">\n",
       "<title>2&#45;&gt;3</title>\n",
       "<path fill=\"none\" stroke=\"#000000\" d=\"M402.8825,-195.2315C375.1488,-183.2634 343.4898,-169.6014 315.2241,-157.4038\"/>\n",
       "<polygon fill=\"#000000\" stroke=\"#000000\" points=\"316.3474,-154.0766 305.779,-153.3279 313.5738,-160.5037 316.3474,-154.0766\"/>\n",
       "</g>\n",
       "<!-- 6 -->\n",
       "<g id=\"node7\" class=\"node\">\n",
       "<title>6</title>\n",
       "<path fill=\"transparent\" stroke=\"#000000\" d=\"M538,-157C538,-157 415,-157 415,-157 409,-157 403,-151 403,-145 403,-145 403,-101 403,-101 403,-95 409,-89 415,-89 415,-89 538,-89 538,-89 544,-89 550,-95 550,-101 550,-101 550,-145 550,-145 550,-151 544,-157 538,-157\"/>\n",
       "<text text-anchor=\"middle\" x=\"476.5\" y=\"-141.8\" font-family=\"Helvetica,sans-Serif\" font-size=\"14.00\" fill=\"#000000\">X[604] &lt;= &#45;8.263</text>\n",
       "<text text-anchor=\"middle\" x=\"476.5\" y=\"-126.8\" font-family=\"Helvetica,sans-Serif\" font-size=\"14.00\" fill=\"#000000\">gini = 0.096</text>\n",
       "<text text-anchor=\"middle\" x=\"476.5\" y=\"-111.8\" font-family=\"Helvetica,sans-Serif\" font-size=\"14.00\" fill=\"#000000\">samples = 231</text>\n",
       "<text text-anchor=\"middle\" x=\"476.5\" y=\"-96.8\" font-family=\"Helvetica,sans-Serif\" font-size=\"14.00\" fill=\"#000000\">value = [0.904, 0.902]</text>\n",
       "</g>\n",
       "<!-- 2&#45;&gt;6 -->\n",
       "<g id=\"edge6\" class=\"edge\">\n",
       "<title>2&#45;&gt;6</title>\n",
       "<path fill=\"none\" stroke=\"#000000\" d=\"M476.5,-192.9465C476.5,-184.776 476.5,-175.9318 476.5,-167.3697\"/>\n",
       "<polygon fill=\"#000000\" stroke=\"#000000\" points=\"480.0001,-167.13 476.5,-157.13 473.0001,-167.13 480.0001,-167.13\"/>\n",
       "</g>\n",
       "<!-- 4 -->\n",
       "<g id=\"node5\" class=\"node\">\n",
       "<title>4</title>\n",
       "<path fill=\"transparent\" stroke=\"#000000\" d=\"M135,-53C135,-53 12,-53 12,-53 6,-53 0,-47 0,-41 0,-41 0,-12 0,-12 0,-6 6,0 12,0 12,0 135,0 135,0 141,0 147,-6 147,-12 147,-12 147,-41 147,-41 147,-47 141,-53 135,-53\"/>\n",
       "<text text-anchor=\"middle\" x=\"73.5\" y=\"-37.8\" font-family=\"Helvetica,sans-Serif\" font-size=\"14.00\" fill=\"#000000\">gini = 0.181</text>\n",
       "<text text-anchor=\"middle\" x=\"73.5\" y=\"-22.8\" font-family=\"Helvetica,sans-Serif\" font-size=\"14.00\" fill=\"#000000\">samples = 2287</text>\n",
       "<text text-anchor=\"middle\" x=\"73.5\" y=\"-7.8\" font-family=\"Helvetica,sans-Serif\" font-size=\"14.00\" fill=\"#000000\">value = [0.786, 0.819]</text>\n",
       "</g>\n",
       "<!-- 3&#45;&gt;4 -->\n",
       "<g id=\"edge4\" class=\"edge\">\n",
       "<title>3&#45;&gt;4</title>\n",
       "<path fill=\"none\" stroke=\"#000000\" d=\"M178.3849,-88.9777C161.7059,-79.0424 143.5431,-68.2232 127.0906,-58.4228\"/>\n",
       "<polygon fill=\"#000000\" stroke=\"#000000\" points=\"128.529,-55.2058 118.1466,-53.095 124.9467,-61.2197 128.529,-55.2058\"/>\n",
       "</g>\n",
       "<!-- 5 -->\n",
       "<g id=\"node6\" class=\"node\">\n",
       "<title>5</title>\n",
       "<path fill=\"transparent\" stroke=\"#000000\" d=\"M293.5,-53C293.5,-53 177.5,-53 177.5,-53 171.5,-53 165.5,-47 165.5,-41 165.5,-41 165.5,-12 165.5,-12 165.5,-6 171.5,0 177.5,0 177.5,0 293.5,0 293.5,0 299.5,0 305.5,-6 305.5,-12 305.5,-12 305.5,-41 305.5,-41 305.5,-47 299.5,-53 293.5,-53\"/>\n",
       "<text text-anchor=\"middle\" x=\"235.5\" y=\"-37.8\" font-family=\"Helvetica,sans-Serif\" font-size=\"14.00\" fill=\"#000000\">gini = 0.14</text>\n",
       "<text text-anchor=\"middle\" x=\"235.5\" y=\"-22.8\" font-family=\"Helvetica,sans-Serif\" font-size=\"14.00\" fill=\"#000000\">samples = 30</text>\n",
       "<text text-anchor=\"middle\" x=\"235.5\" y=\"-7.8\" font-family=\"Helvetica,sans-Serif\" font-size=\"14.00\" fill=\"#000000\">value = [0.86, 0.856]</text>\n",
       "</g>\n",
       "<!-- 3&#45;&gt;5 -->\n",
       "<g id=\"edge5\" class=\"edge\">\n",
       "<title>3&#45;&gt;5</title>\n",
       "<path fill=\"none\" stroke=\"#000000\" d=\"M235.5,-88.9777C235.5,-80.7364 235.5,-71.887 235.5,-63.5153\"/>\n",
       "<polygon fill=\"#000000\" stroke=\"#000000\" points=\"239.0001,-63.2484 235.5,-53.2485 232.0001,-63.2485 239.0001,-63.2484\"/>\n",
       "</g>\n",
       "<!-- 7 -->\n",
       "<g id=\"node8\" class=\"node\">\n",
       "<title>7</title>\n",
       "<path fill=\"transparent\" stroke=\"#000000\" d=\"M451.5,-53C451.5,-53 335.5,-53 335.5,-53 329.5,-53 323.5,-47 323.5,-41 323.5,-41 323.5,-12 323.5,-12 323.5,-6 329.5,0 335.5,0 335.5,0 451.5,0 451.5,0 457.5,0 463.5,-6 463.5,-12 463.5,-12 463.5,-41 463.5,-41 463.5,-47 457.5,-53 451.5,-53\"/>\n",
       "<text text-anchor=\"middle\" x=\"393.5\" y=\"-37.8\" font-family=\"Helvetica,sans-Serif\" font-size=\"14.00\" fill=\"#000000\">gini = 0.09</text>\n",
       "<text text-anchor=\"middle\" x=\"393.5\" y=\"-22.8\" font-family=\"Helvetica,sans-Serif\" font-size=\"14.00\" fill=\"#000000\">samples = 21</text>\n",
       "<text text-anchor=\"middle\" x=\"393.5\" y=\"-7.8\" font-family=\"Helvetica,sans-Serif\" font-size=\"14.00\" fill=\"#000000\">value = [0.91, 0.909]</text>\n",
       "</g>\n",
       "<!-- 6&#45;&gt;7 -->\n",
       "<g id=\"edge7\" class=\"edge\">\n",
       "<title>6&#45;&gt;7</title>\n",
       "<path fill=\"none\" stroke=\"#000000\" d=\"M447.2373,-88.9777C439.4401,-79.9123 431.01,-70.111 423.1901,-61.0192\"/>\n",
       "<polygon fill=\"#000000\" stroke=\"#000000\" points=\"425.6809,-58.5477 416.5065,-53.2485 420.3738,-63.1123 425.6809,-58.5477\"/>\n",
       "</g>\n",
       "<!-- 8 -->\n",
       "<g id=\"node9\" class=\"node\">\n",
       "<title>8</title>\n",
       "<path fill=\"transparent\" stroke=\"#000000\" d=\"M617,-53C617,-53 494,-53 494,-53 488,-53 482,-47 482,-41 482,-41 482,-12 482,-12 482,-6 488,0 494,0 494,0 617,0 617,0 623,0 629,-6 629,-12 629,-12 629,-41 629,-41 629,-47 623,-53 617,-53\"/>\n",
       "<text text-anchor=\"middle\" x=\"555.5\" y=\"-37.8\" font-family=\"Helvetica,sans-Serif\" font-size=\"14.00\" fill=\"#000000\">gini = 0.096</text>\n",
       "<text text-anchor=\"middle\" x=\"555.5\" y=\"-22.8\" font-family=\"Helvetica,sans-Serif\" font-size=\"14.00\" fill=\"#000000\">samples = 210</text>\n",
       "<text text-anchor=\"middle\" x=\"555.5\" y=\"-7.8\" font-family=\"Helvetica,sans-Serif\" font-size=\"14.00\" fill=\"#000000\">value = [0.904, 0.902]</text>\n",
       "</g>\n",
       "<!-- 6&#45;&gt;8 -->\n",
       "<g id=\"edge8\" class=\"edge\">\n",
       "<title>6&#45;&gt;8</title>\n",
       "<path fill=\"none\" stroke=\"#000000\" d=\"M504.3524,-88.9777C511.7739,-79.9123 519.7977,-70.111 527.2407,-61.0192\"/>\n",
       "<polygon fill=\"#000000\" stroke=\"#000000\" points=\"529.9759,-63.2034 533.6023,-53.2485 524.5595,-58.7692 529.9759,-63.2034\"/>\n",
       "</g>\n",
       "<!-- 10 -->\n",
       "<g id=\"node11\" class=\"node\">\n",
       "<title>10</title>\n",
       "<path fill=\"transparent\" stroke=\"#000000\" d=\"M782,-157C782,-157 659,-157 659,-157 653,-157 647,-151 647,-145 647,-145 647,-101 647,-101 647,-95 653,-89 659,-89 659,-89 782,-89 782,-89 788,-89 794,-95 794,-101 794,-101 794,-145 794,-145 794,-151 788,-157 782,-157\"/>\n",
       "<text text-anchor=\"middle\" x=\"720.5\" y=\"-141.8\" font-family=\"Helvetica,sans-Serif\" font-size=\"14.00\" fill=\"#000000\">X[270] &lt;= &#45;4.323</text>\n",
       "<text text-anchor=\"middle\" x=\"720.5\" y=\"-126.8\" font-family=\"Helvetica,sans-Serif\" font-size=\"14.00\" fill=\"#000000\">gini = 0.194</text>\n",
       "<text text-anchor=\"middle\" x=\"720.5\" y=\"-111.8\" font-family=\"Helvetica,sans-Serif\" font-size=\"14.00\" fill=\"#000000\">samples = 163</text>\n",
       "<text text-anchor=\"middle\" x=\"720.5\" y=\"-96.8\" font-family=\"Helvetica,sans-Serif\" font-size=\"14.00\" fill=\"#000000\">value = [0.806, 0.802]</text>\n",
       "</g>\n",
       "<!-- 9&#45;&gt;10 -->\n",
       "<g id=\"edge10\" class=\"edge\">\n",
       "<title>9&#45;&gt;10</title>\n",
       "<path fill=\"none\" stroke=\"#000000\" d=\"M775.6501,-192.9465C768.6417,-184.0578 761.0045,-174.3716 753.709,-165.1188\"/>\n",
       "<polygon fill=\"#000000\" stroke=\"#000000\" points=\"756.3502,-162.8157 747.4102,-157.13 750.8533,-167.1498 756.3502,-162.8157\"/>\n",
       "</g>\n",
       "<!-- 13 -->\n",
       "<g id=\"node14\" class=\"node\">\n",
       "<title>13</title>\n",
       "<path fill=\"transparent\" stroke=\"#000000\" d=\"M947,-149.5C947,-149.5 824,-149.5 824,-149.5 818,-149.5 812,-143.5 812,-137.5 812,-137.5 812,-108.5 812,-108.5 812,-102.5 818,-96.5 824,-96.5 824,-96.5 947,-96.5 947,-96.5 953,-96.5 959,-102.5 959,-108.5 959,-108.5 959,-137.5 959,-137.5 959,-143.5 953,-149.5 947,-149.5\"/>\n",
       "<text text-anchor=\"middle\" x=\"885.5\" y=\"-134.3\" font-family=\"Helvetica,sans-Serif\" font-size=\"14.00\" fill=\"#000000\">gini = 0.257</text>\n",
       "<text text-anchor=\"middle\" x=\"885.5\" y=\"-119.3\" font-family=\"Helvetica,sans-Serif\" font-size=\"14.00\" fill=\"#000000\">samples = 10</text>\n",
       "<text text-anchor=\"middle\" x=\"885.5\" y=\"-104.3\" font-family=\"Helvetica,sans-Serif\" font-size=\"14.00\" fill=\"#000000\">value = [0.733, 0.743]</text>\n",
       "</g>\n",
       "<!-- 9&#45;&gt;13 -->\n",
       "<g id=\"edge13\" class=\"edge\">\n",
       "<title>9&#45;&gt;13</title>\n",
       "<path fill=\"none\" stroke=\"#000000\" d=\"M829.6773,-192.9465C838.7318,-181.6012 848.823,-168.9567 857.9086,-157.5724\"/>\n",
       "<polygon fill=\"#000000\" stroke=\"#000000\" points=\"860.8151,-159.5414 864.3173,-149.5422 855.3439,-155.175 860.8151,-159.5414\"/>\n",
       "</g>\n",
       "<!-- 11 -->\n",
       "<g id=\"node12\" class=\"node\">\n",
       "<title>11</title>\n",
       "<path fill=\"transparent\" stroke=\"#000000\" d=\"M782,-53C782,-53 659,-53 659,-53 653,-53 647,-47 647,-41 647,-41 647,-12 647,-12 647,-6 653,0 659,0 659,0 782,0 782,0 788,0 794,-6 794,-12 794,-12 794,-41 794,-41 794,-47 788,-53 782,-53\"/>\n",
       "<text text-anchor=\"middle\" x=\"720.5\" y=\"-37.8\" font-family=\"Helvetica,sans-Serif\" font-size=\"14.00\" fill=\"#000000\">gini = 0.194</text>\n",
       "<text text-anchor=\"middle\" x=\"720.5\" y=\"-22.8\" font-family=\"Helvetica,sans-Serif\" font-size=\"14.00\" fill=\"#000000\">samples = 35</text>\n",
       "<text text-anchor=\"middle\" x=\"720.5\" y=\"-7.8\" font-family=\"Helvetica,sans-Serif\" font-size=\"14.00\" fill=\"#000000\">value = [0.804, 0.806]</text>\n",
       "</g>\n",
       "<!-- 10&#45;&gt;11 -->\n",
       "<g id=\"edge11\" class=\"edge\">\n",
       "<title>10&#45;&gt;11</title>\n",
       "<path fill=\"none\" stroke=\"#000000\" d=\"M720.5,-88.9777C720.5,-80.7364 720.5,-71.887 720.5,-63.5153\"/>\n",
       "<polygon fill=\"#000000\" stroke=\"#000000\" points=\"724.0001,-63.2484 720.5,-53.2485 717.0001,-63.2485 724.0001,-63.2484\"/>\n",
       "</g>\n",
       "<!-- 12 -->\n",
       "<g id=\"node13\" class=\"node\">\n",
       "<title>12</title>\n",
       "<path fill=\"transparent\" stroke=\"#000000\" d=\"M947,-53C947,-53 824,-53 824,-53 818,-53 812,-47 812,-41 812,-41 812,-12 812,-12 812,-6 818,0 824,0 824,0 947,0 947,0 953,0 959,-6 959,-12 959,-12 959,-41 959,-41 959,-47 953,-53 947,-53\"/>\n",
       "<text text-anchor=\"middle\" x=\"885.5\" y=\"-37.8\" font-family=\"Helvetica,sans-Serif\" font-size=\"14.00\" fill=\"#000000\">gini = 0.194</text>\n",
       "<text text-anchor=\"middle\" x=\"885.5\" y=\"-22.8\" font-family=\"Helvetica,sans-Serif\" font-size=\"14.00\" fill=\"#000000\">samples = 128</text>\n",
       "<text text-anchor=\"middle\" x=\"885.5\" y=\"-7.8\" font-family=\"Helvetica,sans-Serif\" font-size=\"14.00\" fill=\"#000000\">value = [0.806, 0.801]</text>\n",
       "</g>\n",
       "<!-- 10&#45;&gt;12 -->\n",
       "<g id=\"edge12\" class=\"edge\">\n",
       "<title>10&#45;&gt;12</title>\n",
       "<path fill=\"none\" stroke=\"#000000\" d=\"M778.6728,-88.9777C795.818,-78.9504 814.5025,-68.0228 831.382,-58.1508\"/>\n",
       "<polygon fill=\"#000000\" stroke=\"#000000\" points=\"833.1615,-61.1648 840.0266,-53.095 829.6276,-55.1223 833.1615,-61.1648\"/>\n",
       "</g>\n",
       "<!-- 15 -->\n",
       "<g id=\"node16\" class=\"node\">\n",
       "<title>15</title>\n",
       "<path fill=\"transparent\" stroke=\"#000000\" d=\"M1190.5,-261C1190.5,-261 1074.5,-261 1074.5,-261 1068.5,-261 1062.5,-255 1062.5,-249 1062.5,-249 1062.5,-205 1062.5,-205 1062.5,-199 1068.5,-193 1074.5,-193 1074.5,-193 1190.5,-193 1190.5,-193 1196.5,-193 1202.5,-199 1202.5,-205 1202.5,-205 1202.5,-249 1202.5,-249 1202.5,-255 1196.5,-261 1190.5,-261\"/>\n",
       "<text text-anchor=\"middle\" x=\"1132.5\" y=\"-245.8\" font-family=\"Helvetica,sans-Serif\" font-size=\"14.00\" fill=\"#000000\">X[373] &lt;= &#45;0.495</text>\n",
       "<text text-anchor=\"middle\" x=\"1132.5\" y=\"-230.8\" font-family=\"Helvetica,sans-Serif\" font-size=\"14.00\" fill=\"#000000\">gini = 0.29</text>\n",
       "<text text-anchor=\"middle\" x=\"1132.5\" y=\"-215.8\" font-family=\"Helvetica,sans-Serif\" font-size=\"14.00\" fill=\"#000000\">samples = 4285</text>\n",
       "<text text-anchor=\"middle\" x=\"1132.5\" y=\"-200.8\" font-family=\"Helvetica,sans-Serif\" font-size=\"14.00\" fill=\"#000000\">value = [0.71, 0.651]</text>\n",
       "</g>\n",
       "<!-- 14&#45;&gt;15 -->\n",
       "<g id=\"edge15\" class=\"edge\">\n",
       "<title>14&#45;&gt;15</title>\n",
       "<path fill=\"none\" stroke=\"#000000\" d=\"M1132.5,-296.9465C1132.5,-288.776 1132.5,-279.9318 1132.5,-271.3697\"/>\n",
       "<polygon fill=\"#000000\" stroke=\"#000000\" points=\"1136.0001,-271.13 1132.5,-261.13 1129.0001,-271.13 1136.0001,-271.13\"/>\n",
       "</g>\n",
       "<!-- 20 -->\n",
       "<g id=\"node21\" class=\"node\">\n",
       "<title>20</title>\n",
       "<path fill=\"transparent\" stroke=\"#000000\" d=\"M1524,-261C1524,-261 1401,-261 1401,-261 1395,-261 1389,-255 1389,-249 1389,-249 1389,-205 1389,-205 1389,-199 1395,-193 1401,-193 1401,-193 1524,-193 1524,-193 1530,-193 1536,-199 1536,-205 1536,-205 1536,-249 1536,-249 1536,-255 1530,-261 1524,-261\"/>\n",
       "<text text-anchor=\"middle\" x=\"1462.5\" y=\"-245.8\" font-family=\"Helvetica,sans-Serif\" font-size=\"14.00\" fill=\"#000000\">X[259] &lt;= &#45;2.124</text>\n",
       "<text text-anchor=\"middle\" x=\"1462.5\" y=\"-230.8\" font-family=\"Helvetica,sans-Serif\" font-size=\"14.00\" fill=\"#000000\">gini = 0.082</text>\n",
       "<text text-anchor=\"middle\" x=\"1462.5\" y=\"-215.8\" font-family=\"Helvetica,sans-Serif\" font-size=\"14.00\" fill=\"#000000\">samples = 674</text>\n",
       "<text text-anchor=\"middle\" x=\"1462.5\" y=\"-200.8\" font-family=\"Helvetica,sans-Serif\" font-size=\"14.00\" fill=\"#000000\">value = [0.909, 0.918]</text>\n",
       "</g>\n",
       "<!-- 14&#45;&gt;20 -->\n",
       "<g id=\"edge20\" class=\"edge\">\n",
       "<title>14&#45;&gt;20</title>\n",
       "<path fill=\"none\" stroke=\"#000000\" d=\"M1206.1477,-307.7898C1257.3818,-291.6433 1325.7753,-270.089 1379.0321,-253.305\"/>\n",
       "<polygon fill=\"#000000\" stroke=\"#000000\" points=\"1380.307,-256.573 1388.7926,-250.229 1378.203,-249.8967 1380.307,-256.573\"/>\n",
       "</g>\n",
       "<!-- 16 -->\n",
       "<g id=\"node17\" class=\"node\">\n",
       "<title>16</title>\n",
       "<path fill=\"transparent\" stroke=\"#000000\" d=\"M1112,-157C1112,-157 989,-157 989,-157 983,-157 977,-151 977,-145 977,-145 977,-101 977,-101 977,-95 983,-89 989,-89 989,-89 1112,-89 1112,-89 1118,-89 1124,-95 1124,-101 1124,-101 1124,-145 1124,-145 1124,-151 1118,-157 1112,-157\"/>\n",
       "<text text-anchor=\"middle\" x=\"1050.5\" y=\"-141.8\" font-family=\"Helvetica,sans-Serif\" font-size=\"14.00\" fill=\"#000000\">X[130] &lt;= &#45;2.367</text>\n",
       "<text text-anchor=\"middle\" x=\"1050.5\" y=\"-126.8\" font-family=\"Helvetica,sans-Serif\" font-size=\"14.00\" fill=\"#000000\">gini = 0.287</text>\n",
       "<text text-anchor=\"middle\" x=\"1050.5\" y=\"-111.8\" font-family=\"Helvetica,sans-Serif\" font-size=\"14.00\" fill=\"#000000\">samples = 4267</text>\n",
       "<text text-anchor=\"middle\" x=\"1050.5\" y=\"-96.8\" font-family=\"Helvetica,sans-Serif\" font-size=\"14.00\" fill=\"#000000\">value = [0.713, 0.652]</text>\n",
       "</g>\n",
       "<!-- 15&#45;&gt;16 -->\n",
       "<g id=\"edge16\" class=\"edge\">\n",
       "<title>15&#45;&gt;16</title>\n",
       "<path fill=\"none\" stroke=\"#000000\" d=\"M1105.6501,-192.9465C1098.6417,-184.0578 1091.0045,-174.3716 1083.709,-165.1188\"/>\n",
       "<polygon fill=\"#000000\" stroke=\"#000000\" points=\"1086.3502,-162.8157 1077.4102,-157.13 1080.8533,-167.1498 1086.3502,-162.8157\"/>\n",
       "</g>\n",
       "<!-- 19 -->\n",
       "<g id=\"node20\" class=\"node\">\n",
       "<title>19</title>\n",
       "<path fill=\"#399de5\" fill-opacity=\"0.011765\" stroke=\"#000000\" d=\"M1277,-149.5C1277,-149.5 1154,-149.5 1154,-149.5 1148,-149.5 1142,-143.5 1142,-137.5 1142,-137.5 1142,-108.5 1142,-108.5 1142,-102.5 1148,-96.5 1154,-96.5 1154,-96.5 1277,-96.5 1277,-96.5 1283,-96.5 1289,-102.5 1289,-108.5 1289,-108.5 1289,-137.5 1289,-137.5 1289,-143.5 1283,-149.5 1277,-149.5\"/>\n",
       "<text text-anchor=\"middle\" x=\"1215.5\" y=\"-134.3\" font-family=\"Helvetica,sans-Serif\" font-size=\"14.00\" fill=\"#000000\">gini = 0.626</text>\n",
       "<text text-anchor=\"middle\" x=\"1215.5\" y=\"-119.3\" font-family=\"Helvetica,sans-Serif\" font-size=\"14.00\" fill=\"#000000\">samples = 18</text>\n",
       "<text text-anchor=\"middle\" x=\"1215.5\" y=\"-104.3\" font-family=\"Helvetica,sans-Serif\" font-size=\"14.00\" fill=\"#000000\">value = [0.167, 0.374]</text>\n",
       "</g>\n",
       "<!-- 15&#45;&gt;19 -->\n",
       "<g id=\"edge19\" class=\"edge\">\n",
       "<title>15&#45;&gt;19</title>\n",
       "<path fill=\"none\" stroke=\"#000000\" d=\"M1159.6773,-192.9465C1168.7318,-181.6012 1178.823,-168.9567 1187.9086,-157.5724\"/>\n",
       "<polygon fill=\"#000000\" stroke=\"#000000\" points=\"1190.8151,-159.5414 1194.3173,-149.5422 1185.3439,-155.175 1190.8151,-159.5414\"/>\n",
       "</g>\n",
       "<!-- 17 -->\n",
       "<g id=\"node18\" class=\"node\">\n",
       "<title>17</title>\n",
       "<path fill=\"transparent\" stroke=\"#000000\" d=\"M1112,-53C1112,-53 989,-53 989,-53 983,-53 977,-47 977,-41 977,-41 977,-12 977,-12 977,-6 983,0 989,0 989,0 1112,0 1112,0 1118,0 1124,-6 1124,-12 1124,-12 1124,-41 1124,-41 1124,-47 1118,-53 1112,-53\"/>\n",
       "<text text-anchor=\"middle\" x=\"1050.5\" y=\"-37.8\" font-family=\"Helvetica,sans-Serif\" font-size=\"14.00\" fill=\"#000000\">gini = 0.286</text>\n",
       "<text text-anchor=\"middle\" x=\"1050.5\" y=\"-22.8\" font-family=\"Helvetica,sans-Serif\" font-size=\"14.00\" fill=\"#000000\">samples = 4251</text>\n",
       "<text text-anchor=\"middle\" x=\"1050.5\" y=\"-7.8\" font-family=\"Helvetica,sans-Serif\" font-size=\"14.00\" fill=\"#000000\">value = [0.714, 0.653]</text>\n",
       "</g>\n",
       "<!-- 16&#45;&gt;17 -->\n",
       "<g id=\"edge17\" class=\"edge\">\n",
       "<title>16&#45;&gt;17</title>\n",
       "<path fill=\"none\" stroke=\"#000000\" d=\"M1050.5,-88.9777C1050.5,-80.7364 1050.5,-71.887 1050.5,-63.5153\"/>\n",
       "<polygon fill=\"#000000\" stroke=\"#000000\" points=\"1054.0001,-63.2484 1050.5,-53.2485 1047.0001,-63.2485 1054.0001,-63.2484\"/>\n",
       "</g>\n",
       "<!-- 18 -->\n",
       "<g id=\"node19\" class=\"node\">\n",
       "<title>18</title>\n",
       "<path fill=\"#399de5\" fill-opacity=\"0.011765\" stroke=\"#000000\" d=\"M1277,-53C1277,-53 1154,-53 1154,-53 1148,-53 1142,-47 1142,-41 1142,-41 1142,-12 1142,-12 1142,-6 1148,0 1154,0 1154,0 1277,0 1277,0 1283,0 1289,-6 1289,-12 1289,-12 1289,-41 1289,-41 1289,-47 1283,-53 1277,-53\"/>\n",
       "<text text-anchor=\"middle\" x=\"1215.5\" y=\"-37.8\" font-family=\"Helvetica,sans-Serif\" font-size=\"14.00\" fill=\"#000000\">gini = 0.438</text>\n",
       "<text text-anchor=\"middle\" x=\"1215.5\" y=\"-22.8\" font-family=\"Helvetica,sans-Serif\" font-size=\"14.00\" fill=\"#000000\">samples = 16</text>\n",
       "<text text-anchor=\"middle\" x=\"1215.5\" y=\"-7.8\" font-family=\"Helvetica,sans-Serif\" font-size=\"14.00\" fill=\"#000000\">value = [0.375, 0.562]</text>\n",
       "</g>\n",
       "<!-- 16&#45;&gt;18 -->\n",
       "<g id=\"edge18\" class=\"edge\">\n",
       "<title>16&#45;&gt;18</title>\n",
       "<path fill=\"none\" stroke=\"#000000\" d=\"M1108.6728,-88.9777C1125.818,-78.9504 1144.5025,-68.0228 1161.382,-58.1508\"/>\n",
       "<polygon fill=\"#000000\" stroke=\"#000000\" points=\"1163.1615,-61.1648 1170.0266,-53.095 1159.6276,-55.1223 1163.1615,-61.1648\"/>\n",
       "</g>\n",
       "<!-- 21 -->\n",
       "<g id=\"node22\" class=\"node\">\n",
       "<title>21</title>\n",
       "<path fill=\"transparent\" stroke=\"#000000\" d=\"M1524,-157C1524,-157 1401,-157 1401,-157 1395,-157 1389,-151 1389,-145 1389,-145 1389,-101 1389,-101 1389,-95 1395,-89 1401,-89 1401,-89 1524,-89 1524,-89 1530,-89 1536,-95 1536,-101 1536,-101 1536,-145 1536,-145 1536,-151 1530,-157 1524,-157\"/>\n",
       "<text text-anchor=\"middle\" x=\"1462.5\" y=\"-141.8\" font-family=\"Helvetica,sans-Serif\" font-size=\"14.00\" fill=\"#000000\">X[528] &lt;= 5.963</text>\n",
       "<text text-anchor=\"middle\" x=\"1462.5\" y=\"-126.8\" font-family=\"Helvetica,sans-Serif\" font-size=\"14.00\" fill=\"#000000\">gini = 0.465</text>\n",
       "<text text-anchor=\"middle\" x=\"1462.5\" y=\"-111.8\" font-family=\"Helvetica,sans-Serif\" font-size=\"14.00\" fill=\"#000000\">samples = 81</text>\n",
       "<text text-anchor=\"middle\" x=\"1462.5\" y=\"-96.8\" font-family=\"Helvetica,sans-Serif\" font-size=\"14.00\" fill=\"#000000\">value = [0.413, 0.535]</text>\n",
       "</g>\n",
       "<!-- 20&#45;&gt;21 -->\n",
       "<g id=\"edge21\" class=\"edge\">\n",
       "<title>20&#45;&gt;21</title>\n",
       "<path fill=\"none\" stroke=\"#000000\" d=\"M1462.5,-192.9465C1462.5,-184.776 1462.5,-175.9318 1462.5,-167.3697\"/>\n",
       "<polygon fill=\"#000000\" stroke=\"#000000\" points=\"1466.0001,-167.13 1462.5,-157.13 1459.0001,-167.13 1466.0001,-167.13\"/>\n",
       "</g>\n",
       "<!-- 24 -->\n",
       "<g id=\"node25\" class=\"node\">\n",
       "<title>24</title>\n",
       "<path fill=\"transparent\" stroke=\"#000000\" d=\"M1765.5,-157C1765.5,-157 1649.5,-157 1649.5,-157 1643.5,-157 1637.5,-151 1637.5,-145 1637.5,-145 1637.5,-101 1637.5,-101 1637.5,-95 1643.5,-89 1649.5,-89 1649.5,-89 1765.5,-89 1765.5,-89 1771.5,-89 1777.5,-95 1777.5,-101 1777.5,-101 1777.5,-145 1777.5,-145 1777.5,-151 1771.5,-157 1765.5,-157\"/>\n",
       "<text text-anchor=\"middle\" x=\"1707.5\" y=\"-141.8\" font-family=\"Helvetica,sans-Serif\" font-size=\"14.00\" fill=\"#000000\">X[942] &lt;= &#45;1.339</text>\n",
       "<text text-anchor=\"middle\" x=\"1707.5\" y=\"-126.8\" font-family=\"Helvetica,sans-Serif\" font-size=\"14.00\" fill=\"#000000\">gini = 0.024</text>\n",
       "<text text-anchor=\"middle\" x=\"1707.5\" y=\"-111.8\" font-family=\"Helvetica,sans-Serif\" font-size=\"14.00\" fill=\"#000000\">samples = 593</text>\n",
       "<text text-anchor=\"middle\" x=\"1707.5\" y=\"-96.8\" font-family=\"Helvetica,sans-Serif\" font-size=\"14.00\" fill=\"#000000\">value = [0.976, 0.97]</text>\n",
       "</g>\n",
       "<!-- 20&#45;&gt;24 -->\n",
       "<g id=\"edge24\" class=\"edge\">\n",
       "<title>20&#45;&gt;24</title>\n",
       "<path fill=\"none\" stroke=\"#000000\" d=\"M1536.0081,-195.7966C1565.0063,-183.4871 1598.3897,-169.3162 1627.9521,-156.7673\"/>\n",
       "<polygon fill=\"#000000\" stroke=\"#000000\" points=\"1629.5682,-159.8836 1637.4056,-152.7544 1626.833,-153.4401 1629.5682,-159.8836\"/>\n",
       "</g>\n",
       "<!-- 22 -->\n",
       "<g id=\"node23\" class=\"node\">\n",
       "<title>22</title>\n",
       "<path fill=\"#e58139\" fill-opacity=\"0.015686\" stroke=\"#000000\" d=\"M1442,-53C1442,-53 1319,-53 1319,-53 1313,-53 1307,-47 1307,-41 1307,-41 1307,-12 1307,-12 1307,-6 1313,0 1319,0 1319,0 1442,0 1442,0 1448,0 1454,-6 1454,-12 1454,-12 1454,-41 1454,-41 1454,-47 1448,-53 1442,-53\"/>\n",
       "<text text-anchor=\"middle\" x=\"1380.5\" y=\"-37.8\" font-family=\"Helvetica,sans-Serif\" font-size=\"14.00\" fill=\"#000000\">gini = 0.353</text>\n",
       "<text text-anchor=\"middle\" x=\"1380.5\" y=\"-22.8\" font-family=\"Helvetica,sans-Serif\" font-size=\"14.00\" fill=\"#000000\">samples = 11</text>\n",
       "<text text-anchor=\"middle\" x=\"1380.5\" y=\"-7.8\" font-family=\"Helvetica,sans-Serif\" font-size=\"14.00\" fill=\"#000000\">value = [0.647, 0.485]</text>\n",
       "</g>\n",
       "<!-- 21&#45;&gt;22 -->\n",
       "<g id=\"edge22\" class=\"edge\">\n",
       "<title>21&#45;&gt;22</title>\n",
       "<path fill=\"none\" stroke=\"#000000\" d=\"M1433.5899,-88.9777C1425.8866,-79.9123 1417.5581,-70.111 1409.8324,-61.0192\"/>\n",
       "<polygon fill=\"#000000\" stroke=\"#000000\" points=\"1412.3718,-58.6025 1403.2293,-53.2485 1407.0375,-63.1352 1412.3718,-58.6025\"/>\n",
       "</g>\n",
       "<!-- 23 -->\n",
       "<g id=\"node24\" class=\"node\">\n",
       "<title>23</title>\n",
       "<path fill=\"#399de5\" fill-opacity=\"0.003922\" stroke=\"#000000\" d=\"M1607,-53C1607,-53 1484,-53 1484,-53 1478,-53 1472,-47 1472,-41 1472,-41 1472,-12 1472,-12 1472,-6 1478,0 1484,0 1484,0 1607,0 1607,0 1613,0 1619,-6 1619,-12 1619,-12 1619,-41 1619,-41 1619,-47 1613,-53 1607,-53\"/>\n",
       "<text text-anchor=\"middle\" x=\"1545.5\" y=\"-37.8\" font-family=\"Helvetica,sans-Serif\" font-size=\"14.00\" fill=\"#000000\">gini = 0.457</text>\n",
       "<text text-anchor=\"middle\" x=\"1545.5\" y=\"-22.8\" font-family=\"Helvetica,sans-Serif\" font-size=\"14.00\" fill=\"#000000\">samples = 70</text>\n",
       "<text text-anchor=\"middle\" x=\"1545.5\" y=\"-7.8\" font-family=\"Helvetica,sans-Serif\" font-size=\"14.00\" fill=\"#000000\">value = [0.376, 0.543]</text>\n",
       "</g>\n",
       "<!-- 21&#45;&gt;23 -->\n",
       "<g id=\"edge23\" class=\"edge\">\n",
       "<title>21&#45;&gt;23</title>\n",
       "<path fill=\"none\" stroke=\"#000000\" d=\"M1491.7627,-88.9777C1499.5599,-79.9123 1507.99,-70.111 1515.8099,-61.0192\"/>\n",
       "<polygon fill=\"#000000\" stroke=\"#000000\" points=\"1518.6262,-63.1123 1522.4935,-53.2485 1513.3191,-58.5477 1518.6262,-63.1123\"/>\n",
       "</g>\n",
       "<!-- 25 -->\n",
       "<g id=\"node26\" class=\"node\">\n",
       "<title>25</title>\n",
       "<path fill=\"transparent\" stroke=\"#000000\" d=\"M1765.5,-53C1765.5,-53 1649.5,-53 1649.5,-53 1643.5,-53 1637.5,-47 1637.5,-41 1637.5,-41 1637.5,-12 1637.5,-12 1637.5,-6 1643.5,0 1649.5,0 1649.5,0 1765.5,0 1765.5,0 1771.5,0 1777.5,-6 1777.5,-12 1777.5,-12 1777.5,-41 1777.5,-41 1777.5,-47 1771.5,-53 1765.5,-53\"/>\n",
       "<text text-anchor=\"middle\" x=\"1707.5\" y=\"-37.8\" font-family=\"Helvetica,sans-Serif\" font-size=\"14.00\" fill=\"#000000\">gini = 0.103</text>\n",
       "<text text-anchor=\"middle\" x=\"1707.5\" y=\"-22.8\" font-family=\"Helvetica,sans-Serif\" font-size=\"14.00\" fill=\"#000000\">samples = 50</text>\n",
       "<text text-anchor=\"middle\" x=\"1707.5\" y=\"-7.8\" font-family=\"Helvetica,sans-Serif\" font-size=\"14.00\" fill=\"#000000\">value = [0.85, 0.897]</text>\n",
       "</g>\n",
       "<!-- 24&#45;&gt;25 -->\n",
       "<g id=\"edge25\" class=\"edge\">\n",
       "<title>24&#45;&gt;25</title>\n",
       "<path fill=\"none\" stroke=\"#000000\" d=\"M1707.5,-88.9777C1707.5,-80.7364 1707.5,-71.887 1707.5,-63.5153\"/>\n",
       "<polygon fill=\"#000000\" stroke=\"#000000\" points=\"1711.0001,-63.2484 1707.5,-53.2485 1704.0001,-63.2485 1711.0001,-63.2484\"/>\n",
       "</g>\n",
       "<!-- 26 -->\n",
       "<g id=\"node27\" class=\"node\">\n",
       "<title>26</title>\n",
       "<path fill=\"transparent\" stroke=\"#000000\" d=\"M1931,-53C1931,-53 1808,-53 1808,-53 1802,-53 1796,-47 1796,-41 1796,-41 1796,-12 1796,-12 1796,-6 1802,0 1808,0 1808,0 1931,0 1931,0 1937,0 1943,-6 1943,-12 1943,-12 1943,-41 1943,-41 1943,-47 1937,-53 1931,-53\"/>\n",
       "<text text-anchor=\"middle\" x=\"1869.5\" y=\"-37.8\" font-family=\"Helvetica,sans-Serif\" font-size=\"14.00\" fill=\"#000000\">gini = 0.012</text>\n",
       "<text text-anchor=\"middle\" x=\"1869.5\" y=\"-22.8\" font-family=\"Helvetica,sans-Serif\" font-size=\"14.00\" fill=\"#000000\">samples = 543</text>\n",
       "<text text-anchor=\"middle\" x=\"1869.5\" y=\"-7.8\" font-family=\"Helvetica,sans-Serif\" font-size=\"14.00\" fill=\"#000000\">value = [0.988, 0.977]</text>\n",
       "</g>\n",
       "<!-- 24&#45;&gt;26 -->\n",
       "<g id=\"edge26\" class=\"edge\">\n",
       "<title>24&#45;&gt;26</title>\n",
       "<path fill=\"none\" stroke=\"#000000\" d=\"M1764.6151,-88.9777C1781.2941,-79.0424 1799.4569,-68.2232 1815.9094,-58.4228\"/>\n",
       "<polygon fill=\"#000000\" stroke=\"#000000\" points=\"1818.0533,-61.2197 1824.8534,-53.095 1814.471,-55.2058 1818.0533,-61.2197\"/>\n",
       "</g>\n",
       "</g>\n",
       "</svg>\n"
      ],
      "text/plain": [
       "<graphviz.files.Source at 0x7f27ddc79748>"
      ]
     },
     "execution_count": 15,
     "metadata": {},
     "output_type": "execute_result"
    }
   ],
   "source": [
    "dot_data = export_graphviz(big_cm0.model, out_file = None, filled=True, rounded=True)\n",
    "graph = graphviz.Source(dot_data)\n",
    "graph"
   ]
  },
  {
   "cell_type": "code",
   "execution_count": 16,
   "metadata": {
    "collapsed": true
   },
   "outputs": [],
   "source": [
    "nursdata = get_test_dbs(nurs, 2.0, prng)"
   ]
  },
  {
   "cell_type": "code",
   "execution_count": 17,
   "metadata": {
    "scrolled": true
   },
   "outputs": [
    {
     "name": "stdout",
     "output_type": "stream",
     "text": [
      "122\n",
      "146\n",
      "119\n"
     ]
    }
   ],
   "source": [
    "nurs1, nurs2, nurs3 = get_results([nursdata], big_cm0, fried_cm)"
   ]
  },
  {
   "cell_type": "code",
   "execution_count": 18,
   "metadata": {},
   "outputs": [
    {
     "data": {
      "text/plain": [
       "(0.6030395136778115, 0.58297872340425527, 0.60911854103343466)"
      ]
     },
     "execution_count": 18,
     "metadata": {},
     "output_type": "execute_result"
    }
   ],
   "source": [
    "(nurs1.mean(), nurs2.mean(), nurs3.mean())"
   ]
  },
  {
   "cell_type": "markdown",
   "metadata": {},
   "source": [
    "### Experiment 1"
   ]
  },
  {
   "cell_type": "code",
   "execution_count": 173,
   "metadata": {
    "collapsed": true
   },
   "outputs": [],
   "source": [
    "#big_cm = combine_cms(out[:1] + out[2:])"
   ]
  },
  {
   "cell_type": "code",
   "execution_count": 19,
   "metadata": {
    "collapsed": true
   },
   "outputs": [],
   "source": [
    "big_cm1 = cms[1]\n",
    "big_cm1.model = DecisionTreeClassifier(min_samples_leaf=10, max_depth=4)\n",
    "big_cm1.retrain_model()"
   ]
  },
  {
   "cell_type": "code",
   "execution_count": 24,
   "metadata": {
    "collapsed": true
   },
   "outputs": [],
   "source": [
    "defaultsdata = [get_test_dbs(default, 2.0, prng) for i in range(10)]"
   ]
  },
  {
   "cell_type": "code",
   "execution_count": 25,
   "metadata": {},
   "outputs": [
    {
     "name": "stdout",
     "output_type": "stream",
     "text": [
      "333\n",
      "708\n",
      "1038\n",
      "1347\n",
      "1639\n",
      "1899\n",
      "2205\n",
      "2480\n",
      "2775\n",
      "3075\n",
      "168\n",
      "331\n",
      "460\n",
      "652\n",
      "885\n",
      "1103\n",
      "1233\n",
      "1389\n",
      "1552\n",
      "1734\n",
      "60\n",
      "150\n",
      "233\n",
      "307\n",
      "385\n",
      "459\n",
      "522\n",
      "571\n",
      "621\n",
      "692\n"
     ]
    }
   ],
   "source": [
    "defaults1, defaults2, defaults3 = get_results(defaultsdata, big_cm1, fried_cm)"
   ]
  },
  {
   "cell_type": "code",
   "execution_count": 26,
   "metadata": {},
   "outputs": [
    {
     "data": {
      "text/plain": [
       "(0.77938683701590095, 0.78997701676581999, 0.80390637827240341)"
      ]
     },
     "execution_count": 26,
     "metadata": {},
     "output_type": "execute_result"
    }
   ],
   "source": [
    "(defaults1.mean(), defaults2.mean(), defaults3.mean())"
   ]
  },
  {
   "cell_type": "code",
   "execution_count": 127,
   "metadata": {
    "collapsed": true
   },
   "outputs": [],
   "source": [
    "de = defaultsdata[0]\n",
    "de.epsilon = 2"
   ]
  },
  {
   "cell_type": "code",
   "execution_count": 123,
   "metadata": {},
   "outputs": [
    {
     "data": {
      "text/plain": [
       "2"
      ]
     },
     "execution_count": 123,
     "metadata": {},
     "output_type": "execute_result"
    }
   ],
   "source": [
    "de.epsilon"
   ]
  },
  {
   "cell_type": "code",
   "execution_count": 125,
   "metadata": {},
   "outputs": [
    {
     "data": {
      "text/plain": [
       "array([0, 0, 0, ..., 0, 0, 0])"
      ]
     },
     "execution_count": 125,
     "metadata": {},
     "output_type": "execute_result"
    }
   ],
   "source": [
    "big_cm1.choose(de)"
   ]
  },
  {
   "cell_type": "code",
   "execution_count": 126,
   "metadata": {},
   "outputs": [
    {
     "data": {
      "text/plain": [
       "0.78856825749167592"
      ]
     },
     "execution_count": 126,
     "metadata": {},
     "output_type": "execute_result"
    }
   ],
   "source": [
    "dt = PDTree()\n",
    "P = dt.fit_and_predict(de, big_cm1)\n",
    "(P == de.y_test).sum() / P.size"
   ]
  },
  {
   "cell_type": "code",
   "execution_count": 111,
   "metadata": {},
   "outputs": [
    {
     "data": {
      "text/plain": [
       "0    1802\n",
       "dtype: int64"
      ]
     },
     "execution_count": 111,
     "metadata": {},
     "output_type": "execute_result"
    }
   ],
   "source": [
    "pd.value_counts(P)"
   ]
  },
  {
   "cell_type": "code",
   "execution_count": 128,
   "metadata": {},
   "outputs": [
    {
     "data": {
      "text/plain": [
       "OrderedDict([('nrow', 4204),\n",
       "             ('ncol', 23),\n",
       "             ('eps', 2),\n",
       "             ('depth', 0),\n",
       "             ('C', 2),\n",
       "             ('bf', 6.6956521739130439),\n",
       "             ('t', 11)])"
      ]
     },
     "execution_count": 128,
     "metadata": {},
     "output_type": "execute_result"
    }
   ],
   "source": [
    "DBMetas()(de)"
   ]
  },
  {
   "cell_type": "code",
   "execution_count": 129,
   "metadata": {},
   "outputs": [
    {
     "data": {
      "text/plain": [
       "[4204, 23, 2, 0, 2, 6.6956521739130439, 11]"
      ]
     },
     "execution_count": 129,
     "metadata": {},
     "output_type": "execute_result"
    }
   ],
   "source": [
    "list(DBMetas()(de).values())"
   ]
  },
  {
   "cell_type": "markdown",
   "metadata": {},
   "source": [
    "### Experiment 2"
   ]
  },
  {
   "cell_type": "code",
   "execution_count": null,
   "metadata": {
    "collapsed": true
   },
   "outputs": [],
   "source": []
  },
  {
   "cell_type": "code",
   "execution_count": 183,
   "metadata": {
    "collapsed": true
   },
   "outputs": [],
   "source": [
    "#big_cm2 = combine_cms(out[:2] + out[3:])"
   ]
  },
  {
   "cell_type": "code",
   "execution_count": 35,
   "metadata": {
    "collapsed": true
   },
   "outputs": [],
   "source": [
    "big_cm2 = cms[2]\n",
    "big_cm2.model = DecisionTreeClassifier(min_samples_leaf=10, max_depth=4)\n",
    "big_cm2.retrain_model()"
   ]
  },
  {
   "cell_type": "code",
   "execution_count": 36,
   "metadata": {
    "collapsed": true
   },
   "outputs": [],
   "source": [
    "loandata = get_test_dbs(loan, 2.0, prng)"
   ]
  },
  {
   "cell_type": "code",
   "execution_count": 37,
   "metadata": {},
   "outputs": [
    {
     "name": "stdout",
     "output_type": "stream",
     "text": [
      "137\n",
      "0\n",
      "7\n"
     ]
    }
   ],
   "source": [
    "loans1, loans2, loans3 = get_results([loandata], big_cm2, fried_cm)"
   ]
  },
  {
   "cell_type": "code",
   "execution_count": 38,
   "metadata": {},
   "outputs": [
    {
     "data": {
      "text/plain": [
       "(0.75694444444444442, 0.88888888888888884, 0.84375)"
      ]
     },
     "execution_count": 38,
     "metadata": {},
     "output_type": "execute_result"
    }
   ],
   "source": [
    "(loans1.mean(), loans2.mean(), loans3.mean())"
   ]
  },
  {
   "cell_type": "markdown",
   "metadata": {},
   "source": [
    "### Experiment 3"
   ]
  },
  {
   "cell_type": "code",
   "execution_count": 39,
   "metadata": {
    "collapsed": true
   },
   "outputs": [],
   "source": [
    "#big_cm3 = combine_cms(out[:3] + out[4:])\n",
    "big_cm3 = cms[3]\n",
    "big_cm3.model = DecisionTreeClassifier(min_samples_leaf=10, max_depth=4)\n",
    "big_cm3.retrain_model()"
   ]
  },
  {
   "cell_type": "code",
   "execution_count": 40,
   "metadata": {
    "collapsed": true
   },
   "outputs": [],
   "source": [
    "adultdata = get_test_dbs(adult, 2.0, prng)"
   ]
  },
  {
   "cell_type": "code",
   "execution_count": 41,
   "metadata": {},
   "outputs": [
    {
     "name": "stdout",
     "output_type": "stream",
     "text": [
      "400\n",
      "222\n",
      "134\n"
     ]
    }
   ],
   "source": [
    "adults1, adults2, adults3 = get_results([adultdata], big_cm3, fried_cm)"
   ]
  },
  {
   "cell_type": "code",
   "execution_count": 42,
   "metadata": {},
   "outputs": [
    {
     "data": {
      "text/plain": [
       "(0.75182072829131652, 0.78711484593837533, 0.80336134453781516)"
      ]
     },
     "execution_count": 42,
     "metadata": {},
     "output_type": "execute_result"
    }
   ],
   "source": [
    "(adults1.mean(), adults2.mean(), adults3.mean())"
   ]
  },
  {
   "cell_type": "markdown",
   "metadata": {},
   "source": [
    "### Experiment 4"
   ]
  },
  {
   "cell_type": "code",
   "execution_count": 199,
   "metadata": {
    "collapsed": true
   },
   "outputs": [],
   "source": [
    "#big_cm4 = combine_cms(out[:4] + out[5:])"
   ]
  },
  {
   "cell_type": "code",
   "execution_count": 156,
   "metadata": {
    "collapsed": true
   },
   "outputs": [],
   "source": [
    "big_cm4 = cms[4]\n",
    "big_cm4.model = DecisionTreeClassifier(min_samples_leaf=10, max_depth=4)\n",
    "big_cm4.retrain_model()"
   ]
  },
  {
   "cell_type": "code",
   "execution_count": 158,
   "metadata": {
    "collapsed": true
   },
   "outputs": [],
   "source": [
    "lendingdata = get_test_dbs(lending, 2.0, prng)"
   ]
  },
  {
   "cell_type": "code",
   "execution_count": 159,
   "metadata": {},
   "outputs": [
    {
     "name": "stdout",
     "output_type": "stream",
     "text": [
      "328\n",
      "269\n",
      "120\n"
     ]
    }
   ],
   "source": [
    "lendings1, lendings2, lendings3 = get_results([lendingdata], big_cm4, fried_cm)"
   ]
  },
  {
   "cell_type": "code",
   "execution_count": 160,
   "metadata": {},
   "outputs": [
    {
     "data": {
      "text/plain": [
       "(0.81575178997613362, 0.84391408114558475, 0.86109785202863964)"
      ]
     },
     "execution_count": 160,
     "metadata": {},
     "output_type": "execute_result"
    }
   ],
   "source": [
    "(lendings1.mean(), lendings2.mean(), lendings3.mean())"
   ]
  },
  {
   "cell_type": "code",
   "execution_count": null,
   "metadata": {
    "collapsed": true
   },
   "outputs": [],
   "source": []
  },
  {
   "cell_type": "code",
   "execution_count": 280,
   "metadata": {
    "collapsed": true
   },
   "outputs": [],
   "source": [
    "alg1_error = 1-np.array([nurs1, defaults1, loans1, adults1, lendings1])"
   ]
  },
  {
   "cell_type": "code",
   "execution_count": 281,
   "metadata": {
    "collapsed": true
   },
   "outputs": [],
   "source": [
    "alg2_error = 1-np.array([nurs2, defaults2, loans2, adults2, lendings2])"
   ]
  },
  {
   "cell_type": "code",
   "execution_count": 282,
   "metadata": {
    "collapsed": true
   },
   "outputs": [],
   "source": [
    "alg3_error = 1-np.array([nurs3, defaults3, loans3, adults3, lendings3])"
   ]
  },
  {
   "cell_type": "code",
   "execution_count": 283,
   "metadata": {
    "collapsed": true
   },
   "outputs": [],
   "source": [
    "#best = np.min([alg1_error, alg2_error, alg3_error], axis=0)\n",
    "#avg_regret1 = (alg1_error-best).reshape((3,-1)).mean(axis=0)\n",
    "#avg_regret2 = (alg2_error-best).reshape((3,-1)).mean(axis=0)\n",
    "#avg_regret3 = (alg3_error-best).reshape((3,-1)).mean(axis=0)"
   ]
  },
  {
   "cell_type": "code",
   "execution_count": 284,
   "metadata": {
    "collapsed": true
   },
   "outputs": [],
   "source": [
    "alg1_error = alg1_error.reshape((3, -1)).mean(axis=0).reshape((3, -1))\n",
    "alg2_error = alg2_error.reshape((3, -1)).mean(axis=0).reshape((3, -1))\n",
    "alg3_error = alg3_error.reshape((3, -1)).mean(axis=0).reshape((3, -1))"
   ]
  },
  {
   "cell_type": "code",
   "execution_count": 285,
   "metadata": {
    "collapsed": true
   },
   "outputs": [],
   "source": [
    "alg1_error = alg1_error.mean(axis=1)\n",
    "alg2_error = alg2_error.mean(axis=1)\n",
    "alg3_error = alg3_error.mean(axis=1)"
   ]
  },
  {
   "cell_type": "code",
   "execution_count": 293,
   "metadata": {
    "collapsed": true
   },
   "outputs": [],
   "source": [
    "juxtaposed_alg_perfs = np.array([alg1_error, alg3_error, alg2_error]).T.flatten()"
   ]
  },
  {
   "cell_type": "code",
   "execution_count": 294,
   "metadata": {
    "collapsed": true
   },
   "outputs": [],
   "source": [
    "x_pos = np.array([4*x + y for x in [0,1,2] for y in [0,1,2]])"
   ]
  },
  {
   "cell_type": "code",
   "execution_count": 295,
   "metadata": {
    "collapsed": true
   },
   "outputs": [],
   "source": [
    "colors = ['red', 'blue', 'green']*3"
   ]
  },
  {
   "cell_type": "code",
   "execution_count": 296,
   "metadata": {
    "collapsed": true
   },
   "outputs": [],
   "source": [
    "import matplotlib.patches as mpatches\n",
    "patches = [mpatches.Patch(color=c) for c in ['red', 'blue', 'green']]"
   ]
  },
  {
   "cell_type": "code",
   "execution_count": 297,
   "metadata": {},
   "outputs": [
    {
     "data": {
      "text/plain": [
       "<Container object of 9 artists>"
      ]
     },
     "execution_count": 297,
     "metadata": {},
     "output_type": "execute_result"
    },
    {
     "data": {
      "image/png": "[encoded data removed]",
      "text/plain": [
       "<matplotlib.figure.Figure at 0x7f8bed374860>"
      ]
     },
     "metadata": {},
     "output_type": "display_data"
    }
   ],
   "source": [
    "fig, axis = plt.subplots()\n",
    "axis.set_xticks([1,5,9])\n",
    "axis.set_xticklabels(['1.0', '4.0', '7.0'])\n",
    "axis.set_xlabel('epsilon')\n",
    "axis.set_ylabel('Mean Error')\n",
    "axis.legend(handles=patches, labels=['Alg1', 'Alg2', 'Jostle'])\n",
    "axis.set_title('Mean Performance for 3 Stopping Criteria')\n",
    "axis.bar(x_pos, juxtaposed_alg_perfs, color=colors)"
   ]
  },
  {
   "cell_type": "code",
   "execution_count": null,
   "metadata": {
    "collapsed": true
   },
   "outputs": [],
   "source": [
    "fig, axis = plt.subplots()\n",
    "for a in "
   ]
  }
 ],
 "metadata": {
  "kernelspec": {
   "display_name": "Python 3",
   "language": "python",
   "name": "python3"
  },
  "language_info": {
   "codemirror_mode": {
    "name": "ipython",
    "version": 3
   },
   "file_extension": ".py",
   "mimetype": "text/x-python",
   "name": "python",
   "nbconvert_exporter": "python",
   "pygments_lexer": "ipython3",
   "version": "3.6.3"
  }
 },
 "nbformat": 4,
 "nbformat_minor": 2
}
