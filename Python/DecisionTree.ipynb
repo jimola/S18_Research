{
 "cells": [
  {
   "cell_type": "code",
   "execution_count": 1,
   "metadata": {
    "collapsed": true
   },
   "outputs": [],
   "source": [
    "import DPrivacy as dp\n",
    "from ChoiceMaker import DTChoice\n",
    "from sklearn import model_selection, feature_selection\n",
    "from sklearn.tree import DecisionTreeClassifier\n",
    "import graphviz\n",
    "from sklearn.tree import export_graphviz\n",
    "%matplotlib inline\n",
    "import pickle\n",
    "import collections"
   ]
  },
  {
   "cell_type": "code",
   "execution_count": 2,
   "metadata": {
    "collapsed": true
   },
   "outputs": [],
   "source": [
    "class DB:\n",
    "    def __init__(self, X, y, X_test, y_test, epsilon=1, depth=0, max_depth=0):\n",
    "        self.epsilon = epsilon\n",
    "        self.ncol = X.shape[1]\n",
    "        self.X = X\n",
    "        self.y = y\n",
    "        self.X_test = X_test\n",
    "        self.y_test = y_test\n",
    "        self.depth = depth\n",
    "        self.max_depth = max_depth\n",
    "        #branching_factor?\n",
    "        \n",
    "class DBMetas:\n",
    "    def __init__(self):\n",
    "        self.sensitivities = collections.OrderedDict((\n",
    "        ('nrow', 1), ('ncol', 0), ('eps', 0), ('depth', 0), ('C', 0), ('bf', 0), ('t', 0)\n",
    "                                                    ))\n",
    "    \n",
    "    def __call__(self, dataset):\n",
    "        att_sizes = np.array([len(dataset.X[c].cat.categories) for c in dataset.X])\n",
    "        return collections.OrderedDict((\n",
    "                ('nrow', dataset.X.shape[0]), \n",
    "                ('ncol', dataset.X.shape[1]),\n",
    "                ('eps', dataset.epsilon),\n",
    "                ('depth', dataset.depth),\n",
    "                ('C', len(dataset.y.cat.categories)),\n",
    "                ('bf', att_sizes.mean()),\n",
    "                ('t', att_sizes.max()) ))\n",
    "def entropy(y):\n",
    "    arr = pd.value_counts(y)\n",
    "    arr = arr[arr > 0]\n",
    "    arr = arr/arr.sum()\n",
    "    return (-np.log2(arr) * arr).sum()"
   ]
  },
  {
   "cell_type": "code",
   "execution_count": 3,
   "metadata": {
    "collapsed": true
   },
   "outputs": [],
   "source": [
    "#alg_list\n",
    "class TreePart:\n",
    "    def __init__(self, splits=5):\n",
    "        self.splits=splits\n",
    "        self.kf = model_selection.KFold(splits)\n",
    "        self.lo = model_selection.LeaveOneOut()\n",
    "    def get_expected_correct(self, y, epsilon):\n",
    "        if len(y) == 0:\n",
    "            return 0\n",
    "        tot_correct = 0\n",
    "        if len(y) < self.splits:\n",
    "            gen = self.lo.split(y)\n",
    "        else:\n",
    "            gen = self.kf.split(y)\n",
    "        for train_idx, test_idx in gen:\n",
    "            hist = pd.value_counts(y.iloc[train_idx])\n",
    "            noisy_hist = dp.hist_noiser(hist, epsilon)\n",
    "            pred = noisy_hist.idxmax()\n",
    "            tot_correct += (y.iloc[test_idx] == pred).sum()\n",
    "        return tot_correct / len(y)\n",
    "    \n",
    "class Leaf(TreePart):\n",
    "    def error(self, db):\n",
    "        if len(db.y) == 0:\n",
    "            return 0\n",
    "        return 1.0-self.get_expected_correct(db.y, db.epsilon)\n",
    "    def run(self, db):\n",
    "        frequencies = pd.value_counts(db.y)\n",
    "        noisy_freqs = dp.hist_noiser(frequencies, db.epsilon)\n",
    "        return np.repeat(noisy_freqs.idxmax(), db.y_test.size)\n",
    "    \n",
    "#This error is a little optimistic because it doesn't account for the exponential mechanism at low epsilon.\n",
    "class Split(TreePart):\n",
    "    def error(self, db):\n",
    "        if len(db.y) == 0:\n",
    "            return 0\n",
    "        corrects = []\n",
    "        probs = []\n",
    "        for col in db.X.columns:\n",
    "            x = db.X[col]\n",
    "            cats = x.cat.categories\n",
    "            correct = 0\n",
    "            tot_ent = 0\n",
    "            for cat in cats:\n",
    "                leaf_correct = self.get_expected_correct(db.y[x == cat], db.epsilon)\n",
    "                correct += leaf_correct * (x == cat).sum()\n",
    "                ent = entropy(db.y[x == cat])\n",
    "                tot_ent += ent*(x==cat).sum()\n",
    "            correct /= len(db.y)\n",
    "            corrects.append(correct)\n",
    "            probs.append(tot_ent)\n",
    "        C = np.array(corrects)\n",
    "        probs = np.array(probs)\n",
    "        probs -= probs.min()\n",
    "        D = np.exp(-probs*db.epsilon/13)\n",
    "        probs = D/D.sum()\n",
    "        return 1-probs.dot(C)\n",
    "    def run(self, db):\n",
    "        return None\n",
    "tree_algs = {'leaf': Leaf(), 'split': Split()}"
   ]
  },
  {
   "cell_type": "code",
   "execution_count": 4,
   "metadata": {
    "collapsed": true
   },
   "outputs": [],
   "source": [
    "split = Split()\n",
    "leaf = Leaf()\n",
    "tree_algs = {'leaf': Leaf(), 'split': Split()}"
   ]
  },
  {
   "cell_type": "code",
   "execution_count": 5,
   "metadata": {
    "collapsed": true
   },
   "outputs": [],
   "source": [
    "class PDTree:\n",
    "    def __init__(self):\n",
    "        pass\n",
    "    \n",
    "    def entropy(self, y):\n",
    "        arr = pd.value_counts(y)\n",
    "        arr = arr[arr > 0]\n",
    "        arr = arr/arr.sum()\n",
    "        return (-np.log2(arr) * arr).sum()\n",
    "    \n",
    "    def decision_helper(self, db, cm):\n",
    "        action = cm.choose(db)\n",
    "        if db.depth == db.max_depth:\n",
    "            action = leaf.run(db)\n",
    "        if action is not None:\n",
    "            return action\n",
    "        utils = []\n",
    "        for col in db.X.columns:\n",
    "            x = db.X[col]\n",
    "            cats = x.cat.categories\n",
    "            cur_ent = 0\n",
    "            for cat in cats:\n",
    "                ent = self.entropy(db.y[x == cat])\n",
    "                cur_ent += ent * (x == cat).sum()\n",
    "            #cur_ent /= len(db.y)\n",
    "            utils.append(-cur_ent)\n",
    "        best_idx = dp.exp_mech(utils, db.epsilon, 13) #Change sensitivity\n",
    "        col_name = db.X.columns[best_idx]\n",
    "        new_cols = db.X.columns[db.X.columns != col_name]\n",
    "        splitX = db.X[col_name]\n",
    "        splitX_test = db.X_test[col_name]\n",
    "        preds = np.repeat(db.y.cat.categories[0], len(db.y_test))\n",
    "        for att in splitX_test.unique():\n",
    "            train_split = db.X.loc[splitX == att, new_cols]\n",
    "            y_split = db.y[splitX == att]\n",
    "            test_split_loc = db.X_test[col_name] == att \n",
    "            test_split = db.X_test.loc[test_split_loc, new_cols]\n",
    "            test_split_y = db.y_test.loc[test_split_loc]\n",
    "            if(test_split_y.size > 0):\n",
    "                db_new = DB(train_split, y_split, test_split, test_split_y, db.epsilon, db.depth+1, db.max_depth)\n",
    "                preds[test_split_loc] = self.decision_helper(db_new, cm)\n",
    "        return preds\n",
    "    \n",
    "    def fit_and_predict(self, data, cm):\n",
    "        budget = data.epsilon / data.X.shape[1]\n",
    "        data.epsilon = budget\n",
    "        return self.decision_helper(data, cm)"
   ]
  },
  {
   "cell_type": "code",
   "execution_count": 150,
   "metadata": {
    "collapsed": true
   },
   "outputs": [],
   "source": [
    "class CoefCM:\n",
    "    def __init__(self, tree_algs, coefs, const):\n",
    "        self.m = DBMetas()\n",
    "        self.tree_algs = tree_algs\n",
    "        self.coefs = np.array(coefs)\n",
    "        self.const = const\n",
    "    def choose(self, data, ratio=0.3):\n",
    "        budget = data.epsilon*ratio\n",
    "        metas = self.m(data)\n",
    "        metas['nrow'] += dp.laplacian(budget, sensitivity=1)[0]\n",
    "        data.epsilon -= budget\n",
    "        metas = np.array(list(metas.values()))\n",
    "        metas = np.log(np.maximum(metas, 1))\n",
    "        if metas.dot(self.coefs) <= self.const:\n",
    "            return self.tree_algs['leaf'].run(data)\n",
    "        else:\n",
    "            return self.tree_algs['split'].run(data)\n",
    "fried_cm = CoefCM(tree_algs, [1, 0, 1, 0, -1, 0, -1], np.log(1.414))"
   ]
  },
  {
   "cell_type": "code",
   "execution_count": 127,
   "metadata": {},
   "outputs": [],
   "source": [
    "metas = test_cm1.m(data_train[0][0])"
   ]
  },
  {
   "cell_type": "code",
   "execution_count": 128,
   "metadata": {},
   "outputs": [],
   "source": [
    "metas = np.array(list(metas.values()))"
   ]
  },
  {
   "cell_type": "code",
   "execution_count": 129,
   "metadata": {},
   "outputs": [
    {
     "data": {
      "text/plain": [
       "array([ 8.25244609,  2.07944154,  0.        ,  0.        ,  1.60943791,\n",
       "        1.21639532,  1.60943791])"
      ]
     },
     "execution_count": 129,
     "metadata": {},
     "output_type": "execute_result"
    }
   ],
   "source": [
    "np.log(np.maximum(metas, 1))"
   ]
  },
  {
   "cell_type": "code",
   "execution_count": null,
   "metadata": {
    "collapsed": true
   },
   "outputs": [],
   "source": []
  },
  {
   "cell_type": "markdown",
   "metadata": {},
   "source": [
    "### DATASETS"
   ]
  },
  {
   "cell_type": "code",
   "execution_count": 6,
   "metadata": {
    "collapsed": true
   },
   "outputs": [],
   "source": [
    "nurs = pd.read_csv('../datasets/nursery.data', header=None)\n",
    "nurs = nurs.apply(lambda x: x.astype('category'))"
   ]
  },
  {
   "cell_type": "code",
   "execution_count": 7,
   "metadata": {
    "collapsed": true
   },
   "outputs": [],
   "source": [
    "skin = pd.read_csv('data/Skin.csv', sep='\\t', header=None)\n",
    "skin = skin.apply(lambda x: x.astype('category'))"
   ]
  },
  {
   "cell_type": "code",
   "execution_count": 8,
   "metadata": {
    "collapsed": true
   },
   "outputs": [],
   "source": [
    "default = pd.read_csv('data/default.csv', header=1)\n",
    "default = default.drop('ID', axis=1)"
   ]
  },
  {
   "cell_type": "code",
   "execution_count": 9,
   "metadata": {
    "collapsed": true
   },
   "outputs": [],
   "source": [
    "def discretize(col, n_quantiles):\n",
    "    L = np.linspace(0, 1, n_quantiles, endpoint=False) + 1.0/n_quantiles\n",
    "    L = col.quantile(L)\n",
    "    return L.searchsorted(col)"
   ]
  },
  {
   "cell_type": "code",
   "execution_count": 10,
   "metadata": {
    "collapsed": true
   },
   "outputs": [],
   "source": [
    "cols = [c for c in default.columns if 'AMT' in c]\n",
    "default[cols] = default[cols].apply(lambda x: discretize(x, 5))\n",
    "#Columns remaining: AGE, LIMIT_BAL, PAY_n,\n",
    "default.LIMIT_BAL = discretize(default.LIMIT_BAL, 10)\n",
    "default.AGE = discretize(default.AGE, 6)\n",
    "default = default.apply(lambda x: x.astype('category'))"
   ]
  },
  {
   "cell_type": "code",
   "execution_count": 11,
   "metadata": {
    "collapsed": true
   },
   "outputs": [],
   "source": [
    "loan = pd.read_csv('../datasets/student-loan.csv')\n",
    "loan = loan.apply(lambda x: x.astype('category'))"
   ]
  },
  {
   "cell_type": "code",
   "execution_count": 12,
   "metadata": {
    "collapsed": true
   },
   "outputs": [],
   "source": [
    "adult = pd.read_csv('data/adult.data', header=None)\n",
    "adult = adult.rename(columns = {0: 'age', 1: 'workclass', 2: 'fnlwgt', 3: 'education', \n",
    "                                4: 'education_num', 5: 'marital_status', 6: 'occupation',\n",
    "                                7: 'relationship', 8: 'race', 9: 'sex', 10: 'capital_gain',\n",
    "                                11: 'capital_loss', 12: 'hours_per_week', 13: 'native_country', 14: 'TARGET'})"
   ]
  },
  {
   "cell_type": "code",
   "execution_count": 13,
   "metadata": {
    "collapsed": true
   },
   "outputs": [],
   "source": [
    "adult.age = discretize(adult.age, 7)\n",
    "adult.fnlwgt = discretize(adult.fnlwgt, 10)\n",
    "adult.capital_gain = discretize(adult.capital_gain, 6)\n",
    "adult.capital_loss = discretize(adult.capital_loss, 6)\n",
    "adult.hours_per_week = discretize(adult.hours_per_week, 6)"
   ]
  },
  {
   "cell_type": "code",
   "execution_count": 14,
   "metadata": {
    "collapsed": true
   },
   "outputs": [],
   "source": [
    "def world_region(elem):\n",
    "    elem = elem.strip()\n",
    "    if elem in ['Cuba', 'Jamaica', 'Mexico', 'South', 'Puerto-Rico', 'Honduras', 'Columbia', 'Ecuador', 'Haiti',\\\n",
    "                'Dominican-Republic', 'El-Salvador', 'Guatemala', 'Peru', 'Trinadad&Tobago', 'Nicaragua']:\n",
    "        return 1\n",
    "    if elem in ['Philippines', 'Cambodia', 'Thailand', 'Laos', 'Taiwan', 'China', 'Japan',\\\n",
    "                'Outlying-US(Guam-USVI-etc)', 'Hong', 'Vietnam', 'India', 'Iran']:\n",
    "        return 2\n",
    "    if elem in ['England', 'Canada', 'France', 'Germany', 'Italy', 'Poland', 'Portugal',\\\n",
    "                'Yugoslavia', 'Scotland', 'Greece', 'Ireland', 'Hungary', 'Holand-Netherlands']:\n",
    "        return 3\n",
    "    if elem == 'United-States':\n",
    "        return 4\n",
    "    if elem == '?':\n",
    "        return 5\n",
    "    assert False\n",
    "adult.native_country = adult.native_country.apply(world_region)"
   ]
  },
  {
   "cell_type": "code",
   "execution_count": 15,
   "metadata": {
    "collapsed": true
   },
   "outputs": [],
   "source": [
    "adult = adult.apply(lambda x: x.astype('category'))"
   ]
  },
  {
   "cell_type": "code",
   "execution_count": 16,
   "metadata": {
    "collapsed": true
   },
   "outputs": [],
   "source": [
    "lending = pd.read_csv('data/fam_credit_ss.csv')"
   ]
  },
  {
   "cell_type": "code",
   "execution_count": 17,
   "metadata": {
    "collapsed": true
   },
   "outputs": [],
   "source": [
    "lending.income = discretize(lending.income, 8)\n",
    "lending.age = discretize(lending.age, 5)\n",
    "lending.work_hours = discretize(lending.work_hours, 5)\n",
    "lending.employment = discretize(lending.employment, 6)\n",
    "lending.auto_insurance = discretize(lending.auto_insurance, 10)"
   ]
  },
  {
   "cell_type": "code",
   "execution_count": 18,
   "metadata": {
    "collapsed": true
   },
   "outputs": [],
   "source": [
    "lending = lending.apply(lambda x: x.astype('category'))"
   ]
  },
  {
   "cell_type": "code",
   "execution_count": 19,
   "metadata": {
    "collapsed": true
   },
   "outputs": [],
   "source": [
    "leaf = Leaf()\n",
    "split = Split()"
   ]
  },
  {
   "cell_type": "code",
   "execution_count": 20,
   "metadata": {
    "collapsed": true
   },
   "outputs": [],
   "source": [
    "class null_cm:\n",
    "    def __init__(self):\n",
    "        pass\n",
    "    def choose(self, db):\n",
    "        if db.depth < db.max_depth:\n",
    "            return split.run(db)\n",
    "        else:\n",
    "            return leaf.run(db)"
   ]
  },
  {
   "cell_type": "markdown",
   "metadata": {},
   "source": [
    "### Experiments"
   ]
  },
  {
   "cell_type": "code",
   "execution_count": 21,
   "metadata": {},
   "outputs": [],
   "source": [
    "def get_test_dbs(seed_db, eps, prng):\n",
    "    cols = seed_db.columns[:-1]\n",
    "    y_col = seed_db.columns[-1]\n",
    "    L = len(seed_db)\n",
    "    L = min(L, int(5000/0.7))\n",
    "    L = prng.randint(0.7*L, L)\n",
    "    new_db = seed_db.sample(L, random_state=prng).reset_index(drop=True)\n",
    "    split = int(0.7*L)\n",
    "    md = min(len(cols), 4)\n",
    "    d = DB(new_db.loc[:split, cols], new_db.loc[:split, y_col], \\\n",
    "           new_db.loc[split:, cols], new_db.loc[split:, y_col], epsilon=eps, max_depth=md)\n",
    "    return d"
   ]
  },
  {
   "cell_type": "code",
   "execution_count": 171,
   "metadata": {
    "collapsed": true,
    "scrolled": true
   },
   "outputs": [],
   "source": [
    "prng=np.random.RandomState(12345)\n",
    "def get_test(db, prng):\n",
    "    dbs = []\n",
    "    eps_vals = np.arange(0.1, 1.0, 0.3)*10\n",
    "    for i in range(0, 3):\n",
    "        for e in eps_vals:\n",
    "            dbs.append(get_test_dbs(db, e, prng))\n",
    "    return dbs\n",
    "data_train = [get_test(db, prng) for db in [nurs, default, loan, adult, lending]]"
   ]
  },
  {
   "cell_type": "code",
   "execution_count": null,
   "metadata": {
    "collapsed": true
   },
   "outputs": [
    {
     "name": "stderr",
     "output_type": "stream",
     "text": [
      "Process ForkPoolWorker-9:\n",
      "  File \"/home/jacob/anaconda3/lib/python3.6/multiprocessing/synchronize.py\", line 96, in __enter__\n",
      "    return self._semlock.__enter__()\n",
      "Process ForkPoolWorker-12:\n",
      "Process ForkPoolWorker-11:\n",
      "Process ForkPoolWorker-8:\n",
      "Process ForkPoolWorker-7:\n",
      "Process ForkPoolWorker-10:\n",
      "Traceback (most recent call last):\n",
      "Traceback (most recent call last):\n",
      "Traceback (most recent call last):\n",
      "  File \"/home/jacob/anaconda3/lib/python3.6/multiprocessing/process.py\", line 258, in _bootstrap\n",
      "    self.run()\n",
      "Traceback (most recent call last):\n",
      "  File \"/home/jacob/anaconda3/lib/python3.6/multiprocessing/process.py\", line 93, in run\n",
      "    self._target(*self._args, **self._kwargs)\n",
      "  File \"/home/jacob/anaconda3/lib/python3.6/multiprocessing/process.py\", line 258, in _bootstrap\n",
      "    self.run()\n",
      "  File \"/home/jacob/anaconda3/lib/python3.6/multiprocessing/process.py\", line 258, in _bootstrap\n",
      "    self.run()\n",
      "Traceback (most recent call last):\n",
      "Traceback (most recent call last):\n",
      "  File \"/home/jacob/anaconda3/lib/python3.6/multiprocessing/process.py\", line 258, in _bootstrap\n",
      "    self.run()\n",
      "  File \"/home/jacob/anaconda3/lib/python3.6/multiprocessing/process.py\", line 93, in run\n",
      "    self._target(*self._args, **self._kwargs)\n",
      "  File \"/home/jacob/anaconda3/lib/python3.6/multiprocessing/pool.py\", line 108, in worker\n",
      "    task = get()\n",
      "  File \"/home/jacob/anaconda3/lib/python3.6/multiprocessing/process.py\", line 258, in _bootstrap\n",
      "    self.run()\n",
      "  File \"/home/jacob/anaconda3/lib/python3.6/multiprocessing/process.py\", line 93, in run\n",
      "    self._target(*self._args, **self._kwargs)\n",
      "  File \"/home/jacob/anaconda3/lib/python3.6/multiprocessing/process.py\", line 93, in run\n",
      "    self._target(*self._args, **self._kwargs)\n",
      "  File \"/home/jacob/anaconda3/lib/python3.6/multiprocessing/process.py\", line 258, in _bootstrap\n",
      "    self.run()\n",
      "  File \"/home/jacob/anaconda3/lib/python3.6/multiprocessing/pool.py\", line 108, in worker\n",
      "    task = get()\n",
      "  File \"/home/jacob/anaconda3/lib/python3.6/multiprocessing/process.py\", line 93, in run\n",
      "    self._target(*self._args, **self._kwargs)\n",
      "  File \"/home/jacob/anaconda3/lib/python3.6/multiprocessing/queues.py\", line 334, in get\n",
      "    with self._rlock:\n",
      "  File \"/home/jacob/anaconda3/lib/python3.6/multiprocessing/pool.py\", line 108, in worker\n",
      "    task = get()\n",
      "  File \"/home/jacob/anaconda3/lib/python3.6/multiprocessing/process.py\", line 93, in run\n",
      "    self._target(*self._args, **self._kwargs)\n",
      "  File \"/home/jacob/anaconda3/lib/python3.6/multiprocessing/pool.py\", line 108, in worker\n",
      "    task = get()\n",
      "  File \"/home/jacob/anaconda3/lib/python3.6/multiprocessing/queues.py\", line 334, in get\n",
      "    with self._rlock:\n",
      "  File \"/home/jacob/anaconda3/lib/python3.6/multiprocessing/queues.py\", line 334, in get\n",
      "    with self._rlock:\n",
      "  File \"/home/jacob/anaconda3/lib/python3.6/multiprocessing/pool.py\", line 108, in worker\n",
      "    task = get()\n",
      "  File \"/home/jacob/anaconda3/lib/python3.6/multiprocessing/synchronize.py\", line 96, in __enter__\n",
      "    return self._semlock.__enter__()\n",
      "  File \"/home/jacob/anaconda3/lib/python3.6/multiprocessing/queues.py\", line 334, in get\n",
      "    with self._rlock:\n",
      "  File \"/home/jacob/anaconda3/lib/python3.6/multiprocessing/synchronize.py\", line 96, in __enter__\n",
      "    return self._semlock.__enter__()\n",
      "  File \"/home/jacob/anaconda3/lib/python3.6/multiprocessing/synchronize.py\", line 96, in __enter__\n",
      "    return self._semlock.__enter__()\n",
      "  File \"/home/jacob/anaconda3/lib/python3.6/multiprocessing/queues.py\", line 334, in get\n",
      "    with self._rlock:\n",
      "KeyboardInterrupt\n",
      "KeyboardInterrupt\n",
      "  File \"/home/jacob/anaconda3/lib/python3.6/multiprocessing/pool.py\", line 108, in worker\n",
      "    task = get()\n",
      "  File \"/home/jacob/anaconda3/lib/python3.6/multiprocessing/synchronize.py\", line 96, in __enter__\n",
      "    return self._semlock.__enter__()\n",
      "KeyboardInterrupt\n",
      "KeyboardInterrupt\n",
      "  File \"/home/jacob/anaconda3/lib/python3.6/multiprocessing/queues.py\", line 335, in get\n",
      "    res = self._reader.recv_bytes()\n",
      "  File \"/home/jacob/anaconda3/lib/python3.6/multiprocessing/connection.py\", line 216, in recv_bytes\n",
      "    buf = self._recv_bytes(maxlength)\n",
      "  File \"/home/jacob/anaconda3/lib/python3.6/multiprocessing/connection.py\", line 407, in _recv_bytes\n",
      "    buf = self._recv(4)\n",
      "  File \"/home/jacob/anaconda3/lib/python3.6/multiprocessing/connection.py\", line 379, in _recv\n",
      "    chunk = read(handle, remaining)\n",
      "KeyboardInterrupt\n",
      "KeyboardInterrupt\n"
     ]
    }
   ],
   "source": [
    "def get_cm(db):\n",
    "    eps_vals = np.arange(0.1, 1.0, 0.1)\n",
    "    info = [get_train_dbs(db, x, prng) for x in eps_vals]\n",
    "    print(len(info))\n",
    "    regrets, X, datas = zip(*info)\n",
    "    regrets = pd.concat([pd.DataFrame(r) for r in regrets], ignore_index=True)\n",
    "    X = pd.concat([pd.DataFrame(r) for r in X], ignore_index=True)\n",
    "    return (DTChoice(X, DBMetas(), tree_algs, regrets=regrets), datas)\n",
    "\n",
    "from multiprocessing import Pool\n",
    "p = Pool(6)\n",
    "out = p.map(get_cm, [nurs, default, loan, adult, lending])"
   ]
  },
  {
   "cell_type": "code",
   "execution_count": 40,
   "metadata": {
    "collapsed": true
   },
   "outputs": [],
   "source": [
    "def combine_cms(cms, C=0, msl=1):\n",
    "    Xs = pd.concat([cm.X for cm in cms], ignore_index=True)\n",
    "    regs = pd.concat([cm.regrets for cm in cms], ignore_index=True)\n",
    "    dt = DTChoice(Xs, DBMetas(), tree_algs, regrets=regs, C=0)\n",
    "    dt.model = DecisionTreeClassifier(min_samples_leaf=msl, max_depth=3)\n",
    "    dt.retrain_model()\n",
    "    return dt"
   ]
  },
  {
   "cell_type": "code",
   "execution_count": 167,
   "metadata": {
    "collapsed": true
   },
   "outputs": [],
   "source": [
    "def get_results(dbs, cm, cm2):\n",
    "    dt = PDTree()\n",
    "    budgets = [x.epsilon for x in dbs]\n",
    "    L = []\n",
    "    for t in dbs:\n",
    "        print('Start1')\n",
    "        L.append( dt.fit_and_predict(t, null_cm()) )\n",
    "    for i in range(len(dbs)):\n",
    "        dbs[i].epsilon = budgets[i]\n",
    "    L2 = []\n",
    "    for t in dbs:\n",
    "        print('Start2')\n",
    "        L2.append(dt.fit_and_predict(t, cm))\n",
    "    for i in range(len(dbs)):\n",
    "        dbs[i].epsilon = budgets[i]\n",
    "    L3 = []\n",
    "    for t in dbs:\n",
    "        print('Start3')\n",
    "        L3.append(dt.fit_and_predict(t, cm2))\n",
    "    for i in range(len(dbs)):\n",
    "        dbs[i].epsilon = budgets[i]\n",
    "    M = np.array([(L[i] == dbs[i].y_test).sum() / len(dbs[i].y_test) for i in range(len(dbs))])\n",
    "    M2 = np.array([(L2[i] == dbs[i].y_test).sum() / len(dbs[i].y_test) for i in range(len(dbs))])\n",
    "    M3 = np.array([(L3[i] == dbs[i].y_test).sum() / len(dbs[i].y_test) for i in range(len(dbs))])\n",
    "    return (M, M2, M3)"
   ]
  },
  {
   "cell_type": "code",
   "execution_count": 168,
   "metadata": {},
   "outputs": [],
   "source": [
    "out = pickle.load(open('DTree/cms.pkl', 'rb'))\n",
    "for O in out:\n",
    "    O.X = O.X[list( DBMetas().sensitivities.keys() )]"
   ]
  },
  {
   "cell_type": "code",
   "execution_count": 169,
   "metadata": {},
   "outputs": [],
   "source": [
    "pickle.dump(out, open('DTree/cms.pkl', 'wb'))"
   ]
  },
  {
   "cell_type": "markdown",
   "metadata": {},
   "source": [
    "### Experiment 0"
   ]
  },
  {
   "cell_type": "code",
   "execution_count": 222,
   "metadata": {
    "collapsed": true
   },
   "outputs": [],
   "source": [
    "big_cm0 = combine_cms(out[1:])"
   ]
  },
  {
   "cell_type": "code",
   "execution_count": 244,
   "metadata": {
    "collapsed": true
   },
   "outputs": [],
   "source": [
    "big_cm0.model = DecisionTreeClassifier(min_samples_leaf=10, max_depth=2)\n",
    "big_cm0.retrain_model()"
   ]
  },
  {
   "cell_type": "code",
   "execution_count": 245,
   "metadata": {},
   "outputs": [
    {
     "data": {
      "image/svg+xml": [
       "<?xml version=\"1.0\" encoding=\"UTF-8\" standalone=\"no\"?>\n",
       "<!DOCTYPE svg PUBLIC \"-//W3C//DTD SVG 1.1//EN\"\n",
       " \"http://www.w3.org/Graphics/SVG/1.1/DTD/svg11.dtd\">\n",
       "<!-- Generated by graphviz version 2.40.1 (20161225.0304)\n",
       " -->\n",
       "<!-- Title: Tree Pages: 1 -->\n",
       "<svg width=\"644pt\" height=\"269pt\"\n",
       " viewBox=\"0.00 0.00 643.50 269.00\" xmlns=\"http://www.w3.org/2000/svg\" xmlns:xlink=\"http://www.w3.org/1999/xlink\">\n",
       "<g id=\"graph0\" class=\"graph\" transform=\"scale(1 1) rotate(0) translate(4 265)\">\n",
       "<title>Tree</title>\n",
       "<polygon fill=\"#ffffff\" stroke=\"transparent\" points=\"-4,4 -4,-265 639.5,-265 639.5,4 -4,4\"/>\n",
       "<!-- 0 -->\n",
       "<g id=\"node1\" class=\"node\">\n",
       "<title>0</title>\n",
       "<path fill=\"transparent\" stroke=\"#000000\" d=\"M382,-261C382,-261 259,-261 259,-261 253,-261 247,-255 247,-249 247,-249 247,-205 247,-205 247,-199 253,-193 259,-193 259,-193 382,-193 382,-193 388,-193 394,-199 394,-205 394,-205 394,-249 394,-249 394,-255 388,-261 382,-261\"/>\n",
       "<text text-anchor=\"middle\" x=\"320.5\" y=\"-245.8\" font-family=\"Helvetica,sans-Serif\" font-size=\"14.00\" fill=\"#000000\">X[40] &lt;= &#45;9.223</text>\n",
       "<text text-anchor=\"middle\" x=\"320.5\" y=\"-230.8\" font-family=\"Helvetica,sans-Serif\" font-size=\"14.00\" fill=\"#000000\">gini = 0.242</text>\n",
       "<text text-anchor=\"middle\" x=\"320.5\" y=\"-215.8\" font-family=\"Helvetica,sans-Serif\" font-size=\"14.00\" fill=\"#000000\">samples = 18432</text>\n",
       "<text text-anchor=\"middle\" x=\"320.5\" y=\"-200.8\" font-family=\"Helvetica,sans-Serif\" font-size=\"14.00\" fill=\"#000000\">value = [0.758, 0.728]</text>\n",
       "</g>\n",
       "<!-- 1 -->\n",
       "<g id=\"node2\" class=\"node\">\n",
       "<title>1</title>\n",
       "<path fill=\"transparent\" stroke=\"#000000\" d=\"M300,-157C300,-157 177,-157 177,-157 171,-157 165,-151 165,-145 165,-145 165,-101 165,-101 165,-95 171,-89 177,-89 177,-89 300,-89 300,-89 306,-89 312,-95 312,-101 312,-101 312,-145 312,-145 312,-151 306,-157 300,-157\"/>\n",
       "<text text-anchor=\"middle\" x=\"238.5\" y=\"-141.8\" font-family=\"Helvetica,sans-Serif\" font-size=\"14.00\" fill=\"#000000\">X[774] &lt;= &#45;1.378</text>\n",
       "<text text-anchor=\"middle\" x=\"238.5\" y=\"-126.8\" font-family=\"Helvetica,sans-Serif\" font-size=\"14.00\" fill=\"#000000\">gini = 0.176</text>\n",
       "<text text-anchor=\"middle\" x=\"238.5\" y=\"-111.8\" font-family=\"Helvetica,sans-Serif\" font-size=\"14.00\" fill=\"#000000\">samples = 2198</text>\n",
       "<text text-anchor=\"middle\" x=\"238.5\" y=\"-96.8\" font-family=\"Helvetica,sans-Serif\" font-size=\"14.00\" fill=\"#000000\">value = [0.799, 0.824]</text>\n",
       "</g>\n",
       "<!-- 0&#45;&gt;1 -->\n",
       "<g id=\"edge1\" class=\"edge\">\n",
       "<title>0&#45;&gt;1</title>\n",
       "<path fill=\"none\" stroke=\"#000000\" d=\"M293.6501,-192.9465C286.6417,-184.0578 279.0045,-174.3716 271.709,-165.1188\"/>\n",
       "<polygon fill=\"#000000\" stroke=\"#000000\" points=\"274.3502,-162.8157 265.4102,-157.13 268.8533,-167.1498 274.3502,-162.8157\"/>\n",
       "<text text-anchor=\"middle\" x=\"262.4737\" y=\"-178.2569\" font-family=\"Helvetica,sans-Serif\" font-size=\"14.00\" fill=\"#000000\">True</text>\n",
       "</g>\n",
       "<!-- 4 -->\n",
       "<g id=\"node5\" class=\"node\">\n",
       "<title>4</title>\n",
       "<path fill=\"transparent\" stroke=\"#000000\" d=\"M465,-157C465,-157 342,-157 342,-157 336,-157 330,-151 330,-145 330,-145 330,-101 330,-101 330,-95 336,-89 342,-89 342,-89 465,-89 465,-89 471,-89 477,-95 477,-101 477,-101 477,-145 477,-145 477,-151 471,-157 465,-157\"/>\n",
       "<text text-anchor=\"middle\" x=\"403.5\" y=\"-141.8\" font-family=\"Helvetica,sans-Serif\" font-size=\"14.00\" fill=\"#000000\">X[495] &lt;= 1.123</text>\n",
       "<text text-anchor=\"middle\" x=\"403.5\" y=\"-126.8\" font-family=\"Helvetica,sans-Serif\" font-size=\"14.00\" fill=\"#000000\">gini = 0.248</text>\n",
       "<text text-anchor=\"middle\" x=\"403.5\" y=\"-111.8\" font-family=\"Helvetica,sans-Serif\" font-size=\"14.00\" fill=\"#000000\">samples = 16234</text>\n",
       "<text text-anchor=\"middle\" x=\"403.5\" y=\"-96.8\" font-family=\"Helvetica,sans-Serif\" font-size=\"14.00\" fill=\"#000000\">value = [0.752, 0.715]</text>\n",
       "</g>\n",
       "<!-- 0&#45;&gt;4 -->\n",
       "<g id=\"edge4\" class=\"edge\">\n",
       "<title>0&#45;&gt;4</title>\n",
       "<path fill=\"none\" stroke=\"#000000\" d=\"M347.6773,-192.9465C354.7712,-184.0578 362.5015,-174.3716 369.886,-165.1188\"/>\n",
       "<polygon fill=\"#000000\" stroke=\"#000000\" points=\"372.7594,-167.1293 376.2616,-157.13 367.2882,-162.7628 372.7594,-167.1293\"/>\n",
       "<text text-anchor=\"middle\" x=\"379.0516\" y=\"-178.2738\" font-family=\"Helvetica,sans-Serif\" font-size=\"14.00\" fill=\"#000000\">False</text>\n",
       "</g>\n",
       "<!-- 2 -->\n",
       "<g id=\"node3\" class=\"node\">\n",
       "<title>2</title>\n",
       "<path fill=\"transparent\" stroke=\"#000000\" d=\"M135,-53C135,-53 12,-53 12,-53 6,-53 0,-47 0,-41 0,-41 0,-12 0,-12 0,-6 6,0 12,0 12,0 135,0 135,0 141,0 147,-6 147,-12 147,-12 147,-41 147,-41 147,-47 141,-53 135,-53\"/>\n",
       "<text text-anchor=\"middle\" x=\"73.5\" y=\"-37.8\" font-family=\"Helvetica,sans-Serif\" font-size=\"14.00\" fill=\"#000000\">gini = 0.184</text>\n",
       "<text text-anchor=\"middle\" x=\"73.5\" y=\"-22.8\" font-family=\"Helvetica,sans-Serif\" font-size=\"14.00\" fill=\"#000000\">samples = 1987</text>\n",
       "<text text-anchor=\"middle\" x=\"73.5\" y=\"-7.8\" font-family=\"Helvetica,sans-Serif\" font-size=\"14.00\" fill=\"#000000\">value = [0.789, 0.816]</text>\n",
       "</g>\n",
       "<!-- 1&#45;&gt;2 -->\n",
       "<g id=\"edge2\" class=\"edge\">\n",
       "<title>1&#45;&gt;2</title>\n",
       "<path fill=\"none\" stroke=\"#000000\" d=\"M180.3272,-88.9777C163.182,-78.9504 144.4975,-68.0228 127.618,-58.1508\"/>\n",
       "<polygon fill=\"#000000\" stroke=\"#000000\" points=\"129.3724,-55.1223 118.9734,-53.095 125.8385,-61.1648 129.3724,-55.1223\"/>\n",
       "</g>\n",
       "<!-- 3 -->\n",
       "<g id=\"node4\" class=\"node\">\n",
       "<title>3</title>\n",
       "<path fill=\"transparent\" stroke=\"#000000\" d=\"M300,-53C300,-53 177,-53 177,-53 171,-53 165,-47 165,-41 165,-41 165,-12 165,-12 165,-6 171,0 177,0 177,0 300,0 300,0 306,0 312,-6 312,-12 312,-12 312,-41 312,-41 312,-47 306,-53 300,-53\"/>\n",
       "<text text-anchor=\"middle\" x=\"238.5\" y=\"-37.8\" font-family=\"Helvetica,sans-Serif\" font-size=\"14.00\" fill=\"#000000\">gini = 0.099</text>\n",
       "<text text-anchor=\"middle\" x=\"238.5\" y=\"-22.8\" font-family=\"Helvetica,sans-Serif\" font-size=\"14.00\" fill=\"#000000\">samples = 211</text>\n",
       "<text text-anchor=\"middle\" x=\"238.5\" y=\"-7.8\" font-family=\"Helvetica,sans-Serif\" font-size=\"14.00\" fill=\"#000000\">value = [0.901, 0.898]</text>\n",
       "</g>\n",
       "<!-- 1&#45;&gt;3 -->\n",
       "<g id=\"edge3\" class=\"edge\">\n",
       "<title>1&#45;&gt;3</title>\n",
       "<path fill=\"none\" stroke=\"#000000\" d=\"M238.5,-88.9777C238.5,-80.7364 238.5,-71.887 238.5,-63.5153\"/>\n",
       "<polygon fill=\"#000000\" stroke=\"#000000\" points=\"242.0001,-63.2484 238.5,-53.2485 235.0001,-63.2485 242.0001,-63.2484\"/>\n",
       "</g>\n",
       "<!-- 5 -->\n",
       "<g id=\"node6\" class=\"node\">\n",
       "<title>5</title>\n",
       "<path fill=\"transparent\" stroke=\"#000000\" d=\"M465,-53C465,-53 342,-53 342,-53 336,-53 330,-47 330,-41 330,-41 330,-12 330,-12 330,-6 336,0 342,0 342,0 465,0 465,0 471,0 477,-6 477,-12 477,-12 477,-41 477,-41 477,-47 471,-53 465,-53\"/>\n",
       "<text text-anchor=\"middle\" x=\"403.5\" y=\"-37.8\" font-family=\"Helvetica,sans-Serif\" font-size=\"14.00\" fill=\"#000000\">gini = 0.251</text>\n",
       "<text text-anchor=\"middle\" x=\"403.5\" y=\"-22.8\" font-family=\"Helvetica,sans-Serif\" font-size=\"14.00\" fill=\"#000000\">samples = 15492</text>\n",
       "<text text-anchor=\"middle\" x=\"403.5\" y=\"-7.8\" font-family=\"Helvetica,sans-Serif\" font-size=\"14.00\" fill=\"#000000\">value = [0.749, 0.709]</text>\n",
       "</g>\n",
       "<!-- 4&#45;&gt;5 -->\n",
       "<g id=\"edge5\" class=\"edge\">\n",
       "<title>4&#45;&gt;5</title>\n",
       "<path fill=\"none\" stroke=\"#000000\" d=\"M403.5,-88.9777C403.5,-80.7364 403.5,-71.887 403.5,-63.5153\"/>\n",
       "<polygon fill=\"#000000\" stroke=\"#000000\" points=\"407.0001,-63.2484 403.5,-53.2485 400.0001,-63.2485 407.0001,-63.2484\"/>\n",
       "</g>\n",
       "<!-- 6 -->\n",
       "<g id=\"node7\" class=\"node\">\n",
       "<title>6</title>\n",
       "<path fill=\"transparent\" stroke=\"#000000\" d=\"M623.5,-53C623.5,-53 507.5,-53 507.5,-53 501.5,-53 495.5,-47 495.5,-41 495.5,-41 495.5,-12 495.5,-12 495.5,-6 501.5,0 507.5,0 507.5,0 623.5,0 623.5,0 629.5,0 635.5,-6 635.5,-12 635.5,-12 635.5,-41 635.5,-41 635.5,-47 629.5,-53 623.5,-53\"/>\n",
       "<text text-anchor=\"middle\" x=\"565.5\" y=\"-37.8\" font-family=\"Helvetica,sans-Serif\" font-size=\"14.00\" fill=\"#000000\">gini = 0.17</text>\n",
       "<text text-anchor=\"middle\" x=\"565.5\" y=\"-22.8\" font-family=\"Helvetica,sans-Serif\" font-size=\"14.00\" fill=\"#000000\">samples = 742</text>\n",
       "<text text-anchor=\"middle\" x=\"565.5\" y=\"-7.8\" font-family=\"Helvetica,sans-Serif\" font-size=\"14.00\" fill=\"#000000\">value = [0.816, 0.83]</text>\n",
       "</g>\n",
       "<!-- 4&#45;&gt;6 -->\n",
       "<g id=\"edge6\" class=\"edge\">\n",
       "<title>4&#45;&gt;6</title>\n",
       "<path fill=\"none\" stroke=\"#000000\" d=\"M460.6151,-88.9777C477.2941,-79.0424 495.4569,-68.2232 511.9094,-58.4228\"/>\n",
       "<polygon fill=\"#000000\" stroke=\"#000000\" points=\"514.0533,-61.2197 520.8534,-53.095 510.471,-55.2058 514.0533,-61.2197\"/>\n",
       "</g>\n",
       "</g>\n",
       "</svg>\n"
      ],
      "text/plain": [
       "<graphviz.files.Source at 0x7f8bed1f6438>"
      ]
     },
     "execution_count": 245,
     "metadata": {},
     "output_type": "execute_result"
    }
   ],
   "source": [
    "dot_data = export_graphviz(big_cm0.model, out_file = None, filled=True, rounded=True)\n",
    "graph = graphviz.Source(dot_data)\n",
    "graph"
   ]
  },
  {
   "cell_type": "code",
   "execution_count": 237,
   "metadata": {},
   "outputs": [
    {
     "data": {
      "text/plain": [
       "[-1, -1, -1, 0, -1, 1, -1]"
      ]
     },
     "execution_count": 237,
     "metadata": {},
     "output_type": "execute_result"
    }
   ],
   "source": [
    "coefs = big_cm0.trans[40-7].coefs\n",
    "coefs"
   ]
  },
  {
   "cell_type": "code",
   "execution_count": 238,
   "metadata": {
    "collapsed": true
   },
   "outputs": [],
   "source": [
    "test_cm0 = CoefCM(tree_algs, coefs, -9.223)"
   ]
  },
  {
   "cell_type": "code",
   "execution_count": 246,
   "metadata": {},
   "outputs": [
    {
     "name": "stdout",
     "output_type": "stream",
     "text": [
      "Start1\n",
      "Start1\n",
      "Start1\n",
      "Start1\n",
      "Start1\n",
      "Start1\n",
      "Start1\n",
      "Start1\n",
      "Start1\n",
      "Start2\n",
      "Start2\n",
      "Start2\n",
      "Start2\n",
      "Start2\n",
      "Start2\n",
      "Start2\n",
      "Start2\n",
      "Start2\n",
      "Start3\n",
      "Start3\n",
      "Start3\n",
      "Start3\n",
      "Start3\n",
      "Start3\n",
      "Start3\n",
      "Start3\n",
      "Start3\n"
     ]
    }
   ],
   "source": [
    "nurs1, nurs2, nurs3 = get_results(data_train[0], big_cm0, fried_cm)"
   ]
  },
  {
   "cell_type": "code",
   "execution_count": 247,
   "metadata": {},
   "outputs": [
    {
     "data": {
      "text/plain": [
       "(0.59406171475651881, 0.32732027501026695, 0.42018223519714648)"
      ]
     },
     "execution_count": 247,
     "metadata": {},
     "output_type": "execute_result"
    }
   ],
   "source": [
    "(nurs1.mean(), nurs2.mean(), nurs3.mean())"
   ]
  },
  {
   "cell_type": "markdown",
   "metadata": {},
   "source": [
    "### Experiment 1"
   ]
  },
  {
   "cell_type": "code",
   "execution_count": 173,
   "metadata": {},
   "outputs": [],
   "source": [
    "big_cm = combine_cms(out[:1] + out[2:])"
   ]
  },
  {
   "cell_type": "code",
   "execution_count": 174,
   "metadata": {
    "collapsed": true
   },
   "outputs": [],
   "source": [
    "big_cm.model = DecisionTreeClassifier(min_samples_leaf=10, max_depth=1)\n",
    "big_cm.retrain_model()"
   ]
  },
  {
   "cell_type": "code",
   "execution_count": 175,
   "metadata": {},
   "outputs": [
    {
     "data": {
      "image/svg+xml": [
       "<?xml version=\"1.0\" encoding=\"UTF-8\" standalone=\"no\"?>\n",
       "<!DOCTYPE svg PUBLIC \"-//W3C//DTD SVG 1.1//EN\"\n",
       " \"http://www.w3.org/Graphics/SVG/1.1/DTD/svg11.dtd\">\n",
       "<!-- Generated by graphviz version 2.40.1 (20161225.0304)\n",
       " -->\n",
       "<!-- Title: Tree Pages: 1 -->\n",
       "<svg width=\"320pt\" height=\"165pt\"\n",
       " viewBox=\"0.00 0.00 320.00 165.00\" xmlns=\"http://www.w3.org/2000/svg\" xmlns:xlink=\"http://www.w3.org/1999/xlink\">\n",
       "<g id=\"graph0\" class=\"graph\" transform=\"scale(1 1) rotate(0) translate(4 161)\">\n",
       "<title>Tree</title>\n",
       "<polygon fill=\"#ffffff\" stroke=\"transparent\" points=\"-4,4 -4,-161 316,-161 316,4 -4,4\"/>\n",
       "<!-- 0 -->\n",
       "<g id=\"node1\" class=\"node\">\n",
       "<title>0</title>\n",
       "<path fill=\"transparent\" stroke=\"#000000\" d=\"M217,-157C217,-157 94,-157 94,-157 88,-157 82,-151 82,-145 82,-145 82,-101 82,-101 82,-95 88,-89 94,-89 94,-89 217,-89 217,-89 223,-89 229,-95 229,-101 229,-101 229,-145 229,-145 229,-151 223,-157 217,-157\"/>\n",
       "<text text-anchor=\"middle\" x=\"155.5\" y=\"-141.8\" font-family=\"Helvetica,sans-Serif\" font-size=\"14.00\" fill=\"#000000\">X[447] &lt;= &#45;2.388</text>\n",
       "<text text-anchor=\"middle\" x=\"155.5\" y=\"-126.8\" font-family=\"Helvetica,sans-Serif\" font-size=\"14.00\" fill=\"#000000\">gini = 0.278</text>\n",
       "<text text-anchor=\"middle\" x=\"155.5\" y=\"-111.8\" font-family=\"Helvetica,sans-Serif\" font-size=\"14.00\" fill=\"#000000\">samples = 18432</text>\n",
       "<text text-anchor=\"middle\" x=\"155.5\" y=\"-96.8\" font-family=\"Helvetica,sans-Serif\" font-size=\"14.00\" fill=\"#000000\">value = [0.722, 0.719]</text>\n",
       "</g>\n",
       "<!-- 1 -->\n",
       "<g id=\"node2\" class=\"node\">\n",
       "<title>1</title>\n",
       "<path fill=\"transparent\" stroke=\"#000000\" d=\"M135,-53C135,-53 12,-53 12,-53 6,-53 0,-47 0,-41 0,-41 0,-12 0,-12 0,-6 6,0 12,0 12,0 135,0 135,0 141,0 147,-6 147,-12 147,-12 147,-41 147,-41 147,-47 141,-53 135,-53\"/>\n",
       "<text text-anchor=\"middle\" x=\"73.5\" y=\"-37.8\" font-family=\"Helvetica,sans-Serif\" font-size=\"14.00\" fill=\"#000000\">gini = 0.234</text>\n",
       "<text text-anchor=\"middle\" x=\"73.5\" y=\"-22.8\" font-family=\"Helvetica,sans-Serif\" font-size=\"14.00\" fill=\"#000000\">samples = 4521</text>\n",
       "<text text-anchor=\"middle\" x=\"73.5\" y=\"-7.8\" font-family=\"Helvetica,sans-Serif\" font-size=\"14.00\" fill=\"#000000\">value = [0.648, 0.766]</text>\n",
       "</g>\n",
       "<!-- 0&#45;&gt;1 -->\n",
       "<g id=\"edge1\" class=\"edge\">\n",
       "<title>0&#45;&gt;1</title>\n",
       "<path fill=\"none\" stroke=\"#000000\" d=\"M126.5899,-88.9777C118.8866,-79.9123 110.5581,-70.111 102.8324,-61.0192\"/>\n",
       "<polygon fill=\"#000000\" stroke=\"#000000\" points=\"105.3718,-58.6025 96.2293,-53.2485 100.0375,-63.1352 105.3718,-58.6025\"/>\n",
       "<text text-anchor=\"middle\" x=\"94.2051\" y=\"-74.4664\" font-family=\"Helvetica,sans-Serif\" font-size=\"14.00\" fill=\"#000000\">True</text>\n",
       "</g>\n",
       "<!-- 2 -->\n",
       "<g id=\"node3\" class=\"node\">\n",
       "<title>2</title>\n",
       "<path fill=\"transparent\" stroke=\"#000000\" d=\"M300,-53C300,-53 177,-53 177,-53 171,-53 165,-47 165,-41 165,-41 165,-12 165,-12 165,-6 171,0 177,0 177,0 300,0 300,0 306,0 312,-6 312,-12 312,-12 312,-41 312,-41 312,-47 306,-53 300,-53\"/>\n",
       "<text text-anchor=\"middle\" x=\"238.5\" y=\"-37.8\" font-family=\"Helvetica,sans-Serif\" font-size=\"14.00\" fill=\"#000000\">gini = 0.254</text>\n",
       "<text text-anchor=\"middle\" x=\"238.5\" y=\"-22.8\" font-family=\"Helvetica,sans-Serif\" font-size=\"14.00\" fill=\"#000000\">samples = 13911</text>\n",
       "<text text-anchor=\"middle\" x=\"238.5\" y=\"-7.8\" font-family=\"Helvetica,sans-Serif\" font-size=\"14.00\" fill=\"#000000\">value = [0.746, 0.704]</text>\n",
       "</g>\n",
       "<!-- 0&#45;&gt;2 -->\n",
       "<g id=\"edge2\" class=\"edge\">\n",
       "<title>0&#45;&gt;2</title>\n",
       "<path fill=\"none\" stroke=\"#000000\" d=\"M184.7627,-88.9777C192.5599,-79.9123 200.99,-70.111 208.8099,-61.0192\"/>\n",
       "<polygon fill=\"#000000\" stroke=\"#000000\" points=\"211.6262,-63.1123 215.4935,-53.2485 206.3191,-58.5477 211.6262,-63.1123\"/>\n",
       "<text text-anchor=\"middle\" x=\"217.3685\" y=\"-74.4781\" font-family=\"Helvetica,sans-Serif\" font-size=\"14.00\" fill=\"#000000\">False</text>\n",
       "</g>\n",
       "</g>\n",
       "</svg>\n"
      ],
      "text/plain": [
       "<graphviz.files.Source at 0x7f8bf5db8f98>"
      ]
     },
     "execution_count": 175,
     "metadata": {},
     "output_type": "execute_result"
    }
   ],
   "source": [
    "dot_data = export_graphviz(big_cm.model, out_file = None, filled=True, rounded=True)\n",
    "graph = graphviz.Source(dot_data)\n",
    "graph"
   ]
  },
  {
   "cell_type": "code",
   "execution_count": 179,
   "metadata": {},
   "outputs": [
    {
     "data": {
      "text/plain": [
       "[-1, 0, 1, 0, -1, 1, 1]"
      ]
     },
     "execution_count": 179,
     "metadata": {},
     "output_type": "execute_result"
    }
   ],
   "source": [
    "coefs0 = big_cm.trans[447-7].coefs\n",
    "coefs0"
   ]
  },
  {
   "cell_type": "code",
   "execution_count": 180,
   "metadata": {},
   "outputs": [],
   "source": [
    "test_cm1 = CoefCM(tree_algs, coefs0, -2.388)"
   ]
  },
  {
   "cell_type": "code",
   "execution_count": 181,
   "metadata": {},
   "outputs": [
    {
     "name": "stdout",
     "output_type": "stream",
     "text": [
      "Start1\n",
      "Start1\n",
      "Start1\n",
      "Start1\n",
      "Start1\n",
      "Start1\n",
      "Start1\n",
      "Start1\n",
      "Start1\n",
      "Start2\n",
      "Start2\n",
      "Start2\n",
      "Start2\n",
      "Start2\n",
      "Start2\n",
      "Start2\n",
      "Start2\n",
      "Start2\n",
      "Start3\n",
      "Start3\n",
      "Start3\n",
      "Start3\n",
      "Start3\n",
      "Start3\n",
      "Start3\n",
      "Start3\n",
      "Start3\n"
     ]
    }
   ],
   "source": [
    "defaults1, defaults2, defaults3 = get_results(data_train[1], test_cm1, fried_cm)"
   ]
  },
  {
   "cell_type": "code",
   "execution_count": 182,
   "metadata": {},
   "outputs": [
    {
     "data": {
      "text/plain": [
       "(0.64388076957089735, 0.77747889855294039, 0.65413755040832311)"
      ]
     },
     "execution_count": 182,
     "metadata": {},
     "output_type": "execute_result"
    }
   ],
   "source": [
    "(defaults1.mean(), defaults2.mean(), defaults3.mean())"
   ]
  },
  {
   "cell_type": "markdown",
   "metadata": {},
   "source": [
    "### Experiment 2"
   ]
  },
  {
   "cell_type": "code",
   "execution_count": 183,
   "metadata": {
    "collapsed": true
   },
   "outputs": [],
   "source": [
    "big_cm2 = combine_cms(out[:2] + out[3:])"
   ]
  },
  {
   "cell_type": "code",
   "execution_count": 78,
   "metadata": {
    "collapsed": true
   },
   "outputs": [],
   "source": [
    "big_cm2.model = DecisionTreeClassifier(min_samples_leaf=10, max_depth=1)\n",
    "big_cm2.retrain_model()"
   ]
  },
  {
   "cell_type": "code",
   "execution_count": 79,
   "metadata": {},
   "outputs": [
    {
     "data": {
      "image/svg+xml": [
       "<?xml version=\"1.0\" encoding=\"UTF-8\" standalone=\"no\"?>\n",
       "<!DOCTYPE svg PUBLIC \"-//W3C//DTD SVG 1.1//EN\"\n",
       " \"http://www.w3.org/Graphics/SVG/1.1/DTD/svg11.dtd\">\n",
       "<!-- Generated by graphviz version 2.40.1 (20161225.0304)\n",
       " -->\n",
       "<!-- Title: Tree Pages: 1 -->\n",
       "<svg width=\"314pt\" height=\"165pt\"\n",
       " viewBox=\"0.00 0.00 313.50 165.00\" xmlns=\"http://www.w3.org/2000/svg\" xmlns:xlink=\"http://www.w3.org/1999/xlink\">\n",
       "<g id=\"graph0\" class=\"graph\" transform=\"scale(1 1) rotate(0) translate(4 161)\">\n",
       "<title>Tree</title>\n",
       "<polygon fill=\"#ffffff\" stroke=\"transparent\" points=\"-4,4 -4,-161 309.5,-161 309.5,4 -4,4\"/>\n",
       "<!-- 0 -->\n",
       "<g id=\"node1\" class=\"node\">\n",
       "<title>0</title>\n",
       "<path fill=\"transparent\" stroke=\"#000000\" d=\"M216,-157C216,-157 93,-157 93,-157 87,-157 81,-151 81,-145 81,-145 81,-101 81,-101 81,-95 87,-89 93,-89 93,-89 216,-89 216,-89 222,-89 228,-95 228,-101 228,-101 228,-145 228,-145 228,-151 222,-157 216,-157\"/>\n",
       "<text text-anchor=\"middle\" x=\"154.5\" y=\"-141.8\" font-family=\"Helvetica,sans-Serif\" font-size=\"14.00\" fill=\"#000000\">X[545] &lt;= 0.484</text>\n",
       "<text text-anchor=\"middle\" x=\"154.5\" y=\"-126.8\" font-family=\"Helvetica,sans-Serif\" font-size=\"14.00\" fill=\"#000000\">gini = 0.292</text>\n",
       "<text text-anchor=\"middle\" x=\"154.5\" y=\"-111.8\" font-family=\"Helvetica,sans-Serif\" font-size=\"14.00\" fill=\"#000000\">samples = 18432</text>\n",
       "<text text-anchor=\"middle\" x=\"154.5\" y=\"-96.8\" font-family=\"Helvetica,sans-Serif\" font-size=\"14.00\" fill=\"#000000\">value = [0.705, 0.708]</text>\n",
       "</g>\n",
       "<!-- 1 -->\n",
       "<g id=\"node2\" class=\"node\">\n",
       "<title>1</title>\n",
       "<path fill=\"transparent\" stroke=\"#000000\" d=\"M135,-53C135,-53 12,-53 12,-53 6,-53 0,-47 0,-41 0,-41 0,-12 0,-12 0,-6 6,0 12,0 12,0 135,0 135,0 141,0 147,-6 147,-12 147,-12 147,-41 147,-41 147,-47 141,-53 135,-53\"/>\n",
       "<text text-anchor=\"middle\" x=\"73.5\" y=\"-37.8\" font-family=\"Helvetica,sans-Serif\" font-size=\"14.00\" fill=\"#000000\">gini = 0.229</text>\n",
       "<text text-anchor=\"middle\" x=\"73.5\" y=\"-22.8\" font-family=\"Helvetica,sans-Serif\" font-size=\"14.00\" fill=\"#000000\">samples = 5548</text>\n",
       "<text text-anchor=\"middle\" x=\"73.5\" y=\"-7.8\" font-family=\"Helvetica,sans-Serif\" font-size=\"14.00\" fill=\"#000000\">value = [0.671, 0.771]</text>\n",
       "</g>\n",
       "<!-- 0&#45;&gt;1 -->\n",
       "<g id=\"edge1\" class=\"edge\">\n",
       "<title>0&#45;&gt;1</title>\n",
       "<path fill=\"none\" stroke=\"#000000\" d=\"M125.9424,-88.9777C118.3331,-79.9123 110.1061,-70.111 102.4747,-61.0192\"/>\n",
       "<polygon fill=\"#000000\" stroke=\"#000000\" points=\"105.062,-58.6577 95.9521,-53.2485 99.7005,-63.1581 105.062,-58.6577\"/>\n",
       "<text text-anchor=\"middle\" x=\"93.7773\" y=\"-74.4537\" font-family=\"Helvetica,sans-Serif\" font-size=\"14.00\" fill=\"#000000\">True</text>\n",
       "</g>\n",
       "<!-- 2 -->\n",
       "<g id=\"node3\" class=\"node\">\n",
       "<title>2</title>\n",
       "<path fill=\"transparent\" stroke=\"#000000\" d=\"M293.5,-53C293.5,-53 177.5,-53 177.5,-53 171.5,-53 165.5,-47 165.5,-41 165.5,-41 165.5,-12 165.5,-12 165.5,-6 171.5,0 177.5,0 177.5,0 293.5,0 293.5,0 299.5,0 305.5,-6 305.5,-12 305.5,-12 305.5,-41 305.5,-41 305.5,-47 299.5,-53 293.5,-53\"/>\n",
       "<text text-anchor=\"middle\" x=\"235.5\" y=\"-37.8\" font-family=\"Helvetica,sans-Serif\" font-size=\"14.00\" fill=\"#000000\">gini = 0.28</text>\n",
       "<text text-anchor=\"middle\" x=\"235.5\" y=\"-22.8\" font-family=\"Helvetica,sans-Serif\" font-size=\"14.00\" fill=\"#000000\">samples = 12884</text>\n",
       "<text text-anchor=\"middle\" x=\"235.5\" y=\"-7.8\" font-family=\"Helvetica,sans-Serif\" font-size=\"14.00\" fill=\"#000000\">value = [0.72, 0.681]</text>\n",
       "</g>\n",
       "<!-- 0&#45;&gt;2 -->\n",
       "<g id=\"edge2\" class=\"edge\">\n",
       "<title>0&#45;&gt;2</title>\n",
       "<path fill=\"none\" stroke=\"#000000\" d=\"M183.0576,-88.9777C190.6669,-79.9123 198.8939,-70.111 206.5253,-61.0192\"/>\n",
       "<polygon fill=\"#000000\" stroke=\"#000000\" points=\"209.2995,-63.1581 213.0479,-53.2485 203.938,-58.6577 209.2995,-63.1581\"/>\n",
       "<text text-anchor=\"middle\" x=\"215.2227\" y=\"-74.4537\" font-family=\"Helvetica,sans-Serif\" font-size=\"14.00\" fill=\"#000000\">False</text>\n",
       "</g>\n",
       "</g>\n",
       "</svg>\n"
      ],
      "text/plain": [
       "<graphviz.files.Source at 0x7f8bf5ac7b00>"
      ]
     },
     "execution_count": 79,
     "metadata": {},
     "output_type": "execute_result"
    }
   ],
   "source": [
    "dot_data = export_graphviz(big_cm2.model, out_file = None, filled=True, rounded=True)\n",
    "graph = graphviz.Source(dot_data)\n",
    "graph"
   ]
  },
  {
   "cell_type": "code",
   "execution_count": 184,
   "metadata": {},
   "outputs": [
    {
     "data": {
      "text/plain": [
       "[-1, 1, -1, 0, 1, 1, 0]"
      ]
     },
     "execution_count": 184,
     "metadata": {},
     "output_type": "execute_result"
    }
   ],
   "source": [
    "coefs = big_cm2.trans[545-7].coefs\n",
    "coefs"
   ]
  },
  {
   "cell_type": "code",
   "execution_count": 185,
   "metadata": {
    "collapsed": true
   },
   "outputs": [],
   "source": [
    "test_cm2 = CoefCM(tree_algs, coefs, 0.484)"
   ]
  },
  {
   "cell_type": "code",
   "execution_count": 186,
   "metadata": {},
   "outputs": [
    {
     "name": "stdout",
     "output_type": "stream",
     "text": [
      "Start1\n",
      "Start1\n",
      "Start1\n",
      "Start1\n",
      "Start1\n",
      "Start1\n",
      "Start1\n",
      "Start1\n",
      "Start1\n",
      "Start2\n",
      "Start2\n",
      "Start2\n",
      "Start2\n",
      "Start2\n",
      "Start2\n",
      "Start2\n",
      "Start2\n",
      "Start2\n",
      "Start3\n",
      "Start3\n",
      "Start3\n",
      "Start3\n",
      "Start3\n",
      "Start3\n",
      "Start3\n",
      "Start3\n",
      "Start3\n"
     ]
    }
   ],
   "source": [
    "loans1, loans2, loans3 = get_results(data_train[2], test_cm2, fried_cm)"
   ]
  },
  {
   "cell_type": "code",
   "execution_count": 187,
   "metadata": {},
   "outputs": [
    {
     "data": {
      "text/plain": [
       "(0.71281690961268562, 0.90724068649198963, 0.77666952792189092)"
      ]
     },
     "execution_count": 187,
     "metadata": {},
     "output_type": "execute_result"
    }
   ],
   "source": [
    "(loans1.mean(), loans2.mean(), loans3.mean())"
   ]
  },
  {
   "cell_type": "markdown",
   "metadata": {},
   "source": [
    "### Experiment 3"
   ]
  },
  {
   "cell_type": "code",
   "execution_count": 188,
   "metadata": {
    "collapsed": true
   },
   "outputs": [],
   "source": [
    "big_cm3 = combine_cms(out[:3] + out[4:])"
   ]
  },
  {
   "cell_type": "code",
   "execution_count": 189,
   "metadata": {
    "collapsed": true
   },
   "outputs": [],
   "source": [
    "big_cm3.model = DecisionTreeClassifier(min_samples_leaf=10, max_depth=1)\n",
    "big_cm3.retrain_model()"
   ]
  },
  {
   "cell_type": "code",
   "execution_count": 190,
   "metadata": {},
   "outputs": [
    {
     "data": {
      "image/svg+xml": [
       "<?xml version=\"1.0\" encoding=\"UTF-8\" standalone=\"no\"?>\n",
       "<!DOCTYPE svg PUBLIC \"-//W3C//DTD SVG 1.1//EN\"\n",
       " \"http://www.w3.org/Graphics/SVG/1.1/DTD/svg11.dtd\">\n",
       "<!-- Generated by graphviz version 2.40.1 (20161225.0304)\n",
       " -->\n",
       "<!-- Title: Tree Pages: 1 -->\n",
       "<svg width=\"320pt\" height=\"165pt\"\n",
       " viewBox=\"0.00 0.00 320.00 165.00\" xmlns=\"http://www.w3.org/2000/svg\" xmlns:xlink=\"http://www.w3.org/1999/xlink\">\n",
       "<g id=\"graph0\" class=\"graph\" transform=\"scale(1 1) rotate(0) translate(4 161)\">\n",
       "<title>Tree</title>\n",
       "<polygon fill=\"#ffffff\" stroke=\"transparent\" points=\"-4,4 -4,-161 316,-161 316,4 -4,4\"/>\n",
       "<!-- 0 -->\n",
       "<g id=\"node1\" class=\"node\">\n",
       "<title>0</title>\n",
       "<path fill=\"transparent\" stroke=\"#000000\" d=\"M217,-157C217,-157 94,-157 94,-157 88,-157 82,-151 82,-145 82,-145 82,-101 82,-101 82,-95 88,-89 94,-89 94,-89 217,-89 217,-89 223,-89 229,-95 229,-101 229,-101 229,-145 229,-145 229,-151 223,-157 217,-157\"/>\n",
       "<text text-anchor=\"middle\" x=\"155.5\" y=\"-141.8\" font-family=\"Helvetica,sans-Serif\" font-size=\"14.00\" fill=\"#000000\">X[366] &lt;= &#45;2.388</text>\n",
       "<text text-anchor=\"middle\" x=\"155.5\" y=\"-126.8\" font-family=\"Helvetica,sans-Serif\" font-size=\"14.00\" fill=\"#000000\">gini = 0.283</text>\n",
       "<text text-anchor=\"middle\" x=\"155.5\" y=\"-111.8\" font-family=\"Helvetica,sans-Serif\" font-size=\"14.00\" fill=\"#000000\">samples = 18432</text>\n",
       "<text text-anchor=\"middle\" x=\"155.5\" y=\"-96.8\" font-family=\"Helvetica,sans-Serif\" font-size=\"14.00\" fill=\"#000000\">value = [0.717, 0.715]</text>\n",
       "</g>\n",
       "<!-- 1 -->\n",
       "<g id=\"node2\" class=\"node\">\n",
       "<title>1</title>\n",
       "<path fill=\"transparent\" stroke=\"#000000\" d=\"M135,-53C135,-53 12,-53 12,-53 6,-53 0,-47 0,-41 0,-41 0,-12 0,-12 0,-6 6,0 12,0 12,0 135,0 135,0 141,0 147,-6 147,-12 147,-12 147,-41 147,-41 147,-47 141,-53 135,-53\"/>\n",
       "<text text-anchor=\"middle\" x=\"73.5\" y=\"-37.8\" font-family=\"Helvetica,sans-Serif\" font-size=\"14.00\" fill=\"#000000\">gini = 0.231</text>\n",
       "<text text-anchor=\"middle\" x=\"73.5\" y=\"-22.8\" font-family=\"Helvetica,sans-Serif\" font-size=\"14.00\" fill=\"#000000\">samples = 4597</text>\n",
       "<text text-anchor=\"middle\" x=\"73.5\" y=\"-7.8\" font-family=\"Helvetica,sans-Serif\" font-size=\"14.00\" fill=\"#000000\">value = [0.651, 0.769]</text>\n",
       "</g>\n",
       "<!-- 0&#45;&gt;1 -->\n",
       "<g id=\"edge1\" class=\"edge\">\n",
       "<title>0&#45;&gt;1</title>\n",
       "<path fill=\"none\" stroke=\"#000000\" d=\"M126.5899,-88.9777C118.8866,-79.9123 110.5581,-70.111 102.8324,-61.0192\"/>\n",
       "<polygon fill=\"#000000\" stroke=\"#000000\" points=\"105.3718,-58.6025 96.2293,-53.2485 100.0375,-63.1352 105.3718,-58.6025\"/>\n",
       "<text text-anchor=\"middle\" x=\"94.2051\" y=\"-74.4664\" font-family=\"Helvetica,sans-Serif\" font-size=\"14.00\" fill=\"#000000\">True</text>\n",
       "</g>\n",
       "<!-- 2 -->\n",
       "<g id=\"node3\" class=\"node\">\n",
       "<title>2</title>\n",
       "<path fill=\"transparent\" stroke=\"#000000\" d=\"M300,-53C300,-53 177,-53 177,-53 171,-53 165,-47 165,-41 165,-41 165,-12 165,-12 165,-6 171,0 177,0 177,0 300,0 300,0 306,0 312,-6 312,-12 312,-12 312,-41 312,-41 312,-47 306,-53 300,-53\"/>\n",
       "<text text-anchor=\"middle\" x=\"238.5\" y=\"-37.8\" font-family=\"Helvetica,sans-Serif\" font-size=\"14.00\" fill=\"#000000\">gini = 0.262</text>\n",
       "<text text-anchor=\"middle\" x=\"238.5\" y=\"-22.8\" font-family=\"Helvetica,sans-Serif\" font-size=\"14.00\" fill=\"#000000\">samples = 13835</text>\n",
       "<text text-anchor=\"middle\" x=\"238.5\" y=\"-7.8\" font-family=\"Helvetica,sans-Serif\" font-size=\"14.00\" fill=\"#000000\">value = [0.738, 0.697]</text>\n",
       "</g>\n",
       "<!-- 0&#45;&gt;2 -->\n",
       "<g id=\"edge2\" class=\"edge\">\n",
       "<title>0&#45;&gt;2</title>\n",
       "<path fill=\"none\" stroke=\"#000000\" d=\"M184.7627,-88.9777C192.5599,-79.9123 200.99,-70.111 208.8099,-61.0192\"/>\n",
       "<polygon fill=\"#000000\" stroke=\"#000000\" points=\"211.6262,-63.1123 215.4935,-53.2485 206.3191,-58.5477 211.6262,-63.1123\"/>\n",
       "<text text-anchor=\"middle\" x=\"217.3685\" y=\"-74.4781\" font-family=\"Helvetica,sans-Serif\" font-size=\"14.00\" fill=\"#000000\">False</text>\n",
       "</g>\n",
       "</g>\n",
       "</svg>\n"
      ],
      "text/plain": [
       "<graphviz.files.Source at 0x7f8bf5564b00>"
      ]
     },
     "execution_count": 190,
     "metadata": {},
     "output_type": "execute_result"
    }
   ],
   "source": [
    "dot_data = export_graphviz(big_cm3.model, out_file = None, filled=True, rounded=True)\n",
    "graph = graphviz.Source(dot_data)\n",
    "graph"
   ]
  },
  {
   "cell_type": "code",
   "execution_count": 192,
   "metadata": {},
   "outputs": [
    {
     "data": {
      "text/plain": [
       "[-1, 0, 0, 0, -1, 1, 1]"
      ]
     },
     "execution_count": 192,
     "metadata": {},
     "output_type": "execute_result"
    }
   ],
   "source": [
    "coefs = big_cm3.trans[366-7].coefs\n",
    "coefs"
   ]
  },
  {
   "cell_type": "code",
   "execution_count": 194,
   "metadata": {
    "collapsed": true
   },
   "outputs": [],
   "source": [
    "test_cm3 = CoefCM(tree_algs, coefs, -2.388)"
   ]
  },
  {
   "cell_type": "code",
   "execution_count": 195,
   "metadata": {},
   "outputs": [
    {
     "name": "stdout",
     "output_type": "stream",
     "text": [
      "Start1\n",
      "Start1\n",
      "Start1\n",
      "Start1\n",
      "Start1\n",
      "Start1\n",
      "Start1\n",
      "Start1\n",
      "Start1\n",
      "Start2\n",
      "Start2\n",
      "Start2\n",
      "Start2\n",
      "Start2\n",
      "Start2\n",
      "Start2\n",
      "Start2\n",
      "Start2\n",
      "Start3\n",
      "Start3\n",
      "Start3\n",
      "Start3\n",
      "Start3\n",
      "Start3\n",
      "Start3\n",
      "Start3\n",
      "Start3\n"
     ]
    }
   ],
   "source": [
    "adults1, adults2, adults3 = get_results(data_train[3], test_cm3, fried_cm)"
   ]
  },
  {
   "cell_type": "code",
   "execution_count": 196,
   "metadata": {},
   "outputs": [
    {
     "data": {
      "text/plain": [
       "(0.73641029479602826, 0.75530363748071583, 0.67664697966414922)"
      ]
     },
     "execution_count": 196,
     "metadata": {},
     "output_type": "execute_result"
    }
   ],
   "source": [
    "(adults1.mean(), adults2.mean(), adults3.mean())"
   ]
  },
  {
   "cell_type": "markdown",
   "metadata": {},
   "source": [
    "### Experiment 4"
   ]
  },
  {
   "cell_type": "code",
   "execution_count": 199,
   "metadata": {},
   "outputs": [],
   "source": [
    "big_cm4 = combine_cms(out[:4] + out[5:])"
   ]
  },
  {
   "cell_type": "code",
   "execution_count": 200,
   "metadata": {
    "collapsed": true
   },
   "outputs": [],
   "source": [
    "big_cm4.model = DecisionTreeClassifier(min_samples_leaf=10, max_depth=1)\n",
    "big_cm4.retrain_model()"
   ]
  },
  {
   "cell_type": "code",
   "execution_count": 202,
   "metadata": {},
   "outputs": [
    {
     "data": {
      "image/svg+xml": [
       "<?xml version=\"1.0\" encoding=\"UTF-8\" standalone=\"no\"?>\n",
       "<!DOCTYPE svg PUBLIC \"-//W3C//DTD SVG 1.1//EN\"\n",
       " \"http://www.w3.org/Graphics/SVG/1.1/DTD/svg11.dtd\">\n",
       "<!-- Generated by graphviz version 2.40.1 (20161225.0304)\n",
       " -->\n",
       "<!-- Title: Tree Pages: 1 -->\n",
       "<svg width=\"320pt\" height=\"165pt\"\n",
       " viewBox=\"0.00 0.00 320.00 165.00\" xmlns=\"http://www.w3.org/2000/svg\" xmlns:xlink=\"http://www.w3.org/1999/xlink\">\n",
       "<g id=\"graph0\" class=\"graph\" transform=\"scale(1 1) rotate(0) translate(4 161)\">\n",
       "<title>Tree</title>\n",
       "<polygon fill=\"#ffffff\" stroke=\"transparent\" points=\"-4,4 -4,-161 316,-161 316,4 -4,4\"/>\n",
       "<!-- 0 -->\n",
       "<g id=\"node1\" class=\"node\">\n",
       "<title>0</title>\n",
       "<path fill=\"transparent\" stroke=\"#000000\" d=\"M217,-157C217,-157 94,-157 94,-157 88,-157 82,-151 82,-145 82,-145 82,-101 82,-101 82,-95 88,-89 94,-89 94,-89 217,-89 217,-89 223,-89 229,-95 229,-101 229,-101 229,-145 229,-145 229,-151 223,-157 217,-157\"/>\n",
       "<text text-anchor=\"middle\" x=\"155.5\" y=\"-141.8\" font-family=\"Helvetica,sans-Serif\" font-size=\"14.00\" fill=\"#000000\">X[419] &lt;= &#45;5.434</text>\n",
       "<text text-anchor=\"middle\" x=\"155.5\" y=\"-126.8\" font-family=\"Helvetica,sans-Serif\" font-size=\"14.00\" fill=\"#000000\">gini = 0.258</text>\n",
       "<text text-anchor=\"middle\" x=\"155.5\" y=\"-111.8\" font-family=\"Helvetica,sans-Serif\" font-size=\"14.00\" fill=\"#000000\">samples = 18432</text>\n",
       "<text text-anchor=\"middle\" x=\"155.5\" y=\"-96.8\" font-family=\"Helvetica,sans-Serif\" font-size=\"14.00\" fill=\"#000000\">value = [0.735, 0.742]</text>\n",
       "</g>\n",
       "<!-- 1 -->\n",
       "<g id=\"node2\" class=\"node\">\n",
       "<title>1</title>\n",
       "<path fill=\"transparent\" stroke=\"#000000\" d=\"M135,-53C135,-53 12,-53 12,-53 6,-53 0,-47 0,-41 0,-41 0,-12 0,-12 0,-6 6,0 12,0 12,0 135,0 135,0 141,0 147,-6 147,-12 147,-12 147,-41 147,-41 147,-47 141,-53 135,-53\"/>\n",
       "<text text-anchor=\"middle\" x=\"73.5\" y=\"-37.8\" font-family=\"Helvetica,sans-Serif\" font-size=\"14.00\" fill=\"#000000\">gini = 0.238</text>\n",
       "<text text-anchor=\"middle\" x=\"73.5\" y=\"-22.8\" font-family=\"Helvetica,sans-Serif\" font-size=\"14.00\" fill=\"#000000\">samples = 4720</text>\n",
       "<text text-anchor=\"middle\" x=\"73.5\" y=\"-7.8\" font-family=\"Helvetica,sans-Serif\" font-size=\"14.00\" fill=\"#000000\">value = [0.651, 0.762]</text>\n",
       "</g>\n",
       "<!-- 0&#45;&gt;1 -->\n",
       "<g id=\"edge1\" class=\"edge\">\n",
       "<title>0&#45;&gt;1</title>\n",
       "<path fill=\"none\" stroke=\"#000000\" d=\"M126.5899,-88.9777C118.8866,-79.9123 110.5581,-70.111 102.8324,-61.0192\"/>\n",
       "<polygon fill=\"#000000\" stroke=\"#000000\" points=\"105.3718,-58.6025 96.2293,-53.2485 100.0375,-63.1352 105.3718,-58.6025\"/>\n",
       "<text text-anchor=\"middle\" x=\"94.2051\" y=\"-74.4664\" font-family=\"Helvetica,sans-Serif\" font-size=\"14.00\" fill=\"#000000\">True</text>\n",
       "</g>\n",
       "<!-- 2 -->\n",
       "<g id=\"node3\" class=\"node\">\n",
       "<title>2</title>\n",
       "<path fill=\"transparent\" stroke=\"#000000\" d=\"M300,-53C300,-53 177,-53 177,-53 171,-53 165,-47 165,-41 165,-41 165,-12 165,-12 165,-6 171,0 177,0 177,0 300,0 300,0 306,0 312,-6 312,-12 312,-12 312,-41 312,-41 312,-47 306,-53 300,-53\"/>\n",
       "<text text-anchor=\"middle\" x=\"238.5\" y=\"-37.8\" font-family=\"Helvetica,sans-Serif\" font-size=\"14.00\" fill=\"#000000\">gini = 0.236</text>\n",
       "<text text-anchor=\"middle\" x=\"238.5\" y=\"-22.8\" font-family=\"Helvetica,sans-Serif\" font-size=\"14.00\" fill=\"#000000\">samples = 13712</text>\n",
       "<text text-anchor=\"middle\" x=\"238.5\" y=\"-7.8\" font-family=\"Helvetica,sans-Serif\" font-size=\"14.00\" fill=\"#000000\">value = [0.764, 0.735]</text>\n",
       "</g>\n",
       "<!-- 0&#45;&gt;2 -->\n",
       "<g id=\"edge2\" class=\"edge\">\n",
       "<title>0&#45;&gt;2</title>\n",
       "<path fill=\"none\" stroke=\"#000000\" d=\"M184.7627,-88.9777C192.5599,-79.9123 200.99,-70.111 208.8099,-61.0192\"/>\n",
       "<polygon fill=\"#000000\" stroke=\"#000000\" points=\"211.6262,-63.1123 215.4935,-53.2485 206.3191,-58.5477 211.6262,-63.1123\"/>\n",
       "<text text-anchor=\"middle\" x=\"217.3685\" y=\"-74.4781\" font-family=\"Helvetica,sans-Serif\" font-size=\"14.00\" fill=\"#000000\">False</text>\n",
       "</g>\n",
       "</g>\n",
       "</svg>\n"
      ],
      "text/plain": [
       "<graphviz.files.Source at 0x7f8bf57c4cf8>"
      ]
     },
     "execution_count": 202,
     "metadata": {},
     "output_type": "execute_result"
    }
   ],
   "source": [
    "dot_data = export_graphviz(big_cm4.model, out_file = None, filled=True, rounded=True)\n",
    "graph = graphviz.Source(dot_data)\n",
    "graph"
   ]
  },
  {
   "cell_type": "code",
   "execution_count": 203,
   "metadata": {},
   "outputs": [
    {
     "data": {
      "text/plain": [
       "[-1, 0, 1, -1, -1, 1, 0]"
      ]
     },
     "execution_count": 203,
     "metadata": {},
     "output_type": "execute_result"
    }
   ],
   "source": [
    "coefs = big_cm4.trans[419-7].coefs\n",
    "coefs"
   ]
  },
  {
   "cell_type": "code",
   "execution_count": 204,
   "metadata": {
    "collapsed": true
   },
   "outputs": [],
   "source": [
    "test_cm4 = CoefCM(tree_algs, coefs, -5.434)"
   ]
  },
  {
   "cell_type": "code",
   "execution_count": 205,
   "metadata": {},
   "outputs": [
    {
     "name": "stdout",
     "output_type": "stream",
     "text": [
      "Start1\n",
      "Start1\n",
      "Start1\n",
      "Start1\n",
      "Start1\n",
      "Start1\n",
      "Start1\n",
      "Start1\n",
      "Start1\n",
      "Start2\n",
      "Start2\n",
      "Start2\n",
      "Start2\n",
      "Start2\n",
      "Start2\n",
      "Start2\n",
      "Start2\n",
      "Start2\n",
      "Start3\n",
      "Start3\n",
      "Start3\n",
      "Start3\n",
      "Start3\n",
      "Start3\n",
      "Start3\n",
      "Start3\n",
      "Start3\n"
     ]
    }
   ],
   "source": [
    "lendings1, lendings2, lendings3 = get_results(data_train[3], test_cm4, fried_cm)"
   ]
  },
  {
   "cell_type": "code",
   "execution_count": 206,
   "metadata": {},
   "outputs": [
    {
     "data": {
      "text/plain": [
       "(0.75084534963292826, 0.75530363748071583, 0.67419395834546814)"
      ]
     },
     "execution_count": 206,
     "metadata": {},
     "output_type": "execute_result"
    }
   ],
   "source": [
    "(lendings1.mean(), lendings2.mean(), lendings3.mean())"
   ]
  },
  {
   "cell_type": "code",
   "execution_count": 249,
   "metadata": {},
   "outputs": [
    {
     "data": {
      "text/plain": [
       "array([ 0.79485531,  0.75940237,  0.78988561,  0.70393901,  0.75174014,\n",
       "        0.76889849,  0.66328012,  0.7494877 ,  0.7761194 ])"
      ]
     },
     "execution_count": 249,
     "metadata": {},
     "output_type": "execute_result"
    }
   ],
   "source": [
    "lendings1"
   ]
  },
  {
   "cell_type": "code",
   "execution_count": 280,
   "metadata": {
    "collapsed": true
   },
   "outputs": [],
   "source": [
    "alg1_error = 1-np.array([nurs1, defaults1, loans1, adults1, lendings1])"
   ]
  },
  {
   "cell_type": "code",
   "execution_count": 281,
   "metadata": {
    "collapsed": true
   },
   "outputs": [],
   "source": [
    "alg2_error = 1-np.array([nurs2, defaults2, loans2, adults2, lendings2])"
   ]
  },
  {
   "cell_type": "code",
   "execution_count": 282,
   "metadata": {
    "collapsed": true
   },
   "outputs": [],
   "source": [
    "alg3_error = 1-np.array([nurs3, defaults3, loans3, adults3, lendings3])"
   ]
  },
  {
   "cell_type": "code",
   "execution_count": 283,
   "metadata": {
    "collapsed": true
   },
   "outputs": [],
   "source": [
    "#best = np.min([alg1_error, alg2_error, alg3_error], axis=0)\n",
    "#avg_regret1 = (alg1_error-best).reshape((3,-1)).mean(axis=0)\n",
    "#avg_regret2 = (alg2_error-best).reshape((3,-1)).mean(axis=0)\n",
    "#avg_regret3 = (alg3_error-best).reshape((3,-1)).mean(axis=0)"
   ]
  },
  {
   "cell_type": "code",
   "execution_count": 284,
   "metadata": {},
   "outputs": [],
   "source": [
    "alg1_error = alg1_error.reshape((3, -1)).mean(axis=0).reshape((3, -1))\n",
    "alg2_error = alg2_error.reshape((3, -1)).mean(axis=0).reshape((3, -1))\n",
    "alg3_error = alg3_error.reshape((3, -1)).mean(axis=0).reshape((3, -1))"
   ]
  },
  {
   "cell_type": "code",
   "execution_count": 285,
   "metadata": {},
   "outputs": [],
   "source": [
    "alg1_error = alg1_error.mean(axis=1)\n",
    "alg2_error = alg2_error.mean(axis=1)\n",
    "alg3_error = alg3_error.mean(axis=1)"
   ]
  },
  {
   "cell_type": "code",
   "execution_count": 293,
   "metadata": {
    "collapsed": true
   },
   "outputs": [],
   "source": [
    "juxtaposed_alg_perfs = np.array([alg1_error, alg3_error, alg2_error]).T.flatten()"
   ]
  },
  {
   "cell_type": "code",
   "execution_count": 294,
   "metadata": {
    "collapsed": true
   },
   "outputs": [],
   "source": [
    "x_pos = np.array([4*x + y for x in [0,1,2] for y in [0,1,2]])"
   ]
  },
  {
   "cell_type": "code",
   "execution_count": 295,
   "metadata": {
    "collapsed": true
   },
   "outputs": [],
   "source": [
    "colors = ['red', 'blue', 'green']*3"
   ]
  },
  {
   "cell_type": "code",
   "execution_count": 296,
   "metadata": {
    "collapsed": true
   },
   "outputs": [],
   "source": [
    "import matplotlib.patches as mpatches\n",
    "patches = [mpatches.Patch(color=c) for c in ['red', 'blue', 'green']]"
   ]
  },
  {
   "cell_type": "code",
   "execution_count": 297,
   "metadata": {},
   "outputs": [
    {
     "data": {
      "text/plain": [
       "<Container object of 9 artists>"
      ]
     },
     "execution_count": 297,
     "metadata": {},
     "output_type": "execute_result"
    },
    {
     "data": {
      "image/png": "[encoded data removed]",
      "text/plain": [
       "<matplotlib.figure.Figure at 0x7f8bed374860>"
      ]
     },
     "metadata": {},
     "output_type": "display_data"
    }
   ],
   "source": [
    "fig, axis = plt.subplots()\n",
    "axis.set_xticks([1,5,9])\n",
    "axis.set_xticklabels(['1.0', '4.0', '7.0'])\n",
    "axis.set_xlabel('epsilon')\n",
    "axis.set_ylabel('Mean Error')\n",
    "axis.legend(handles=patches, labels=['Alg1', 'Alg2', 'Jostle'])\n",
    "axis.set_title('Mean Performance for 3 Stopping Criteria')\n",
    "axis.bar(x_pos, juxtaposed_alg_perfs, color=colors)"
   ]
  },
  {
   "cell_type": "code",
   "execution_count": null,
   "metadata": {
    "collapsed": true
   },
   "outputs": [],
   "source": [
    "fig, axis = plt.subplots()\n",
    "for a in "
   ]
  }
 ],
 "metadata": {
  "kernelspec": {
   "display_name": "Python 3",
   "language": "python",
   "name": "python3"
  },
  "language_info": {
   "codemirror_mode": {
    "name": "ipython",
    "version": 3
   },
   "file_extension": ".py",
   "mimetype": "text/x-python",
   "name": "python",
   "nbconvert_exporter": "python",
   "pygments_lexer": "ipython3",
   "version": "3.6.3"
  }
 },
 "nbformat": 4,
 "nbformat_minor": 2
}
