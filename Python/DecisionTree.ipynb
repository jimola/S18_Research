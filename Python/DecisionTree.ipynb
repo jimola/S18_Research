{
 "cells": [
  {
   "cell_type": "markdown",
   "metadata": {},
   "source": [
    "### Decision Tree (DecisionTree.ipynb)\n",
    "Train a Decision Tree classifier, selecting a rule for when it is time to stop branching to\n",
    "avoid overfitting.\n",
    "\n",
    "Goal: See how a ChoiceMaker performs when applied to a novel area. Having the lowest error \n",
    "compared to naive methods would be great.\n",
    "\n",
    "Comparison: We compare against a naive way of making a decision tree algorithm\n",
    "private, as well as another method described in a sketchy paper. I implemented\n",
    "everything.\n",
    "\n",
    "Current Results: The Choicemaker seems to be competitive with the two other methods\n",
    "sometimes. We definitely need more data supporting this claim for a final submission.\n",
    "\n",
    "Improvement 1: figure out a way to make epsilon equal to 1.0 always.\n",
    "Improvement 2: simplify the error computations.\n"
   ]
  },
  {
   "cell_type": "code",
   "execution_count": 2,
   "metadata": {
    "collapsed": true
   },
   "outputs": [],
   "source": [
    "import DPrivacy as dp\n",
    "from ChoiceMaker import DTChoice\n",
    "from sklearn import model_selection, feature_selection\n",
    "from sklearn.tree import DecisionTreeClassifier\n",
    "import graphviz\n",
    "from sklearn.tree import export_graphviz\n",
    "%matplotlib inline\n",
    "import pickle\n",
    "import collections"
   ]
  },
  {
   "cell_type": "code",
   "execution_count": 3,
   "metadata": {
    "collapsed": true
   },
   "outputs": [],
   "source": [
    "class DB:\n",
    "    def __init__(self, X, y, X_test, y_test, epsilon=1, depth=0, max_depth=0):\n",
    "        self.epsilon = epsilon\n",
    "        self.ncol = X.shape[1]\n",
    "        self.X = X\n",
    "        self.y = y\n",
    "        self.X_test = X_test\n",
    "        self.y_test = y_test\n",
    "        self.depth = depth\n",
    "        self.max_depth = max_depth\n",
    "        #branching_factor?\n",
    "        \n",
    "class DBMetas:\n",
    "    def __init__(self):\n",
    "        self.sensitivities = collections.OrderedDict((\n",
    "        ('nrow', 1), ('ncol', 0), ('eps', 0), ('depth', 0), ('C', 0), ('bf', 0), ('t', 0)\n",
    "                                                    ))\n",
    "    \n",
    "    def __call__(self, dataset):\n",
    "        att_sizes = np.array([len(dataset.X[c].cat.categories) for c in dataset.X])\n",
    "        return collections.OrderedDict((\n",
    "                ('nrow', dataset.X.shape[0]), \n",
    "                ('ncol', dataset.X.shape[1]),\n",
    "                ('eps', dataset.epsilon),\n",
    "                ('depth', dataset.depth),\n",
    "                ('C', len(dataset.y.cat.categories)),\n",
    "                ('bf', att_sizes.mean()),\n",
    "                ('t', att_sizes.max()) ))\n",
    "def entropy(y):\n",
    "    arr = pd.value_counts(y)\n",
    "    arr = arr[arr > 0]\n",
    "    arr = arr/arr.sum()\n",
    "    return (-np.log2(arr) * arr).sum()"
   ]
  },
  {
   "cell_type": "code",
   "execution_count": 237,
   "metadata": {
    "collapsed": true
   },
   "outputs": [],
   "source": [
    "class TreePart:\n",
    "    def __init__(self, splits=5):\n",
    "        self.splits=splits\n",
    "        self.kf = model_selection.KFold(splits)\n",
    "        self.lo = model_selection.LeaveOneOut()\n",
    "    def get_expected_correct(self, y, epsilon):\n",
    "        if len(y) == 0:\n",
    "            return 0\n",
    "        tot_correct = 0\n",
    "        if len(y) < self.splits:\n",
    "            gen = self.lo.split(y)\n",
    "        else:\n",
    "            gen = self.kf.split(y)\n",
    "        for train_idx, test_idx in gen:\n",
    "            hist = pd.value_counts(y.iloc[train_idx])\n",
    "            noisy_hist = dp.hist_noiser(hist, epsilon)\n",
    "            pred = noisy_hist.idxmax()\n",
    "            tot_correct += (y.iloc[test_idx] == pred).sum()\n",
    "        return tot_correct / len(y)\n",
    "    \n",
    "\"\"\"The leaf algorithm\"\"\"\n",
    "class Leaf(TreePart):\n",
    "    def error(self, db):\n",
    "        if len(db.y) == 0:\n",
    "            return 0\n",
    "        return 1.0-self.get_expected_correct(db.y, db.epsilon)\n",
    "    def run(self, db):\n",
    "        print('leaf running')\n",
    "        frequencies = pd.value_counts(db.y)\n",
    "        noisy_freqs = dp.hist_noiser(frequencies, db.epsilon)\n",
    "        return np.repeat(noisy_freqs.idxmax(), db.y_test.size)\n",
    "    \n",
    "\"\"\"The branch algorithm (splits the data)\"\"\"\n",
    "class Split(TreePart):\n",
    "    def error(self, db):\n",
    "        if len(db.y) == 0:\n",
    "            return 0\n",
    "        corrects = []\n",
    "        probs = []\n",
    "        for col in db.X.columns:\n",
    "            x = db.X[col]\n",
    "            cats = x.cat.categories\n",
    "            correct = 0\n",
    "            tot_ent = 0\n",
    "            for cat in cats:\n",
    "                leaf_correct = self.get_expected_correct(db.y[x == cat], db.epsilon)\n",
    "                correct += leaf_correct * (x == cat).sum()\n",
    "                ent = entropy(db.y[x == cat])\n",
    "                tot_ent += ent*(x==cat).sum()\n",
    "            correct /= len(db.y)\n",
    "            corrects.append(correct)\n",
    "            probs.append(tot_ent)\n",
    "        C = np.array(corrects)\n",
    "        probs = np.array(probs)\n",
    "        probs -= probs.min()\n",
    "        D = np.exp(-probs*db.epsilon/13) #13 is an upper bound on the sensitivity of entropy, log_2 |X|\n",
    "        probs = D/D.sum()\n",
    "        return 1-probs.dot(C)\n",
    "    def run(self, db):\n",
    "        print('branch run')\n",
    "        return None\n",
    "tree_algs = {'leaf': Leaf(), 'split': Split()}"
   ]
  },
  {
   "cell_type": "code",
   "execution_count": 5,
   "metadata": {
    "collapsed": true
   },
   "outputs": [],
   "source": [
    "split = Split()\n",
    "leaf = Leaf()\n",
    "tree_algs = {'leaf': Leaf(), 'split': Split()}"
   ]
  },
  {
   "cell_type": "code",
   "execution_count": 234,
   "metadata": {
    "collapsed": true
   },
   "outputs": [],
   "source": [
    "\"\"\"Private Decision Tree algorithm\"\"\"\n",
    "class PDTree:\n",
    "    def __init__(self):\n",
    "        pass\n",
    "    \n",
    "    def entropy(self, y):\n",
    "        arr = pd.value_counts(y)\n",
    "        arr = arr[arr > 0]\n",
    "        arr = arr/arr.sum()\n",
    "        return (-np.log2(arr) * arr).sum()\n",
    "    \n",
    "    def decision_helper(self, db, cm):\n",
    "        action = cm.choose(db)\n",
    "        if db.depth == db.max_depth:\n",
    "            print('max depth reached')\n",
    "            action = leaf.run(db)\n",
    "        if action is not None:\n",
    "            return action\n",
    "        utils = []\n",
    "        for col in db.X.columns:\n",
    "            x = db.X[col]\n",
    "            cats = x.cat.categories\n",
    "            cur_ent = 0\n",
    "            for cat in cats:\n",
    "                ent = self.entropy(db.y[x == cat])\n",
    "                cur_ent += ent * (x == cat).sum()\n",
    "            #cur_ent /= len(db.y)\n",
    "            utils.append(-cur_ent)\n",
    "        best_idx = dp.exp_mech(utils, db.epsilon, 13) #Change sensitivity\n",
    "        col_name = db.X.columns[best_idx]\n",
    "        new_cols = db.X.columns[db.X.columns != col_name]\n",
    "        splitX = db.X[col_name]\n",
    "        splitX_test = db.X_test[col_name]\n",
    "        preds = np.repeat(db.y.cat.categories[0], len(db.y_test))\n",
    "        for att in splitX_test.unique():\n",
    "            train_split = db.X.loc[splitX == att, new_cols]\n",
    "            y_split = db.y[splitX == att]\n",
    "            test_split_loc = db.X_test[col_name] == att \n",
    "            test_split = db.X_test.loc[test_split_loc, new_cols]\n",
    "            test_split_y = db.y_test.loc[test_split_loc]\n",
    "            if(test_split_y.size > 0):\n",
    "                db_new = DB(train_split, y_split, test_split, test_split_y, db.epsilon, db.depth+1, db.max_depth)\n",
    "                preds[test_split_loc] = self.decision_helper(db_new, cm)\n",
    "        return preds\n",
    "    \n",
    "    def fit_and_predict(self, data, cm):\n",
    "        budget = data.epsilon / data.X.shape[1]\n",
    "        data.epsilon = budget\n",
    "        return self.decision_helper(data, cm)"
   ]
  },
  {
   "cell_type": "code",
   "execution_count": 7,
   "metadata": {
    "collapsed": true
   },
   "outputs": [],
   "source": [
    "class CoefCM:\n",
    "    def __init__(self, tree_algs, coefs, const):\n",
    "        self.m = DBMetas()\n",
    "        self.tree_algs = tree_algs\n",
    "        self.coefs = np.array(coefs)\n",
    "        self.const = const\n",
    "    def choose(self, data, ratio=0.3):\n",
    "        budget = data.epsilon*ratio\n",
    "        metas = self.m(data)\n",
    "        metas['nrow'] += dp.laplacian(budget, sensitivity=1)[0]\n",
    "        data.epsilon -= budget\n",
    "        metas = np.array(list(metas.values()))\n",
    "        metas = np.log(np.maximum(metas, 1))\n",
    "        if metas.dot(self.coefs) <= self.const:\n",
    "            return self.tree_algs['leaf'].run(data)\n",
    "        else:\n",
    "            return self.tree_algs['split'].run(data)\n",
    "fried_cm = CoefCM(tree_algs, [1, 0, 1, 0, -1, 0, -1], np.log(1.414))"
   ]
  },
  {
   "cell_type": "markdown",
   "metadata": {},
   "source": [
    "### DATASETS"
   ]
  },
  {
   "cell_type": "code",
   "execution_count": 43,
   "metadata": {
    "collapsed": true
   },
   "outputs": [],
   "source": [
    "adult = pickle.load(open('decision_tree_data/adult.pkl', 'rb'))\n",
    "\n",
    "nurs = pd.read_csv('../datasets/nursery.data', header=None)\n",
    "nurs = nurs.apply(lambda x: x.astype('category'))\n",
    "\n",
    "skin = pd.read_csv('data/Skin.csv', sep='\\t', header=None)\n",
    "skin = skin.apply(lambda x: x.astype('category'))\n",
    "\n",
    "default = pickle.load(open('decision_tree_data/default.pkl', 'rb'))\n",
    "\n",
    "loan = pd.read_csv('../datasets/student-loan.csv')\n",
    "loan = loan.apply(lambda x: x.astype('category'))\n",
    "\n",
    "lending = pickle.load(open('decision_tree_data/lending.pkl', 'rb'))"
   ]
  },
  {
   "cell_type": "code",
   "execution_count": 44,
   "metadata": {
    "collapsed": true
   },
   "outputs": [],
   "source": [
    "leaf = Leaf()\n",
    "split = Split()"
   ]
  },
  {
   "cell_type": "code",
   "execution_count": null,
   "metadata": {
    "collapsed": true
   },
   "outputs": [],
   "source": [
    "class null_cm:\n",
    "    def __init__(self):\n",
    "        pass\n",
    "    def choose(self, db):\n",
    "        if db.depth < db.max_depth:\n",
    "            return split.run(db)\n",
    "        else:\n",
    "            return leaf.run(db)"
   ]
  },
  {
   "cell_type": "markdown",
   "metadata": {},
   "source": [
    "### Experiments"
   ]
  },
  {
   "cell_type": "code",
   "execution_count": 56,
   "metadata": {
    "collapsed": true
   },
   "outputs": [],
   "source": [
    "def get_train_dbs(seed_db, eps, prng):\n",
    "    regs = []\n",
    "    X = []\n",
    "    D = []\n",
    "    for l in range(1, 4): #Used to be 6\n",
    "        for x in range(2**(l+3)):\n",
    "            cols = prng.permutation(seed_db.columns[:-1])\n",
    "            db_groups = seed_db.groupby(list(cols[:l])).groups\n",
    "            idxs = db_groups[list(db_groups)[prng.randint(len(db_groups))]]\n",
    "            L = idxs.size\n",
    "            L = min(L, 5000)\n",
    "            L = prng.randint(0.7*L, L)\n",
    "            idxs = prng.choice(idxs, L)\n",
    "            data = DB(seed_db.loc[idxs, cols[l:]], seed_db.loc[idxs, seed_db.columns[-1]], None, None, epsilon=eps, depth=l)\n",
    "            regs.append({name: alg.error(data) for name, alg in tree_algs.items()})\n",
    "            X.append(DBMetas()(data))\n",
    "            D.append(data)\n",
    "    #Large DBs    \n",
    "    for x in range(16):\n",
    "        cols = seed_db.columns[:-1]\n",
    "        L = len(seed_db)\n",
    "        L = min(L, 5000)\n",
    "        L = prng.randint(0.7*L, L)\n",
    "        new_db = seed_db.sample(L, random_state=prng)\n",
    "        data = DB(new_db.loc[:, cols], new_db.loc[:, seed_db.columns[-1]], None, None, epsilon=eps, depth=0)\n",
    "        regs.append({name: alg.error(data) for name, alg in tree_algs.items()})\n",
    "        X.append(DBMetas()(data))\n",
    "        D.append(data)\n",
    "    return (regs, X, D)"
   ]
  },
  {
   "cell_type": "code",
   "execution_count": 46,
   "metadata": {
    "collapsed": true
   },
   "outputs": [],
   "source": [
    "def get_test_dbs(seed_db, eps, prng):\n",
    "    cols = seed_db.columns[:-1]\n",
    "    y_col = seed_db.columns[-1]\n",
    "    L = len(seed_db)\n",
    "    L = min(L, int(5000/0.7))\n",
    "    L = prng.randint(0.7*L, L)\n",
    "    new_db = seed_db.sample(L, random_state=prng).reset_index(drop=True)\n",
    "    split = int(0.7*L)\n",
    "    md = min(len(cols), 4)\n",
    "    d = DB(new_db.loc[:split, cols], new_db.loc[:split, y_col], \\\n",
    "           new_db.loc[split:, cols], new_db.loc[split:, y_col], epsilon=eps, max_depth=md)\n",
    "    return d"
   ]
  },
  {
   "cell_type": "code",
   "execution_count": 58,
   "metadata": {
    "scrolled": true
   },
   "outputs": [],
   "source": [
    "prng=np.random.RandomState(12345)\n",
    "eps_vals = np.arange(0.1, 1.0, 0.3)*10\n",
    "def get_test(db, prng):\n",
    "    dbs = []\n",
    "    for i in range(0, 3):\n",
    "        for e in eps_vals:\n",
    "            dbs.append(get_train_dbs(db, e, prng))\n",
    "    return dbs\n",
    "data_train = [get_test(db, prng) for db in [nurs, default, loan, adult, lending]]"
   ]
  },
  {
   "cell_type": "code",
   "execution_count": 68,
   "metadata": {
    "scrolled": true
   },
   "outputs": [
    {
     "data": {
      "text/plain": [
       "'\\ndef get_cm(db):\\n    eps_vals = np.arange(0.1, 1.0, 0.1)\\n    info = [get_train_dbs(db, x, prng) for x in eps_vals]\\n    print(len(info))\\n    regrets, X, datas = zip(*info)\\n    regrets = pd.concat([pd.DataFrame(r) for r in regrets], ignore_index=True)\\n    X = pd.concat([pd.DataFrame(r) for r in X], ignore_index=True)\\n    return (DTChoice(X, DBMetas(), tree_algs, regrets=regrets), datas)\\n\\nfrom multiprocessing import Pool\\np = Pool(6)\\nout = p.map(get_cm, [nurs, default, loan, adult, lending])\\n'"
      ]
     },
     "execution_count": 68,
     "metadata": {},
     "output_type": "execute_result"
    }
   ],
   "source": [
    "\"\"\"\n",
    "def get_cm(db):\n",
    "    eps_vals = np.arange(0.1, 1.0, 0.1)\n",
    "    info = [get_train_dbs(db, x, prng) for x in eps_vals]\n",
    "    print(len(info))\n",
    "    regrets, X, datas = zip(*info)\n",
    "    regrets = pd.concat([pd.DataFrame(r) for r in regrets], ignore_index=True)\n",
    "    X = pd.concat([pd.DataFrame(r) for r in X], ignore_index=True)\n",
    "    return (DTChoice(X, DBMetas(), tree_algs, regrets=regrets), datas)\n",
    "\n",
    "from multiprocessing import Pool\n",
    "p = Pool(6)\n",
    "out = p.map(get_cm, [nurs, default, loan, adult, lending])\n",
    "\"\"\""
   ]
  },
  {
   "cell_type": "code",
   "execution_count": 125,
   "metadata": {},
   "outputs": [],
   "source": [
    "def get_cm(info):\n",
    "    regrets, X, datas = zip(*info)\n",
    "    regrets = pd.concat([pd.DataFrame(r) for r in regrets], ignore_index=True)\n",
    "    X = pd.concat([pd.DataFrame(r) for r in X], ignore_index=True)\n",
    "    return DTChoice(X, DBMetas(), tree_algs, regrets=regrets)\n",
    "\n",
    "out = [get_cm(o) for o in data_train]"
   ]
  },
  {
   "cell_type": "code",
   "execution_count": 243,
   "metadata": {},
   "outputs": [],
   "source": [
    "pickle.dump([cm.X for cm in out], open('decision_tree_metadata/data.pkl', 'wb'))"
   ]
  },
  {
   "cell_type": "code",
   "execution_count": 247,
   "metadata": {},
   "outputs": [],
   "source": [
    "pickle.dump([cm.regrets for cm in out], open('decision_tree_metadata/regrets.pkl', 'wb'))"
   ]
  },
  {
   "cell_type": "code",
   "execution_count": 249,
   "metadata": {},
   "outputs": [],
   "source": [
    "pickle.dump(data_train, open('decision_tree_metadata/training_dbs.pkl', 'wb'))"
   ]
  },
  {
   "cell_type": "code",
   "execution_count": 250,
   "metadata": {
    "collapsed": true
   },
   "outputs": [],
   "source": [
    "mfs = pickle.load(open('decision_tree_metadata/data.pkl', 'rb'))\n",
    "regs = pickle.load(open('decision_tree_metadata/regrets.pkl', 'rb'))\n",
    "tdbs = pickle.load(open('decision_tree_metadata/training_dbs.pkl', 'rb'))"
   ]
  },
  {
   "cell_type": "code",
   "execution_count": 251,
   "metadata": {},
   "outputs": [
    {
     "data": {
      "text/plain": [
       "5"
      ]
     },
     "execution_count": 251,
     "metadata": {},
     "output_type": "execute_result"
    }
   ],
   "source": []
  },
  {
   "cell_type": "code",
   "execution_count": 253,
   "metadata": {},
   "outputs": [
    {
     "data": {
      "text/plain": [
       "<ChoiceMaker.DTChoice at 0x7fe1140927b8>"
      ]
     },
     "execution_count": 253,
     "metadata": {},
     "output_type": "execute_result"
    }
   ],
   "source": [
    "DTChoice(mfs[0], DBMetas(), tree_algs, regrets=regs[0])"
   ]
  },
  {
   "cell_type": "code",
   "execution_count": 126,
   "metadata": {
    "collapsed": true
   },
   "outputs": [],
   "source": [
    "def combine_cms(cms, C=0, msl=1):\n",
    "    Xs = pd.concat([cm.X for cm in cms], ignore_index=True)\n",
    "    regs = pd.concat([cm.regrets for cm in cms], ignore_index=True)\n",
    "    dt = DTChoice(Xs, DBMetas(), tree_algs, regrets=regs, C=0)\n",
    "    dt.model = DecisionTreeClassifier(min_samples_leaf=msl, max_depth=3)\n",
    "    dt.retrain_model()\n",
    "    return dt"
   ]
  },
  {
   "cell_type": "code",
   "execution_count": 127,
   "metadata": {
    "collapsed": true
   },
   "outputs": [],
   "source": [
    "def get_results(dbs, cm, cm2):\n",
    "    dt = PDTree()\n",
    "    budgets = [x.epsilon for x in dbs]\n",
    "    L = []\n",
    "    for t in dbs:\n",
    "        print('Start1')\n",
    "        L.append( dt.fit_and_predict(t, null_cm()) )\n",
    "    for i in range(len(dbs)):\n",
    "        dbs[i].epsilon = budgets[i]\n",
    "    L2 = []\n",
    "    for t in dbs:\n",
    "        print('Start2')\n",
    "        L2.append(dt.fit_and_predict(t, cm))\n",
    "    for i in range(len(dbs)):\n",
    "        dbs[i].epsilon = budgets[i]\n",
    "    L3 = []\n",
    "    for t in dbs:\n",
    "        print('Start3')\n",
    "        L3.append(dt.fit_and_predict(t, cm2))\n",
    "    for i in range(len(dbs)):\n",
    "        dbs[i].epsilon = budgets[i]\n",
    "    M = np.array([(L[i] == dbs[i].y_test).sum() / len(dbs[i].y_test) for i in range(len(dbs))])\n",
    "    M2 = np.array([(L2[i] == dbs[i].y_test).sum() / len(dbs[i].y_test) for i in range(len(dbs))])\n",
    "    M3 = np.array([(L3[i] == dbs[i].y_test).sum() / len(dbs[i].y_test) for i in range(len(dbs))])\n",
    "    return (M, M2, M3)"
   ]
  },
  {
   "cell_type": "code",
   "execution_count": 198,
   "metadata": {},
   "outputs": [
    {
     "data": {
      "text/plain": [
       "[<__main__.DB at 0x7fe0e409ce48>,\n",
       " <__main__.DB at 0x7fe0e41ab080>,\n",
       " <__main__.DB at 0x7fe0e40ad390>,\n",
       " <__main__.DB at 0x7fe0e41ab518>,\n",
       " <__main__.DB at 0x7fe0e40bec50>]"
      ]
     },
     "execution_count": 198,
     "metadata": {},
     "output_type": "execute_result"
    }
   ],
   "source": [
    "prng=np.random.RandomState(12345)\n",
    "[get_test_dbs(db, 2.0, prng) for db in [nurs, default, loan, adult, lending]]"
   ]
  },
  {
   "cell_type": "markdown",
   "metadata": {},
   "source": [
    "### Experiment 0"
   ]
  },
  {
   "cell_type": "code",
   "execution_count": 128,
   "metadata": {},
   "outputs": [],
   "source": [
    "big_cm0 = combine_cms(out[1:])"
   ]
  },
  {
   "cell_type": "code",
   "execution_count": 211,
   "metadata": {
    "scrolled": true
   },
   "outputs": [
    {
     "data": {
      "image/svg+xml": [
       "<?xml version=\"1.0\" encoding=\"UTF-8\" standalone=\"no\"?>\n",
       "<!DOCTYPE svg PUBLIC \"-//W3C//DTD SVG 1.1//EN\"\n",
       " \"http://www.w3.org/Graphics/SVG/1.1/DTD/svg11.dtd\">\n",
       "<!-- Generated by graphviz version 2.40.1 (20161225.0304)\n",
       " -->\n",
       "<!-- Title: Tree Pages: 1 -->\n",
       "<svg width=\"401pt\" height=\"269pt\"\n",
       " viewBox=\"0.00 0.00 401.00 269.00\" xmlns=\"http://www.w3.org/2000/svg\" xmlns:xlink=\"http://www.w3.org/1999/xlink\">\n",
       "<g id=\"graph0\" class=\"graph\" transform=\"scale(1 1) rotate(0) translate(4 265)\">\n",
       "<title>Tree</title>\n",
       "<polygon fill=\"#ffffff\" stroke=\"transparent\" points=\"-4,4 -4,-265 397,-265 397,4 -4,4\"/>\n",
       "<!-- 0 -->\n",
       "<g id=\"node1\" class=\"node\">\n",
       "<title>0</title>\n",
       "<path fill=\"transparent\" stroke=\"#000000\" d=\"M298,-261C298,-261 175,-261 175,-261 169,-261 163,-255 163,-249 163,-249 163,-205 163,-205 163,-199 169,-193 175,-193 175,-193 298,-193 298,-193 304,-193 310,-199 310,-205 310,-205 310,-249 310,-249 310,-255 304,-261 298,-261\"/>\n",
       "<text text-anchor=\"middle\" x=\"236.5\" y=\"-245.8\" font-family=\"Helvetica,sans-Serif\" font-size=\"14.00\" fill=\"#000000\">X[454] &lt;= &#45;8.677</text>\n",
       "<text text-anchor=\"middle\" x=\"236.5\" y=\"-230.8\" font-family=\"Helvetica,sans-Serif\" font-size=\"14.00\" fill=\"#000000\">gini = 0.207</text>\n",
       "<text text-anchor=\"middle\" x=\"236.5\" y=\"-215.8\" font-family=\"Helvetica,sans-Serif\" font-size=\"14.00\" fill=\"#000000\">samples = 1152</text>\n",
       "<text text-anchor=\"middle\" x=\"236.5\" y=\"-200.8\" font-family=\"Helvetica,sans-Serif\" font-size=\"14.00\" fill=\"#000000\">value = [0.499, 0.793]</text>\n",
       "</g>\n",
       "<!-- 1 -->\n",
       "<g id=\"node2\" class=\"node\">\n",
       "<title>1</title>\n",
       "<path fill=\"#399de5\" fill-opacity=\"0.011765\" stroke=\"#000000\" d=\"M216,-157C216,-157 93,-157 93,-157 87,-157 81,-151 81,-145 81,-145 81,-101 81,-101 81,-95 87,-89 93,-89 93,-89 216,-89 216,-89 222,-89 228,-95 228,-101 228,-101 228,-145 228,-145 228,-151 222,-157 216,-157\"/>\n",
       "<text text-anchor=\"middle\" x=\"154.5\" y=\"-141.8\" font-family=\"Helvetica,sans-Serif\" font-size=\"14.00\" fill=\"#000000\">X[76] &lt;= &#45;10.913</text>\n",
       "<text text-anchor=\"middle\" x=\"154.5\" y=\"-126.8\" font-family=\"Helvetica,sans-Serif\" font-size=\"14.00\" fill=\"#000000\">gini = 0.287</text>\n",
       "<text text-anchor=\"middle\" x=\"154.5\" y=\"-111.8\" font-family=\"Helvetica,sans-Serif\" font-size=\"14.00\" fill=\"#000000\">samples = 36</text>\n",
       "<text text-anchor=\"middle\" x=\"154.5\" y=\"-96.8\" font-family=\"Helvetica,sans-Serif\" font-size=\"14.00\" fill=\"#000000\">value = [0.336, 0.713]</text>\n",
       "</g>\n",
       "<!-- 0&#45;&gt;1 -->\n",
       "<g id=\"edge1\" class=\"edge\">\n",
       "<title>0&#45;&gt;1</title>\n",
       "<path fill=\"none\" stroke=\"#000000\" d=\"M209.6501,-192.9465C202.6417,-184.0578 195.0045,-174.3716 187.709,-165.1188\"/>\n",
       "<polygon fill=\"#000000\" stroke=\"#000000\" points=\"190.3502,-162.8157 181.4102,-157.13 184.8533,-167.1498 190.3502,-162.8157\"/>\n",
       "<text text-anchor=\"middle\" x=\"178.4737\" y=\"-178.2569\" font-family=\"Helvetica,sans-Serif\" font-size=\"14.00\" fill=\"#000000\">True</text>\n",
       "</g>\n",
       "<!-- 4 -->\n",
       "<g id=\"node5\" class=\"node\">\n",
       "<title>4</title>\n",
       "<path fill=\"transparent\" stroke=\"#000000\" d=\"M381,-149.5C381,-149.5 258,-149.5 258,-149.5 252,-149.5 246,-143.5 246,-137.5 246,-137.5 246,-108.5 246,-108.5 246,-102.5 252,-96.5 258,-96.5 258,-96.5 381,-96.5 381,-96.5 387,-96.5 393,-102.5 393,-108.5 393,-108.5 393,-137.5 393,-137.5 393,-143.5 387,-149.5 381,-149.5\"/>\n",
       "<text text-anchor=\"middle\" x=\"319.5\" y=\"-134.3\" font-family=\"Helvetica,sans-Serif\" font-size=\"14.00\" fill=\"#000000\">gini = 0.205</text>\n",
       "<text text-anchor=\"middle\" x=\"319.5\" y=\"-119.3\" font-family=\"Helvetica,sans-Serif\" font-size=\"14.00\" fill=\"#000000\">samples = 1116</text>\n",
       "<text text-anchor=\"middle\" x=\"319.5\" y=\"-104.3\" font-family=\"Helvetica,sans-Serif\" font-size=\"14.00\" fill=\"#000000\">value = [0.504, 0.795]</text>\n",
       "</g>\n",
       "<!-- 0&#45;&gt;4 -->\n",
       "<g id=\"edge4\" class=\"edge\">\n",
       "<title>0&#45;&gt;4</title>\n",
       "<path fill=\"none\" stroke=\"#000000\" d=\"M263.6773,-192.9465C272.7318,-181.6012 282.823,-168.9567 291.9086,-157.5724\"/>\n",
       "<polygon fill=\"#000000\" stroke=\"#000000\" points=\"294.8151,-159.5414 298.3173,-149.5422 289.3439,-155.175 294.8151,-159.5414\"/>\n",
       "<text text-anchor=\"middle\" x=\"301.1073\" y=\"-170.686\" font-family=\"Helvetica,sans-Serif\" font-size=\"14.00\" fill=\"#000000\">False</text>\n",
       "</g>\n",
       "<!-- 2 -->\n",
       "<g id=\"node3\" class=\"node\">\n",
       "<title>2</title>\n",
       "<path fill=\"#399de5\" fill-opacity=\"0.039216\" stroke=\"#000000\" d=\"M135,-53C135,-53 12,-53 12,-53 6,-53 0,-47 0,-41 0,-41 0,-12 0,-12 0,-6 6,0 12,0 12,0 135,0 135,0 141,0 147,-6 147,-12 147,-12 147,-41 147,-41 147,-47 141,-53 135,-53\"/>\n",
       "<text text-anchor=\"middle\" x=\"73.5\" y=\"-37.8\" font-family=\"Helvetica,sans-Serif\" font-size=\"14.00\" fill=\"#000000\">gini = 0.288</text>\n",
       "<text text-anchor=\"middle\" x=\"73.5\" y=\"-22.8\" font-family=\"Helvetica,sans-Serif\" font-size=\"14.00\" fill=\"#000000\">samples = 10</text>\n",
       "<text text-anchor=\"middle\" x=\"73.5\" y=\"-7.8\" font-family=\"Helvetica,sans-Serif\" font-size=\"14.00\" fill=\"#000000\">value = [0.326, 0.712]</text>\n",
       "</g>\n",
       "<!-- 1&#45;&gt;2 -->\n",
       "<g id=\"edge2\" class=\"edge\">\n",
       "<title>1&#45;&gt;2</title>\n",
       "<path fill=\"none\" stroke=\"#000000\" d=\"M125.9424,-88.9777C118.3331,-79.9123 110.1061,-70.111 102.4747,-61.0192\"/>\n",
       "<polygon fill=\"#000000\" stroke=\"#000000\" points=\"105.062,-58.6577 95.9521,-53.2485 99.7005,-63.1581 105.062,-58.6577\"/>\n",
       "</g>\n",
       "<!-- 3 -->\n",
       "<g id=\"node4\" class=\"node\">\n",
       "<title>3</title>\n",
       "<path fill=\"#399de5\" fill-opacity=\"0.015686\" stroke=\"#000000\" d=\"M293.5,-53C293.5,-53 177.5,-53 177.5,-53 171.5,-53 165.5,-47 165.5,-41 165.5,-41 165.5,-12 165.5,-12 165.5,-6 171.5,0 177.5,0 177.5,0 293.5,0 293.5,0 299.5,0 305.5,-6 305.5,-12 305.5,-12 305.5,-41 305.5,-41 305.5,-47 299.5,-53 293.5,-53\"/>\n",
       "<text text-anchor=\"middle\" x=\"235.5\" y=\"-37.8\" font-family=\"Helvetica,sans-Serif\" font-size=\"14.00\" fill=\"#000000\">gini = 0.286</text>\n",
       "<text text-anchor=\"middle\" x=\"235.5\" y=\"-22.8\" font-family=\"Helvetica,sans-Serif\" font-size=\"14.00\" fill=\"#000000\">samples = 26</text>\n",
       "<text text-anchor=\"middle\" x=\"235.5\" y=\"-7.8\" font-family=\"Helvetica,sans-Serif\" font-size=\"14.00\" fill=\"#000000\">value = [0.34, 0.714]</text>\n",
       "</g>\n",
       "<!-- 1&#45;&gt;3 -->\n",
       "<g id=\"edge3\" class=\"edge\">\n",
       "<title>1&#45;&gt;3</title>\n",
       "<path fill=\"none\" stroke=\"#000000\" d=\"M183.0576,-88.9777C190.6669,-79.9123 198.8939,-70.111 206.5253,-61.0192\"/>\n",
       "<polygon fill=\"#000000\" stroke=\"#000000\" points=\"209.2995,-63.1581 213.0479,-53.2485 203.938,-58.6577 209.2995,-63.1581\"/>\n",
       "</g>\n",
       "</g>\n",
       "</svg>\n"
      ],
      "text/plain": [
       "<graphviz.files.Source at 0x7fe0d6579ba8>"
      ]
     },
     "execution_count": 211,
     "metadata": {},
     "output_type": "execute_result"
    }
   ],
   "source": [
    "dot_data = export_graphviz(out[0].model, out_file = None, filled=True, rounded=True)\n",
    "graph = graphviz.Source(dot_data)\n",
    "graph"
   ]
  },
  {
   "cell_type": "code",
   "execution_count": 210,
   "metadata": {
    "collapsed": true
   },
   "outputs": [],
   "source": [
    "out[0].model = DecisionTreeClassifier(min_samples_leaf=10, max_depth=2)\n",
    "out[0].retrain_model()"
   ]
  },
  {
   "cell_type": "code",
   "execution_count": 129,
   "metadata": {
    "collapsed": true
   },
   "outputs": [],
   "source": [
    "big_cm0.model = DecisionTreeClassifier(min_samples_leaf=10, max_depth=2)\n",
    "big_cm0.retrain_model()"
   ]
  },
  {
   "cell_type": "code",
   "execution_count": 230,
   "metadata": {
    "collapsed": true
   },
   "outputs": [],
   "source": [
    "D = get_test_dbs(default, 2.0, prng)"
   ]
  },
  {
   "cell_type": "code",
   "execution_count": 232,
   "metadata": {},
   "outputs": [],
   "source": [
    "D.max_depth=2"
   ]
  },
  {
   "cell_type": "code",
   "execution_count": null,
   "metadata": {
    "collapsed": true
   },
   "outputs": [],
   "source": []
  },
  {
   "cell_type": "code",
   "execution_count": 238,
   "metadata": {
    "scrolled": true
   },
   "outputs": [
    {
     "name": "stdout",
     "output_type": "stream",
     "text": [
      "Start1\n",
      "0\n",
      "1\n",
      "2\n",
      "3\n",
      "4\n",
      "max depth reached\n",
      "4\n",
      "max depth reached\n",
      "4\n",
      "max depth reached\n",
      "3\n",
      "4\n",
      "max depth reached\n",
      "4\n",
      "max depth reached\n",
      "4\n",
      "max depth reached\n",
      "3\n",
      "4\n",
      "max depth reached\n",
      "4\n",
      "max depth reached\n",
      "4\n",
      "max depth reached\n",
      "4\n",
      "max depth reached\n",
      "2\n",
      "3\n",
      "4\n",
      "max depth reached\n",
      "4\n",
      "max depth reached\n",
      "4\n",
      "max depth reached\n",
      "3\n",
      "4\n",
      "max depth reached\n",
      "4\n",
      "max depth reached\n",
      "4\n",
      "max depth reached\n",
      "3\n",
      "4\n",
      "max depth reached\n",
      "4\n",
      "max depth reached\n",
      "4\n",
      "max depth reached\n",
      "3\n",
      "4\n",
      "max depth reached\n",
      "4\n",
      "max depth reached\n",
      "2\n",
      "3\n",
      "4\n",
      "max depth reached\n",
      "4\n",
      "max depth reached\n",
      "4\n",
      "max depth reached\n",
      "3\n",
      "4\n",
      "max depth reached\n",
      "4\n",
      "max depth reached\n",
      "3\n",
      "4\n",
      "max depth reached\n",
      "4\n",
      "max depth reached\n",
      "4\n",
      "max depth reached\n",
      "2\n",
      "3\n",
      "4\n",
      "max depth reached\n",
      "4\n",
      "max depth reached\n",
      "4\n",
      "max depth reached\n",
      "3\n",
      "4\n",
      "max depth reached\n",
      "4\n",
      "max depth reached\n",
      "4\n",
      "max depth reached\n",
      "3\n",
      "4\n",
      "max depth reached\n",
      "4\n",
      "max depth reached\n",
      "4\n",
      "max depth reached\n",
      "2\n",
      "3\n",
      "4\n",
      "max depth reached\n",
      "4\n",
      "max depth reached\n",
      "4\n",
      "max depth reached\n",
      "4\n",
      "max depth reached\n",
      "3\n",
      "4\n",
      "max depth reached\n",
      "4\n",
      "max depth reached\n",
      "4\n",
      "max depth reached\n",
      "1\n",
      "2\n",
      "3\n",
      "4\n",
      "max depth reached\n",
      "4\n",
      "max depth reached\n",
      "4\n",
      "max depth reached\n",
      "3\n",
      "4\n",
      "max depth reached\n",
      "4\n",
      "max depth reached\n",
      "4\n",
      "max depth reached\n",
      "3\n",
      "4\n",
      "max depth reached\n",
      "4\n",
      "max depth reached\n",
      "3\n",
      "4\n",
      "max depth reached\n",
      "4\n",
      "max depth reached\n",
      "2\n",
      "3\n",
      "4\n",
      "max depth reached\n",
      "4\n",
      "max depth reached\n",
      "4\n",
      "max depth reached\n",
      "4\n",
      "max depth reached\n",
      "3\n",
      "4\n",
      "max depth reached\n",
      "4\n",
      "max depth reached\n",
      "4\n",
      "max depth reached\n",
      "3\n",
      "4\n",
      "max depth reached\n",
      "4\n",
      "max depth reached\n",
      "4\n",
      "max depth reached\n",
      "3\n",
      "4\n",
      "max depth reached\n",
      "4\n",
      "max depth reached\n",
      "4\n",
      "max depth reached\n",
      "4\n",
      "max depth reached\n",
      "3\n",
      "4\n",
      "max depth reached\n",
      "4\n",
      "max depth reached\n",
      "4\n",
      "max depth reached\n",
      "4\n",
      "max depth reached\n",
      "2\n",
      "3\n",
      "4\n",
      "max depth reached\n",
      "4\n",
      "max depth reached\n",
      "3\n",
      "4\n",
      "max depth reached\n",
      "4\n",
      "max depth reached\n",
      "4\n",
      "max depth reached\n",
      "4\n",
      "max depth reached\n",
      "3\n",
      "4\n",
      "max depth reached\n",
      "4\n",
      "max depth reached\n",
      "4\n",
      "max depth reached\n",
      "4\n",
      "max depth reached\n",
      "4\n",
      "max depth reached\n",
      "1\n",
      "2\n",
      "3\n",
      "4\n",
      "max depth reached\n",
      "4\n",
      "max depth reached\n",
      "4\n",
      "max depth reached\n",
      "4\n",
      "max depth reached\n",
      "3\n",
      "4\n",
      "max depth reached\n",
      "4\n",
      "max depth reached\n",
      "4\n",
      "max depth reached\n",
      "3\n",
      "4\n",
      "max depth reached\n",
      "4\n",
      "max depth reached\n",
      "4\n",
      "max depth reached\n",
      "3\n",
      "4\n",
      "max depth reached\n",
      "4\n",
      "max depth reached\n",
      "4\n",
      "max depth reached\n",
      "3\n",
      "4\n",
      "max depth reached\n",
      "4\n",
      "max depth reached\n",
      "4\n",
      "max depth reached\n",
      "2\n",
      "3\n",
      "4\n",
      "max depth reached\n",
      "4\n",
      "max depth reached\n",
      "3\n",
      "4\n",
      "max depth reached\n",
      "4\n",
      "max depth reached\n",
      "3\n",
      "4\n",
      "max depth reached\n",
      "4\n",
      "max depth reached\n",
      "4\n",
      "max depth reached\n",
      "4\n",
      "max depth reached\n",
      "3\n",
      "4\n",
      "max depth reached\n",
      "4\n",
      "max depth reached\n",
      "4\n",
      "max depth reached\n",
      "4\n",
      "max depth reached\n",
      "3\n",
      "4\n",
      "max depth reached\n",
      "4\n",
      "max depth reached\n",
      "4\n",
      "max depth reached\n",
      "2\n",
      "3\n",
      "4\n",
      "max depth reached\n",
      "4\n",
      "max depth reached\n",
      "4\n",
      "max depth reached\n",
      "3\n",
      "4\n",
      "max depth reached\n",
      "4\n",
      "max depth reached\n",
      "4\n",
      "max depth reached\n",
      "3\n",
      "4\n",
      "max depth reached\n",
      "4\n",
      "max depth reached\n",
      "4\n",
      "max depth reached\n",
      "4\n",
      "max depth reached\n",
      "3\n",
      "4\n",
      "max depth reached\n",
      "4\n",
      "max depth reached\n",
      "4\n",
      "max depth reached\n",
      "3\n",
      "4\n",
      "max depth reached\n",
      "4\n",
      "max depth reached\n",
      "Start2\n"
     ]
    },
    {
     "ename": "KeyboardInterrupt",
     "evalue": "",
     "output_type": "error",
     "traceback": [
      "\u001b[0;31m---------------------------------------------------------------------------\u001b[0m",
      "\u001b[0;31mKeyboardInterrupt\u001b[0m                         Traceback (most recent call last)",
      "\u001b[0;32m<ipython-input-238-a02266cb9728>\u001b[0m in \u001b[0;36m<module>\u001b[0;34m()\u001b[0m\n\u001b[0;32m----> 1\u001b[0;31m \u001b[0mnurs1\u001b[0m\u001b[0;34m,\u001b[0m \u001b[0mnurs2\u001b[0m\u001b[0;34m,\u001b[0m \u001b[0mnurs3\u001b[0m \u001b[0;34m=\u001b[0m \u001b[0mget_results\u001b[0m\u001b[0;34m(\u001b[0m\u001b[0;34m[\u001b[0m\u001b[0mget_test_dbs\u001b[0m\u001b[0;34m(\u001b[0m\u001b[0mnurs\u001b[0m\u001b[0;34m,\u001b[0m \u001b[0;36m2.0\u001b[0m\u001b[0;34m,\u001b[0m \u001b[0mprng\u001b[0m\u001b[0;34m)\u001b[0m\u001b[0;34m]\u001b[0m\u001b[0;34m,\u001b[0m \u001b[0mout\u001b[0m\u001b[0;34m[\u001b[0m\u001b[0;36m0\u001b[0m\u001b[0;34m]\u001b[0m\u001b[0;34m,\u001b[0m \u001b[0mfried_cm\u001b[0m\u001b[0;34m)\u001b[0m\u001b[0;34m\u001b[0m\u001b[0m\n\u001b[0m",
      "\u001b[0;32m<ipython-input-127-daf083c50269>\u001b[0m in \u001b[0;36mget_results\u001b[0;34m(dbs, cm, cm2)\u001b[0m\n\u001b[1;32m     11\u001b[0m     \u001b[0;32mfor\u001b[0m \u001b[0mt\u001b[0m \u001b[0;32min\u001b[0m \u001b[0mdbs\u001b[0m\u001b[0;34m:\u001b[0m\u001b[0;34m\u001b[0m\u001b[0m\n\u001b[1;32m     12\u001b[0m         \u001b[0mprint\u001b[0m\u001b[0;34m(\u001b[0m\u001b[0;34m'Start2'\u001b[0m\u001b[0;34m)\u001b[0m\u001b[0;34m\u001b[0m\u001b[0m\n\u001b[0;32m---> 13\u001b[0;31m         \u001b[0mL2\u001b[0m\u001b[0;34m.\u001b[0m\u001b[0mappend\u001b[0m\u001b[0;34m(\u001b[0m\u001b[0mdt\u001b[0m\u001b[0;34m.\u001b[0m\u001b[0mfit_and_predict\u001b[0m\u001b[0;34m(\u001b[0m\u001b[0mt\u001b[0m\u001b[0;34m,\u001b[0m \u001b[0mcm\u001b[0m\u001b[0;34m)\u001b[0m\u001b[0;34m)\u001b[0m\u001b[0;34m\u001b[0m\u001b[0m\n\u001b[0m\u001b[1;32m     14\u001b[0m     \u001b[0;32mfor\u001b[0m \u001b[0mi\u001b[0m \u001b[0;32min\u001b[0m \u001b[0mrange\u001b[0m\u001b[0;34m(\u001b[0m\u001b[0mlen\u001b[0m\u001b[0;34m(\u001b[0m\u001b[0mdbs\u001b[0m\u001b[0;34m)\u001b[0m\u001b[0;34m)\u001b[0m\u001b[0;34m:\u001b[0m\u001b[0;34m\u001b[0m\u001b[0m\n\u001b[1;32m     15\u001b[0m         \u001b[0mdbs\u001b[0m\u001b[0;34m[\u001b[0m\u001b[0mi\u001b[0m\u001b[0;34m]\u001b[0m\u001b[0;34m.\u001b[0m\u001b[0mepsilon\u001b[0m \u001b[0;34m=\u001b[0m \u001b[0mbudgets\u001b[0m\u001b[0;34m[\u001b[0m\u001b[0mi\u001b[0m\u001b[0;34m]\u001b[0m\u001b[0;34m\u001b[0m\u001b[0m\n",
      "\u001b[0;32m<ipython-input-234-81753aa84ae3>\u001b[0m in \u001b[0;36mfit_and_predict\u001b[0;34m(self, data, cm)\u001b[0m\n\u001b[1;32m     47\u001b[0m         \u001b[0mbudget\u001b[0m \u001b[0;34m=\u001b[0m \u001b[0mdata\u001b[0m\u001b[0;34m.\u001b[0m\u001b[0mepsilon\u001b[0m \u001b[0;34m/\u001b[0m \u001b[0mdata\u001b[0m\u001b[0;34m.\u001b[0m\u001b[0mX\u001b[0m\u001b[0;34m.\u001b[0m\u001b[0mshape\u001b[0m\u001b[0;34m[\u001b[0m\u001b[0;36m1\u001b[0m\u001b[0;34m]\u001b[0m\u001b[0;34m\u001b[0m\u001b[0m\n\u001b[1;32m     48\u001b[0m         \u001b[0mdata\u001b[0m\u001b[0;34m.\u001b[0m\u001b[0mepsilon\u001b[0m \u001b[0;34m=\u001b[0m \u001b[0mbudget\u001b[0m\u001b[0;34m\u001b[0m\u001b[0m\n\u001b[0;32m---> 49\u001b[0;31m         \u001b[0;32mreturn\u001b[0m \u001b[0mself\u001b[0m\u001b[0;34m.\u001b[0m\u001b[0mdecision_helper\u001b[0m\u001b[0;34m(\u001b[0m\u001b[0mdata\u001b[0m\u001b[0;34m,\u001b[0m \u001b[0mcm\u001b[0m\u001b[0;34m)\u001b[0m\u001b[0;34m\u001b[0m\u001b[0m\n\u001b[0m",
      "\u001b[0;32m<ipython-input-234-81753aa84ae3>\u001b[0m in \u001b[0;36mdecision_helper\u001b[0;34m(self, db, cm)\u001b[0m\n\u001b[1;32m     41\u001b[0m             \u001b[0;32mif\u001b[0m\u001b[0;34m(\u001b[0m\u001b[0mtest_split_y\u001b[0m\u001b[0;34m.\u001b[0m\u001b[0msize\u001b[0m \u001b[0;34m>\u001b[0m \u001b[0;36m0\u001b[0m\u001b[0;34m)\u001b[0m\u001b[0;34m:\u001b[0m\u001b[0;34m\u001b[0m\u001b[0m\n\u001b[1;32m     42\u001b[0m                 \u001b[0mdb_new\u001b[0m \u001b[0;34m=\u001b[0m \u001b[0mDB\u001b[0m\u001b[0;34m(\u001b[0m\u001b[0mtrain_split\u001b[0m\u001b[0;34m,\u001b[0m \u001b[0my_split\u001b[0m\u001b[0;34m,\u001b[0m \u001b[0mtest_split\u001b[0m\u001b[0;34m,\u001b[0m \u001b[0mtest_split_y\u001b[0m\u001b[0;34m,\u001b[0m \u001b[0mdb\u001b[0m\u001b[0;34m.\u001b[0m\u001b[0mepsilon\u001b[0m\u001b[0;34m,\u001b[0m \u001b[0mdb\u001b[0m\u001b[0;34m.\u001b[0m\u001b[0mdepth\u001b[0m\u001b[0;34m+\u001b[0m\u001b[0;36m1\u001b[0m\u001b[0;34m,\u001b[0m \u001b[0mdb\u001b[0m\u001b[0;34m.\u001b[0m\u001b[0mmax_depth\u001b[0m\u001b[0;34m)\u001b[0m\u001b[0;34m\u001b[0m\u001b[0m\n\u001b[0;32m---> 43\u001b[0;31m                 \u001b[0mpreds\u001b[0m\u001b[0;34m[\u001b[0m\u001b[0mtest_split_loc\u001b[0m\u001b[0;34m]\u001b[0m \u001b[0;34m=\u001b[0m \u001b[0mself\u001b[0m\u001b[0;34m.\u001b[0m\u001b[0mdecision_helper\u001b[0m\u001b[0;34m(\u001b[0m\u001b[0mdb_new\u001b[0m\u001b[0;34m,\u001b[0m \u001b[0mcm\u001b[0m\u001b[0;34m)\u001b[0m\u001b[0;34m\u001b[0m\u001b[0m\n\u001b[0m\u001b[1;32m     44\u001b[0m         \u001b[0;32mreturn\u001b[0m \u001b[0mpreds\u001b[0m\u001b[0;34m\u001b[0m\u001b[0m\n\u001b[1;32m     45\u001b[0m \u001b[0;34m\u001b[0m\u001b[0m\n",
      "\u001b[0;32m<ipython-input-234-81753aa84ae3>\u001b[0m in \u001b[0;36mdecision_helper\u001b[0;34m(self, db, cm)\u001b[0m\n\u001b[1;32m     41\u001b[0m             \u001b[0;32mif\u001b[0m\u001b[0;34m(\u001b[0m\u001b[0mtest_split_y\u001b[0m\u001b[0;34m.\u001b[0m\u001b[0msize\u001b[0m \u001b[0;34m>\u001b[0m \u001b[0;36m0\u001b[0m\u001b[0;34m)\u001b[0m\u001b[0;34m:\u001b[0m\u001b[0;34m\u001b[0m\u001b[0m\n\u001b[1;32m     42\u001b[0m                 \u001b[0mdb_new\u001b[0m \u001b[0;34m=\u001b[0m \u001b[0mDB\u001b[0m\u001b[0;34m(\u001b[0m\u001b[0mtrain_split\u001b[0m\u001b[0;34m,\u001b[0m \u001b[0my_split\u001b[0m\u001b[0;34m,\u001b[0m \u001b[0mtest_split\u001b[0m\u001b[0;34m,\u001b[0m \u001b[0mtest_split_y\u001b[0m\u001b[0;34m,\u001b[0m \u001b[0mdb\u001b[0m\u001b[0;34m.\u001b[0m\u001b[0mepsilon\u001b[0m\u001b[0;34m,\u001b[0m \u001b[0mdb\u001b[0m\u001b[0;34m.\u001b[0m\u001b[0mdepth\u001b[0m\u001b[0;34m+\u001b[0m\u001b[0;36m1\u001b[0m\u001b[0;34m,\u001b[0m \u001b[0mdb\u001b[0m\u001b[0;34m.\u001b[0m\u001b[0mmax_depth\u001b[0m\u001b[0;34m)\u001b[0m\u001b[0;34m\u001b[0m\u001b[0m\n\u001b[0;32m---> 43\u001b[0;31m                 \u001b[0mpreds\u001b[0m\u001b[0;34m[\u001b[0m\u001b[0mtest_split_loc\u001b[0m\u001b[0;34m]\u001b[0m \u001b[0;34m=\u001b[0m \u001b[0mself\u001b[0m\u001b[0;34m.\u001b[0m\u001b[0mdecision_helper\u001b[0m\u001b[0;34m(\u001b[0m\u001b[0mdb_new\u001b[0m\u001b[0;34m,\u001b[0m \u001b[0mcm\u001b[0m\u001b[0;34m)\u001b[0m\u001b[0;34m\u001b[0m\u001b[0m\n\u001b[0m\u001b[1;32m     44\u001b[0m         \u001b[0;32mreturn\u001b[0m \u001b[0mpreds\u001b[0m\u001b[0;34m\u001b[0m\u001b[0m\n\u001b[1;32m     45\u001b[0m \u001b[0;34m\u001b[0m\u001b[0m\n",
      "\u001b[0;32m<ipython-input-234-81753aa84ae3>\u001b[0m in \u001b[0;36mdecision_helper\u001b[0;34m(self, db, cm)\u001b[0m\n\u001b[1;32m     11\u001b[0m \u001b[0;34m\u001b[0m\u001b[0m\n\u001b[1;32m     12\u001b[0m     \u001b[0;32mdef\u001b[0m \u001b[0mdecision_helper\u001b[0m\u001b[0;34m(\u001b[0m\u001b[0mself\u001b[0m\u001b[0;34m,\u001b[0m \u001b[0mdb\u001b[0m\u001b[0;34m,\u001b[0m \u001b[0mcm\u001b[0m\u001b[0;34m)\u001b[0m\u001b[0;34m:\u001b[0m\u001b[0;34m\u001b[0m\u001b[0m\n\u001b[0;32m---> 13\u001b[0;31m         \u001b[0maction\u001b[0m \u001b[0;34m=\u001b[0m \u001b[0mcm\u001b[0m\u001b[0;34m.\u001b[0m\u001b[0mchoose\u001b[0m\u001b[0;34m(\u001b[0m\u001b[0mdb\u001b[0m\u001b[0;34m)\u001b[0m\u001b[0;34m\u001b[0m\u001b[0m\n\u001b[0m\u001b[1;32m     14\u001b[0m         \u001b[0;32mif\u001b[0m \u001b[0mdb\u001b[0m\u001b[0;34m.\u001b[0m\u001b[0mdepth\u001b[0m \u001b[0;34m==\u001b[0m \u001b[0mdb\u001b[0m\u001b[0;34m.\u001b[0m\u001b[0mmax_depth\u001b[0m\u001b[0;34m:\u001b[0m\u001b[0;34m\u001b[0m\u001b[0m\n\u001b[1;32m     15\u001b[0m             \u001b[0mprint\u001b[0m\u001b[0;34m(\u001b[0m\u001b[0;34m'max depth reached'\u001b[0m\u001b[0;34m)\u001b[0m\u001b[0;34m\u001b[0m\u001b[0m\n",
      "\u001b[0;32m~/Desktop/Yang_Research/Python/ChoiceMaker.py\u001b[0m in \u001b[0;36mchoose\u001b[0;34m(self, data, ratio)\u001b[0m\n\u001b[1;32m    150\u001b[0m         \u001b[0mtot_eps\u001b[0m \u001b[0;34m=\u001b[0m \u001b[0mdata\u001b[0m\u001b[0;34m.\u001b[0m\u001b[0mepsilon\u001b[0m\u001b[0;34m\u001b[0m\u001b[0m\n\u001b[1;32m    151\u001b[0m         \u001b[0mdata\u001b[0m\u001b[0;34m.\u001b[0m\u001b[0mepsilon\u001b[0m \u001b[0;34m-=\u001b[0m \u001b[0mbudget\u001b[0m\u001b[0;34m\u001b[0m\u001b[0m\n\u001b[0;32m--> 152\u001b[0;31m         \u001b[0;34m(\u001b[0m\u001b[0mbest\u001b[0m\u001b[0;34m,\u001b[0m \u001b[0mused\u001b[0m\u001b[0;34m)\u001b[0m \u001b[0;34m=\u001b[0m \u001b[0mself\u001b[0m\u001b[0;34m.\u001b[0m\u001b[0mget_best_alg\u001b[0m\u001b[0;34m(\u001b[0m\u001b[0mdata\u001b[0m\u001b[0;34m,\u001b[0m \u001b[0mbudget\u001b[0m\u001b[0;34m)\u001b[0m\u001b[0;34m\u001b[0m\u001b[0m\n\u001b[0m\u001b[1;32m    153\u001b[0m         \u001b[0mdata\u001b[0m\u001b[0;34m.\u001b[0m\u001b[0mepsilon\u001b[0m \u001b[0;34m=\u001b[0m \u001b[0mtot_eps\u001b[0m \u001b[0;34m-\u001b[0m \u001b[0mused\u001b[0m\u001b[0;34m\u001b[0m\u001b[0m\n\u001b[1;32m    154\u001b[0m         \u001b[0;32mreturn\u001b[0m \u001b[0mself\u001b[0m\u001b[0;34m.\u001b[0m\u001b[0malgs\u001b[0m\u001b[0;34m[\u001b[0m\u001b[0mbest\u001b[0m\u001b[0;34m]\u001b[0m\u001b[0;34m.\u001b[0m\u001b[0mrun\u001b[0m\u001b[0;34m(\u001b[0m\u001b[0mdata\u001b[0m\u001b[0;34m)\u001b[0m\u001b[0;34m\u001b[0m\u001b[0m\n",
      "\u001b[0;32m~/Desktop/Yang_Research/Python/ChoiceMaker.py\u001b[0m in \u001b[0;36mget_best_alg\u001b[0;34m(self, data, budget)\u001b[0m\n\u001b[1;32m    130\u001b[0m         \u001b[0mlog_noisy_X\u001b[0m \u001b[0;34m=\u001b[0m \u001b[0mnp\u001b[0m\u001b[0;34m.\u001b[0m\u001b[0mlog\u001b[0m\u001b[0;34m(\u001b[0m\u001b[0mnp\u001b[0m\u001b[0;34m.\u001b[0m\u001b[0mmaximum\u001b[0m\u001b[0;34m(\u001b[0m\u001b[0;36m1\u001b[0m\u001b[0;34m,\u001b[0m \u001b[0mnoisy_X\u001b[0m\u001b[0;34m)\u001b[0m\u001b[0;34m)\u001b[0m\u001b[0;34m\u001b[0m\u001b[0m\n\u001b[1;32m    131\u001b[0m         noisy_T = pd.DataFrame([t(log_noisy_X) for t in\n\u001b[0;32m--> 132\u001b[0;31m             self.trans]).reset_index(drop=True).T\n\u001b[0m\u001b[1;32m    133\u001b[0m \u001b[0;34m\u001b[0m\u001b[0m\n\u001b[1;32m    134\u001b[0m         \u001b[0mX\u001b[0m \u001b[0;34m=\u001b[0m \u001b[0mpd\u001b[0m\u001b[0;34m.\u001b[0m\u001b[0mconcat\u001b[0m\u001b[0;34m(\u001b[0m\u001b[0;34m(\u001b[0m\u001b[0mnoisy_X\u001b[0m\u001b[0;34m,\u001b[0m \u001b[0mnoisy_T\u001b[0m\u001b[0;34m)\u001b[0m\u001b[0;34m,\u001b[0m \u001b[0maxis\u001b[0m\u001b[0;34m=\u001b[0m\u001b[0;36m1\u001b[0m\u001b[0;34m)\u001b[0m\u001b[0;34m\u001b[0m\u001b[0m\n",
      "\u001b[0;32m~/Desktop/Yang_Research/Python/ChoiceMaker.py\u001b[0m in \u001b[0;36m<listcomp>\u001b[0;34m(.0)\u001b[0m\n\u001b[1;32m    129\u001b[0m                                  for name, value in self.metafeatures(data).items()}])\n\u001b[1;32m    130\u001b[0m         \u001b[0mlog_noisy_X\u001b[0m \u001b[0;34m=\u001b[0m \u001b[0mnp\u001b[0m\u001b[0;34m.\u001b[0m\u001b[0mlog\u001b[0m\u001b[0;34m(\u001b[0m\u001b[0mnp\u001b[0m\u001b[0;34m.\u001b[0m\u001b[0mmaximum\u001b[0m\u001b[0;34m(\u001b[0m\u001b[0;36m1\u001b[0m\u001b[0;34m,\u001b[0m \u001b[0mnoisy_X\u001b[0m\u001b[0;34m)\u001b[0m\u001b[0;34m)\u001b[0m\u001b[0;34m\u001b[0m\u001b[0m\n\u001b[0;32m--> 131\u001b[0;31m         noisy_T = pd.DataFrame([t(log_noisy_X) for t in\n\u001b[0m\u001b[1;32m    132\u001b[0m             self.trans]).reset_index(drop=True).T\n\u001b[1;32m    133\u001b[0m \u001b[0;34m\u001b[0m\u001b[0m\n",
      "\u001b[0;32m~/Desktop/Yang_Research/Python/ChoiceMaker.py\u001b[0m in \u001b[0;36m__call__\u001b[0;34m(self, BaseX)\u001b[0m\n\u001b[1;32m     24\u001b[0m         \u001b[0;32mfor\u001b[0m \u001b[0mi\u001b[0m \u001b[0;32min\u001b[0m \u001b[0mrange\u001b[0m\u001b[0;34m(\u001b[0m\u001b[0mBaseX\u001b[0m\u001b[0;34m.\u001b[0m\u001b[0mshape\u001b[0m\u001b[0;34m[\u001b[0m\u001b[0;36m1\u001b[0m\u001b[0;34m]\u001b[0m\u001b[0;34m)\u001b[0m\u001b[0;34m:\u001b[0m\u001b[0;34m\u001b[0m\u001b[0m\n\u001b[1;32m     25\u001b[0m             \u001b[0mc\u001b[0m \u001b[0;34m=\u001b[0m \u001b[0mBaseX\u001b[0m\u001b[0;34m.\u001b[0m\u001b[0mcolumns\u001b[0m\u001b[0;34m[\u001b[0m\u001b[0mi\u001b[0m\u001b[0;34m]\u001b[0m\u001b[0;34m\u001b[0m\u001b[0m\n\u001b[0;32m---> 26\u001b[0;31m             \u001b[0mans\u001b[0m \u001b[0;34m+=\u001b[0m \u001b[0mBaseX\u001b[0m\u001b[0;34m[\u001b[0m\u001b[0mc\u001b[0m\u001b[0;34m]\u001b[0m \u001b[0;34m*\u001b[0m \u001b[0mself\u001b[0m\u001b[0;34m.\u001b[0m\u001b[0mcoefs\u001b[0m\u001b[0;34m[\u001b[0m\u001b[0mi\u001b[0m\u001b[0;34m]\u001b[0m\u001b[0;34m\u001b[0m\u001b[0m\n\u001b[0m\u001b[1;32m     27\u001b[0m         \u001b[0;32mreturn\u001b[0m \u001b[0mans\u001b[0m\u001b[0;34m\u001b[0m\u001b[0m\n\u001b[1;32m     28\u001b[0m \u001b[0;32mclass\u001b[0m \u001b[0mMetaFeatureHelper\u001b[0m\u001b[0;34m:\u001b[0m\u001b[0;34m\u001b[0m\u001b[0m\n",
      "\u001b[0;31mKeyboardInterrupt\u001b[0m: "
     ]
    },
    {
     "name": "stderr",
     "output_type": "stream",
     "text": [
      "Process ForkPoolWorker-66:\n",
      "KeyboardInterrupt\n",
      "Process ForkPoolWorker-67:\n",
      "Traceback (most recent call last):\n",
      "Traceback (most recent call last):\n",
      "  File \"/home/jacob/anaconda3/lib/python3.6/multiprocessing/process.py\", line 258, in _bootstrap\n",
      "    self.run()\n",
      "  File \"/home/jacob/anaconda3/lib/python3.6/multiprocessing/process.py\", line 258, in _bootstrap\n",
      "    self.run()\n",
      "  File \"/home/jacob/anaconda3/lib/python3.6/multiprocessing/process.py\", line 93, in run\n",
      "    self._target(*self._args, **self._kwargs)\n",
      "  File \"/home/jacob/anaconda3/lib/python3.6/multiprocessing/process.py\", line 93, in run\n",
      "    self._target(*self._args, **self._kwargs)\n",
      "  File \"/home/jacob/anaconda3/lib/python3.6/multiprocessing/pool.py\", line 108, in worker\n",
      "    task = get()\n",
      "  File \"/home/jacob/anaconda3/lib/python3.6/multiprocessing/pool.py\", line 108, in worker\n",
      "    task = get()\n",
      "  File \"/home/jacob/anaconda3/lib/python3.6/multiprocessing/queues.py\", line 334, in get\n",
      "    with self._rlock:\n",
      "  File \"/home/jacob/anaconda3/lib/python3.6/multiprocessing/queues.py\", line 334, in get\n",
      "    with self._rlock:\n",
      "  File \"/home/jacob/anaconda3/lib/python3.6/multiprocessing/synchronize.py\", line 96, in __enter__\n",
      "    return self._semlock.__enter__()\n",
      "  File \"/home/jacob/anaconda3/lib/python3.6/multiprocessing/synchronize.py\", line 96, in __enter__\n",
      "    return self._semlock.__enter__()\n",
      "KeyboardInterrupt\n"
     ]
    }
   ],
   "source": [
    "nurs1, nurs2, nurs3 = get_results([get_test_dbs(nurs, 2.0, prng)], out[0], fried_cm)"
   ]
  },
  {
   "cell_type": "code",
   "execution_count": 229,
   "metadata": {},
   "outputs": [
    {
     "data": {
      "text/plain": [
       "array([1, 0, 1, ..., 0, 1, 0])"
      ]
     },
     "execution_count": 229,
     "metadata": {},
     "output_type": "execute_result"
    }
   ],
   "source": [
    "dt.fit_and_predict(D, out[0])"
   ]
  },
  {
   "cell_type": "code",
   "execution_count": null,
   "metadata": {
    "collapsed": true
   },
   "outputs": [],
   "source": []
  },
  {
   "cell_type": "code",
   "execution_count": 222,
   "metadata": {},
   "outputs": [
    {
     "data": {
      "text/plain": [
       "(0.60426382411725521, 0.34843437708194536, 0.33710859427048634)"
      ]
     },
     "execution_count": 222,
     "metadata": {},
     "output_type": "execute_result"
    }
   ],
   "source": [
    "(nurs1.mean(), nurs2.mean(), nurs3.mean())"
   ]
  },
  {
   "cell_type": "markdown",
   "metadata": {},
   "source": [
    "### Experiment 1"
   ]
  },
  {
   "cell_type": "code",
   "execution_count": 173,
   "metadata": {
    "collapsed": true
   },
   "outputs": [],
   "source": [
    "big_cm = combine_cms(out[:1] + out[2:])"
   ]
  },
  {
   "cell_type": "code",
   "execution_count": 174,
   "metadata": {
    "collapsed": true
   },
   "outputs": [],
   "source": [
    "big_cm.model = DecisionTreeClassifier(min_samples_leaf=10, max_depth=1)\n",
    "big_cm.retrain_model()"
   ]
  },
  {
   "cell_type": "code",
   "execution_count": 175,
   "metadata": {},
   "outputs": [
    {
     "data": {
      "image/svg+xml": [
       "<?xml version=\"1.0\" encoding=\"UTF-8\" standalone=\"no\"?>\n",
       "<!DOCTYPE svg PUBLIC \"-//W3C//DTD SVG 1.1//EN\"\n",
       " \"http://www.w3.org/Graphics/SVG/1.1/DTD/svg11.dtd\">\n",
       "<!-- Generated by graphviz version 2.40.1 (20161225.0304)\n",
       " -->\n",
       "<!-- Title: Tree Pages: 1 -->\n",
       "<svg width=\"320pt\" height=\"165pt\"\n",
       " viewBox=\"0.00 0.00 320.00 165.00\" xmlns=\"http://www.w3.org/2000/svg\" xmlns:xlink=\"http://www.w3.org/1999/xlink\">\n",
       "<g id=\"graph0\" class=\"graph\" transform=\"scale(1 1) rotate(0) translate(4 161)\">\n",
       "<title>Tree</title>\n",
       "<polygon fill=\"#ffffff\" stroke=\"transparent\" points=\"-4,4 -4,-161 316,-161 316,4 -4,4\"/>\n",
       "<!-- 0 -->\n",
       "<g id=\"node1\" class=\"node\">\n",
       "<title>0</title>\n",
       "<path fill=\"transparent\" stroke=\"#000000\" d=\"M217,-157C217,-157 94,-157 94,-157 88,-157 82,-151 82,-145 82,-145 82,-101 82,-101 82,-95 88,-89 94,-89 94,-89 217,-89 217,-89 223,-89 229,-95 229,-101 229,-101 229,-145 229,-145 229,-151 223,-157 217,-157\"/>\n",
       "<text text-anchor=\"middle\" x=\"155.5\" y=\"-141.8\" font-family=\"Helvetica,sans-Serif\" font-size=\"14.00\" fill=\"#000000\">X[447] &lt;= &#45;2.388</text>\n",
       "<text text-anchor=\"middle\" x=\"155.5\" y=\"-126.8\" font-family=\"Helvetica,sans-Serif\" font-size=\"14.00\" fill=\"#000000\">gini = 0.278</text>\n",
       "<text text-anchor=\"middle\" x=\"155.5\" y=\"-111.8\" font-family=\"Helvetica,sans-Serif\" font-size=\"14.00\" fill=\"#000000\">samples = 18432</text>\n",
       "<text text-anchor=\"middle\" x=\"155.5\" y=\"-96.8\" font-family=\"Helvetica,sans-Serif\" font-size=\"14.00\" fill=\"#000000\">value = [0.722, 0.719]</text>\n",
       "</g>\n",
       "<!-- 1 -->\n",
       "<g id=\"node2\" class=\"node\">\n",
       "<title>1</title>\n",
       "<path fill=\"transparent\" stroke=\"#000000\" d=\"M135,-53C135,-53 12,-53 12,-53 6,-53 0,-47 0,-41 0,-41 0,-12 0,-12 0,-6 6,0 12,0 12,0 135,0 135,0 141,0 147,-6 147,-12 147,-12 147,-41 147,-41 147,-47 141,-53 135,-53\"/>\n",
       "<text text-anchor=\"middle\" x=\"73.5\" y=\"-37.8\" font-family=\"Helvetica,sans-Serif\" font-size=\"14.00\" fill=\"#000000\">gini = 0.234</text>\n",
       "<text text-anchor=\"middle\" x=\"73.5\" y=\"-22.8\" font-family=\"Helvetica,sans-Serif\" font-size=\"14.00\" fill=\"#000000\">samples = 4521</text>\n",
       "<text text-anchor=\"middle\" x=\"73.5\" y=\"-7.8\" font-family=\"Helvetica,sans-Serif\" font-size=\"14.00\" fill=\"#000000\">value = [0.648, 0.766]</text>\n",
       "</g>\n",
       "<!-- 0&#45;&gt;1 -->\n",
       "<g id=\"edge1\" class=\"edge\">\n",
       "<title>0&#45;&gt;1</title>\n",
       "<path fill=\"none\" stroke=\"#000000\" d=\"M126.5899,-88.9777C118.8866,-79.9123 110.5581,-70.111 102.8324,-61.0192\"/>\n",
       "<polygon fill=\"#000000\" stroke=\"#000000\" points=\"105.3718,-58.6025 96.2293,-53.2485 100.0375,-63.1352 105.3718,-58.6025\"/>\n",
       "<text text-anchor=\"middle\" x=\"94.2051\" y=\"-74.4664\" font-family=\"Helvetica,sans-Serif\" font-size=\"14.00\" fill=\"#000000\">True</text>\n",
       "</g>\n",
       "<!-- 2 -->\n",
       "<g id=\"node3\" class=\"node\">\n",
       "<title>2</title>\n",
       "<path fill=\"transparent\" stroke=\"#000000\" d=\"M300,-53C300,-53 177,-53 177,-53 171,-53 165,-47 165,-41 165,-41 165,-12 165,-12 165,-6 171,0 177,0 177,0 300,0 300,0 306,0 312,-6 312,-12 312,-12 312,-41 312,-41 312,-47 306,-53 300,-53\"/>\n",
       "<text text-anchor=\"middle\" x=\"238.5\" y=\"-37.8\" font-family=\"Helvetica,sans-Serif\" font-size=\"14.00\" fill=\"#000000\">gini = 0.254</text>\n",
       "<text text-anchor=\"middle\" x=\"238.5\" y=\"-22.8\" font-family=\"Helvetica,sans-Serif\" font-size=\"14.00\" fill=\"#000000\">samples = 13911</text>\n",
       "<text text-anchor=\"middle\" x=\"238.5\" y=\"-7.8\" font-family=\"Helvetica,sans-Serif\" font-size=\"14.00\" fill=\"#000000\">value = [0.746, 0.704]</text>\n",
       "</g>\n",
       "<!-- 0&#45;&gt;2 -->\n",
       "<g id=\"edge2\" class=\"edge\">\n",
       "<title>0&#45;&gt;2</title>\n",
       "<path fill=\"none\" stroke=\"#000000\" d=\"M184.7627,-88.9777C192.5599,-79.9123 200.99,-70.111 208.8099,-61.0192\"/>\n",
       "<polygon fill=\"#000000\" stroke=\"#000000\" points=\"211.6262,-63.1123 215.4935,-53.2485 206.3191,-58.5477 211.6262,-63.1123\"/>\n",
       "<text text-anchor=\"middle\" x=\"217.3685\" y=\"-74.4781\" font-family=\"Helvetica,sans-Serif\" font-size=\"14.00\" fill=\"#000000\">False</text>\n",
       "</g>\n",
       "</g>\n",
       "</svg>\n"
      ],
      "text/plain": [
       "<graphviz.files.Source at 0x7f8bf5db8f98>"
      ]
     },
     "execution_count": 175,
     "metadata": {},
     "output_type": "execute_result"
    }
   ],
   "source": [
    "dot_data = export_graphviz(big_cm.model, out_file = None, filled=True, rounded=True)\n",
    "graph = graphviz.Source(dot_data)\n",
    "graph"
   ]
  },
  {
   "cell_type": "code",
   "execution_count": 179,
   "metadata": {},
   "outputs": [
    {
     "data": {
      "text/plain": [
       "[-1, 0, 1, 0, -1, 1, 1]"
      ]
     },
     "execution_count": 179,
     "metadata": {},
     "output_type": "execute_result"
    }
   ],
   "source": [
    "coefs0 = big_cm.trans[447-7].coefs\n",
    "coefs0"
   ]
  },
  {
   "cell_type": "code",
   "execution_count": 180,
   "metadata": {
    "collapsed": true
   },
   "outputs": [],
   "source": [
    "test_cm1 = CoefCM(tree_algs, coefs0, -2.388)"
   ]
  },
  {
   "cell_type": "code",
   "execution_count": 181,
   "metadata": {},
   "outputs": [
    {
     "name": "stdout",
     "output_type": "stream",
     "text": [
      "Start1\n",
      "Start1\n",
      "Start1\n",
      "Start1\n",
      "Start1\n",
      "Start1\n",
      "Start1\n",
      "Start1\n",
      "Start1\n",
      "Start2\n",
      "Start2\n",
      "Start2\n",
      "Start2\n",
      "Start2\n",
      "Start2\n",
      "Start2\n",
      "Start2\n",
      "Start2\n",
      "Start3\n",
      "Start3\n",
      "Start3\n",
      "Start3\n",
      "Start3\n",
      "Start3\n",
      "Start3\n",
      "Start3\n",
      "Start3\n"
     ]
    }
   ],
   "source": [
    "defaults1, defaults2, defaults3 = get_results(data_train[1], test_cm1, fried_cm)"
   ]
  },
  {
   "cell_type": "code",
   "execution_count": 182,
   "metadata": {},
   "outputs": [
    {
     "data": {
      "text/plain": [
       "(0.64388076957089735, 0.77747889855294039, 0.65413755040832311)"
      ]
     },
     "execution_count": 182,
     "metadata": {},
     "output_type": "execute_result"
    }
   ],
   "source": [
    "(defaults1.mean(), defaults2.mean(), defaults3.mean())"
   ]
  },
  {
   "cell_type": "markdown",
   "metadata": {},
   "source": [
    "### Experiment 2"
   ]
  },
  {
   "cell_type": "code",
   "execution_count": 183,
   "metadata": {
    "collapsed": true
   },
   "outputs": [],
   "source": [
    "big_cm2 = combine_cms(out[:2] + out[3:])"
   ]
  },
  {
   "cell_type": "code",
   "execution_count": 78,
   "metadata": {
    "collapsed": true
   },
   "outputs": [],
   "source": [
    "big_cm2.model = DecisionTreeClassifier(min_samples_leaf=10, max_depth=1)\n",
    "big_cm2.retrain_model()"
   ]
  },
  {
   "cell_type": "code",
   "execution_count": 79,
   "metadata": {},
   "outputs": [
    {
     "data": {
      "image/svg+xml": [
       "<?xml version=\"1.0\" encoding=\"UTF-8\" standalone=\"no\"?>\n",
       "<!DOCTYPE svg PUBLIC \"-//W3C//DTD SVG 1.1//EN\"\n",
       " \"http://www.w3.org/Graphics/SVG/1.1/DTD/svg11.dtd\">\n",
       "<!-- Generated by graphviz version 2.40.1 (20161225.0304)\n",
       " -->\n",
       "<!-- Title: Tree Pages: 1 -->\n",
       "<svg width=\"314pt\" height=\"165pt\"\n",
       " viewBox=\"0.00 0.00 313.50 165.00\" xmlns=\"http://www.w3.org/2000/svg\" xmlns:xlink=\"http://www.w3.org/1999/xlink\">\n",
       "<g id=\"graph0\" class=\"graph\" transform=\"scale(1 1) rotate(0) translate(4 161)\">\n",
       "<title>Tree</title>\n",
       "<polygon fill=\"#ffffff\" stroke=\"transparent\" points=\"-4,4 -4,-161 309.5,-161 309.5,4 -4,4\"/>\n",
       "<!-- 0 -->\n",
       "<g id=\"node1\" class=\"node\">\n",
       "<title>0</title>\n",
       "<path fill=\"transparent\" stroke=\"#000000\" d=\"M216,-157C216,-157 93,-157 93,-157 87,-157 81,-151 81,-145 81,-145 81,-101 81,-101 81,-95 87,-89 93,-89 93,-89 216,-89 216,-89 222,-89 228,-95 228,-101 228,-101 228,-145 228,-145 228,-151 222,-157 216,-157\"/>\n",
       "<text text-anchor=\"middle\" x=\"154.5\" y=\"-141.8\" font-family=\"Helvetica,sans-Serif\" font-size=\"14.00\" fill=\"#000000\">X[545] &lt;= 0.484</text>\n",
       "<text text-anchor=\"middle\" x=\"154.5\" y=\"-126.8\" font-family=\"Helvetica,sans-Serif\" font-size=\"14.00\" fill=\"#000000\">gini = 0.292</text>\n",
       "<text text-anchor=\"middle\" x=\"154.5\" y=\"-111.8\" font-family=\"Helvetica,sans-Serif\" font-size=\"14.00\" fill=\"#000000\">samples = 18432</text>\n",
       "<text text-anchor=\"middle\" x=\"154.5\" y=\"-96.8\" font-family=\"Helvetica,sans-Serif\" font-size=\"14.00\" fill=\"#000000\">value = [0.705, 0.708]</text>\n",
       "</g>\n",
       "<!-- 1 -->\n",
       "<g id=\"node2\" class=\"node\">\n",
       "<title>1</title>\n",
       "<path fill=\"transparent\" stroke=\"#000000\" d=\"M135,-53C135,-53 12,-53 12,-53 6,-53 0,-47 0,-41 0,-41 0,-12 0,-12 0,-6 6,0 12,0 12,0 135,0 135,0 141,0 147,-6 147,-12 147,-12 147,-41 147,-41 147,-47 141,-53 135,-53\"/>\n",
       "<text text-anchor=\"middle\" x=\"73.5\" y=\"-37.8\" font-family=\"Helvetica,sans-Serif\" font-size=\"14.00\" fill=\"#000000\">gini = 0.229</text>\n",
       "<text text-anchor=\"middle\" x=\"73.5\" y=\"-22.8\" font-family=\"Helvetica,sans-Serif\" font-size=\"14.00\" fill=\"#000000\">samples = 5548</text>\n",
       "<text text-anchor=\"middle\" x=\"73.5\" y=\"-7.8\" font-family=\"Helvetica,sans-Serif\" font-size=\"14.00\" fill=\"#000000\">value = [0.671, 0.771]</text>\n",
       "</g>\n",
       "<!-- 0&#45;&gt;1 -->\n",
       "<g id=\"edge1\" class=\"edge\">\n",
       "<title>0&#45;&gt;1</title>\n",
       "<path fill=\"none\" stroke=\"#000000\" d=\"M125.9424,-88.9777C118.3331,-79.9123 110.1061,-70.111 102.4747,-61.0192\"/>\n",
       "<polygon fill=\"#000000\" stroke=\"#000000\" points=\"105.062,-58.6577 95.9521,-53.2485 99.7005,-63.1581 105.062,-58.6577\"/>\n",
       "<text text-anchor=\"middle\" x=\"93.7773\" y=\"-74.4537\" font-family=\"Helvetica,sans-Serif\" font-size=\"14.00\" fill=\"#000000\">True</text>\n",
       "</g>\n",
       "<!-- 2 -->\n",
       "<g id=\"node3\" class=\"node\">\n",
       "<title>2</title>\n",
       "<path fill=\"transparent\" stroke=\"#000000\" d=\"M293.5,-53C293.5,-53 177.5,-53 177.5,-53 171.5,-53 165.5,-47 165.5,-41 165.5,-41 165.5,-12 165.5,-12 165.5,-6 171.5,0 177.5,0 177.5,0 293.5,0 293.5,0 299.5,0 305.5,-6 305.5,-12 305.5,-12 305.5,-41 305.5,-41 305.5,-47 299.5,-53 293.5,-53\"/>\n",
       "<text text-anchor=\"middle\" x=\"235.5\" y=\"-37.8\" font-family=\"Helvetica,sans-Serif\" font-size=\"14.00\" fill=\"#000000\">gini = 0.28</text>\n",
       "<text text-anchor=\"middle\" x=\"235.5\" y=\"-22.8\" font-family=\"Helvetica,sans-Serif\" font-size=\"14.00\" fill=\"#000000\">samples = 12884</text>\n",
       "<text text-anchor=\"middle\" x=\"235.5\" y=\"-7.8\" font-family=\"Helvetica,sans-Serif\" font-size=\"14.00\" fill=\"#000000\">value = [0.72, 0.681]</text>\n",
       "</g>\n",
       "<!-- 0&#45;&gt;2 -->\n",
       "<g id=\"edge2\" class=\"edge\">\n",
       "<title>0&#45;&gt;2</title>\n",
       "<path fill=\"none\" stroke=\"#000000\" d=\"M183.0576,-88.9777C190.6669,-79.9123 198.8939,-70.111 206.5253,-61.0192\"/>\n",
       "<polygon fill=\"#000000\" stroke=\"#000000\" points=\"209.2995,-63.1581 213.0479,-53.2485 203.938,-58.6577 209.2995,-63.1581\"/>\n",
       "<text text-anchor=\"middle\" x=\"215.2227\" y=\"-74.4537\" font-family=\"Helvetica,sans-Serif\" font-size=\"14.00\" fill=\"#000000\">False</text>\n",
       "</g>\n",
       "</g>\n",
       "</svg>\n"
      ],
      "text/plain": [
       "<graphviz.files.Source at 0x7f8bf5ac7b00>"
      ]
     },
     "execution_count": 79,
     "metadata": {},
     "output_type": "execute_result"
    }
   ],
   "source": [
    "dot_data = export_graphviz(big_cm2.model, out_file = None, filled=True, rounded=True)\n",
    "graph = graphviz.Source(dot_data)\n",
    "graph"
   ]
  },
  {
   "cell_type": "code",
   "execution_count": 184,
   "metadata": {},
   "outputs": [
    {
     "data": {
      "text/plain": [
       "[-1, 1, -1, 0, 1, 1, 0]"
      ]
     },
     "execution_count": 184,
     "metadata": {},
     "output_type": "execute_result"
    }
   ],
   "source": [
    "coefs = big_cm2.trans[545-7].coefs\n",
    "coefs"
   ]
  },
  {
   "cell_type": "code",
   "execution_count": 185,
   "metadata": {
    "collapsed": true
   },
   "outputs": [],
   "source": [
    "test_cm2 = CoefCM(tree_algs, coefs, 0.484)"
   ]
  },
  {
   "cell_type": "code",
   "execution_count": 186,
   "metadata": {},
   "outputs": [
    {
     "name": "stdout",
     "output_type": "stream",
     "text": [
      "Start1\n",
      "Start1\n",
      "Start1\n",
      "Start1\n",
      "Start1\n",
      "Start1\n",
      "Start1\n",
      "Start1\n",
      "Start1\n",
      "Start2\n",
      "Start2\n",
      "Start2\n",
      "Start2\n",
      "Start2\n",
      "Start2\n",
      "Start2\n",
      "Start2\n",
      "Start2\n",
      "Start3\n",
      "Start3\n",
      "Start3\n",
      "Start3\n",
      "Start3\n",
      "Start3\n",
      "Start3\n",
      "Start3\n",
      "Start3\n"
     ]
    }
   ],
   "source": [
    "loans1, loans2, loans3 = get_results(data_train[2], test_cm2, fried_cm)"
   ]
  },
  {
   "cell_type": "code",
   "execution_count": 187,
   "metadata": {},
   "outputs": [
    {
     "data": {
      "text/plain": [
       "(0.71281690961268562, 0.90724068649198963, 0.77666952792189092)"
      ]
     },
     "execution_count": 187,
     "metadata": {},
     "output_type": "execute_result"
    }
   ],
   "source": [
    "(loans1.mean(), loans2.mean(), loans3.mean())"
   ]
  },
  {
   "cell_type": "markdown",
   "metadata": {},
   "source": [
    "### Experiment 3"
   ]
  },
  {
   "cell_type": "code",
   "execution_count": 188,
   "metadata": {
    "collapsed": true
   },
   "outputs": [],
   "source": [
    "big_cm3 = combine_cms(out[:3] + out[4:])"
   ]
  },
  {
   "cell_type": "code",
   "execution_count": 189,
   "metadata": {
    "collapsed": true
   },
   "outputs": [],
   "source": [
    "big_cm3.model = DecisionTreeClassifier(min_samples_leaf=10, max_depth=1)\n",
    "big_cm3.retrain_model()"
   ]
  },
  {
   "cell_type": "code",
   "execution_count": 190,
   "metadata": {},
   "outputs": [
    {
     "data": {
      "image/svg+xml": [
       "<?xml version=\"1.0\" encoding=\"UTF-8\" standalone=\"no\"?>\n",
       "<!DOCTYPE svg PUBLIC \"-//W3C//DTD SVG 1.1//EN\"\n",
       " \"http://www.w3.org/Graphics/SVG/1.1/DTD/svg11.dtd\">\n",
       "<!-- Generated by graphviz version 2.40.1 (20161225.0304)\n",
       " -->\n",
       "<!-- Title: Tree Pages: 1 -->\n",
       "<svg width=\"320pt\" height=\"165pt\"\n",
       " viewBox=\"0.00 0.00 320.00 165.00\" xmlns=\"http://www.w3.org/2000/svg\" xmlns:xlink=\"http://www.w3.org/1999/xlink\">\n",
       "<g id=\"graph0\" class=\"graph\" transform=\"scale(1 1) rotate(0) translate(4 161)\">\n",
       "<title>Tree</title>\n",
       "<polygon fill=\"#ffffff\" stroke=\"transparent\" points=\"-4,4 -4,-161 316,-161 316,4 -4,4\"/>\n",
       "<!-- 0 -->\n",
       "<g id=\"node1\" class=\"node\">\n",
       "<title>0</title>\n",
       "<path fill=\"transparent\" stroke=\"#000000\" d=\"M217,-157C217,-157 94,-157 94,-157 88,-157 82,-151 82,-145 82,-145 82,-101 82,-101 82,-95 88,-89 94,-89 94,-89 217,-89 217,-89 223,-89 229,-95 229,-101 229,-101 229,-145 229,-145 229,-151 223,-157 217,-157\"/>\n",
       "<text text-anchor=\"middle\" x=\"155.5\" y=\"-141.8\" font-family=\"Helvetica,sans-Serif\" font-size=\"14.00\" fill=\"#000000\">X[366] &lt;= &#45;2.388</text>\n",
       "<text text-anchor=\"middle\" x=\"155.5\" y=\"-126.8\" font-family=\"Helvetica,sans-Serif\" font-size=\"14.00\" fill=\"#000000\">gini = 0.283</text>\n",
       "<text text-anchor=\"middle\" x=\"155.5\" y=\"-111.8\" font-family=\"Helvetica,sans-Serif\" font-size=\"14.00\" fill=\"#000000\">samples = 18432</text>\n",
       "<text text-anchor=\"middle\" x=\"155.5\" y=\"-96.8\" font-family=\"Helvetica,sans-Serif\" font-size=\"14.00\" fill=\"#000000\">value = [0.717, 0.715]</text>\n",
       "</g>\n",
       "<!-- 1 -->\n",
       "<g id=\"node2\" class=\"node\">\n",
       "<title>1</title>\n",
       "<path fill=\"transparent\" stroke=\"#000000\" d=\"M135,-53C135,-53 12,-53 12,-53 6,-53 0,-47 0,-41 0,-41 0,-12 0,-12 0,-6 6,0 12,0 12,0 135,0 135,0 141,0 147,-6 147,-12 147,-12 147,-41 147,-41 147,-47 141,-53 135,-53\"/>\n",
       "<text text-anchor=\"middle\" x=\"73.5\" y=\"-37.8\" font-family=\"Helvetica,sans-Serif\" font-size=\"14.00\" fill=\"#000000\">gini = 0.231</text>\n",
       "<text text-anchor=\"middle\" x=\"73.5\" y=\"-22.8\" font-family=\"Helvetica,sans-Serif\" font-size=\"14.00\" fill=\"#000000\">samples = 4597</text>\n",
       "<text text-anchor=\"middle\" x=\"73.5\" y=\"-7.8\" font-family=\"Helvetica,sans-Serif\" font-size=\"14.00\" fill=\"#000000\">value = [0.651, 0.769]</text>\n",
       "</g>\n",
       "<!-- 0&#45;&gt;1 -->\n",
       "<g id=\"edge1\" class=\"edge\">\n",
       "<title>0&#45;&gt;1</title>\n",
       "<path fill=\"none\" stroke=\"#000000\" d=\"M126.5899,-88.9777C118.8866,-79.9123 110.5581,-70.111 102.8324,-61.0192\"/>\n",
       "<polygon fill=\"#000000\" stroke=\"#000000\" points=\"105.3718,-58.6025 96.2293,-53.2485 100.0375,-63.1352 105.3718,-58.6025\"/>\n",
       "<text text-anchor=\"middle\" x=\"94.2051\" y=\"-74.4664\" font-family=\"Helvetica,sans-Serif\" font-size=\"14.00\" fill=\"#000000\">True</text>\n",
       "</g>\n",
       "<!-- 2 -->\n",
       "<g id=\"node3\" class=\"node\">\n",
       "<title>2</title>\n",
       "<path fill=\"transparent\" stroke=\"#000000\" d=\"M300,-53C300,-53 177,-53 177,-53 171,-53 165,-47 165,-41 165,-41 165,-12 165,-12 165,-6 171,0 177,0 177,0 300,0 300,0 306,0 312,-6 312,-12 312,-12 312,-41 312,-41 312,-47 306,-53 300,-53\"/>\n",
       "<text text-anchor=\"middle\" x=\"238.5\" y=\"-37.8\" font-family=\"Helvetica,sans-Serif\" font-size=\"14.00\" fill=\"#000000\">gini = 0.262</text>\n",
       "<text text-anchor=\"middle\" x=\"238.5\" y=\"-22.8\" font-family=\"Helvetica,sans-Serif\" font-size=\"14.00\" fill=\"#000000\">samples = 13835</text>\n",
       "<text text-anchor=\"middle\" x=\"238.5\" y=\"-7.8\" font-family=\"Helvetica,sans-Serif\" font-size=\"14.00\" fill=\"#000000\">value = [0.738, 0.697]</text>\n",
       "</g>\n",
       "<!-- 0&#45;&gt;2 -->\n",
       "<g id=\"edge2\" class=\"edge\">\n",
       "<title>0&#45;&gt;2</title>\n",
       "<path fill=\"none\" stroke=\"#000000\" d=\"M184.7627,-88.9777C192.5599,-79.9123 200.99,-70.111 208.8099,-61.0192\"/>\n",
       "<polygon fill=\"#000000\" stroke=\"#000000\" points=\"211.6262,-63.1123 215.4935,-53.2485 206.3191,-58.5477 211.6262,-63.1123\"/>\n",
       "<text text-anchor=\"middle\" x=\"217.3685\" y=\"-74.4781\" font-family=\"Helvetica,sans-Serif\" font-size=\"14.00\" fill=\"#000000\">False</text>\n",
       "</g>\n",
       "</g>\n",
       "</svg>\n"
      ],
      "text/plain": [
       "<graphviz.files.Source at 0x7f8bf5564b00>"
      ]
     },
     "execution_count": 190,
     "metadata": {},
     "output_type": "execute_result"
    }
   ],
   "source": [
    "dot_data = export_graphviz(big_cm3.model, out_file = None, filled=True, rounded=True)\n",
    "graph = graphviz.Source(dot_data)\n",
    "graph"
   ]
  },
  {
   "cell_type": "code",
   "execution_count": 192,
   "metadata": {},
   "outputs": [
    {
     "data": {
      "text/plain": [
       "[-1, 0, 0, 0, -1, 1, 1]"
      ]
     },
     "execution_count": 192,
     "metadata": {},
     "output_type": "execute_result"
    }
   ],
   "source": [
    "coefs = big_cm3.trans[366-7].coefs\n",
    "coefs"
   ]
  },
  {
   "cell_type": "code",
   "execution_count": 194,
   "metadata": {
    "collapsed": true
   },
   "outputs": [],
   "source": [
    "test_cm3 = CoefCM(tree_algs, coefs, -2.388)"
   ]
  },
  {
   "cell_type": "code",
   "execution_count": 195,
   "metadata": {},
   "outputs": [
    {
     "name": "stdout",
     "output_type": "stream",
     "text": [
      "Start1\n",
      "Start1\n",
      "Start1\n",
      "Start1\n",
      "Start1\n",
      "Start1\n",
      "Start1\n",
      "Start1\n",
      "Start1\n",
      "Start2\n",
      "Start2\n",
      "Start2\n",
      "Start2\n",
      "Start2\n",
      "Start2\n",
      "Start2\n",
      "Start2\n",
      "Start2\n",
      "Start3\n",
      "Start3\n",
      "Start3\n",
      "Start3\n",
      "Start3\n",
      "Start3\n",
      "Start3\n",
      "Start3\n",
      "Start3\n"
     ]
    }
   ],
   "source": [
    "adults1, adults2, adults3 = get_results(data_train[3], test_cm3, fried_cm)"
   ]
  },
  {
   "cell_type": "code",
   "execution_count": 196,
   "metadata": {},
   "outputs": [
    {
     "data": {
      "text/plain": [
       "(0.73641029479602826, 0.75530363748071583, 0.67664697966414922)"
      ]
     },
     "execution_count": 196,
     "metadata": {},
     "output_type": "execute_result"
    }
   ],
   "source": [
    "(adults1.mean(), adults2.mean(), adults3.mean())"
   ]
  },
  {
   "cell_type": "markdown",
   "metadata": {},
   "source": [
    "### Experiment 4"
   ]
  },
  {
   "cell_type": "code",
   "execution_count": 199,
   "metadata": {
    "collapsed": true
   },
   "outputs": [],
   "source": [
    "big_cm4 = combine_cms(out[:4] + out[5:])"
   ]
  },
  {
   "cell_type": "code",
   "execution_count": 200,
   "metadata": {
    "collapsed": true
   },
   "outputs": [],
   "source": [
    "big_cm4.model = DecisionTreeClassifier(min_samples_leaf=10, max_depth=1)\n",
    "big_cm4.retrain_model()"
   ]
  },
  {
   "cell_type": "code",
   "execution_count": 202,
   "metadata": {},
   "outputs": [
    {
     "data": {
      "image/svg+xml": [
       "<?xml version=\"1.0\" encoding=\"UTF-8\" standalone=\"no\"?>\n",
       "<!DOCTYPE svg PUBLIC \"-//W3C//DTD SVG 1.1//EN\"\n",
       " \"http://www.w3.org/Graphics/SVG/1.1/DTD/svg11.dtd\">\n",
       "<!-- Generated by graphviz version 2.40.1 (20161225.0304)\n",
       " -->\n",
       "<!-- Title: Tree Pages: 1 -->\n",
       "<svg width=\"320pt\" height=\"165pt\"\n",
       " viewBox=\"0.00 0.00 320.00 165.00\" xmlns=\"http://www.w3.org/2000/svg\" xmlns:xlink=\"http://www.w3.org/1999/xlink\">\n",
       "<g id=\"graph0\" class=\"graph\" transform=\"scale(1 1) rotate(0) translate(4 161)\">\n",
       "<title>Tree</title>\n",
       "<polygon fill=\"#ffffff\" stroke=\"transparent\" points=\"-4,4 -4,-161 316,-161 316,4 -4,4\"/>\n",
       "<!-- 0 -->\n",
       "<g id=\"node1\" class=\"node\">\n",
       "<title>0</title>\n",
       "<path fill=\"transparent\" stroke=\"#000000\" d=\"M217,-157C217,-157 94,-157 94,-157 88,-157 82,-151 82,-145 82,-145 82,-101 82,-101 82,-95 88,-89 94,-89 94,-89 217,-89 217,-89 223,-89 229,-95 229,-101 229,-101 229,-145 229,-145 229,-151 223,-157 217,-157\"/>\n",
       "<text text-anchor=\"middle\" x=\"155.5\" y=\"-141.8\" font-family=\"Helvetica,sans-Serif\" font-size=\"14.00\" fill=\"#000000\">X[419] &lt;= &#45;5.434</text>\n",
       "<text text-anchor=\"middle\" x=\"155.5\" y=\"-126.8\" font-family=\"Helvetica,sans-Serif\" font-size=\"14.00\" fill=\"#000000\">gini = 0.258</text>\n",
       "<text text-anchor=\"middle\" x=\"155.5\" y=\"-111.8\" font-family=\"Helvetica,sans-Serif\" font-size=\"14.00\" fill=\"#000000\">samples = 18432</text>\n",
       "<text text-anchor=\"middle\" x=\"155.5\" y=\"-96.8\" font-family=\"Helvetica,sans-Serif\" font-size=\"14.00\" fill=\"#000000\">value = [0.735, 0.742]</text>\n",
       "</g>\n",
       "<!-- 1 -->\n",
       "<g id=\"node2\" class=\"node\">\n",
       "<title>1</title>\n",
       "<path fill=\"transparent\" stroke=\"#000000\" d=\"M135,-53C135,-53 12,-53 12,-53 6,-53 0,-47 0,-41 0,-41 0,-12 0,-12 0,-6 6,0 12,0 12,0 135,0 135,0 141,0 147,-6 147,-12 147,-12 147,-41 147,-41 147,-47 141,-53 135,-53\"/>\n",
       "<text text-anchor=\"middle\" x=\"73.5\" y=\"-37.8\" font-family=\"Helvetica,sans-Serif\" font-size=\"14.00\" fill=\"#000000\">gini = 0.238</text>\n",
       "<text text-anchor=\"middle\" x=\"73.5\" y=\"-22.8\" font-family=\"Helvetica,sans-Serif\" font-size=\"14.00\" fill=\"#000000\">samples = 4720</text>\n",
       "<text text-anchor=\"middle\" x=\"73.5\" y=\"-7.8\" font-family=\"Helvetica,sans-Serif\" font-size=\"14.00\" fill=\"#000000\">value = [0.651, 0.762]</text>\n",
       "</g>\n",
       "<!-- 0&#45;&gt;1 -->\n",
       "<g id=\"edge1\" class=\"edge\">\n",
       "<title>0&#45;&gt;1</title>\n",
       "<path fill=\"none\" stroke=\"#000000\" d=\"M126.5899,-88.9777C118.8866,-79.9123 110.5581,-70.111 102.8324,-61.0192\"/>\n",
       "<polygon fill=\"#000000\" stroke=\"#000000\" points=\"105.3718,-58.6025 96.2293,-53.2485 100.0375,-63.1352 105.3718,-58.6025\"/>\n",
       "<text text-anchor=\"middle\" x=\"94.2051\" y=\"-74.4664\" font-family=\"Helvetica,sans-Serif\" font-size=\"14.00\" fill=\"#000000\">True</text>\n",
       "</g>\n",
       "<!-- 2 -->\n",
       "<g id=\"node3\" class=\"node\">\n",
       "<title>2</title>\n",
       "<path fill=\"transparent\" stroke=\"#000000\" d=\"M300,-53C300,-53 177,-53 177,-53 171,-53 165,-47 165,-41 165,-41 165,-12 165,-12 165,-6 171,0 177,0 177,0 300,0 300,0 306,0 312,-6 312,-12 312,-12 312,-41 312,-41 312,-47 306,-53 300,-53\"/>\n",
       "<text text-anchor=\"middle\" x=\"238.5\" y=\"-37.8\" font-family=\"Helvetica,sans-Serif\" font-size=\"14.00\" fill=\"#000000\">gini = 0.236</text>\n",
       "<text text-anchor=\"middle\" x=\"238.5\" y=\"-22.8\" font-family=\"Helvetica,sans-Serif\" font-size=\"14.00\" fill=\"#000000\">samples = 13712</text>\n",
       "<text text-anchor=\"middle\" x=\"238.5\" y=\"-7.8\" font-family=\"Helvetica,sans-Serif\" font-size=\"14.00\" fill=\"#000000\">value = [0.764, 0.735]</text>\n",
       "</g>\n",
       "<!-- 0&#45;&gt;2 -->\n",
       "<g id=\"edge2\" class=\"edge\">\n",
       "<title>0&#45;&gt;2</title>\n",
       "<path fill=\"none\" stroke=\"#000000\" d=\"M184.7627,-88.9777C192.5599,-79.9123 200.99,-70.111 208.8099,-61.0192\"/>\n",
       "<polygon fill=\"#000000\" stroke=\"#000000\" points=\"211.6262,-63.1123 215.4935,-53.2485 206.3191,-58.5477 211.6262,-63.1123\"/>\n",
       "<text text-anchor=\"middle\" x=\"217.3685\" y=\"-74.4781\" font-family=\"Helvetica,sans-Serif\" font-size=\"14.00\" fill=\"#000000\">False</text>\n",
       "</g>\n",
       "</g>\n",
       "</svg>\n"
      ],
      "text/plain": [
       "<graphviz.files.Source at 0x7f8bf57c4cf8>"
      ]
     },
     "execution_count": 202,
     "metadata": {},
     "output_type": "execute_result"
    }
   ],
   "source": [
    "dot_data = export_graphviz(big_cm4.model, out_file = None, filled=True, rounded=True)\n",
    "graph = graphviz.Source(dot_data)\n",
    "graph"
   ]
  },
  {
   "cell_type": "code",
   "execution_count": 203,
   "metadata": {},
   "outputs": [
    {
     "data": {
      "text/plain": [
       "[-1, 0, 1, -1, -1, 1, 0]"
      ]
     },
     "execution_count": 203,
     "metadata": {},
     "output_type": "execute_result"
    }
   ],
   "source": [
    "coefs = big_cm4.trans[419-7].coefs\n",
    "coefs"
   ]
  },
  {
   "cell_type": "code",
   "execution_count": 204,
   "metadata": {
    "collapsed": true
   },
   "outputs": [],
   "source": [
    "test_cm4 = CoefCM(tree_algs, coefs, -5.434)"
   ]
  },
  {
   "cell_type": "code",
   "execution_count": 205,
   "metadata": {},
   "outputs": [
    {
     "name": "stdout",
     "output_type": "stream",
     "text": [
      "Start1\n",
      "Start1\n",
      "Start1\n",
      "Start1\n",
      "Start1\n",
      "Start1\n",
      "Start1\n",
      "Start1\n",
      "Start1\n",
      "Start2\n",
      "Start2\n",
      "Start2\n",
      "Start2\n",
      "Start2\n",
      "Start2\n",
      "Start2\n",
      "Start2\n",
      "Start2\n",
      "Start3\n",
      "Start3\n",
      "Start3\n",
      "Start3\n",
      "Start3\n",
      "Start3\n",
      "Start3\n",
      "Start3\n",
      "Start3\n"
     ]
    }
   ],
   "source": [
    "lendings1, lendings2, lendings3 = get_results(data_train[3], test_cm4, fried_cm)"
   ]
  },
  {
   "cell_type": "code",
   "execution_count": 206,
   "metadata": {},
   "outputs": [
    {
     "data": {
      "text/plain": [
       "(0.75084534963292826, 0.75530363748071583, 0.67419395834546814)"
      ]
     },
     "execution_count": 206,
     "metadata": {},
     "output_type": "execute_result"
    }
   ],
   "source": [
    "(lendings1.mean(), lendings2.mean(), lendings3.mean())"
   ]
  },
  {
   "cell_type": "code",
   "execution_count": 249,
   "metadata": {},
   "outputs": [
    {
     "data": {
      "text/plain": [
       "array([ 0.79485531,  0.75940237,  0.78988561,  0.70393901,  0.75174014,\n",
       "        0.76889849,  0.66328012,  0.7494877 ,  0.7761194 ])"
      ]
     },
     "execution_count": 249,
     "metadata": {},
     "output_type": "execute_result"
    }
   ],
   "source": [
    "lendings1"
   ]
  },
  {
   "cell_type": "code",
   "execution_count": 280,
   "metadata": {
    "collapsed": true
   },
   "outputs": [],
   "source": [
    "alg1_error = 1-np.array([nurs1, defaults1, loans1, adults1, lendings1])"
   ]
  },
  {
   "cell_type": "code",
   "execution_count": 281,
   "metadata": {
    "collapsed": true
   },
   "outputs": [],
   "source": [
    "alg2_error = 1-np.array([nurs2, defaults2, loans2, adults2, lendings2])"
   ]
  },
  {
   "cell_type": "code",
   "execution_count": 282,
   "metadata": {
    "collapsed": true
   },
   "outputs": [],
   "source": [
    "alg3_error = 1-np.array([nurs3, defaults3, loans3, adults3, lendings3])"
   ]
  },
  {
   "cell_type": "code",
   "execution_count": 283,
   "metadata": {
    "collapsed": true
   },
   "outputs": [],
   "source": [
    "#best = np.min([alg1_error, alg2_error, alg3_error], axis=0)\n",
    "#avg_regret1 = (alg1_error-best).reshape((3,-1)).mean(axis=0)\n",
    "#avg_regret2 = (alg2_error-best).reshape((3,-1)).mean(axis=0)\n",
    "#avg_regret3 = (alg3_error-best).reshape((3,-1)).mean(axis=0)"
   ]
  },
  {
   "cell_type": "code",
   "execution_count": 284,
   "metadata": {
    "collapsed": true
   },
   "outputs": [],
   "source": [
    "alg1_error = alg1_error.reshape((3, -1)).mean(axis=0).reshape((3, -1))\n",
    "alg2_error = alg2_error.reshape((3, -1)).mean(axis=0).reshape((3, -1))\n",
    "alg3_error = alg3_error.reshape((3, -1)).mean(axis=0).reshape((3, -1))"
   ]
  },
  {
   "cell_type": "code",
   "execution_count": 285,
   "metadata": {
    "collapsed": true
   },
   "outputs": [],
   "source": [
    "alg1_error = alg1_error.mean(axis=1)\n",
    "alg2_error = alg2_error.mean(axis=1)\n",
    "alg3_error = alg3_error.mean(axis=1)"
   ]
  },
  {
   "cell_type": "code",
   "execution_count": 293,
   "metadata": {
    "collapsed": true
   },
   "outputs": [],
   "source": [
    "juxtaposed_alg_perfs = np.array([alg1_error, alg3_error, alg2_error]).T.flatten()"
   ]
  },
  {
   "cell_type": "code",
   "execution_count": 294,
   "metadata": {
    "collapsed": true
   },
   "outputs": [],
   "source": [
    "x_pos = np.array([4*x + y for x in [0,1,2] for y in [0,1,2]])"
   ]
  },
  {
   "cell_type": "code",
   "execution_count": 295,
   "metadata": {
    "collapsed": true
   },
   "outputs": [],
   "source": [
    "colors = ['red', 'blue', 'green']*3"
   ]
  },
  {
   "cell_type": "code",
   "execution_count": 296,
   "metadata": {
    "collapsed": true
   },
   "outputs": [],
   "source": [
    "import matplotlib.patches as mpatches\n",
    "patches = [mpatches.Patch(color=c) for c in ['red', 'blue', 'green']]"
   ]
  },
  {
   "cell_type": "code",
   "execution_count": 297,
   "metadata": {},
   "outputs": [
    {
     "data": {
      "text/plain": [
       "<Container object of 9 artists>"
      ]
     },
     "execution_count": 297,
     "metadata": {},
     "output_type": "execute_result"
    },
    {
     "data": {
      "image/png": "[encoded data removed]",
      "text/plain": [
       "<matplotlib.figure.Figure at 0x7f8bed374860>"
      ]
     },
     "metadata": {},
     "output_type": "display_data"
    }
   ],
   "source": [
    "fig, axis = plt.subplots()\n",
    "axis.set_xticks([1,5,9])\n",
    "axis.set_xticklabels(['1.0', '4.0', '7.0'])\n",
    "axis.set_xlabel('epsilon')\n",
    "axis.set_ylabel('Mean Error')\n",
    "axis.legend(handles=patches, labels=['Alg1', 'Alg2', 'Jostle'])\n",
    "axis.set_title('Mean Performance for 3 Stopping Criteria')\n",
    "axis.bar(x_pos, juxtaposed_alg_perfs, color=colors)"
   ]
  },
  {
   "cell_type": "code",
   "execution_count": null,
   "metadata": {
    "collapsed": true
   },
   "outputs": [],
   "source": [
    "fig, axis = plt.subplots()\n",
    "for a in "
   ]
  }
 ],
 "metadata": {
  "kernelspec": {
   "display_name": "Python 3",
   "language": "python",
   "name": "python3"
  },
  "language_info": {
   "codemirror_mode": {
    "name": "ipython",
    "version": 3
   },
   "file_extension": ".py",
   "mimetype": "text/x-python",
   "name": "python",
   "nbconvert_exporter": "python",
   "pygments_lexer": "ipython3",
   "version": "3.6.3"
  }
 },
 "nbformat": 4,
 "nbformat_minor": 2
}
