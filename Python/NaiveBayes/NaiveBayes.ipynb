{
 "cells": [
  {
   "cell_type": "code",
   "execution_count": 12,
   "metadata": {},
   "outputs": [],
   "source": [
    "import os\n",
    "import sys"
   ]
  },
  {
   "cell_type": "code",
   "execution_count": 2,
   "metadata": {},
   "outputs": [],
   "source": [
    "direct='../'\n",
    "exec(open('../LoadData.py').read())\n",
    "exec(open('ChoiceMaker.py').read())\n",
    "exec(open('Algorithms.py').read())"
   ]
  },
  {
   "cell_type": "code",
   "execution_count": 3,
   "metadata": {},
   "outputs": [],
   "source": [
    "from dpcomp_core.algorithm import *\n",
    "from dpcomp_core.query_nd_union import ndRangeUnion\n",
    "from dpcomp_core import workload\n"
   ]
  },
  {
   "cell_type": "code",
   "execution_count": 4,
   "metadata": {},
   "outputs": [],
   "source": [
    "def get_hist(col, epsilon, seed):\n",
    "    cnts = pd.value_counts(col)\n",
    "    h_maker = identity.identity_engine()\n",
    "    Q = workload.Identity((len(cnts.index),))\n",
    "    cnts = h_maker.Run(Q, cnts, epsilon, seed)\n",
    "    cnts /= cnts.sum()\n",
    "    return cnts\n",
    "    \n",
    "def rand_seed(seed):\n",
    "    prng = np.random.RandomState(seed)\n",
    "    while(True):\n",
    "        yield prng.randint(0, 2**32)\n",
    "        \n",
    "def DPNaiveBayes(db, budget, seed=12345, ret_preds=False):\n",
    "    k = len(db.x_names)\n",
    "    epsilon = budget/(k+1)\n",
    "    ys = db.train[db.y_name]\n",
    "    ycat = db.train[db.y_name].cat.categories\n",
    "    rand_int = rand_seed(seed)\n",
    "    \n",
    "    Hy = get_hist(db.train[db.y_name], epsilon, next(rand_int))\n",
    "    Hxs = dict([(c, dict([(y, get_hist(db.train[ys==y][c], epsilon, next(rand_int))) for y in ycat])) for c in db.x_names])\n",
    "    probs = np.array([np.array([Hxs[c][y][db.test[c]] for c in db.x_names]).prod(axis=0)*Hy[y] for y in ycat]).T\n",
    "    preds = probs.argmax(axis=1)\n",
    "    acc = (preds == db.test[db.y_name]).sum() / len(db.test)\n",
    "    if(ret_preds):\n",
    "        return acc, preds\n",
    "    else:\n",
    "        return acc\n",
    "    "
   ]
  },
  {
   "cell_type": "code",
   "execution_count": 5,
   "metadata": {
    "scrolled": false
   },
   "outputs": [
    {
     "data": {
      "text/plain": [
       "0.8899176954732511"
      ]
     },
     "execution_count": 5,
     "metadata": {},
     "output_type": "execute_result"
    }
   ],
   "source": [
    "DPNaiveBayes(nurs, 20, 1245)"
   ]
  },
  {
   "cell_type": "code",
   "execution_count": 97,
   "metadata": {
    "scrolled": true
   },
   "outputs": [],
   "source": [
    "import pickle\n",
    "alg_list = [Dawa(), Identity(), Hb()]\n",
    "MF = HistMetafeats()\n",
    "d = DTree(3, group_gini)\n",
    "mf_eval = pickle.load(open('mf_eval.p', 'rb'))\n",
    "alg_perfs = pickle.load(open('alg_perfs.p', 'rb'))\n",
    "cm = ChoiceMaker(MF, alg_list, mf_eval, alg_perfs, d)\n",
    "#cm = ChoiceMaker.create_regret_based(train_set, alg_list, d, MF)"
   ]
  },
  {
   "cell_type": "code",
   "execution_count": 8,
   "metadata": {},
   "outputs": [],
   "source": [
    "def get_hist(col, epsilon, cm, seed):\n",
    "    cnts = pd.value_counts(col)\n",
    "    i = cnts.index\n",
    "    cnts = np.around(cnts/epsilon).astype(int)\n",
    "    Q = workload.Identity((len(i),))\n",
    "    D = Data(cnts, len(col.cat.categories), len(col), False, 1.0)\n",
    "    \n",
    "    #h_maker = identity.identity_engine()\n",
    "    #cnts = h_maker.Run(Q, cnts, 1.0, seed)\n",
    "    noisy_cnts = pd.Series(cm.mkChoice(D), index=i)\n",
    "    noisy_cnts /= noisy_cnts.sum()\n",
    "    return noisy_cnts\n",
    "def DPNaiveBayes(db, budget, cm, seed=12345, ret_preds=False):\n",
    "    k = len(db.x_names)\n",
    "    epsilon = budget/(k+1)\n",
    "    ys = db.train[db.y_name]\n",
    "    ycat = db.train[db.y_name].cat.categories\n",
    "    rand_int = rand_seed(seed)\n",
    "    \n",
    "    Hy = get_hist(db.train[db.y_name], epsilon, cm, next(rand_int))\n",
    "    Hxs = dict([(c, dict([(y, get_hist(db.train[ys==y][c], epsilon, cm, next(rand_int))) for y in ycat])) for c in db.x_names])\n",
    "    probs = np.array([np.array([Hxs[c][y][db.test[c]] for c in db.x_names]).prod(axis=0)*Hy[y] for y in ycat]).T\n",
    "    preds = probs.argmax(axis=1)\n",
    "    acc = (preds == db.test[db.y_name]).sum() / len(db.test)\n",
    "    if(ret_preds):\n",
    "        return acc, preds\n",
    "    else:\n",
    "        return acc"
   ]
  },
  {
   "cell_type": "code",
   "execution_count": 9,
   "metadata": {},
   "outputs": [],
   "source": [
    "class MF_null:\n",
    "    @staticmethod\n",
    "    def eval(db):\n",
    "        return None\n",
    "\n",
    "class Const_Pred:\n",
    "    def __init__(self, pred):\n",
    "        self.pred = pred\n",
    "    @staticmethod\n",
    "    def fit(X, y):\n",
    "        pass\n",
    "    def predict(self, X):\n",
    "        return self.pred\n",
    "\n",
    "ID_CM = ChoiceMaker(MF_null, alg_list, [], [], Const_Pred('Id'))\n",
    "DAWA_CM = ChoiceMaker(MF_null, alg_list, [], [], Const_Pred('DAWA'))\n",
    "HB_CM = ChoiceMaker(MF_null, alg_list, [], [], Const_Pred('Hb'))"
   ]
  },
  {
   "cell_type": "code",
   "execution_count": 69,
   "metadata": {},
   "outputs": [],
   "source": [
    "s = rand_seed(12345)\n",
    "A1 = np.array([DPNaiveBayes(nurs, 20, ID_CM, next(s)) for x in range(0, 100)])"
   ]
  },
  {
   "cell_type": "code",
   "execution_count": 70,
   "metadata": {},
   "outputs": [
    {
     "data": {
      "image/png": "[encoded data removed]",
      "text/plain": [
       "<Figure size 432x288 with 1 Axes>"
      ]
     },
     "metadata": {},
     "output_type": "display_data"
    }
   ],
   "source": [
    "_ = plt.hist(A1, bins=20)"
   ]
  },
  {
   "cell_type": "code",
   "execution_count": 71,
   "metadata": {},
   "outputs": [],
   "source": [
    "A2 = np.array([DPNaiveBayes(nurs, 20, DAWA_CM, next(s)) for x in range(0, 100)])"
   ]
  },
  {
   "cell_type": "code",
   "execution_count": 72,
   "metadata": {},
   "outputs": [
    {
     "data": {
      "image/png": "[encoded data removed]",
      "text/plain": [
       "<Figure size 432x288 with 1 Axes>"
      ]
     },
     "metadata": {},
     "output_type": "display_data"
    }
   ],
   "source": [
    "_ = plt.hist(A2, bins=20)"
   ]
  },
  {
   "cell_type": "code",
   "execution_count": 73,
   "metadata": {},
   "outputs": [],
   "source": [
    "A3 = np.array([DPNaiveBayes(nurs, 20, HB_CM, next(s)) for x in range(0, 100)])"
   ]
  },
  {
   "cell_type": "code",
   "execution_count": 74,
   "metadata": {},
   "outputs": [
    {
     "data": {
      "image/png": "[encoded data removed]",
      "text/plain": [
       "<Figure size 432x288 with 1 Axes>"
      ]
     },
     "metadata": {},
     "output_type": "display_data"
    }
   ],
   "source": [
    "_ = plt.hist(A3, bins=20)"
   ]
  },
  {
   "cell_type": "code",
   "execution_count": 79,
   "metadata": {},
   "outputs": [],
   "source": [
    "A4 = np.array([DPNaiveBayes(nurs, 20, cm, next(s)) for x in range(0, 100)])"
   ]
  },
  {
   "cell_type": "code",
   "execution_count": 80,
   "metadata": {},
   "outputs": [
    {
     "data": {
      "image/png": "[encoded data removed]",
      "text/plain": [
       "<Figure size 432x288 with 1 Axes>"
      ]
     },
     "metadata": {},
     "output_type": "display_data"
    }
   ],
   "source": [
    "_ = plt.hist(A4, bins=20)"
   ]
  },
  {
   "cell_type": "code",
   "execution_count": 81,
   "metadata": {},
   "outputs": [
    {
     "name": "stdout",
     "output_type": "stream",
     "text": [
      "0.8548765432098766\n",
      "0.895977366255144\n",
      "0.6720833333333333\n",
      "0.6477443415637859\n"
     ]
    }
   ],
   "source": [
    "print(A1.mean())\n",
    "print(A2.mean())\n",
    "print(A3.mean())\n",
    "print(A4.mean())"
   ]
  },
  {
   "cell_type": "code",
   "execution_count": 95,
   "metadata": {},
   "outputs": [],
   "source": [
    "import pickle\n",
    "pickle.dump(cm.mf_eval, open('mf_eval.p', 'wb'))\n",
    "pickle.dump(cm.alg_perfs, open('alg_perfs.p', 'wb'))"
   ]
  },
  {
   "cell_type": "code",
   "execution_count": null,
   "metadata": {},
   "outputs": [],
   "source": []
  }
 ],
 "metadata": {
  "kernelspec": {
   "display_name": "Python 3",
   "language": "python",
   "name": "python3"
  },
  "language_info": {
   "codemirror_mode": {
    "name": "ipython",
    "version": 3
   },
   "file_extension": ".py",
   "mimetype": "text/x-python",
   "name": "python",
   "nbconvert_exporter": "python",
   "pygments_lexer": "ipython3",
   "version": "3.6.5"
  }
 },
 "nbformat": 4,
 "nbformat_minor": 2
}
