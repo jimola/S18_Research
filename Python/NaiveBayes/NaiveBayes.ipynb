{
 "cells": [
  {
   "cell_type": "code",
   "execution_count": 12,
   "metadata": {},
   "outputs": [],
   "source": [
    "import os\n",
    "import sys"
   ]
  },
  {
   "cell_type": "code",
   "execution_count": 4,
   "metadata": {},
   "outputs": [],
   "source": [
    "direct='../'\n",
    "exec(open('../LoadData.py').read())"
   ]
  },
  {
   "cell_type": "code",
   "execution_count": 9,
   "metadata": {},
   "outputs": [],
   "source": [
    "from dpcomp_core.algorithm import *\n",
    "from dpcomp_core.query_nd_union import ndRangeUnion\n",
    "from dpcomp_core import workload\n"
   ]
  },
  {
   "cell_type": "code",
   "execution_count": 10,
   "metadata": {},
   "outputs": [],
   "source": [
    "def get_hist(col, epsilon, seed):\n",
    "    cnts = pd.value_counts(col)\n",
    "    h_maker = identity.identity_engine()\n",
    "    Q = workload.Identity((len(cnts.index),))\n",
    "    cnts = h_maker.Run(Q, cnts, epsilon, seed)\n",
    "    cnts /= cnts.sum()\n",
    "    return cnts\n",
    "    \n",
    "def rand_seed(seed):\n",
    "    prng = np.random.RandomState(seed)\n",
    "    while(True):\n",
    "        yield prng.randint(0, 500000)\n",
    "        \n",
    "def DPNaiveBayes(db, budget, seed=12345, ret_preds=False):\n",
    "    k = len(db.x_names)\n",
    "    epsilon = budget/(k+1)\n",
    "    ys = db.train[db.y_name]\n",
    "    ycat = db.train[db.y_name].cat.categories\n",
    "    rand_int = rand_seed(seed)\n",
    "    \n",
    "    Hy = get_hist(db.train[db.y_name], epsilon, next(rand_int))\n",
    "    Hxs = dict([(c, dict([(y, get_hist(db.train[ys==y][c], epsilon, next(rand_int))) for y in ycat])) for c in db.x_names])\n",
    "    probs = np.array([np.array([Hxs[c][y][db.test[c]] for c in db.x_names]).prod(axis=0)*Hy[y] for y in ycat]).T\n",
    "    preds = probs.argmax(axis=1)\n",
    "    acc = (preds == db.test[db.y_name]).sum() / len(db.test)\n",
    "    if(ret_preds):\n",
    "        return acc, preds\n",
    "    else:\n",
    "        return acc\n",
    "    "
   ]
  },
  {
   "cell_type": "code",
   "execution_count": 1,
   "metadata": {},
   "outputs": [],
   "source": [
    "def get_hist(col, epsilon, seed):\n",
    "    cnts = pd.value_counts(col)\n",
    "    cnts /= epsilon\n",
    "    Q = workload.Identity((len(cnts.index),))\n",
    "    D = Data(cnts, len(col.cat.categories), len(col), False, 1.0)\n",
    "    cnts = cm.mkChoice(D)\n",
    "    cnts /= cnts.sum()\n",
    "    return cnts"
   ]
  },
  {
   "cell_type": "code",
   "execution_count": 11,
   "metadata": {},
   "outputs": [
    {
     "data": {
      "text/plain": [
       "0.907664609053498"
      ]
     },
     "execution_count": 11,
     "metadata": {},
     "output_type": "execute_result"
    }
   ],
   "source": [
    "DPNaiveBayes(nurs, 20, 1245)"
   ]
  },
  {
   "cell_type": "code",
   "execution_count": 177,
   "metadata": {},
   "outputs": [],
   "source": [
    "A = algorithm.identity.identity_engine()"
   ]
  },
  {
   "cell_type": "code",
   "execution_count": 178,
   "metadata": {},
   "outputs": [
    {
     "data": {
      "text/plain": [
       "0    3017\n",
       "1    3001\n",
       "3    2812\n",
       "4     241\n",
       "2       1\n",
       "Name: 8, dtype: int64"
      ]
     },
     "execution_count": 178,
     "metadata": {},
     "output_type": "execute_result"
    }
   ],
   "source": [
    "col = nurs.train[nurs.y_name]\n",
    "cnts = pd.value_counts(col)\n",
    "cnts"
   ]
  },
  {
   "cell_type": "code",
   "execution_count": 174,
   "metadata": {},
   "outputs": [],
   "source": [
    "Q = []\n",
    "for c in cnts.index:\n",
    "    q = ndRangeUnion()\n",
    "    q.add1DRange(c, c)\n",
    "    Q.append(q)\n",
    "W = workload.Workload(Q, len(cnts.index))\n",
    "cnts = A.Run(Q, cnts, 5, 12345)\n",
    "cnts /= cnts.sum()"
   ]
  },
  {
   "cell_type": "code",
   "execution_count": 175,
   "metadata": {},
   "outputs": [
    {
     "data": {
      "text/plain": [
       "0    0.332607\n",
       "1    0.330790\n",
       "3    0.309944\n",
       "4    0.026546\n",
       "2    0.000113\n",
       "Name: 8, dtype: float64"
      ]
     },
     "execution_count": 175,
     "metadata": {},
     "output_type": "execute_result"
    }
   ],
   "source": [
    "cnts"
   ]
  },
  {
   "cell_type": "code",
   "execution_count": 153,
   "metadata": {},
   "outputs": [
    {
     "data": {
      "text/plain": [
       "0    3017.325000\n",
       "1    3000.963220\n",
       "3    2812.098344\n",
       "4     241.481022\n",
       "2       1.133567\n",
       "Name: 8, dtype: float64"
      ]
     },
     "execution_count": 153,
     "metadata": {},
     "output_type": "execute_result"
    }
   ],
   "source": [
    "A.Run(None, cnts, 3, 134)"
   ]
  },
  {
   "cell_type": "code",
   "execution_count": 4,
   "metadata": {},
   "outputs": [],
   "source": [
    "exec(open('Algorithms.py').read())\n",
    "exec(open('ChoiceMaker.py').read())"
   ]
  },
  {
   "cell_type": "code",
   "execution_count": null,
   "metadata": {},
   "outputs": [],
   "source": [
    "alg_list = [Dawa(), Identity(), Hb()]\n",
    "mfs = HistMetafeats()\n",
    "d = DTree(3, group_gini)\n",
    "cm = ChoiceMaker.create(train_set, alg_list, d, mfs)"
   ]
  },
  {
   "cell_type": "code",
   "execution_count": null,
   "metadata": {},
   "outputs": [],
   "source": []
  }
 ],
 "metadata": {
  "kernelspec": {
   "display_name": "Python 3",
   "language": "python",
   "name": "python3"
  },
  "language_info": {
   "codemirror_mode": {
    "name": "ipython",
    "version": 3
   },
   "file_extension": ".py",
   "mimetype": "text/x-python",
   "name": "python",
   "nbconvert_exporter": "python",
   "pygments_lexer": "ipython3",
   "version": "3.6.4"
  }
 },
 "nbformat": 4,
 "nbformat_minor": 2
}
