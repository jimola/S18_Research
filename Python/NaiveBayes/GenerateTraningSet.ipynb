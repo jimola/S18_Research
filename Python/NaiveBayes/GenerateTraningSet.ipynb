{
 "cells": [
  {
   "cell_type": "code",
   "execution_count": 16,
   "metadata": {},
   "outputs": [],
   "source": [
    "import os\n",
    "import sys\n",
    "direct='../'\n",
    "exec(open('../LoadData.py').read())"
   ]
  },
  {
   "cell_type": "code",
   "execution_count": 1,
   "metadata": {},
   "outputs": [],
   "source": [
    "from dpcomp_core.algorithm import *\n",
    "from dpcomp_core.query_nd_union import ndRangeUnion\n",
    "from dpcomp_core import workload\n",
    "algs = [dawa.dawa_engine(), \n",
    "        identity.identity_engine(), \n",
    "        HB.HB_engine()\n",
    "       ]"
   ]
  },
  {
   "cell_type": "code",
   "execution_count": 18,
   "metadata": {},
   "outputs": [
    {
     "name": "stderr",
     "output_type": "stream",
     "text": [
      "/home/jacob/anaconda3/lib/python3.6/site-packages/sklearn/utils/fixes.py:64: DeprecationWarning: inspect.getargspec() is deprecated, use inspect.signature() or inspect.getfullargspec()\n",
      "  if 'order' in inspect.getargspec(np.copy)[0]:\n"
     ]
    }
   ],
   "source": [
    "from sklearn.neighbors import KernelDensity"
   ]
  },
  {
   "cell_type": "code",
   "execution_count": 4,
   "metadata": {},
   "outputs": [],
   "source": [
    "kde = KernelDensity().fit(adult.train[0][:, np.newaxis])"
   ]
  },
  {
   "cell_type": "code",
   "execution_count": 5,
   "metadata": {},
   "outputs": [],
   "source": [
    "X_plot = np.linspace(-1, 100, 8192)[:, np.newaxis]\n",
    "log_dens = kde.score_samples(X_plot)"
   ]
  },
  {
   "cell_type": "code",
   "execution_count": 6,
   "metadata": {},
   "outputs": [],
   "source": [
    "dens = np.exp(log_dens)\n",
    "dens = dens.reshape((4096, -1)).sum(axis=1).flatten()"
   ]
  },
  {
   "cell_type": "code",
   "execution_count": 7,
   "metadata": {},
   "outputs": [
    {
     "data": {
      "text/plain": [
       "[<matplotlib.patches.Polygon at 0x7f70d7c247b8>]"
      ]
     },
     "execution_count": 7,
     "metadata": {},
     "output_type": "execute_result"
    },
    {
     "data": {
      "image/png": "[encoded data removed]",
      "text/plain": [
       "<matplotlib.figure.Figure at 0x7f70d7c24780>"
      ]
     },
     "metadata": {},
     "output_type": "display_data"
    }
   ],
   "source": [
    "fig, ax = plt.subplots()\n",
    "ax.fill(X_plot[:, 0], np.exp(log_dens), fc='#AAAAFF')"
   ]
  },
  {
   "cell_type": "code",
   "execution_count": 19,
   "metadata": {},
   "outputs": [],
   "source": [
    "def set_1Ddb_params(col, scale, dom_size, bounds):\n",
    "    lb, ub = bounds\n",
    "    kde = KernelDensity().fit(col[:, None])\n",
    "    X_samples = np.exp(kde.score_samples(np.linspace(lb, ub, 8192)[:, None]))\n",
    "    hist = X_samples.reshape((dom_size, -1)).sum(axis=1).flatten()\n",
    "    hist = hist*scale/hist.sum()\n",
    "    return np.around(hist).astype('int')"
   ]
  },
  {
   "cell_type": "code",
   "execution_count": 9,
   "metadata": {
    "scrolled": true
   },
   "outputs": [],
   "source": [
    "H = set_1Ddb_params(adult.train[0], 1000, 256, (16, 100))"
   ]
  },
  {
   "cell_type": "code",
   "execution_count": 10,
   "metadata": {},
   "outputs": [
    {
     "data": {
      "text/plain": [
       "410.5"
      ]
     },
     "execution_count": 10,
     "metadata": {},
     "output_type": "execute_result"
    }
   ],
   "source": [
    "(H == 0).sum()\n",
    "tvd = abs(H-H.mean()).sum()/2\n",
    "tvd"
   ]
  },
  {
   "cell_type": "code",
   "execution_count": 7,
   "metadata": {},
   "outputs": [],
   "source": [
    "from dpcomp_core.algorithm.dawa import l1partition\n",
    "from dpcomp_core import experiment\n",
    "from dpcomp_core import metric\n",
    "from dpcomp_core import dataset\n",
    "\n",
    "def run_alg(X, W, A, seed, epsilon=1):\n",
    "    M = metric.SampleError(experiment.Single(X, W, A, epsilon, seed))\n",
    "    err = M.compute()\n",
    "    return err\n",
    "\n",
    "def seeder(seed=12345):\n",
    "    prng = np.random.RandomState(seed)\n",
    "    while(True):\n",
    "        yield prng.randint(0, 2**32)\n",
    "\n",
    "def dev(H):\n",
    "    return abs(H-H.mean()).sum()\n",
    "\n",
    "def collect_data(dbname):\n",
    "    epsilon=1\n",
    "    S = seeder()\n",
    "    D = pd.DataFrame()\n",
    "    for dom_size in 2**np.arange(7, 13):\n",
    "        for scale in 2**np.arange(5, 25):\n",
    "            #dom_size, scale, nnz, tv, partitionality\n",
    "            #H = set_1Ddb_params(adult.train[0], scale, dom_size, (16, 100))\n",
    "            X = dataset.DatasetSampledFromFile(nickname=dbname, sample_to_scale=int(scale),\\\n",
    "                                               reduce_to_dom_shape=int(dom_size), seed=next(S))\n",
    "            H = (X.dist*X.scale).astype('int')\n",
    "            nnz = (H == 0).sum()\n",
    "            tvd = dev(H)\n",
    "            P = l1partition.L1partition(H, epsilon, gethist=True, seed=next(S))\n",
    "            cost = sum([dev(H[l:r+1]) for l, r in P]) + len(P)/epsilon\n",
    "            W1 = workload.Identity((dom_size,))\n",
    "            W2 = workload.Prefix1D(domain_shape_int=dom_size)\n",
    "            alg_perf1 = [run_alg(X, W1, a, epsilon, next(S)) for a in algs]\n",
    "            alg_perf2 = [run_alg(X, W2, a, epsilon, next(S)) for a in algs]\n",
    "            E = [dom_size, scale, nnz, tvd, cost, 0] + alg_perf1 + \\\n",
    "                [dom_size, scale, nnz, tvd, cost, 1] + alg_perf2\n",
    "            E = pd.DataFrame(np.array(E).reshape((2, -1)))\n",
    "            D = D.append(E, ignore_index=True)\n",
    "    D.columns = ['domsize', 'scale', 'nnz', 'tvd', 'partcost', 'wkloadhalf', 'dawaerr', 'iderr', 'hberr']\n",
    "    D['dbname'] = dbname\n",
    "    return D"
   ]
  },
  {
   "cell_type": "code",
   "execution_count": 8,
   "metadata": {},
   "outputs": [],
   "source": [
    "X = dataset.DatasetSampledFromFile(nickname='ADULT', sample_to_scale=int(1024),\\\n",
    "                                               reduce_to_dom_shape=int(1024), seed=12435)\n",
    "W1 = workload.Identity((1024,))\n",
    "E = run_alg(X, W1, algs[0], 1, 1234)"
   ]
  },
  {
   "cell_type": "code",
   "execution_count": 17,
   "metadata": {},
   "outputs": [
    {
     "data": {
      "text/plain": [
       "array([ 9.72462156e+02,  1.01184747e+00,  1.01184747e+00, ...,\n",
       "       -2.25545580e-03, -2.25545580e-03, -2.25545580e-03])"
      ]
     },
     "execution_count": 17,
     "metadata": {},
     "output_type": "execute_result"
    }
   ],
   "source": [
    "algs[0].Run(W1, (X.dist*X.scale).astype(int), 1, 12345)"
   ]
  },
  {
   "cell_type": "code",
   "execution_count": 23,
   "metadata": {},
   "outputs": [
    {
     "data": {
      "text/plain": [
       "<dpcomp_core.dataset.DatasetSampledFromFile at 0x7fb8ff58ae48>"
      ]
     },
     "execution_count": 23,
     "metadata": {},
     "output_type": "execute_result"
    }
   ],
   "source": [
    "X"
   ]
  },
  {
   "cell_type": "code",
   "execution_count": 3,
   "metadata": {},
   "outputs": [],
   "source": [
    "Dadult = collect_data('ADULT')"
   ]
  },
  {
   "cell_type": "code",
   "execution_count": 4,
   "metadata": {},
   "outputs": [],
   "source": [
    "Dhepth = collect_data('HEPTH')"
   ]
  },
  {
   "cell_type": "code",
   "execution_count": 5,
   "metadata": {},
   "outputs": [],
   "source": [
    "Dincome = collect_data('INCOME')"
   ]
  },
  {
   "cell_type": "code",
   "execution_count": 6,
   "metadata": {},
   "outputs": [],
   "source": [
    "Dmedcost = collect_data('MEDCOST')"
   ]
  },
  {
   "cell_type": "code",
   "execution_count": 7,
   "metadata": {},
   "outputs": [],
   "source": [
    "Dnettrace = collect_data('NETTRACE')"
   ]
  },
  {
   "cell_type": "code",
   "execution_count": 8,
   "metadata": {},
   "outputs": [],
   "source": [
    "Dsearchlogs = collect_data('SEARCHLOGS')"
   ]
  },
  {
   "cell_type": "code",
   "execution_count": 9,
   "metadata": {},
   "outputs": [],
   "source": [
    "Dpatent = collect_data('PATENT')"
   ]
  },
  {
   "cell_type": "code",
   "execution_count": 19,
   "metadata": {},
   "outputs": [],
   "source": [
    "import pickle\n",
    "P = pd.concat([Dadult, Dhepth, Dincome, Dmedcost, Dnettrace, Dsearchlogs, Dpatent], ignore_index=True)\n",
    "pickle.dump(P, open('hist1D.p', 'wb'))"
   ]
  },
  {
   "cell_type": "code",
   "execution_count": 14,
   "metadata": {},
   "outputs": [
    {
     "data": {
      "text/plain": [
       "[<matplotlib.lines.Line2D at 0x7fb8ff92ccf8>,\n",
       " <matplotlib.lines.Line2D at 0x7fb8ff92ccc0>,\n",
       " <matplotlib.lines.Line2D at 0x7fb8ff92c400>]"
      ]
     },
     "execution_count": 14,
     "metadata": {},
     "output_type": "execute_result"
    },
    {
     "data": {
      "image/png": "[encoded data removed]",
      "text/plain": [
       "<matplotlib.figure.Figure at 0x7fb8ff4de160>"
      ]
     },
     "metadata": {},
     "output_type": "display_data"
    }
   ],
   "source": [
    "plt.plot(np.log(Dadult[['dawaerr', 'iderr', 'hberr']]))"
   ]
  },
  {
   "cell_type": "code",
   "execution_count": 14,
   "metadata": {},
   "outputs": [
    {
     "ename": "AssertionError",
     "evalue": "Domain must be reducible to target domain by uniform grid: 0, 4096",
     "output_type": "error",
     "traceback": [
      "\u001b[0;31m---------------------------------------------------------------------------\u001b[0m",
      "\u001b[0;31mAssertionError\u001b[0m                            Traceback (most recent call last)",
      "\u001b[0;32m<ipython-input-14-8eb06f7770fd>\u001b[0m in \u001b[0;36m<module>\u001b[0;34m()\u001b[0m\n\u001b[1;32m      5\u001b[0m \u001b[0mepsilon\u001b[0m\u001b[0;34m=\u001b[0m\u001b[0;36m1\u001b[0m\u001b[0;34m\u001b[0m\u001b[0m\n\u001b[1;32m      6\u001b[0m \u001b[0mX\u001b[0m \u001b[0;34m=\u001b[0m \u001b[0mdataset\u001b[0m\u001b[0;34m.\u001b[0m\u001b[0mDatasetSampledFromFile\u001b[0m\u001b[0;34m(\u001b[0m\u001b[0mnickname\u001b[0m\u001b[0;34m=\u001b[0m\u001b[0mdbname\u001b[0m\u001b[0;34m,\u001b[0m \u001b[0msample_to_scale\u001b[0m\u001b[0;34m=\u001b[0m\u001b[0mint\u001b[0m\u001b[0;34m(\u001b[0m\u001b[0mscale\u001b[0m\u001b[0;34m)\u001b[0m\u001b[0;34m,\u001b[0m                                   \u001b[0mreduce_to_dom_shape\u001b[0m\u001b[0;34m=\u001b[0m\u001b[0mint\u001b[0m\u001b[0;34m(\u001b[0m\u001b[0mdom_size\u001b[0m\u001b[0;34m)\u001b[0m\u001b[0;34m,\u001b[0m \u001b[0mseed\u001b[0m\u001b[0;34m=\u001b[0m\u001b[0mnext\u001b[0m\u001b[0;34m(\u001b[0m\u001b[0mS\u001b[0m\u001b[0;34m)\u001b[0m\u001b[0;34m)\u001b[0m\u001b[0;34m\u001b[0m\u001b[0m\n\u001b[0;32m----> 7\u001b[0;31m \u001b[0mH\u001b[0m \u001b[0;34m=\u001b[0m \u001b[0;34m(\u001b[0m\u001b[0mX\u001b[0m\u001b[0;34m.\u001b[0m\u001b[0mdist\u001b[0m\u001b[0;34m*\u001b[0m\u001b[0mX\u001b[0m\u001b[0;34m.\u001b[0m\u001b[0mscale\u001b[0m\u001b[0;34m)\u001b[0m\u001b[0;34m.\u001b[0m\u001b[0mastype\u001b[0m\u001b[0;34m(\u001b[0m\u001b[0;34m'int'\u001b[0m\u001b[0;34m)\u001b[0m\u001b[0;34m\u001b[0m\u001b[0m\n\u001b[0m\u001b[1;32m      8\u001b[0m \u001b[0mnnz\u001b[0m \u001b[0;34m=\u001b[0m \u001b[0;34m(\u001b[0m\u001b[0mH\u001b[0m \u001b[0;34m==\u001b[0m \u001b[0;36m0\u001b[0m\u001b[0;34m)\u001b[0m\u001b[0;34m.\u001b[0m\u001b[0msum\u001b[0m\u001b[0;34m(\u001b[0m\u001b[0;34m)\u001b[0m\u001b[0;34m\u001b[0m\u001b[0m\n\u001b[1;32m      9\u001b[0m \u001b[0mtvd\u001b[0m \u001b[0;34m=\u001b[0m \u001b[0mdev\u001b[0m\u001b[0;34m(\u001b[0m\u001b[0mH\u001b[0m\u001b[0;34m)\u001b[0m\u001b[0;34m\u001b[0m\u001b[0m\n",
      "\u001b[0;32m~/Desktop/Yang_Research/Python/NaiveBayes/dpcomp_core/dataset.py\u001b[0m in \u001b[0;36mdist\u001b[0;34m(self)\u001b[0m\n\u001b[1;32m    116\u001b[0m     \u001b[0;34m@\u001b[0m\u001b[0mproperty\u001b[0m\u001b[0;34m\u001b[0m\u001b[0m\n\u001b[1;32m    117\u001b[0m     \u001b[0;32mdef\u001b[0m \u001b[0mdist\u001b[0m\u001b[0;34m(\u001b[0m\u001b[0mself\u001b[0m\u001b[0;34m)\u001b[0m\u001b[0;34m:\u001b[0m\u001b[0;34m\u001b[0m\u001b[0m\n\u001b[0;32m--> 118\u001b[0;31m         \u001b[0;32mreturn\u001b[0m \u001b[0mself\u001b[0m\u001b[0;34m.\u001b[0m\u001b[0mcompile\u001b[0m\u001b[0;34m(\u001b[0m\u001b[0;34m)\u001b[0m\u001b[0;34m.\u001b[0m\u001b[0m_dist\u001b[0m\u001b[0;34m\u001b[0m\u001b[0m\n\u001b[0m\u001b[1;32m    119\u001b[0m \u001b[0;34m\u001b[0m\u001b[0m\n\u001b[1;32m    120\u001b[0m     \u001b[0;34m@\u001b[0m\u001b[0mproperty\u001b[0m\u001b[0;34m\u001b[0m\u001b[0m\n",
      "\u001b[0;32m~/Desktop/Yang_Research/Python/NaiveBayes/dpcomp_core/dataset.py\u001b[0m in \u001b[0;36mcompile\u001b[0;34m(self)\u001b[0m\n\u001b[1;32m     96\u001b[0m             \u001b[0mq\u001b[0m \u001b[0;34m=\u001b[0m \u001b[0;34m[\u001b[0m\u001b[0mdivmod\u001b[0m\u001b[0;34m(\u001b[0m\u001b[0mdom\u001b[0m\u001b[0;34m,\u001b[0m\u001b[0mgrid\u001b[0m\u001b[0;34m)\u001b[0m \u001b[0;32mfor\u001b[0m \u001b[0;34m(\u001b[0m\u001b[0mdom\u001b[0m\u001b[0;34m,\u001b[0m\u001b[0mgrid\u001b[0m\u001b[0;34m)\u001b[0m \u001b[0;32min\u001b[0m \u001b[0mzip\u001b[0m\u001b[0;34m(\u001b[0m\u001b[0mself\u001b[0m\u001b[0;34m.\u001b[0m\u001b[0m_payload\u001b[0m\u001b[0;34m.\u001b[0m\u001b[0mshape\u001b[0m\u001b[0;34m,\u001b[0m \u001b[0mself\u001b[0m\u001b[0;34m.\u001b[0m\u001b[0m_reduce_to_domain_shape\u001b[0m\u001b[0;34m)\u001b[0m\u001b[0;34m]\u001b[0m\u001b[0;34m\u001b[0m\u001b[0m\n\u001b[1;32m     97\u001b[0m             \u001b[0;32mfor\u001b[0m \u001b[0mred\u001b[0m\u001b[0;34m,\u001b[0m \u001b[0mrem\u001b[0m \u001b[0;32min\u001b[0m \u001b[0mq\u001b[0m\u001b[0;34m:\u001b[0m\u001b[0;34m\u001b[0m\u001b[0m\n\u001b[0;32m---> 98\u001b[0;31m                 \u001b[0;32massert\u001b[0m \u001b[0mrem\u001b[0m \u001b[0;34m==\u001b[0m \u001b[0;36m0\u001b[0m\u001b[0;34m,\u001b[0m \u001b[0;34m'Domain must be reducible to target domain by uniform grid: %i, %i'\u001b[0m \u001b[0;34m%\u001b[0m \u001b[0;34m(\u001b[0m\u001b[0mred\u001b[0m\u001b[0;34m,\u001b[0m\u001b[0mrem\u001b[0m\u001b[0;34m)\u001b[0m\u001b[0;34m\u001b[0m\u001b[0m\n\u001b[0m\u001b[1;32m     99\u001b[0m             \u001b[0mgrid_shape\u001b[0m \u001b[0;34m=\u001b[0m \u001b[0;34m[\u001b[0m\u001b[0mr\u001b[0m\u001b[0;34m[\u001b[0m\u001b[0;36m0\u001b[0m\u001b[0;34m]\u001b[0m \u001b[0;32mfor\u001b[0m \u001b[0mr\u001b[0m \u001b[0;32min\u001b[0m \u001b[0mq\u001b[0m\u001b[0;34m]\u001b[0m\u001b[0;34m\u001b[0m\u001b[0m\n\u001b[1;32m    100\u001b[0m             \u001b[0mp_grid\u001b[0m \u001b[0;34m=\u001b[0m \u001b[0mpartition_grid\u001b[0m\u001b[0;34m(\u001b[0m\u001b[0mself\u001b[0m\u001b[0;34m.\u001b[0m\u001b[0m_payload\u001b[0m\u001b[0;34m.\u001b[0m\u001b[0mshape\u001b[0m\u001b[0;34m,\u001b[0m \u001b[0mgrid_shape\u001b[0m\u001b[0;34m)\u001b[0m\u001b[0;34m\u001b[0m\u001b[0m\n",
      "\u001b[0;31mAssertionError\u001b[0m: Domain must be reducible to target domain by uniform grid: 0, 4096"
     ]
    }
   ],
   "source": [
    "dom_size = 8192\n",
    "scale=32\n",
    "dbname='BIDS-ALL'\n",
    "S = seeder()\n",
    "epsilon=1\n",
    "X = dataset.DatasetSampledFromFile(nickname=dbname, sample_to_scale=int(scale),\\\n",
    "                                   reduce_to_dom_shape=int(dom_size), seed=next(S))\n",
    "H = (X.dist*X.scale).astype('int')\n",
    "nnz = (H == 0).sum()\n",
    "tvd = dev(H)\n",
    "P = l1partition.L1partition(H, epsilon, gethist=True, seed=next(S))\n",
    "cost = sum([dev(H[l:r+1]) for l, r in P]) + len(P)/epsilon\n",
    "W1 = workload.Identity((dom_size,))\n",
    "W2 = workload.Prefix1D(domain_shape_int=dom_size)\n",
    "run_alg(X, W2, algs[0], epsilon, next(S))\n",
    "#dawa.dawa_engine().Run(W2, H, 1, 12345)"
   ]
  },
  {
   "cell_type": "code",
   "execution_count": 10,
   "metadata": {},
   "outputs": [],
   "source": [
    "X = dataset.DatasetSampledFromFile(nickname=dbname, sample_to_scale=int(scale),\\\n",
    "                                   reduce_to_dom_shape=int(dom_size), seed=next(S))"
   ]
  },
  {
   "cell_type": "code",
   "execution_count": 12,
   "metadata": {},
   "outputs": [
    {
     "data": {
      "text/plain": [
       "32"
      ]
     },
     "execution_count": 12,
     "metadata": {},
     "output_type": "execute_result"
    }
   ],
   "source": [
    "scale"
   ]
  },
  {
   "cell_type": "code",
   "execution_count": 13,
   "metadata": {},
   "outputs": [
    {
     "data": {
      "text/plain": [
       "74.67279309384571"
      ]
     },
     "execution_count": 13,
     "metadata": {},
     "output_type": "execute_result"
    }
   ],
   "source": [
    "epsilon = 1\n",
    "P = l1partition.L1partition(H, epsilon, gethist=True, seed=123)\n",
    "cost = sum([dev(H[l:r+1]) for l, r in P]) + len(P)/epsilon\n",
    "cost"
   ]
  },
  {
   "cell_type": "code",
   "execution_count": 184,
   "metadata": {},
   "outputs": [
    {
     "data": {
      "text/plain": [
       "{'TypeI.Linf': 0.007090698977572538,\n",
       " 'TypeI.L1': 0.0025155701215062425,\n",
       " 'TypeI.L2': 9.161779731020808e-05}"
      ]
     },
     "execution_count": 184,
     "metadata": {},
     "output_type": "execute_result"
    }
   ],
   "source": [
    "X1 = dataset.DatasetSampledFromFile(nickname='BIDS-ALL', sample_to_scale=1e4, reduce_to_dom_shape=1024, seed=111)\n",
    "W1 = workload.Prefix1D(domain_shape_int=1024)\n",
    "#W1 = workload.Identity((1024,))\n",
    "A = algs[0]\n",
    "M = metric.SampleError(experiment.Single(X1, W1, A, 1, 12345))\n",
    "err = M.compute().error_payload\n",
    "err"
   ]
  },
  {
   "cell_type": "code",
   "execution_count": 154,
   "metadata": {},
   "outputs": [
    {
     "data": {
      "text/plain": [
       "{'TypeI.Linf': 0.0028556712012473553,\n",
       " 'TypeI.L1': 0.0008309170412841024,\n",
       " 'TypeI.L2': 3.127345704396493e-05}"
      ]
     },
     "execution_count": 154,
     "metadata": {},
     "output_type": "execute_result"
    }
   ],
   "source": [
    "#X1 = dataset.DatasetSampledFromFile(nickname='BIDS-ALL', sample_to_scale=1e4, reduce_to_dom_shape=1024, seed=111)\n",
    "#W1 = workload.Prefix1D(domain_shape_int=1024)\n",
    "A = algs[1]\n",
    "M = metric.SampleError(experiment.Single(X1, W1, A, 1, 12345))\n",
    "err = M.compute().error_payload\n",
    "err"
   ]
  },
  {
   "cell_type": "code",
   "execution_count": 63,
   "metadata": {},
   "outputs": [],
   "source": [
    "W1 = workload.Prefix1D(domain_shape_int=1024)\n",
    "A = uniform.uniform_engine()"
   ]
  },
  {
   "cell_type": "code",
   "execution_count": 64,
   "metadata": {},
   "outputs": [],
   "source": [
    "E = experiment.Single(X1, W1, A, 1, 12345)"
   ]
  },
  {
   "cell_type": "code",
   "execution_count": 50,
   "metadata": {},
   "outputs": [],
   "source": [
    "E.X_hat"
   ]
  },
  {
   "cell_type": "code",
   "execution_count": 51,
   "metadata": {},
   "outputs": [],
   "source": [
    "E = E.run()"
   ]
  },
  {
   "cell_type": "code",
   "execution_count": 68,
   "metadata": {},
   "outputs": [],
   "source": [
    "M1 = metric.SampleError(E)"
   ]
  },
  {
   "cell_type": "code",
   "execution_count": 70,
   "metadata": {},
   "outputs": [
    {
     "data": {
      "text/plain": [
       "<dpcomp_core.metric.SampleError at 0x7f70d1e12320>"
      ]
     },
     "execution_count": 70,
     "metadata": {},
     "output_type": "execute_result"
    }
   ],
   "source": [
    "M1.compute()"
   ]
  },
  {
   "cell_type": "code",
   "execution_count": 71,
   "metadata": {},
   "outputs": [
    {
     "data": {
      "text/plain": [
       "{'init_params': {'E': {'marshaled': True,\n",
       "   'class': 'dpcomp_core.experiment.Single',\n",
       "   'init_params': {'seed': 12345,\n",
       "    'epsilon': 1,\n",
       "    'A': {'marshaled': True,\n",
       "     'class': 'dpcomp_core.algorithm.uniform.uniform_engine',\n",
       "     'init_params': {}},\n",
       "    'W': {'marshaled': True,\n",
       "     'class': 'dpcomp_core.workload.Prefix1D',\n",
       "     'init_params': {'pretty_name': 'prefix 1D', 'domain_shape_int': 1024}},\n",
       "    'X': {'marshaled': True,\n",
       "     'class': 'dpcomp_core.dataset.DatasetSampledFromFile',\n",
       "     'init_params': {'seed': 111,\n",
       "      'reduce_to_dom_shape': 1024,\n",
       "      'sample_to_scale': 10000.0,\n",
       "      'nickname': 'BIDS-ALL'}}}}},\n",
       " 'E': <dpcomp_core.experiment.Single at 0x7f70d1f92748>,\n",
       " 'X': <dpcomp_core.dataset.DatasetSampledFromFile at 0x7f70d1e23908>,\n",
       " 'X_hat': array([9.765625, 9.765625, 9.765625, ..., 9.765625, 9.765625, 9.765625],\n",
       "       dtype=float32),\n",
       " 'W': Prefix1D(domain_shape_int=1024),\n",
       " 'error_payload': {'TypeI.Linf': 0.015953125,\n",
       "  'TypeI.L1': 0.00590247802734375,\n",
       "  'TypeI.L2': 0.00023189586003187168},\n",
       " 'hash': 'ae9a41289c11ead2fa3075c5935ed132b26fa7b8',\n",
       " 'key': 'ae9a41289c11ead2fa3075c5',\n",
       " 'class': 'SampleError'}"
      ]
     },
     "execution_count": 71,
     "metadata": {},
     "output_type": "execute_result"
    }
   ],
   "source": [
    "M1.asDict()"
   ]
  },
  {
   "cell_type": "code",
   "execution_count": null,
   "metadata": {},
   "outputs": [],
   "source": []
  }
 ],
 "metadata": {
  "kernelspec": {
   "display_name": "Python 3",
   "language": "python",
   "name": "python3"
  },
  "language_info": {
   "codemirror_mode": {
    "name": "ipython",
    "version": 3
   },
   "file_extension": ".py",
   "mimetype": "text/x-python",
   "name": "python",
   "nbconvert_exporter": "python",
   "pygments_lexer": "ipython3",
   "version": "3.6.4"
  }
 },
 "nbformat": 4,
 "nbformat_minor": 2
}
