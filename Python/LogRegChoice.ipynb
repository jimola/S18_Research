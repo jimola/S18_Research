{
 "cells": [
  {
   "cell_type": "markdown",
   "metadata": {
    "collapsed": true
   },
   "source": [
    "### Logistic Regression (LogRegChoice.ipynb)\n",
    "Train a differentially private logistic regression model while trying to optimize the choice of the regularization hyperparameter.\n",
    "\n",
    "Goal: See how a ChoiceMaker performs on \"easier\" DP problems where a\n",
    "probabilistic bound (from the ERM method) can be derived. Numbers that aren't significantly worse than\n",
    "ERM are acceptable here.\n",
    "\n",
    "Comparison: Differentially private ERM. We implement private logistic\n",
    "regression, the ERM method, and a ChoiceMaker. We compare the misclassification rates of the algorithms.\n",
    "\n",
    "Current Results: The Choicemaker performs better than ERM for low values of epsilon which is quite interesting.\n",
    "It performs better than all three algorithms do as well."
   ]
  },
  {
   "cell_type": "code",
   "execution_count": 1,
   "metadata": {
    "collapsed": true
   },
   "outputs": [],
   "source": [
    "#Add the fork of sklearn to the path.\n",
    "import sys, os\n",
    "sys.path = ['./scikit-learn/build/lib.linux-x86_64-3.6/'] + sys.path\n",
    "import sklearn\n",
    "from sklearn import model_selection, feature_selection\n",
    "from sklearn.preprocessing import LabelEncoder\n",
    "import matplotlib.pyplot as plt\n",
    "import numpy as np\n",
    "import pandas as pd\n",
    "from log_regression import test, DPLogisticRegression\n",
    "from ChoiceMaker import DTChoice\n",
    "import ChoiceMaker\n",
    "import graphviz\n",
    "import copy\n",
    "%matplotlib inline\n",
    "import pickle"
   ]
  },
  {
   "cell_type": "code",
   "execution_count": 2,
   "metadata": {
    "collapsed": true
   },
   "outputs": [],
   "source": [
    "#This method is for saving checkpoints, as some of our computations are expensive.\n",
    "#If you want to run the code yourself, then simply delete the corresponding .pkl file in \n",
    "#the log_regression_metadata/ folder\n",
    "def load_or_run(name, f):\n",
    "    name = 'log_regression_metadata/' + name\n",
    "    try:\n",
    "        r = pickle.load(open(name, 'rb'))\n",
    "    except:\n",
    "        r = f()\n",
    "        pickle.dump(r, open(name, 'wb'))\n",
    "    return r"
   ]
  },
  {
   "cell_type": "markdown",
   "metadata": {},
   "source": [
    "### ChoiceMaker Classes"
   ]
  },
  {
   "cell_type": "code",
   "execution_count": 3,
   "metadata": {
    "collapsed": true
   },
   "outputs": [],
   "source": [
    "\"\"\"Error method implemented as cross validation score on the dataset\"\"\"\n",
    "def manual_CV(db, parts, clf):\n",
    "    kf = model_selection.KFold(parts)\n",
    "    arr = []\n",
    "    for train_idx, test_idx in kf.split(db.X):\n",
    "        X_test = db.X.iloc[test_idx]\n",
    "        y_test = db.y.iloc[test_idx]\n",
    "        X_train = db.X.iloc[train_idx]\n",
    "        y_train = db.y.iloc[train_idx]\n",
    "        #Have to fix case when only one class exists\n",
    "        if len(np.unique(y_train)) == 1:\n",
    "            score = (y_train == y_train.iloc[0]).sum() / len(y_train)\n",
    "            arr.append(score)\n",
    "        else:\n",
    "            clf.fit(X_train, y_train)\n",
    "            arr.append(clf.score(X_test, y_test))\n",
    "    return np.array(arr)"
   ]
  },
  {
   "cell_type": "code",
   "execution_count": 4,
   "metadata": {
    "collapsed": true
   },
   "outputs": [],
   "source": [
    "\"\"\"Logistic Regression algorithm class instantiated with a C value.\"\"\"\n",
    "class DP:\n",
    "    def __init__(self, C):\n",
    "        self.name = str(C)\n",
    "        self.model = DPLogisticRegression(0.1, C=C, K=1.02, fit_intercept=True)\n",
    "    def error(self, db):\n",
    "        #5-way CV score.\n",
    "        A = manual_CV(db, 5, self.model)\n",
    "        return 1.0-A.mean()\n",
    "    def run(self, db):\n",
    "        self.model.set_epsilon(db.epsilon)\n",
    "        return self.model.fit(db.X, db.y)"
   ]
  },
  {
   "cell_type": "code",
   "execution_count": 5,
   "metadata": {
    "collapsed": true
   },
   "outputs": [],
   "source": [
    "class DB:\n",
    "    def __init__(self, X, y, epsilon=1):\n",
    "        self.epsilon = epsilon\n",
    "        self.ncol = X.shape[1]\n",
    "        self.X = pd.get_dummies(X)\n",
    "        self.y = y"
   ]
  },
  {
   "cell_type": "code",
   "execution_count": 6,
   "metadata": {
    "collapsed": true
   },
   "outputs": [],
   "source": [
    "\"\"\"Metafeatures used\"\"\"\n",
    "\"\"\"Metafeatures used.  Note that the size of the\n",
    "dataset is considered public; the adjacency relation\n",
    "allows changing the value of a record, but not deleting it.\"\"\"\n",
    "class DBMetafeatures:\n",
    "    def __init__(self):\n",
    "        self.sensitivities = {'nrow': 0, 'ncol': 0, 'eps': 0, 'numy': 1}\n",
    "    \n",
    "    def __call__(self, dataset):\n",
    "        return {'nrow': dataset.X.shape[0], \n",
    "                'ncol': dataset.ncol,\n",
    "                'eps': dataset.epsilon, \n",
    "                'numy': dataset.y.sum()}"
   ]
  },
  {
   "cell_type": "markdown",
   "metadata": {},
   "source": [
    "#### Methods for slicing datasets, allowing us to make a larger test set for our ChoiceMaker"
   ]
  },
  {
   "cell_type": "code",
   "execution_count": 7,
   "metadata": {
    "collapsed": true
   },
   "outputs": [],
   "source": [
    "def reshape_dset(db, ncol, nrow, y_ratio, seed=12345, prng=None):\n",
    "    \"\"\"Rescales an input database to the desired parameters.\n",
    "    Parameters\n",
    "    ----------\n",
    "    db: Input array. We assume last col is the output col.\n",
    "        The output col must be binary.\n",
    "        \n",
    "    ncol: Desired number of columns in output.\n",
    "    \n",
    "    nrow: Desired number of rows.\n",
    "    \n",
    "    y_ratio: Desired percentage of class 2 in the output\n",
    "    \n",
    "    seed: seed value to use. Default: 12345\n",
    "    \n",
    "    prng: random number generator. One of seed or prng must not be None. \n",
    "    \"\"\"\n",
    "    if(prng == None):\n",
    "        prng = np.random.RandomState(seed)\n",
    "    ys = db[db.columns[-1]]\n",
    "    v1, v2 = ys.unique()[:2]\n",
    "    Z1 = db[ys == v1]\n",
    "    s1 = int(y_ratio*nrow)\n",
    "    Z2 = db[ys == v2]\n",
    "    s2 = nrow - s1\n",
    "    def reshape(Z, nrow):\n",
    "        db = pd.DataFrame()\n",
    "        while db.shape[0] + Z.shape[0] < nrow:\n",
    "            db = pd.concat((db, Z), ignore_index=True)\n",
    "        return pd.concat((db, Z.sample(nrow - db.shape[0])), ignore_index=True)\n",
    "    db = pd.concat((reshape(Z1, s1), reshape(Z2, s2)), ignore_index=True)\n",
    "    db_x = db[db.columns[:-1]]\n",
    "    ys = db[db.columns[-1]]\n",
    "    db = pd.DataFrame()\n",
    "    while db.shape[1] + db_x.shape[1] < ncol:\n",
    "        db = pd.concat((db, db_x), axis=1, ignore_index=True)\n",
    "    rand_cols = np.random.choice(db_x.columns, ncol-db.shape[1], replace=False)\n",
    "    return pd.concat((db, db_x[rand_cols], ys), axis=1, ignore_index=True).sample(frac=1)\n",
    "\n",
    "def gen_tset_size_range(eps_vals, col_vals, row_vals, ratios, reps, db, prng=None):\n",
    "    \"\"\"performs reshape_dset for each member of the cross product of the arguments\n",
    "    \n",
    "    Params:\n",
    "    db: Database to perform surgery on\n",
    "    \"\"\"\n",
    "    for c in col_vals:\n",
    "        for r in row_vals:\n",
    "            for e in eps_vals:\n",
    "                for ratio in ratios:\n",
    "                    for x in range(0, reps):\n",
    "                        G = reshape_dset(db, ncol=c, nrow=r, y_ratio=ratio, prng=prng)\n",
    "                        ncol = adult.shape[1]\n",
    "                        last_name = G.columns[-1]\n",
    "                        yield DB(G.drop([last_name], axis=1), G[last_name], e)"
   ]
  },
  {
   "cell_type": "markdown",
   "metadata": {},
   "source": [
    "### Load Datasets"
   ]
  },
  {
   "cell_type": "code",
   "execution_count": 8,
   "metadata": {
    "collapsed": true
   },
   "outputs": [],
   "source": [
    "adult = pickle.load(open('log_regression_data/adult_preprocess.pkl', 'rb'))\n",
    "magic = pickle.load(open('log_regression_data/magic_preprocess.pkl', 'rb'))\n",
    "default = pickle.load(open('log_regression_data/default_preprocess.pkl', 'rb'))\n",
    "lending = pickle.load(open('log_regression_data/lending_preprocess.pkl', 'rb'))"
   ]
  },
  {
   "cell_type": "code",
   "execution_count": 9,
   "metadata": {
    "collapsed": true
   },
   "outputs": [],
   "source": [
    "prng = np.random.RandomState(12345)\n",
    "eps_vals = [0.1, 0.2, 0.4, 0.8, 1.6, 3.2]\n",
    "col_vals = np.arange(2, 20, 2)\n",
    "row_vals = [20, 40, 100, 150, 300, 600, 1000, 2000, 3000]\n",
    "ratios = [0.15, 0.3, 0.5, 0.7, 0.85]\n",
    "num_reps = 3\n",
    "C_list = [0.1, 0.5, 1.0]\n",
    "alg_list = [DP(C=x) for x in C_list]\n",
    "def split_db(db, prng=None):\n",
    "    return gen_tset_size_range(eps_vals, col_vals, row_vals, ratios, num_reps, db, prng)"
   ]
  },
  {
   "cell_type": "code",
   "execution_count": 10,
   "metadata": {
    "collapsed": true
   },
   "outputs": [],
   "source": [
    "#These four lists contain all the datasets we use for our experiment.\n",
    "adult_data = list(split_db(adult, prng))\n",
    "default_data = list(split_db(default, prng))\n",
    "lending_data = list(split_db(lending, prng))\n",
    "magic_data = lambda: list(split_db(magic, prng))"
   ]
  },
  {
   "cell_type": "markdown",
   "metadata": {},
   "source": [
    "### Experiment\n",
    "\n",
    "##### Setup\n",
    "We have four dataset lists, each containing slices of a dataset. We train train four\n",
    "choicemakers in method inspired by cross-validation:\n",
    "Choicemaker i uses all partitions except for i as training data and is then tested on list i.\n",
    "Testing involves computing the error for each of the base algorithms, the choicemaker, ERM,\n",
    "and non-private cross-validation, averaged over each dataset in list i."
   ]
  },
  {
   "cell_type": "code",
   "execution_count": 11,
   "metadata": {
    "collapsed": true,
    "scrolled": true
   },
   "outputs": [],
   "source": [
    "#ChoiceMaker is abbreviated as cm\n",
    "def get_cm(db):\n",
    "    return DTChoice(db, DBMetafeatures(), {a.name: a for a in alg_list})"
   ]
  },
  {
   "cell_type": "code",
   "execution_count": 12,
   "metadata": {
    "collapsed": true
   },
   "outputs": [],
   "source": [
    "adult_cm = load_or_run('adult_cm.pkl', lambda: get_cm(adult_data))"
   ]
  },
  {
   "cell_type": "code",
   "execution_count": 16,
   "metadata": {
    "collapsed": true
   },
   "outputs": [],
   "source": [
    "default_cm = load_or_run('default_cm.pkl', lambda: get_cm(default_data))"
   ]
  },
  {
   "cell_type": "code",
   "execution_count": 17,
   "metadata": {
    "collapsed": true
   },
   "outputs": [],
   "source": [
    "lending_cm = load_or_run('lending_cm.pkl', lambda: get_cm(lending_data))"
   ]
  },
  {
   "cell_type": "code",
   "execution_count": 18,
   "metadata": {
    "collapsed": true
   },
   "outputs": [],
   "source": [
    "magic_cm = load_or_run('magic_cm.pkl', lambda: get_cm(magic_data))"
   ]
  },
  {
   "cell_type": "code",
   "execution_count": 19,
   "metadata": {
    "collapsed": true
   },
   "outputs": [],
   "source": [
    "\"\"\"\n",
    "{dbname}_test_cm contains all databases which are not named {dbname} as training data.\n",
    "\"\"\"\n",
    "\n",
    "default_test_cm = DTChoice(adult_data + lending_data + magic_data, DBMetafeatures(), \n",
    "                       {a.name: a for a in alg_list},\n",
    "                       pd.concat((adult_cm.regrets, lending_cm.regrets, magic_cm.regrets), ignore_index=True))\n",
    "default_test_cm.model = sklearn.tree.DecisionTreeClassifier(min_samples_leaf=10, max_depth=3)\n",
    "default_test_cm.retrain_model()\n",
    "\n",
    "adult_test_cm = DTChoice(default_data + lending_data + magic_data, DBMetafeatures(), \n",
    "                       {a.name: a for a in alg_list},\n",
    "                       pd.concat((default_cm.regrets, lending_cm.regrets, magic_cm.regrets), ignore_index=True))\n",
    "adult_test_cm.model = sklearn.tree.DecisionTreeClassifier(min_samples_leaf=10, max_depth=3)\n",
    "adult_test_cm.retrain_model()\n",
    "\n",
    "lending_test_cm = DTChoice(adult_data + default_data + magic_data, DBMetafeatures(), \n",
    "                       {a.name: a for a in alg_list},\n",
    "                       pd.concat((adult_cm.regrets, default_cm.regrets, magic_cm.regrets), ignore_index=True))\n",
    "lending_test_cm.model = sklearn.tree.DecisionTreeClassifier(min_samples_leaf=10, max_depth=3)\n",
    "lending_test_cm.retrain_model()\n",
    "\n",
    "magic_test_cm = DTChoice(adult_data + default_data + lending_data, DBMetafeatures(), \n",
    "                       {a.name: a for a in alg_list},\n",
    "                       pd.concat((adult_cm.regrets, default_cm.regrets, lending_cm.regrets), ignore_index=True))\n",
    "magic_test_cm.model = sklearn.tree.DecisionTreeClassifier(min_samples_leaf=10, max_depth=3)\n",
    "magic_test_cm.retrain_model()"
   ]
  },
  {
   "cell_type": "code",
   "execution_count": 37,
   "metadata": {
    "collapsed": true
   },
   "outputs": [],
   "source": [
    "#test every third database\n",
    "def get_test_set():\n",
    "    adult_data_test = []\n",
    "    for i in range(len(adult_data)):\n",
    "        if i%3 == 0:\n",
    "            adult_data_test.append(copy.copy(adult_data[i]))\n",
    "    default_data_test = []\n",
    "    for i in range(len(default_data)):\n",
    "        if i%3 == 0:\n",
    "            default_data_test.append(copy.copy(default_data[i]))\n",
    "    lending_data_test = []\n",
    "    for i in range(len(lending_data)):\n",
    "        if i%3 == 0:\n",
    "            lending_data_test.append(copy.copy(lending_data[i]))\n",
    "    magic_data_test = []\n",
    "    for i in range(len(magic_data)):\n",
    "        if i%3 == 0:\n",
    "            magic_data_test.append(copy.copy(magic_data[i]))\n",
    "    return (adult_data_test, default_data_test, lending_data_test, magic_data_test)\n",
    "(adult_data_test, default_data_test, lending_data_test, magic_data_test) = get_test_set()\n",
    "epsilons = [db.epsilon for db in lending_data_test]"
   ]
  },
  {
   "cell_type": "code",
   "execution_count": 22,
   "metadata": {
    "collapsed": true
   },
   "outputs": [],
   "source": [
    "adult_errors = [adult_test_cm.get_errors(x, ratio=0.2) for x in adult_data_test]\n",
    "adult_errors = pd.concat(adult_errors, ignore_index=True)"
   ]
  },
  {
   "cell_type": "code",
   "execution_count": 24,
   "metadata": {
    "collapsed": true
   },
   "outputs": [],
   "source": [
    "lending_errors = [lending_test_cm.get_errors(x, ratio=0.2) for x in lending_data_test]\n",
    "lending_errors = pd.concat(lending_errors, ignore_index=True)"
   ]
  },
  {
   "cell_type": "code",
   "execution_count": 25,
   "metadata": {
    "collapsed": true
   },
   "outputs": [],
   "source": [
    "default_errors = [default_test_cm.get_errors(x, ratio=0.2) for x in default_data_test]\n",
    "default_errors = pd.concat(default_errors, ignore_index=True)"
   ]
  },
  {
   "cell_type": "code",
   "execution_count": 26,
   "metadata": {
    "collapsed": true
   },
   "outputs": [],
   "source": [
    "magic_errors = [magic_test_cm.get_errors(x, ratio=0.2) for x in magic_data_test]\n",
    "magic_errors = pd.concat(magic_errors, ignore_index=True)"
   ]
  },
  {
   "cell_type": "markdown",
   "metadata": {
    "collapsed": true
   },
   "source": [
    "### Kamalika's method"
   ]
  },
  {
   "cell_type": "code",
   "execution_count": 27,
   "metadata": {
    "collapsed": true
   },
   "outputs": [],
   "source": [
    "def get_dp_logistic_regression(X_train, y_train, X_test, y_test, \n",
    "                             epsilon, ratio, param_list):\n",
    "    train_eps = epsilon*ratio\n",
    "    validation_eps = epsilon-train_eps\n",
    "    #Begin validation\n",
    "    utils = []\n",
    "    for C in param_list:\n",
    "        model = DPLogisticRegression(train_eps, C=C, K=1.02, fit_intercept=True)\n",
    "        model.fit(X_train, y_train)\n",
    "        preds = model.predict(X_test)\n",
    "        score = (preds == y_test).sum() / y_test.size\n",
    "        beta = max(1.0/y_test.size, 1.0/y_train.size)\n",
    "        score += np.random.exponential(1/validation_eps)*beta*2\n",
    "        utils.append(score)\n",
    "    return np.array(utils).argmax()"
   ]
  },
  {
   "cell_type": "code",
   "execution_count": 28,
   "metadata": {
    "collapsed": true,
    "scrolled": true
   },
   "outputs": [],
   "source": [
    "def test_db_MRE(data_test, ratio=0.8, splits=5, do_private=True):\n",
    "    kf = model_selection.KFold(splits)\n",
    "    avgs = []\n",
    "    for db in data_test:\n",
    "        avg = 0\n",
    "        for train_idx, test_idx in kf.split(db.X):\n",
    "            X_val = db.X.iloc[test_idx]\n",
    "            y_val = db.y.iloc[test_idx]\n",
    "            X_train = db.X.iloc[train_idx]\n",
    "            y_train = db.y.iloc[train_idx]\n",
    "            X_ttrain, X_ttest, y_ttrain, y_ttest = model_selection.train_test_split(X_train, y_train, test_size=0.2)\n",
    "            if pd.Series.nunique(y_ttrain) == 1:\n",
    "                avg += 1.0\n",
    "                continue\n",
    "            if do_private:\n",
    "                eps = db.epsilon\n",
    "            else:\n",
    "                eps=100\n",
    "            idx = get_dp_logistic_regression(X_ttrain, y_ttrain, X_ttest, y_ttest, eps, ratio, C_list)\n",
    "            alg = DP(C_list[idx])\n",
    "            if do_private:\n",
    "                alg.model.set_epsilon(eps - (1-ratio)*eps)\n",
    "            else:\n",
    "                alg.model.set_epsilon(100)\n",
    "            alg.model.fit(X_ttrain, y_ttrain)\n",
    "            y_hat = alg.model.predict(X_val)\n",
    "            avg += (y_hat == y_val).sum() / y_val.size\n",
    "        avg /= splits\n",
    "        avgs.append(1.0-avg)\n",
    "    return np.array(avgs)"
   ]
  },
  {
   "cell_type": "code",
   "execution_count": 39,
   "metadata": {
    "collapsed": true
   },
   "outputs": [],
   "source": [
    "\"\"\"Performance of ERM on each dataset slice. We generate the test sets freshly because\n",
    "the choicemaker alters epsilon yet we need the same amount of budget.\n",
    "\"\"\"\n",
    "(adult_data_test, default_data_test, lending_data_test, magic_data_test) = get_test_set()\n",
    "adult_perf = test_db_MRE(adult_data_test)\n",
    "lending_perf = test_db_MRE(lending_data_test)\n",
    "default_perf = test_db_MRE(default_data_test)\n",
    "magic_perf = test_db_MRE(magic_data_test)"
   ]
  },
  {
   "cell_type": "code",
   "execution_count": 30,
   "metadata": {
    "collapsed": true
   },
   "outputs": [],
   "source": [
    "\"\"\"Performance of non-private cross-validation on each dataset partition. \"\"\"\n",
    "(adult_data_test, default_data_test, lending_data_test, magic_data_test) = get_test_set()\n",
    "adult_perf_non = test_db_MRE(adult_data_test, do_private=False)\n",
    "lending_perf_non = test_db_MRE(lending_data_test, do_private=False)\n",
    "default_perf_non = test_db_MRE(default_data_test, do_private=False)\n",
    "magic_perf_non = test_db_MRE(magic_data_test, do_private=False)"
   ]
  },
  {
   "cell_type": "code",
   "execution_count": 40,
   "metadata": {
    "collapsed": true
   },
   "outputs": [],
   "source": [
    "adult_errors['Stability'] = adult_perf\n",
    "adult_errors['NonPrivate'] = adult_perf_non\n",
    "adult_errors['eps'] = epsilons\n",
    "lending_errors['Stability'] = lending_perf\n",
    "lending_errors['NonPrivate'] = lending_perf_non\n",
    "lending_errors['eps'] = epsilons\n",
    "default_errors['Stability'] = default_perf\n",
    "default_errors['NonPrivate'] = default_perf_non\n",
    "default_errors['eps'] = epsilons\n",
    "magic_errors['Stability'] = magic_perf\n",
    "magic_errors['NonPrivate'] = magic_perf_non\n",
    "magic_errors['eps'] = epsilons"
   ]
  },
  {
   "cell_type": "code",
   "execution_count": 41,
   "metadata": {
    "collapsed": true
   },
   "outputs": [],
   "source": [
    "\"\"\"\n",
    "pickle.dump(adult_errors, open('log_regression_metadata/adult_results2.pkl', 'wb'))\n",
    "pickle.dump(lending_errors, open('log_regression_metadata/lending_results2.pkl', 'wb'))\n",
    "pickle.dump(default_errors, open('log_regression_metadata/default_results2.pkl', 'wb'))\n",
    "pickle.dump(magic_errors, open('log_regression_metadata/megic_results2.pkl', 'wb'))\n",
    "\"\"\""
   ]
  },
  {
   "cell_type": "code",
   "execution_count": 42,
   "metadata": {
    "collapsed": true
   },
   "outputs": [],
   "source": [
    "tst = pd.concat([adult_errors, lending_errors, default_errors, magic_errors], ignore_index=True).groupby('eps').mean()"
   ]
  },
  {
   "cell_type": "code",
   "execution_count": 43,
   "metadata": {
    "collapsed": true
   },
   "outputs": [],
   "source": [
    "import matplotlib.patches as mpatches"
   ]
  },
  {
   "cell_type": "code",
   "execution_count": 44,
   "metadata": {
    "scrolled": true
   },
   "outputs": [
    {
     "data": {
      "text/plain": [
       "Text(0.5,1,'Errors of Stability, C_reg, and NonPrivate over 4 datasets')"
      ]
     },
     "execution_count": 44,
     "metadata": {},
     "output_type": "execute_result"
    },
    {
     "data": {
      "image/png": "[encoded data removed]",
      "text/plain": [
       "<matplotlib.figure.Figure at 0x7f7abc450fd0>"
      ]
     },
     "metadata": {},
     "output_type": "display_data"
    }
   ],
   "source": [
    "fig, axis=plt.subplots()\n",
    "for a in alg_list:\n",
    "    axis.plot(tst.index, tst[a.name], '--', label='C=%s' % a.name)\n",
    "axis.plot(tst.index, tst['cm'], 'o-', label='C_reg')\n",
    "axis.plot(tst.index, tst['Stability'], 'o-', label='Stability')\n",
    "axis.plot(tst.index, tst['NonPrivate'], 'o-', label='NonPriv')\n",
    "axis.legend(loc='upper center', bbox_to_anchor=(0.5, -0.05),  shadow=True, ncol=3)\n",
    "axis.set_ylabel('Misclassification Rate')\n",
    "axis.set_title('Errors of Stability, C_reg, and NonPrivate over 4 datasets')"
   ]
  }
 ],
 "metadata": {
  "kernelspec": {
   "display_name": "Python 3",
   "language": "python",
   "name": "python3"
  },
  "language_info": {
   "codemirror_mode": {
    "name": "ipython",
    "version": 3
   },
   "file_extension": ".py",
   "mimetype": "text/x-python",
   "name": "python",
   "nbconvert_exporter": "python",
   "pygments_lexer": "ipython3",
   "version": "3.6.3"
  }
 },
 "nbformat": 4,
 "nbformat_minor": 2
}
