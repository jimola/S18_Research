{
 "cells": [
  {
   "cell_type": "code",
   "execution_count": null,
   "metadata": {
    "collapsed": true
   },
   "outputs": [],
   "source": [
    "\"\"\"\n",
    "Logistic Regression (LogRegChoice.ipynb)\n",
    "Perform a logistic regression selecting which hyperparameter to use: 0.1, 0.5, 1.0\n",
    "\n",
    "Goal: See how a ChoiceMaker performs on \"easier\" DP problems like LogReg where a\n",
    "probabilistic bound (ERM) can be derived. Numbers that aren't significantly worse than\n",
    "ERM are acceptable here.\n",
    "\n",
    "Comparison: Differentially private ERM. I implement private logistic\n",
    "regression, the ERM method, and a ChoiceMaker.\n",
    "\n",
    "Current Results: This experiment is actually quite good. You can see the graph\n",
    "at the end of the notebook---there is a definite area where a ChoiceMaker actually beats ERM,\n",
    "and ChoiceMaker is never actually bad.\n",
    "\"\"\""
   ]
  },
  {
   "cell_type": "code",
   "execution_count": 1,
   "metadata": {
    "collapsed": true
   },
   "outputs": [],
   "source": [
    "import sys, os\n",
    "sys.path = ['./scikit-learn/build/lib.linux-x86_64-3.6/'] + sys.path\n",
    "import sklearn\n",
    "from sklearn import model_selection, feature_selection\n",
    "from sklearn.preprocessing import LabelEncoder\n",
    "import matplotlib.pyplot as plt\n",
    "import numpy as np\n",
    "import pandas as pd\n",
    "from log_regression import test, DPLogisticRegression\n",
    "from ChoiceMaker import DTChoice\n",
    "import ChoiceMaker\n",
    "import graphviz\n",
    "import copy\n",
    "%matplotlib inline"
   ]
  },
  {
   "cell_type": "code",
   "execution_count": 2,
   "metadata": {
    "collapsed": true
   },
   "outputs": [],
   "source": [
    "import pickle\n",
    "\"\"\"Method for loading or running a function (if it doesn't exist) located in the metadata folder\"\"\"\n",
    "def load_or_run(name, f):\n",
    "    name = 'log_regression_metadata/' + name\n",
    "    try:\n",
    "        r = pickle.load(open(name, 'rb'))\n",
    "    except:\n",
    "        r = f()\n",
    "        pickle.dump(r, open(name, 'wb'))\n",
    "    return r"
   ]
  },
  {
   "cell_type": "markdown",
   "metadata": {},
   "source": [
    "### ChoiceMaker Classes"
   ]
  },
  {
   "cell_type": "code",
   "execution_count": 3,
   "metadata": {
    "collapsed": true
   },
   "outputs": [],
   "source": [
    "#TODO: Change this to sklearn.model_selection.KFold\n",
    "def manual_CV(db, parts, clf):\n",
    "    \"\"\"Does cross-validation on the dataframe.\"\"\"\n",
    "    kf = model_selection.KFold(parts)\n",
    "    arr = []\n",
    "    for train_idx, test_idx in kf.split(db.X):\n",
    "        X_test = db.X.iloc[test_idx]\n",
    "        y_test = db.y.iloc[test_idx]\n",
    "        X_train = db.X.iloc[train_idx]\n",
    "        y_train = db.y.iloc[train_idx]\n",
    "        #Have to fix case when only one class exists\n",
    "        if len(np.unique(y_train)) == 1:\n",
    "            score = (y_train == y_train.iloc[0]).sum() / len(y_train)\n",
    "            arr.append(score)\n",
    "        else:\n",
    "            clf.fit(X_train, y_train)\n",
    "            arr.append(clf.score(X_test, y_test))\n",
    "    return np.array(arr)"
   ]
  },
  {
   "cell_type": "code",
   "execution_count": 4,
   "metadata": {
    "collapsed": true
   },
   "outputs": [],
   "source": [
    "#alg_list\n",
    "class DP:\n",
    "    def __init__(self, C):\n",
    "        self.name = str(C)\n",
    "        self.model = DPLogisticRegression(0.1, C=C, K=1.02, fit_intercept=True)\n",
    "    def error(self, db):\n",
    "        A = manual_CV(db, 5, self.model)\n",
    "        return 1.0-A.mean()\n",
    "    def run(self, db):\n",
    "        self.model.set_epsilon(db.epsilon)\n",
    "        return self.model.fit(db.X, db.y)"
   ]
  },
  {
   "cell_type": "code",
   "execution_count": 5,
   "metadata": {
    "collapsed": true
   },
   "outputs": [],
   "source": [
    "class DB:\n",
    "    def __init__(self, X, y, epsilon=1):\n",
    "        self.epsilon = epsilon\n",
    "        self.ncol = X.shape[1]\n",
    "        self.X = pd.get_dummies(X)\n",
    "        self.y = y"
   ]
  },
  {
   "cell_type": "code",
   "execution_count": 6,
   "metadata": {
    "collapsed": true
   },
   "outputs": [],
   "source": [
    "class DBMetafeatures:\n",
    "    def __init__(self):\n",
    "        self.sensitivities = {'nrow': 0, 'ncol': 0, 'eps': 0, 'numy': 1}\n",
    "    \n",
    "    def __call__(self, dataset):\n",
    "        return {'nrow': dataset.X.shape[0], \n",
    "                'ncol': dataset.ncol,\n",
    "                'eps': dataset.epsilon, \n",
    "                'numy': dataset.y.sum()}"
   ]
  },
  {
   "cell_type": "markdown",
   "metadata": {},
   "source": [
    "### Data Generation Methods"
   ]
  },
  {
   "cell_type": "code",
   "execution_count": 7,
   "metadata": {
    "collapsed": true
   },
   "outputs": [],
   "source": [
    "def reshape_dset(db, ncol, nrow, y_ratio, seed=12345, prng=None):\n",
    "    \"\"\"Rescales an input database to the desired parameters.\n",
    "    Parameters\n",
    "    ----------\n",
    "    db: Input array. We assume last col is the output col.\n",
    "        The output col must be binary.\n",
    "        \n",
    "    ncol: Desired number of columns in output.\n",
    "    \n",
    "    nrow: Desired number of rows.\n",
    "    \n",
    "    y_ratio: Desired percentage of class 2 in the output\n",
    "    \n",
    "    seed: seed value to use. Default: 12345\n",
    "    \n",
    "    prng: random number generator. One of seed or prng must not be None. \n",
    "    \"\"\"\n",
    "    if(prng == None):\n",
    "        prng = np.random.RandomState(seed)\n",
    "    ys = db[db.columns[-1]]\n",
    "    v1, v2 = ys.unique()[:2]\n",
    "    Z1 = db[ys == v1]\n",
    "    s1 = int(y_ratio*nrow)\n",
    "    Z2 = db[ys == v2]\n",
    "    s2 = nrow - s1\n",
    "    def reshape(Z, nrow):\n",
    "        db = pd.DataFrame()\n",
    "        while db.shape[0] + Z.shape[0] < nrow:\n",
    "            db = pd.concat((db, Z), ignore_index=True)\n",
    "        return pd.concat((db, Z.sample(nrow - db.shape[0])), ignore_index=True)\n",
    "    db = pd.concat((reshape(Z1, s1), reshape(Z2, s2)), ignore_index=True)\n",
    "    db_x = db[db.columns[:-1]]\n",
    "    ys = db[db.columns[-1]]\n",
    "    db = pd.DataFrame()\n",
    "    while db.shape[1] + db_x.shape[1] < ncol:\n",
    "        db = pd.concat((db, db_x), axis=1, ignore_index=True)\n",
    "    rand_cols = np.random.choice(db_x.columns, ncol-db.shape[1], replace=False)\n",
    "    return pd.concat((db, db_x[rand_cols], ys), axis=1, ignore_index=True).sample(frac=1)\n",
    "\n",
    "#Wrapper for dataset generation method\n",
    "def gen_tset_size_range(eps_vals, col_vals, row_vals, ratios, reps, db, prng=None):\n",
    "    \"\"\"performs reshape_dset for each member of the cross product of the arguments\n",
    "    \n",
    "    Params:\n",
    "    db: Database to perform surgery on\n",
    "    \"\"\"\n",
    "    for c in col_vals:\n",
    "        for r in row_vals:\n",
    "            for e in eps_vals:\n",
    "                for ratio in ratios:\n",
    "                    for x in range(0, reps):\n",
    "                        G = reshape_dset(db, ncol=c, nrow=r, y_ratio=ratio, prng=prng)\n",
    "                        ncol = adult.shape[1]\n",
    "                        last_name = G.columns[-1]\n",
    "                        yield DB(G.drop([last_name], axis=1), G[last_name], e)"
   ]
  },
  {
   "cell_type": "markdown",
   "metadata": {},
   "source": [
    "### Load Datasets"
   ]
  },
  {
   "cell_type": "code",
   "execution_count": 8,
   "metadata": {
    "collapsed": true
   },
   "outputs": [],
   "source": [
    "adult = pickle.load(open('log_regression_data/adult_preprocess.pkl', 'rb'))\n",
    "magic = pickle.load(open('log_regression_data/magic_preprocess.pkl', 'rb'))\n",
    "default = pickle.load(open('log_regression_data/default_preprocess.pkl', 'rb'))\n",
    "lending = pickle.load(open('log_regression_data/lending_preprocess.pkl', 'rb'))"
   ]
  },
  {
   "cell_type": "code",
   "execution_count": 9,
   "metadata": {
    "collapsed": true
   },
   "outputs": [],
   "source": [
    "prng = np.random.RandomState(12345)\n",
    "eps_vals = [0.1, 0.2, 0.4, 0.8, 1.6, 3.2]\n",
    "col_vals = np.arange(2, 20, 2)\n",
    "row_vals = [20, 40, 100, 150, 300, 600, 1000, 2000, 3000]\n",
    "ratios = [0.15, 0.3, 0.5, 0.7, 0.85]\n",
    "num_reps = 3\n",
    "C_list = [0.1, 0.5, 1.0]\n",
    "alg_list = [DP(C=x) for x in C_list]\n",
    "def split_db(db, prng=None):\n",
    "    return gen_tset_size_range(eps_vals, col_vals, row_vals, ratios, num_reps, db, prng)"
   ]
  },
  {
   "cell_type": "code",
   "execution_count": 10,
   "metadata": {
    "collapsed": true
   },
   "outputs": [],
   "source": [
    "#Generate the database slices for our experiments.\n",
    "#Unfortunately, these have to be lists, not generators\n",
    "adult_data = load_or_run('adult_slices.pkl', lambda: list(split_db(adult, prng)))\n",
    "default_data = load_or_run('default_slices.pkl', lambda: list(split_db(default, prng)))\n",
    "lending_data = load_or_run('lending_slices.pkl', lambda: list(split_db(lending, prng)))\n",
    "magic_data = load_or_run('magic_slices.pkl', lambda: list(split_db(magic, prng)))"
   ]
  },
  {
   "cell_type": "markdown",
   "metadata": {},
   "source": [
    "### Data analysis"
   ]
  },
  {
   "cell_type": "code",
   "execution_count": 11,
   "metadata": {
    "collapsed": true,
    "scrolled": true
   },
   "outputs": [],
   "source": [
    "def get_cm(db):\n",
    "    return DTChoice(db, DBMetafeatures(), {a.name: a for a in alg_list})"
   ]
  },
  {
   "cell_type": "code",
   "execution_count": 12,
   "metadata": {},
   "outputs": [],
   "source": [
    "adult_cm = load_or_run('adult_cm.pkl', lambda: get_cm(adult_data))"
   ]
  },
  {
   "cell_type": "code",
   "execution_count": 16,
   "metadata": {
    "collapsed": true
   },
   "outputs": [],
   "source": [
    "default_cm = load_or_run('default_cm.pkl', lambda: get_cm(default_data))"
   ]
  },
  {
   "cell_type": "code",
   "execution_count": 17,
   "metadata": {
    "collapsed": true
   },
   "outputs": [],
   "source": [
    "lending_cm = load_or_run('lending_cm.pkl', lambda: get_cm(lending_data))"
   ]
  },
  {
   "cell_type": "code",
   "execution_count": 18,
   "metadata": {
    "collapsed": true
   },
   "outputs": [],
   "source": [
    "magic_cm = load_or_run('magic_cm.pkl', lambda: get_cm(magic_data))"
   ]
  },
  {
   "cell_type": "code",
   "execution_count": 25,
   "metadata": {
    "collapsed": true
   },
   "outputs": [],
   "source": [
    "adult_cm = pickle.load(open('log_regression_metadata/adult_cm.p', 'rb'))\n",
    "default_cm = pickle.load(open('log_regression_metadata/default_cm.p', 'rb'))\n",
    "lending_cm = pickle.load(open('log_regression_metadata/lending_cm.p', 'rb'))\n",
    "magic_cm = pickle.load(open('log_regression_metadata/magic_cm.p', 'rb'))\n",
    "#pickle.dump(adult_cm, open('log_regression_metadata/adult_cm.p', 'wb'))\n",
    "#pickle.dump(default_cm, open('log_regression_metadata/default_cm.p', 'wb'))\n",
    "#pickle.dump(lending_cm, open('log_regression_metadata/lending_cm.p', 'wb'))\n",
    "#pickle.dump(magic_cm, open('log_regression_metadata/magic_cm.p', 'wb'))"
   ]
  },
  {
   "cell_type": "code",
   "execution_count": 19,
   "metadata": {
    "collapsed": true
   },
   "outputs": [],
   "source": [
    "#Experiment 1: Test the adult data and the lending data's prediction power on default data.\n",
    "#Trials are cached within lending and adult data\n",
    "import importlib\n",
    "importlib.reload(sklearn)\n",
    "default_test_cm = DTChoice(adult_data + lending_data + magic_data, DBMetafeatures(), \n",
    "                       {a.name: a for a in alg_list},\n",
    "                       pd.concat((adult_cm.regrets, lending_cm.regrets, magic_cm.regrets), ignore_index=True))\n",
    "default_test_cm.model = sklearn.tree.DecisionTreeClassifier(min_samples_leaf=10, max_depth=3)\n",
    "default_test_cm.retrain_model()\n",
    "\n",
    "adult_test_cm = DTChoice(default_data + lending_data + magic_data, DBMetafeatures(), \n",
    "                       {a.name: a for a in alg_list},\n",
    "                       pd.concat((default_cm.regrets, lending_cm.regrets, magic_cm.regrets), ignore_index=True))\n",
    "adult_test_cm.model = sklearn.tree.DecisionTreeClassifier(min_samples_leaf=10, max_depth=3)\n",
    "adult_test_cm.retrain_model()\n",
    "\n",
    "lending_test_cm = DTChoice(adult_data + default_data + magic_data, DBMetafeatures(), \n",
    "                       {a.name: a for a in alg_list},\n",
    "                       pd.concat((adult_cm.regrets, default_cm.regrets, magic_cm.regrets), ignore_index=True))\n",
    "lending_test_cm.model = sklearn.tree.DecisionTreeClassifier(min_samples_leaf=10, max_depth=3)\n",
    "lending_test_cm.retrain_model()\n",
    "\n",
    "magic_test_cm = DTChoice(adult_data + default_data + lending_data, DBMetafeatures(), \n",
    "                       {a.name: a for a in alg_list},\n",
    "                       pd.concat((adult_cm.regrets, default_cm.regrets, lending_cm.regrets), ignore_index=True))\n",
    "magic_test_cm.model = sklearn.tree.DecisionTreeClassifier(min_samples_leaf=10, max_depth=3)\n",
    "magic_test_cm.retrain_model()"
   ]
  },
  {
   "cell_type": "code",
   "execution_count": 27,
   "metadata": {},
   "outputs": [
    {
     "data": {
      "image/svg+xml": [
       "<?xml version=\"1.0\" encoding=\"UTF-8\" standalone=\"no\"?>\n",
       "<!DOCTYPE svg PUBLIC \"-//W3C//DTD SVG 1.1//EN\"\n",
       " \"http://www.w3.org/Graphics/SVG/1.1/DTD/svg11.dtd\">\n",
       "<!-- Generated by graphviz version 2.40.1 (20161225.0304)\n",
       " -->\n",
       "<!-- Title: Tree Pages: 1 -->\n",
       "<svg width=\"1626pt\" height=\"373pt\"\n",
       " viewBox=\"0.00 0.00 1626.00 373.00\" xmlns=\"http://www.w3.org/2000/svg\" xmlns:xlink=\"http://www.w3.org/1999/xlink\">\n",
       "<g id=\"graph0\" class=\"graph\" transform=\"scale(1 1) rotate(0) translate(4 369)\">\n",
       "<title>Tree</title>\n",
       "<polygon fill=\"#ffffff\" stroke=\"transparent\" points=\"-4,4 -4,-369 1622,-369 1622,4 -4,4\"/>\n",
       "<!-- 0 -->\n",
       "<g id=\"node1\" class=\"node\">\n",
       "<title>0</title>\n",
       "<path fill=\"transparent\" stroke=\"#000000\" d=\"M890,-365C890,-365 726,-365 726,-365 720,-365 714,-359 714,-353 714,-353 714,-309 714,-309 714,-303 720,-297 726,-297 726,-297 890,-297 890,-297 896,-297 902,-303 902,-309 902,-309 902,-353 902,-353 902,-359 896,-365 890,-365\"/>\n",
       "<text text-anchor=\"middle\" x=\"808\" y=\"-349.8\" font-family=\"Helvetica,sans-Serif\" font-size=\"14.00\" fill=\"#000000\">X[40] &lt;= &#45;12.877</text>\n",
       "<text text-anchor=\"middle\" x=\"808\" y=\"-334.8\" font-family=\"Helvetica,sans-Serif\" font-size=\"14.00\" fill=\"#000000\">gini = 0.316</text>\n",
       "<text text-anchor=\"middle\" x=\"808\" y=\"-319.8\" font-family=\"Helvetica,sans-Serif\" font-size=\"14.00\" fill=\"#000000\">samples = 21870</text>\n",
       "<text text-anchor=\"middle\" x=\"808\" y=\"-304.8\" font-family=\"Helvetica,sans-Serif\" font-size=\"14.00\" fill=\"#000000\">value = [0.684, 0.663, 0.647]</text>\n",
       "</g>\n",
       "<!-- 1 -->\n",
       "<g id=\"node2\" class=\"node\">\n",
       "<title>1</title>\n",
       "<path fill=\"transparent\" stroke=\"#000000\" d=\"M686,-261C686,-261 522,-261 522,-261 516,-261 510,-255 510,-249 510,-249 510,-205 510,-205 510,-199 516,-193 522,-193 522,-193 686,-193 686,-193 692,-193 698,-199 698,-205 698,-205 698,-249 698,-249 698,-255 692,-261 686,-261\"/>\n",
       "<text text-anchor=\"middle\" x=\"604\" y=\"-245.8\" font-family=\"Helvetica,sans-Serif\" font-size=\"14.00\" fill=\"#000000\">X[42] &lt;= &#45;0.525</text>\n",
       "<text text-anchor=\"middle\" x=\"604\" y=\"-230.8\" font-family=\"Helvetica,sans-Serif\" font-size=\"14.00\" fill=\"#000000\">gini = 0.316</text>\n",
       "<text text-anchor=\"middle\" x=\"604\" y=\"-215.8\" font-family=\"Helvetica,sans-Serif\" font-size=\"14.00\" fill=\"#000000\">samples = 6318</text>\n",
       "<text text-anchor=\"middle\" x=\"604\" y=\"-200.8\" font-family=\"Helvetica,sans-Serif\" font-size=\"14.00\" fill=\"#000000\">value = [0.681, 0.682, 0.684]</text>\n",
       "</g>\n",
       "<!-- 0&#45;&gt;1 -->\n",
       "<g id=\"edge1\" class=\"edge\">\n",
       "<title>0&#45;&gt;1</title>\n",
       "<path fill=\"none\" stroke=\"#000000\" d=\"M741.2028,-296.9465C721.6537,-286.9803 700.1383,-276.0117 680.0594,-265.7754\"/>\n",
       "<polygon fill=\"#000000\" stroke=\"#000000\" points=\"681.446,-262.5537 670.9473,-261.13 678.2667,-268.7901 681.446,-262.5537\"/>\n",
       "<text text-anchor=\"middle\" x=\"678.6675\" y=\"-281.2081\" font-family=\"Helvetica,sans-Serif\" font-size=\"14.00\" fill=\"#000000\">True</text>\n",
       "</g>\n",
       "<!-- 8 -->\n",
       "<g id=\"node9\" class=\"node\">\n",
       "<title>8</title>\n",
       "<path fill=\"transparent\" stroke=\"#000000\" d=\"M1094,-261C1094,-261 930,-261 930,-261 924,-261 918,-255 918,-249 918,-249 918,-205 918,-205 918,-199 924,-193 930,-193 930,-193 1094,-193 1094,-193 1100,-193 1106,-199 1106,-205 1106,-205 1106,-249 1106,-249 1106,-255 1100,-261 1094,-261\"/>\n",
       "<text text-anchor=\"middle\" x=\"1012\" y=\"-245.8\" font-family=\"Helvetica,sans-Serif\" font-size=\"14.00\" fill=\"#000000\">X[43] &lt;= &#45;4.931</text>\n",
       "<text text-anchor=\"middle\" x=\"1012\" y=\"-230.8\" font-family=\"Helvetica,sans-Serif\" font-size=\"14.00\" fill=\"#000000\">gini = 0.315</text>\n",
       "<text text-anchor=\"middle\" x=\"1012\" y=\"-215.8\" font-family=\"Helvetica,sans-Serif\" font-size=\"14.00\" fill=\"#000000\">samples = 15552</text>\n",
       "<text text-anchor=\"middle\" x=\"1012\" y=\"-200.8\" font-family=\"Helvetica,sans-Serif\" font-size=\"14.00\" fill=\"#000000\">value = [0.685, 0.655, 0.632]</text>\n",
       "</g>\n",
       "<!-- 0&#45;&gt;8 -->\n",
       "<g id=\"edge8\" class=\"edge\">\n",
       "<title>0&#45;&gt;8</title>\n",
       "<path fill=\"none\" stroke=\"#000000\" d=\"M874.7972,-296.9465C894.3463,-286.9803 915.8617,-276.0117 935.9406,-265.7754\"/>\n",
       "<polygon fill=\"#000000\" stroke=\"#000000\" points=\"937.7333,-268.7901 945.0527,-261.13 934.554,-262.5537 937.7333,-268.7901\"/>\n",
       "<text text-anchor=\"middle\" x=\"937.3325\" y=\"-281.2081\" font-family=\"Helvetica,sans-Serif\" font-size=\"14.00\" fill=\"#000000\">False</text>\n",
       "</g>\n",
       "<!-- 2 -->\n",
       "<g id=\"node3\" class=\"node\">\n",
       "<title>2</title>\n",
       "<path fill=\"transparent\" stroke=\"#000000\" d=\"M378.5,-157C378.5,-157 221.5,-157 221.5,-157 215.5,-157 209.5,-151 209.5,-145 209.5,-145 209.5,-101 209.5,-101 209.5,-95 215.5,-89 221.5,-89 221.5,-89 378.5,-89 378.5,-89 384.5,-89 390.5,-95 390.5,-101 390.5,-101 390.5,-145 390.5,-145 390.5,-151 384.5,-157 378.5,-157\"/>\n",
       "<text text-anchor=\"middle\" x=\"300\" y=\"-141.8\" font-family=\"Helvetica,sans-Serif\" font-size=\"14.00\" fill=\"#000000\">X[42] &lt;= &#45;0.949</text>\n",
       "<text text-anchor=\"middle\" x=\"300\" y=\"-126.8\" font-family=\"Helvetica,sans-Serif\" font-size=\"14.00\" fill=\"#000000\">gini = 0.45</text>\n",
       "<text text-anchor=\"middle\" x=\"300\" y=\"-111.8\" font-family=\"Helvetica,sans-Serif\" font-size=\"14.00\" fill=\"#000000\">samples = 3402</text>\n",
       "<text text-anchor=\"middle\" x=\"300\" y=\"-96.8\" font-family=\"Helvetica,sans-Serif\" font-size=\"14.00\" fill=\"#000000\">value = [0.538, 0.542, 0.55]</text>\n",
       "</g>\n",
       "<!-- 1&#45;&gt;2 -->\n",
       "<g id=\"edge2\" class=\"edge\">\n",
       "<title>1&#45;&gt;2</title>\n",
       "<path fill=\"none\" stroke=\"#000000\" d=\"M509.8944,-194.806C475.1468,-182.9186 435.6535,-169.4078 400.3717,-157.3377\"/>\n",
       "<polygon fill=\"#000000\" stroke=\"#000000\" points=\"401.1341,-153.8994 390.5395,-153.974 398.8682,-160.5226 401.1341,-153.8994\"/>\n",
       "</g>\n",
       "<!-- 5 -->\n",
       "<g id=\"node6\" class=\"node\">\n",
       "<title>5</title>\n",
       "<path fill=\"transparent\" stroke=\"#000000\" d=\"M686,-157C686,-157 522,-157 522,-157 516,-157 510,-151 510,-145 510,-145 510,-101 510,-101 510,-95 516,-89 522,-89 522,-89 686,-89 686,-89 692,-89 698,-95 698,-101 698,-101 698,-145 698,-145 698,-151 692,-157 686,-157\"/>\n",
       "<text text-anchor=\"middle\" x=\"604\" y=\"-141.8\" font-family=\"Helvetica,sans-Serif\" font-size=\"14.00\" fill=\"#000000\">X[30] &lt;= 13.779</text>\n",
       "<text text-anchor=\"middle\" x=\"604\" y=\"-126.8\" font-family=\"Helvetica,sans-Serif\" font-size=\"14.00\" fill=\"#000000\">gini = 0.153</text>\n",
       "<text text-anchor=\"middle\" x=\"604\" y=\"-111.8\" font-family=\"Helvetica,sans-Serif\" font-size=\"14.00\" fill=\"#000000\">samples = 2916</text>\n",
       "<text text-anchor=\"middle\" x=\"604\" y=\"-96.8\" font-family=\"Helvetica,sans-Serif\" font-size=\"14.00\" fill=\"#000000\">value = [0.847, 0.846, 0.841]</text>\n",
       "</g>\n",
       "<!-- 1&#45;&gt;5 -->\n",
       "<g id=\"edge5\" class=\"edge\">\n",
       "<title>1&#45;&gt;5</title>\n",
       "<path fill=\"none\" stroke=\"#000000\" d=\"M604,-192.9465C604,-184.776 604,-175.9318 604,-167.3697\"/>\n",
       "<polygon fill=\"#000000\" stroke=\"#000000\" points=\"607.5001,-167.13 604,-157.13 600.5001,-167.13 607.5001,-167.13\"/>\n",
       "</g>\n",
       "<!-- 3 -->\n",
       "<g id=\"node4\" class=\"node\">\n",
       "<title>3</title>\n",
       "<path fill=\"transparent\" stroke=\"#000000\" d=\"M176,-53C176,-53 12,-53 12,-53 6,-53 0,-47 0,-41 0,-41 0,-12 0,-12 0,-6 6,0 12,0 12,0 176,0 176,0 182,0 188,-6 188,-12 188,-12 188,-41 188,-41 188,-47 182,-53 176,-53\"/>\n",
       "<text text-anchor=\"middle\" x=\"94\" y=\"-37.8\" font-family=\"Helvetica,sans-Serif\" font-size=\"14.00\" fill=\"#000000\">gini = 0.152</text>\n",
       "<text text-anchor=\"middle\" x=\"94\" y=\"-22.8\" font-family=\"Helvetica,sans-Serif\" font-size=\"14.00\" fill=\"#000000\">samples = 1944</text>\n",
       "<text text-anchor=\"middle\" x=\"94\" y=\"-7.8\" font-family=\"Helvetica,sans-Serif\" font-size=\"14.00\" fill=\"#000000\">value = [0.848, 0.847, 0.846]</text>\n",
       "</g>\n",
       "<!-- 2&#45;&gt;3 -->\n",
       "<g id=\"edge3\" class=\"edge\">\n",
       "<title>2&#45;&gt;3</title>\n",
       "<path fill=\"none\" stroke=\"#000000\" d=\"M227.3721,-88.9777C205.3775,-78.6744 181.3537,-67.4205 159.8307,-57.3381\"/>\n",
       "<polygon fill=\"#000000\" stroke=\"#000000\" points=\"161.3132,-54.1677 150.7728,-53.095 158.3437,-60.5066 161.3132,-54.1677\"/>\n",
       "</g>\n",
       "<!-- 4 -->\n",
       "<g id=\"node5\" class=\"node\">\n",
       "<title>4</title>\n",
       "<path fill=\"transparent\" stroke=\"#000000\" d=\"M382,-53C382,-53 218,-53 218,-53 212,-53 206,-47 206,-41 206,-41 206,-12 206,-12 206,-6 212,0 218,0 218,0 382,0 382,0 388,0 394,-6 394,-12 394,-12 394,-41 394,-41 394,-47 388,-53 382,-53\"/>\n",
       "<text text-anchor=\"middle\" x=\"300\" y=\"-37.8\" font-family=\"Helvetica,sans-Serif\" font-size=\"14.00\" fill=\"#000000\">gini = 0.845</text>\n",
       "<text text-anchor=\"middle\" x=\"300\" y=\"-22.8\" font-family=\"Helvetica,sans-Serif\" font-size=\"14.00\" fill=\"#000000\">samples = 1458</text>\n",
       "<text text-anchor=\"middle\" x=\"300\" y=\"-7.8\" font-family=\"Helvetica,sans-Serif\" font-size=\"14.00\" fill=\"#000000\">value = [0.126, 0.135, 0.155]</text>\n",
       "</g>\n",
       "<!-- 2&#45;&gt;4 -->\n",
       "<g id=\"edge4\" class=\"edge\">\n",
       "<title>2&#45;&gt;4</title>\n",
       "<path fill=\"none\" stroke=\"#000000\" d=\"M300,-88.9777C300,-80.7364 300,-71.887 300,-63.5153\"/>\n",
       "<polygon fill=\"#000000\" stroke=\"#000000\" points=\"303.5001,-63.2484 300,-53.2485 296.5001,-63.2485 303.5001,-63.2484\"/>\n",
       "</g>\n",
       "<!-- 6 -->\n",
       "<g id=\"node7\" class=\"node\">\n",
       "<title>6</title>\n",
       "<path fill=\"transparent\" stroke=\"#000000\" d=\"M581.5,-53C581.5,-53 424.5,-53 424.5,-53 418.5,-53 412.5,-47 412.5,-41 412.5,-41 412.5,-12 412.5,-12 412.5,-6 418.5,0 424.5,0 424.5,0 581.5,0 581.5,0 587.5,0 593.5,-6 593.5,-12 593.5,-12 593.5,-41 593.5,-41 593.5,-47 587.5,-53 581.5,-53\"/>\n",
       "<text text-anchor=\"middle\" x=\"503\" y=\"-37.8\" font-family=\"Helvetica,sans-Serif\" font-size=\"14.00\" fill=\"#000000\">gini = 0.233</text>\n",
       "<text text-anchor=\"middle\" x=\"503\" y=\"-22.8\" font-family=\"Helvetica,sans-Serif\" font-size=\"14.00\" fill=\"#000000\">samples = 36</text>\n",
       "<text text-anchor=\"middle\" x=\"503\" y=\"-7.8\" font-family=\"Helvetica,sans-Serif\" font-size=\"14.00\" fill=\"#000000\">value = [0.765, 0.767, 0.76]</text>\n",
       "</g>\n",
       "<!-- 5&#45;&gt;6 -->\n",
       "<g id=\"edge6\" class=\"edge\">\n",
       "<title>5&#45;&gt;6</title>\n",
       "<path fill=\"none\" stroke=\"#000000\" d=\"M568.3912,-88.9777C558.6155,-79.6376 548.0223,-69.5163 538.266,-60.1947\"/>\n",
       "<polygon fill=\"#000000\" stroke=\"#000000\" points=\"540.644,-57.6261 530.9958,-53.2485 535.8083,-62.6873 540.644,-57.6261\"/>\n",
       "</g>\n",
       "<!-- 7 -->\n",
       "<g id=\"node8\" class=\"node\">\n",
       "<title>7</title>\n",
       "<path fill=\"transparent\" stroke=\"#000000\" d=\"M788,-53C788,-53 624,-53 624,-53 618,-53 612,-47 612,-41 612,-41 612,-12 612,-12 612,-6 618,0 624,0 624,0 788,0 788,0 794,0 800,-6 800,-12 800,-12 800,-41 800,-41 800,-47 794,-53 788,-53\"/>\n",
       "<text text-anchor=\"middle\" x=\"706\" y=\"-37.8\" font-family=\"Helvetica,sans-Serif\" font-size=\"14.00\" fill=\"#000000\">gini = 0.151</text>\n",
       "<text text-anchor=\"middle\" x=\"706\" y=\"-22.8\" font-family=\"Helvetica,sans-Serif\" font-size=\"14.00\" fill=\"#000000\">samples = 2880</text>\n",
       "<text text-anchor=\"middle\" x=\"706\" y=\"-7.8\" font-family=\"Helvetica,sans-Serif\" font-size=\"14.00\" fill=\"#000000\">value = [0.849, 0.847, 0.842]</text>\n",
       "</g>\n",
       "<!-- 5&#45;&gt;7 -->\n",
       "<g id=\"edge7\" class=\"edge\">\n",
       "<title>5&#45;&gt;7</title>\n",
       "<path fill=\"none\" stroke=\"#000000\" d=\"M639.9614,-88.9777C649.8338,-79.6376 660.532,-69.5163 670.3849,-60.1947\"/>\n",
       "<polygon fill=\"#000000\" stroke=\"#000000\" points=\"672.8682,-62.6635 677.727,-53.2485 668.0574,-57.5785 672.8682,-62.6635\"/>\n",
       "</g>\n",
       "<!-- 9 -->\n",
       "<g id=\"node10\" class=\"node\">\n",
       "<title>9</title>\n",
       "<path fill=\"transparent\" stroke=\"#000000\" d=\"M1094,-157C1094,-157 930,-157 930,-157 924,-157 918,-151 918,-145 918,-145 918,-101 918,-101 918,-95 924,-89 930,-89 930,-89 1094,-89 1094,-89 1100,-89 1106,-95 1106,-101 1106,-101 1106,-145 1106,-145 1106,-151 1100,-157 1094,-157\"/>\n",
       "<text text-anchor=\"middle\" x=\"1012\" y=\"-141.8\" font-family=\"Helvetica,sans-Serif\" font-size=\"14.00\" fill=\"#000000\">X[40] &lt;= &#45;10.883</text>\n",
       "<text text-anchor=\"middle\" x=\"1012\" y=\"-126.8\" font-family=\"Helvetica,sans-Serif\" font-size=\"14.00\" fill=\"#000000\">gini = 0.329</text>\n",
       "<text text-anchor=\"middle\" x=\"1012\" y=\"-111.8\" font-family=\"Helvetica,sans-Serif\" font-size=\"14.00\" fill=\"#000000\">samples = 4374</text>\n",
       "<text text-anchor=\"middle\" x=\"1012\" y=\"-96.8\" font-family=\"Helvetica,sans-Serif\" font-size=\"14.00\" fill=\"#000000\">value = [0.669, 0.671, 0.659]</text>\n",
       "</g>\n",
       "<!-- 8&#45;&gt;9 -->\n",
       "<g id=\"edge9\" class=\"edge\">\n",
       "<title>8&#45;&gt;9</title>\n",
       "<path fill=\"none\" stroke=\"#000000\" d=\"M1012,-192.9465C1012,-184.776 1012,-175.9318 1012,-167.3697\"/>\n",
       "<polygon fill=\"#000000\" stroke=\"#000000\" points=\"1015.5001,-167.13 1012,-157.13 1008.5001,-167.13 1015.5001,-167.13\"/>\n",
       "</g>\n",
       "<!-- 12 -->\n",
       "<g id=\"node13\" class=\"node\">\n",
       "<title>12</title>\n",
       "<path fill=\"transparent\" stroke=\"#000000\" d=\"M1400,-157C1400,-157 1236,-157 1236,-157 1230,-157 1224,-151 1224,-145 1224,-145 1224,-101 1224,-101 1224,-95 1230,-89 1236,-89 1236,-89 1400,-89 1400,-89 1406,-89 1412,-95 1412,-101 1412,-101 1412,-145 1412,-145 1412,-151 1406,-157 1400,-157\"/>\n",
       "<text text-anchor=\"middle\" x=\"1318\" y=\"-141.8\" font-family=\"Helvetica,sans-Serif\" font-size=\"14.00\" fill=\"#000000\">X[38] &lt;= 0.164</text>\n",
       "<text text-anchor=\"middle\" x=\"1318\" y=\"-126.8\" font-family=\"Helvetica,sans-Serif\" font-size=\"14.00\" fill=\"#000000\">gini = 0.309</text>\n",
       "<text text-anchor=\"middle\" x=\"1318\" y=\"-111.8\" font-family=\"Helvetica,sans-Serif\" font-size=\"14.00\" fill=\"#000000\">samples = 11178</text>\n",
       "<text text-anchor=\"middle\" x=\"1318\" y=\"-96.8\" font-family=\"Helvetica,sans-Serif\" font-size=\"14.00\" fill=\"#000000\">value = [0.691, 0.649, 0.621]</text>\n",
       "</g>\n",
       "<!-- 8&#45;&gt;12 -->\n",
       "<g id=\"edge12\" class=\"edge\">\n",
       "<title>8&#45;&gt;12</title>\n",
       "<path fill=\"none\" stroke=\"#000000\" d=\"M1106.307,-194.948C1140.4163,-183.3552 1179.1129,-170.2035 1214.007,-158.344\"/>\n",
       "<polygon fill=\"#000000\" stroke=\"#000000\" points=\"1215.3993,-161.5675 1223.7412,-155.0357 1213.1468,-154.9398 1215.3993,-161.5675\"/>\n",
       "</g>\n",
       "<!-- 10 -->\n",
       "<g id=\"node11\" class=\"node\">\n",
       "<title>10</title>\n",
       "<path fill=\"transparent\" stroke=\"#000000\" d=\"M994,-53C994,-53 830,-53 830,-53 824,-53 818,-47 818,-41 818,-41 818,-12 818,-12 818,-6 824,0 830,0 830,0 994,0 994,0 1000,0 1006,-6 1006,-12 1006,-12 1006,-41 1006,-41 1006,-47 1000,-53 994,-53\"/>\n",
       "<text text-anchor=\"middle\" x=\"912\" y=\"-37.8\" font-family=\"Helvetica,sans-Serif\" font-size=\"14.00\" fill=\"#000000\">gini = 0.261</text>\n",
       "<text text-anchor=\"middle\" x=\"912\" y=\"-22.8\" font-family=\"Helvetica,sans-Serif\" font-size=\"14.00\" fill=\"#000000\">samples = 3888</text>\n",
       "<text text-anchor=\"middle\" x=\"912\" y=\"-7.8\" font-family=\"Helvetica,sans-Serif\" font-size=\"14.00\" fill=\"#000000\">value = [0.739, 0.726, 0.703]</text>\n",
       "</g>\n",
       "<!-- 9&#45;&gt;10 -->\n",
       "<g id=\"edge10\" class=\"edge\">\n",
       "<title>9&#45;&gt;10</title>\n",
       "<path fill=\"none\" stroke=\"#000000\" d=\"M976.7437,-88.9777C967.0649,-79.6376 956.5765,-69.5163 946.9168,-60.1947\"/>\n",
       "<polygon fill=\"#000000\" stroke=\"#000000\" points=\"949.3449,-57.674 939.7186,-53.2485 944.4841,-62.7111 949.3449,-57.674\"/>\n",
       "</g>\n",
       "<!-- 11 -->\n",
       "<g id=\"node12\" class=\"node\">\n",
       "<title>11</title>\n",
       "<path fill=\"transparent\" stroke=\"#000000\" d=\"M1193.5,-53C1193.5,-53 1036.5,-53 1036.5,-53 1030.5,-53 1024.5,-47 1024.5,-41 1024.5,-41 1024.5,-12 1024.5,-12 1024.5,-6 1030.5,0 1036.5,0 1036.5,0 1193.5,0 1193.5,0 1199.5,0 1205.5,-6 1205.5,-12 1205.5,-12 1205.5,-41 1205.5,-41 1205.5,-47 1199.5,-53 1193.5,-53\"/>\n",
       "<text text-anchor=\"middle\" x=\"1115\" y=\"-37.8\" font-family=\"Helvetica,sans-Serif\" font-size=\"14.00\" fill=\"#000000\">gini = 0.69</text>\n",
       "<text text-anchor=\"middle\" x=\"1115\" y=\"-22.8\" font-family=\"Helvetica,sans-Serif\" font-size=\"14.00\" fill=\"#000000\">samples = 486</text>\n",
       "<text text-anchor=\"middle\" x=\"1115\" y=\"-7.8\" font-family=\"Helvetica,sans-Serif\" font-size=\"14.00\" fill=\"#000000\">value = [0.114, 0.225, 0.31]</text>\n",
       "</g>\n",
       "<!-- 9&#45;&gt;11 -->\n",
       "<g id=\"edge11\" class=\"edge\">\n",
       "<title>9&#45;&gt;11</title>\n",
       "<path fill=\"none\" stroke=\"#000000\" d=\"M1048.3139,-88.9777C1058.2832,-79.6376 1069.0862,-69.5163 1079.0357,-60.1947\"/>\n",
       "<polygon fill=\"#000000\" stroke=\"#000000\" points=\"1081.5452,-62.6397 1086.4498,-53.2485 1076.7592,-57.5314 1081.5452,-62.6397\"/>\n",
       "</g>\n",
       "<!-- 13 -->\n",
       "<g id=\"node14\" class=\"node\">\n",
       "<title>13</title>\n",
       "<path fill=\"transparent\" stroke=\"#000000\" d=\"M1400,-53C1400,-53 1236,-53 1236,-53 1230,-53 1224,-47 1224,-41 1224,-41 1224,-12 1224,-12 1224,-6 1230,0 1236,0 1236,0 1400,0 1400,0 1406,0 1412,-6 1412,-12 1412,-12 1412,-41 1412,-41 1412,-47 1406,-53 1400,-53\"/>\n",
       "<text text-anchor=\"middle\" x=\"1318\" y=\"-37.8\" font-family=\"Helvetica,sans-Serif\" font-size=\"14.00\" fill=\"#000000\">gini = 0.434</text>\n",
       "<text text-anchor=\"middle\" x=\"1318\" y=\"-22.8\" font-family=\"Helvetica,sans-Serif\" font-size=\"14.00\" fill=\"#000000\">samples = 270</text>\n",
       "<text text-anchor=\"middle\" x=\"1318\" y=\"-7.8\" font-family=\"Helvetica,sans-Serif\" font-size=\"14.00\" fill=\"#000000\">value = [0.556, 0.566, 0.525]</text>\n",
       "</g>\n",
       "<!-- 12&#45;&gt;13 -->\n",
       "<g id=\"edge13\" class=\"edge\">\n",
       "<title>12&#45;&gt;13</title>\n",
       "<path fill=\"none\" stroke=\"#000000\" d=\"M1318,-88.9777C1318,-80.7364 1318,-71.887 1318,-63.5153\"/>\n",
       "<polygon fill=\"#000000\" stroke=\"#000000\" points=\"1321.5001,-63.2484 1318,-53.2485 1314.5001,-63.2485 1321.5001,-63.2484\"/>\n",
       "</g>\n",
       "<!-- 14 -->\n",
       "<g id=\"node15\" class=\"node\">\n",
       "<title>14</title>\n",
       "<path fill=\"transparent\" stroke=\"#000000\" d=\"M1606,-53C1606,-53 1442,-53 1442,-53 1436,-53 1430,-47 1430,-41 1430,-41 1430,-12 1430,-12 1430,-6 1436,0 1442,0 1442,0 1606,0 1606,0 1612,0 1618,-6 1618,-12 1618,-12 1618,-41 1618,-41 1618,-47 1612,-53 1606,-53\"/>\n",
       "<text text-anchor=\"middle\" x=\"1524\" y=\"-37.8\" font-family=\"Helvetica,sans-Serif\" font-size=\"14.00\" fill=\"#000000\">gini = 0.305</text>\n",
       "<text text-anchor=\"middle\" x=\"1524\" y=\"-22.8\" font-family=\"Helvetica,sans-Serif\" font-size=\"14.00\" fill=\"#000000\">samples = 10908</text>\n",
       "<text text-anchor=\"middle\" x=\"1524\" y=\"-7.8\" font-family=\"Helvetica,sans-Serif\" font-size=\"14.00\" fill=\"#000000\">value = [0.695, 0.651, 0.624]</text>\n",
       "</g>\n",
       "<!-- 12&#45;&gt;14 -->\n",
       "<g id=\"edge14\" class=\"edge\">\n",
       "<title>12&#45;&gt;14</title>\n",
       "<path fill=\"none\" stroke=\"#000000\" d=\"M1390.6279,-88.9777C1412.6225,-78.6744 1436.6463,-67.4205 1458.1693,-57.3381\"/>\n",
       "<polygon fill=\"#000000\" stroke=\"#000000\" points=\"1459.6563,-60.5066 1467.2272,-53.095 1456.6868,-54.1677 1459.6563,-60.5066\"/>\n",
       "</g>\n",
       "</g>\n",
       "</svg>\n"
      ],
      "text/plain": [
       "<graphviz.files.Source at 0x7fc53ff29ef0>"
      ]
     },
     "execution_count": 27,
     "metadata": {},
     "output_type": "execute_result"
    }
   ],
   "source": [
    "dot_data = sklearn.tree.export_graphviz(magic_test_cm.model, out_file = None, filled=True, rounded=True)\n",
    "graph = graphviz.Source(dot_data)\n",
    "graph"
   ]
  },
  {
   "cell_type": "code",
   "execution_count": 20,
   "metadata": {},
   "outputs": [
    {
     "data": {
      "image/svg+xml": [
       "<?xml version=\"1.0\" encoding=\"UTF-8\" standalone=\"no\"?>\n",
       "<!DOCTYPE svg PUBLIC \"-//W3C//DTD SVG 1.1//EN\"\n",
       " \"http://www.w3.org/Graphics/SVG/1.1/DTD/svg11.dtd\">\n",
       "<!-- Generated by graphviz version 2.40.1 (20161225.0304)\n",
       " -->\n",
       "<!-- Title: Tree Pages: 1 -->\n",
       "<svg width=\"1220pt\" height=\"373pt\"\n",
       " viewBox=\"0.00 0.00 1220.00 373.00\" xmlns=\"http://www.w3.org/2000/svg\" xmlns:xlink=\"http://www.w3.org/1999/xlink\">\n",
       "<g id=\"graph0\" class=\"graph\" transform=\"scale(1 1) rotate(0) translate(4 369)\">\n",
       "<title>Tree</title>\n",
       "<polygon fill=\"#ffffff\" stroke=\"transparent\" points=\"-4,4 -4,-369 1216,-369 1216,4 -4,4\"/>\n",
       "<!-- 0 -->\n",
       "<g id=\"node1\" class=\"node\">\n",
       "<title>0</title>\n",
       "<path fill=\"transparent\" stroke=\"#000000\" d=\"M485,-365C485,-365 321,-365 321,-365 315,-365 309,-359 309,-353 309,-353 309,-309 309,-309 309,-303 315,-297 321,-297 321,-297 485,-297 485,-297 491,-297 497,-303 497,-309 497,-309 497,-353 497,-353 497,-359 491,-365 485,-365\"/>\n",
       "<text text-anchor=\"middle\" x=\"403\" y=\"-349.8\" font-family=\"Helvetica,sans-Serif\" font-size=\"14.00\" fill=\"#000000\">X[39] &lt;= 9.19</text>\n",
       "<text text-anchor=\"middle\" x=\"403\" y=\"-334.8\" font-family=\"Helvetica,sans-Serif\" font-size=\"14.00\" fill=\"#000000\">gini = 0.302</text>\n",
       "<text text-anchor=\"middle\" x=\"403\" y=\"-319.8\" font-family=\"Helvetica,sans-Serif\" font-size=\"14.00\" fill=\"#000000\">samples = 21870</text>\n",
       "<text text-anchor=\"middle\" x=\"403\" y=\"-304.8\" font-family=\"Helvetica,sans-Serif\" font-size=\"14.00\" fill=\"#000000\">value = [0.698, 0.673, 0.653]</text>\n",
       "</g>\n",
       "<!-- 1 -->\n",
       "<g id=\"node2\" class=\"node\">\n",
       "<title>1</title>\n",
       "<path fill=\"transparent\" stroke=\"#000000\" d=\"M382,-261C382,-261 218,-261 218,-261 212,-261 206,-255 206,-249 206,-249 206,-205 206,-205 206,-199 212,-193 218,-193 218,-193 382,-193 382,-193 388,-193 394,-199 394,-205 394,-205 394,-249 394,-249 394,-255 388,-261 382,-261\"/>\n",
       "<text text-anchor=\"middle\" x=\"300\" y=\"-245.8\" font-family=\"Helvetica,sans-Serif\" font-size=\"14.00\" fill=\"#000000\">X[12] &lt;= 0.369</text>\n",
       "<text text-anchor=\"middle\" x=\"300\" y=\"-230.8\" font-family=\"Helvetica,sans-Serif\" font-size=\"14.00\" fill=\"#000000\">gini = 0.317</text>\n",
       "<text text-anchor=\"middle\" x=\"300\" y=\"-215.8\" font-family=\"Helvetica,sans-Serif\" font-size=\"14.00\" fill=\"#000000\">samples = 12366</text>\n",
       "<text text-anchor=\"middle\" x=\"300\" y=\"-200.8\" font-family=\"Helvetica,sans-Serif\" font-size=\"14.00\" fill=\"#000000\">value = [0.683, 0.637, 0.603]</text>\n",
       "</g>\n",
       "<!-- 0&#45;&gt;1 -->\n",
       "<g id=\"edge1\" class=\"edge\">\n",
       "<title>0&#45;&gt;1</title>\n",
       "<path fill=\"none\" stroke=\"#000000\" d=\"M369.2739,-296.9465C360.2039,-287.7884 350.2955,-277.7838 340.8819,-268.2788\"/>\n",
       "<polygon fill=\"#000000\" stroke=\"#000000\" points=\"343.3255,-265.7723 333.8018,-261.13 338.3519,-270.6981 343.3255,-265.7723\"/>\n",
       "<text text-anchor=\"middle\" x=\"333.6811\" y=\"-282.4297\" font-family=\"Helvetica,sans-Serif\" font-size=\"14.00\" fill=\"#000000\">True</text>\n",
       "</g>\n",
       "<!-- 6 -->\n",
       "<g id=\"node7\" class=\"node\">\n",
       "<title>6</title>\n",
       "<path fill=\"transparent\" stroke=\"#000000\" d=\"M684.5,-261C684.5,-261 527.5,-261 527.5,-261 521.5,-261 515.5,-255 515.5,-249 515.5,-249 515.5,-205 515.5,-205 515.5,-199 521.5,-193 527.5,-193 527.5,-193 684.5,-193 684.5,-193 690.5,-193 696.5,-199 696.5,-205 696.5,-205 696.5,-249 696.5,-249 696.5,-255 690.5,-261 684.5,-261\"/>\n",
       "<text text-anchor=\"middle\" x=\"606\" y=\"-245.8\" font-family=\"Helvetica,sans-Serif\" font-size=\"14.00\" fill=\"#000000\">X[23] &lt;= &#45;5.789</text>\n",
       "<text text-anchor=\"middle\" x=\"606\" y=\"-230.8\" font-family=\"Helvetica,sans-Serif\" font-size=\"14.00\" fill=\"#000000\">gini = 0.28</text>\n",
       "<text text-anchor=\"middle\" x=\"606\" y=\"-215.8\" font-family=\"Helvetica,sans-Serif\" font-size=\"14.00\" fill=\"#000000\">samples = 9504</text>\n",
       "<text text-anchor=\"middle\" x=\"606\" y=\"-200.8\" font-family=\"Helvetica,sans-Serif\" font-size=\"14.00\" fill=\"#000000\">value = [0.719, 0.72, 0.718]</text>\n",
       "</g>\n",
       "<!-- 0&#45;&gt;6 -->\n",
       "<g id=\"edge6\" class=\"edge\">\n",
       "<title>0&#45;&gt;6</title>\n",
       "<path fill=\"none\" stroke=\"#000000\" d=\"M469.4698,-296.9465C488.923,-286.9803 510.3329,-276.0117 530.3134,-265.7754\"/>\n",
       "<polygon fill=\"#000000\" stroke=\"#000000\" points=\"532.0767,-268.8047 539.3809,-261.13 528.885,-262.5747 532.0767,-268.8047\"/>\n",
       "<text text-anchor=\"middle\" x=\"531.7081\" y=\"-281.2234\" font-family=\"Helvetica,sans-Serif\" font-size=\"14.00\" fill=\"#000000\">False</text>\n",
       "</g>\n",
       "<!-- 2 -->\n",
       "<g id=\"node3\" class=\"node\">\n",
       "<title>2</title>\n",
       "<path fill=\"transparent\" stroke=\"#000000\" d=\"M175.5,-149.5C175.5,-149.5 26.5,-149.5 26.5,-149.5 20.5,-149.5 14.5,-143.5 14.5,-137.5 14.5,-137.5 14.5,-108.5 14.5,-108.5 14.5,-102.5 20.5,-96.5 26.5,-96.5 26.5,-96.5 175.5,-96.5 175.5,-96.5 181.5,-96.5 187.5,-102.5 187.5,-108.5 187.5,-108.5 187.5,-137.5 187.5,-137.5 187.5,-143.5 181.5,-149.5 175.5,-149.5\"/>\n",
       "<text text-anchor=\"middle\" x=\"101\" y=\"-134.3\" font-family=\"Helvetica,sans-Serif\" font-size=\"14.00\" fill=\"#000000\">gini = 0.402</text>\n",
       "<text text-anchor=\"middle\" x=\"101\" y=\"-119.3\" font-family=\"Helvetica,sans-Serif\" font-size=\"14.00\" fill=\"#000000\">samples = 27</text>\n",
       "<text text-anchor=\"middle\" x=\"101\" y=\"-104.3\" font-family=\"Helvetica,sans-Serif\" font-size=\"14.00\" fill=\"#000000\">value = [0.569, 0.598, 0.5]</text>\n",
       "</g>\n",
       "<!-- 1&#45;&gt;2 -->\n",
       "<g id=\"edge2\" class=\"edge\">\n",
       "<title>1&#45;&gt;2</title>\n",
       "<path fill=\"none\" stroke=\"#000000\" d=\"M234.84,-192.9465C211.0234,-180.4997 184.2149,-166.4892 160.8809,-154.2946\"/>\n",
       "<polygon fill=\"#000000\" stroke=\"#000000\" points=\"162.2712,-151.072 151.7874,-149.5422 159.029,-157.2759 162.2712,-151.072\"/>\n",
       "</g>\n",
       "<!-- 3 -->\n",
       "<g id=\"node4\" class=\"node\">\n",
       "<title>3</title>\n",
       "<path fill=\"transparent\" stroke=\"#000000\" d=\"M382,-157C382,-157 218,-157 218,-157 212,-157 206,-151 206,-145 206,-145 206,-101 206,-101 206,-95 212,-89 218,-89 218,-89 382,-89 382,-89 388,-89 394,-95 394,-101 394,-101 394,-145 394,-145 394,-151 388,-157 382,-157\"/>\n",
       "<text text-anchor=\"middle\" x=\"300\" y=\"-141.8\" font-family=\"Helvetica,sans-Serif\" font-size=\"14.00\" fill=\"#000000\">X[22] &lt;= &#45;9.784</text>\n",
       "<text text-anchor=\"middle\" x=\"300\" y=\"-126.8\" font-family=\"Helvetica,sans-Serif\" font-size=\"14.00\" fill=\"#000000\">gini = 0.317</text>\n",
       "<text text-anchor=\"middle\" x=\"300\" y=\"-111.8\" font-family=\"Helvetica,sans-Serif\" font-size=\"14.00\" fill=\"#000000\">samples = 12339</text>\n",
       "<text text-anchor=\"middle\" x=\"300\" y=\"-96.8\" font-family=\"Helvetica,sans-Serif\" font-size=\"14.00\" fill=\"#000000\">value = [0.683, 0.637, 0.603]</text>\n",
       "</g>\n",
       "<!-- 1&#45;&gt;3 -->\n",
       "<g id=\"edge3\" class=\"edge\">\n",
       "<title>1&#45;&gt;3</title>\n",
       "<path fill=\"none\" stroke=\"#000000\" d=\"M300,-192.9465C300,-184.776 300,-175.9318 300,-167.3697\"/>\n",
       "<polygon fill=\"#000000\" stroke=\"#000000\" points=\"303.5001,-167.13 300,-157.13 296.5001,-167.13 303.5001,-167.13\"/>\n",
       "</g>\n",
       "<!-- 4 -->\n",
       "<g id=\"node5\" class=\"node\">\n",
       "<title>4</title>\n",
       "<path fill=\"transparent\" stroke=\"#000000\" d=\"M176,-53C176,-53 12,-53 12,-53 6,-53 0,-47 0,-41 0,-41 0,-12 0,-12 0,-6 6,0 12,0 12,0 176,0 176,0 182,0 188,-6 188,-12 188,-12 188,-41 188,-41 188,-47 182,-53 176,-53\"/>\n",
       "<text text-anchor=\"middle\" x=\"94\" y=\"-37.8\" font-family=\"Helvetica,sans-Serif\" font-size=\"14.00\" fill=\"#000000\">gini = 0.261</text>\n",
       "<text text-anchor=\"middle\" x=\"94\" y=\"-22.8\" font-family=\"Helvetica,sans-Serif\" font-size=\"14.00\" fill=\"#000000\">samples = 180</text>\n",
       "<text text-anchor=\"middle\" x=\"94\" y=\"-7.8\" font-family=\"Helvetica,sans-Serif\" font-size=\"14.00\" fill=\"#000000\">value = [0.737, 0.739, 0.711]</text>\n",
       "</g>\n",
       "<!-- 3&#45;&gt;4 -->\n",
       "<g id=\"edge4\" class=\"edge\">\n",
       "<title>3&#45;&gt;4</title>\n",
       "<path fill=\"none\" stroke=\"#000000\" d=\"M227.3721,-88.9777C205.3775,-78.6744 181.3537,-67.4205 159.8307,-57.3381\"/>\n",
       "<polygon fill=\"#000000\" stroke=\"#000000\" points=\"161.3132,-54.1677 150.7728,-53.095 158.3437,-60.5066 161.3132,-54.1677\"/>\n",
       "</g>\n",
       "<!-- 5 -->\n",
       "<g id=\"node6\" class=\"node\">\n",
       "<title>5</title>\n",
       "<path fill=\"transparent\" stroke=\"#000000\" d=\"M382,-53C382,-53 218,-53 218,-53 212,-53 206,-47 206,-41 206,-41 206,-12 206,-12 206,-6 212,0 218,0 218,0 382,0 382,0 388,0 394,-6 394,-12 394,-12 394,-41 394,-41 394,-47 388,-53 382,-53\"/>\n",
       "<text text-anchor=\"middle\" x=\"300\" y=\"-37.8\" font-family=\"Helvetica,sans-Serif\" font-size=\"14.00\" fill=\"#000000\">gini = 0.318</text>\n",
       "<text text-anchor=\"middle\" x=\"300\" y=\"-22.8\" font-family=\"Helvetica,sans-Serif\" font-size=\"14.00\" fill=\"#000000\">samples = 12159</text>\n",
       "<text text-anchor=\"middle\" x=\"300\" y=\"-7.8\" font-family=\"Helvetica,sans-Serif\" font-size=\"14.00\" fill=\"#000000\">value = [0.682, 0.636, 0.601]</text>\n",
       "</g>\n",
       "<!-- 3&#45;&gt;5 -->\n",
       "<g id=\"edge5\" class=\"edge\">\n",
       "<title>3&#45;&gt;5</title>\n",
       "<path fill=\"none\" stroke=\"#000000\" d=\"M300,-88.9777C300,-80.7364 300,-71.887 300,-63.5153\"/>\n",
       "<polygon fill=\"#000000\" stroke=\"#000000\" points=\"303.5001,-63.2484 300,-53.2485 296.5001,-63.2485 303.5001,-63.2484\"/>\n",
       "</g>\n",
       "<!-- 7 -->\n",
       "<g id=\"node8\" class=\"node\">\n",
       "<title>7</title>\n",
       "<path fill=\"transparent\" stroke=\"#000000\" d=\"M688,-157C688,-157 524,-157 524,-157 518,-157 512,-151 512,-145 512,-145 512,-101 512,-101 512,-95 518,-89 524,-89 524,-89 688,-89 688,-89 694,-89 700,-95 700,-101 700,-101 700,-145 700,-145 700,-151 694,-157 688,-157\"/>\n",
       "<text text-anchor=\"middle\" x=\"606\" y=\"-141.8\" font-family=\"Helvetica,sans-Serif\" font-size=\"14.00\" fill=\"#000000\">X[24] &lt;= &#45;0.49</text>\n",
       "<text text-anchor=\"middle\" x=\"606\" y=\"-126.8\" font-family=\"Helvetica,sans-Serif\" font-size=\"14.00\" fill=\"#000000\">gini = 0.268</text>\n",
       "<text text-anchor=\"middle\" x=\"606\" y=\"-111.8\" font-family=\"Helvetica,sans-Serif\" font-size=\"14.00\" fill=\"#000000\">samples = 3186</text>\n",
       "<text text-anchor=\"middle\" x=\"606\" y=\"-96.8\" font-family=\"Helvetica,sans-Serif\" font-size=\"14.00\" fill=\"#000000\">value = [0.729, 0.731, 0.732]</text>\n",
       "</g>\n",
       "<!-- 6&#45;&gt;7 -->\n",
       "<g id=\"edge7\" class=\"edge\">\n",
       "<title>6&#45;&gt;7</title>\n",
       "<path fill=\"none\" stroke=\"#000000\" d=\"M606,-192.9465C606,-184.776 606,-175.9318 606,-167.3697\"/>\n",
       "<polygon fill=\"#000000\" stroke=\"#000000\" points=\"609.5001,-167.13 606,-157.13 602.5001,-167.13 609.5001,-167.13\"/>\n",
       "</g>\n",
       "<!-- 10 -->\n",
       "<g id=\"node11\" class=\"node\">\n",
       "<title>10</title>\n",
       "<path fill=\"transparent\" stroke=\"#000000\" d=\"M994,-157C994,-157 830,-157 830,-157 824,-157 818,-151 818,-145 818,-145 818,-101 818,-101 818,-95 824,-89 830,-89 830,-89 994,-89 994,-89 1000,-89 1006,-95 1006,-101 1006,-101 1006,-145 1006,-145 1006,-151 1000,-157 994,-157\"/>\n",
       "<text text-anchor=\"middle\" x=\"912\" y=\"-141.8\" font-family=\"Helvetica,sans-Serif\" font-size=\"14.00\" fill=\"#000000\">X[21] &lt;= 10.224</text>\n",
       "<text text-anchor=\"middle\" x=\"912\" y=\"-126.8\" font-family=\"Helvetica,sans-Serif\" font-size=\"14.00\" fill=\"#000000\">gini = 0.285</text>\n",
       "<text text-anchor=\"middle\" x=\"912\" y=\"-111.8\" font-family=\"Helvetica,sans-Serif\" font-size=\"14.00\" fill=\"#000000\">samples = 6318</text>\n",
       "<text text-anchor=\"middle\" x=\"912\" y=\"-96.8\" font-family=\"Helvetica,sans-Serif\" font-size=\"14.00\" fill=\"#000000\">value = [0.713, 0.715, 0.712]</text>\n",
       "</g>\n",
       "<!-- 6&#45;&gt;10 -->\n",
       "<g id=\"edge10\" class=\"edge\">\n",
       "<title>6&#45;&gt;10</title>\n",
       "<path fill=\"none\" stroke=\"#000000\" d=\"M696.5681,-196.2187C731.6738,-184.2873 772.0726,-170.557 808.3319,-158.2336\"/>\n",
       "<polygon fill=\"#000000\" stroke=\"#000000\" points=\"809.6048,-161.4977 817.9466,-154.9659 807.3522,-154.87 809.6048,-161.4977\"/>\n",
       "</g>\n",
       "<!-- 8 -->\n",
       "<g id=\"node9\" class=\"node\">\n",
       "<title>8</title>\n",
       "<path fill=\"transparent\" stroke=\"#000000\" d=\"M581.5,-53C581.5,-53 424.5,-53 424.5,-53 418.5,-53 412.5,-47 412.5,-41 412.5,-41 412.5,-12 412.5,-12 412.5,-6 418.5,0 424.5,0 424.5,0 581.5,0 581.5,0 587.5,0 593.5,-6 593.5,-12 593.5,-12 593.5,-41 593.5,-41 593.5,-47 587.5,-53 581.5,-53\"/>\n",
       "<text text-anchor=\"middle\" x=\"503\" y=\"-37.8\" font-family=\"Helvetica,sans-Serif\" font-size=\"14.00\" fill=\"#000000\">gini = 0.22</text>\n",
       "<text text-anchor=\"middle\" x=\"503\" y=\"-22.8\" font-family=\"Helvetica,sans-Serif\" font-size=\"14.00\" fill=\"#000000\">samples = 810</text>\n",
       "<text text-anchor=\"middle\" x=\"503\" y=\"-7.8\" font-family=\"Helvetica,sans-Serif\" font-size=\"14.00\" fill=\"#000000\">value = [0.779, 0.78, 0.779]</text>\n",
       "</g>\n",
       "<!-- 7&#45;&gt;8 -->\n",
       "<g id=\"edge8\" class=\"edge\">\n",
       "<title>7&#45;&gt;8</title>\n",
       "<path fill=\"none\" stroke=\"#000000\" d=\"M569.6861,-88.9777C559.7168,-79.6376 548.9138,-69.5163 538.9643,-60.1947\"/>\n",
       "<polygon fill=\"#000000\" stroke=\"#000000\" points=\"541.2408,-57.5314 531.5502,-53.2485 536.4548,-62.6397 541.2408,-57.5314\"/>\n",
       "</g>\n",
       "<!-- 9 -->\n",
       "<g id=\"node10\" class=\"node\">\n",
       "<title>9</title>\n",
       "<path fill=\"transparent\" stroke=\"#000000\" d=\"M788,-53C788,-53 624,-53 624,-53 618,-53 612,-47 612,-41 612,-41 612,-12 612,-12 612,-6 618,0 624,0 624,0 788,0 788,0 794,0 800,-6 800,-12 800,-12 800,-41 800,-41 800,-47 794,-53 788,-53\"/>\n",
       "<text text-anchor=\"middle\" x=\"706\" y=\"-37.8\" font-family=\"Helvetica,sans-Serif\" font-size=\"14.00\" fill=\"#000000\">gini = 0.284</text>\n",
       "<text text-anchor=\"middle\" x=\"706\" y=\"-22.8\" font-family=\"Helvetica,sans-Serif\" font-size=\"14.00\" fill=\"#000000\">samples = 2376</text>\n",
       "<text text-anchor=\"middle\" x=\"706\" y=\"-7.8\" font-family=\"Helvetica,sans-Serif\" font-size=\"14.00\" fill=\"#000000\">value = [0.712, 0.714, 0.716]</text>\n",
       "</g>\n",
       "<!-- 7&#45;&gt;9 -->\n",
       "<g id=\"edge9\" class=\"edge\">\n",
       "<title>7&#45;&gt;9</title>\n",
       "<path fill=\"none\" stroke=\"#000000\" d=\"M641.2563,-88.9777C650.9351,-79.6376 661.4235,-69.5163 671.0832,-60.1947\"/>\n",
       "<polygon fill=\"#000000\" stroke=\"#000000\" points=\"673.5159,-62.7111 678.2814,-53.2485 668.6551,-57.674 673.5159,-62.7111\"/>\n",
       "</g>\n",
       "<!-- 11 -->\n",
       "<g id=\"node12\" class=\"node\">\n",
       "<title>11</title>\n",
       "<path fill=\"transparent\" stroke=\"#000000\" d=\"M994,-53C994,-53 830,-53 830,-53 824,-53 818,-47 818,-41 818,-41 818,-12 818,-12 818,-6 824,0 830,0 830,0 994,0 994,0 1000,0 1006,-6 1006,-12 1006,-12 1006,-41 1006,-41 1006,-47 1000,-53 994,-53\"/>\n",
       "<text text-anchor=\"middle\" x=\"912\" y=\"-37.8\" font-family=\"Helvetica,sans-Serif\" font-size=\"14.00\" fill=\"#000000\">gini = 0.284</text>\n",
       "<text text-anchor=\"middle\" x=\"912\" y=\"-22.8\" font-family=\"Helvetica,sans-Serif\" font-size=\"14.00\" fill=\"#000000\">samples = 90</text>\n",
       "<text text-anchor=\"middle\" x=\"912\" y=\"-7.8\" font-family=\"Helvetica,sans-Serif\" font-size=\"14.00\" fill=\"#000000\">value = [0.716, 0.714, 0.695]</text>\n",
       "</g>\n",
       "<!-- 10&#45;&gt;11 -->\n",
       "<g id=\"edge11\" class=\"edge\">\n",
       "<title>10&#45;&gt;11</title>\n",
       "<path fill=\"none\" stroke=\"#000000\" d=\"M912,-88.9777C912,-80.7364 912,-71.887 912,-63.5153\"/>\n",
       "<polygon fill=\"#000000\" stroke=\"#000000\" points=\"915.5001,-63.2484 912,-53.2485 908.5001,-63.2485 915.5001,-63.2484\"/>\n",
       "</g>\n",
       "<!-- 12 -->\n",
       "<g id=\"node13\" class=\"node\">\n",
       "<title>12</title>\n",
       "<path fill=\"transparent\" stroke=\"#000000\" d=\"M1200,-53C1200,-53 1036,-53 1036,-53 1030,-53 1024,-47 1024,-41 1024,-41 1024,-12 1024,-12 1024,-6 1030,0 1036,0 1036,0 1200,0 1200,0 1206,0 1212,-6 1212,-12 1212,-12 1212,-41 1212,-41 1212,-47 1206,-53 1200,-53\"/>\n",
       "<text text-anchor=\"middle\" x=\"1118\" y=\"-37.8\" font-family=\"Helvetica,sans-Serif\" font-size=\"14.00\" fill=\"#000000\">gini = 0.285</text>\n",
       "<text text-anchor=\"middle\" x=\"1118\" y=\"-22.8\" font-family=\"Helvetica,sans-Serif\" font-size=\"14.00\" fill=\"#000000\">samples = 6228</text>\n",
       "<text text-anchor=\"middle\" x=\"1118\" y=\"-7.8\" font-family=\"Helvetica,sans-Serif\" font-size=\"14.00\" fill=\"#000000\">value = [0.713, 0.715, 0.712]</text>\n",
       "</g>\n",
       "<!-- 10&#45;&gt;12 -->\n",
       "<g id=\"edge12\" class=\"edge\">\n",
       "<title>10&#45;&gt;12</title>\n",
       "<path fill=\"none\" stroke=\"#000000\" d=\"M984.6279,-88.9777C1006.6225,-78.6744 1030.6463,-67.4205 1052.1693,-57.3381\"/>\n",
       "<polygon fill=\"#000000\" stroke=\"#000000\" points=\"1053.6563,-60.5066 1061.2272,-53.095 1050.6868,-54.1677 1053.6563,-60.5066\"/>\n",
       "</g>\n",
       "</g>\n",
       "</svg>\n"
      ],
      "text/plain": [
       "<graphviz.files.Source at 0x7f7ac582f668>"
      ]
     },
     "execution_count": 20,
     "metadata": {},
     "output_type": "execute_result"
    }
   ],
   "source": [
    "dot_data = sklearn.tree.export_graphviz(magic_test_cm.model, out_file = None, filled=True, rounded=True)\n",
    "graph = graphviz.Source(dot_data)\n",
    "graph"
   ]
  },
  {
   "cell_type": "code",
   "execution_count": 21,
   "metadata": {
    "collapsed": true
   },
   "outputs": [],
   "source": [
    "#test every third database\n",
    "import copy\n",
    "adult_data_test = []\n",
    "for i in range(len(adult_data)):\n",
    "    if i%3 == 0:\n",
    "        adult_data_test.append(copy.copy(adult_data[i]))\n",
    "default_data_test = []\n",
    "for i in range(len(default_data)):\n",
    "    if i%3 == 0:\n",
    "        default_data_test.append(copy.copy(default_data[i]))\n",
    "lending_data_test = []\n",
    "for i in range(len(lending_data)):\n",
    "    if i%3 == 0:\n",
    "        lending_data_test.append(copy.copy(lending_data[i]))\n",
    "magic_data_test = []\n",
    "for i in range(len(magic_data)):\n",
    "    if i%3 == 0:\n",
    "        magic_data_test.append(copy.copy(magic_data[i]))\n",
    "epsilons = [db.epsilon for db in lending_data_test]"
   ]
  },
  {
   "cell_type": "code",
   "execution_count": 22,
   "metadata": {
    "collapsed": true
   },
   "outputs": [],
   "source": [
    "adult_errors = [adult_test_cm.get_errors(x, ratio=0.2) for x in adult_data_test]\n",
    "adult_errors = pd.concat(adult_errors, ignore_index=True)"
   ]
  },
  {
   "cell_type": "code",
   "execution_count": 24,
   "metadata": {
    "collapsed": true
   },
   "outputs": [],
   "source": [
    "lending_errors = [lending_test_cm.get_errors(x, ratio=0.2) for x in lending_data_test]\n",
    "lending_errors = pd.concat(lending_errors, ignore_index=True)"
   ]
  },
  {
   "cell_type": "code",
   "execution_count": 25,
   "metadata": {
    "collapsed": true
   },
   "outputs": [],
   "source": [
    "default_errors = [default_test_cm.get_errors(x, ratio=0.2) for x in default_data_test]\n",
    "default_errors = pd.concat(default_errors, ignore_index=True)"
   ]
  },
  {
   "cell_type": "code",
   "execution_count": 26,
   "metadata": {},
   "outputs": [],
   "source": [
    "magic_errors = [magic_test_cm.get_errors(x, ratio=0.2) for x in magic_data_test]\n",
    "magic_errors = pd.concat(magic_errors, ignore_index=True)"
   ]
  },
  {
   "cell_type": "markdown",
   "metadata": {
    "collapsed": true
   },
   "source": [
    "### Kamalika's method"
   ]
  },
  {
   "cell_type": "code",
   "execution_count": 27,
   "metadata": {
    "collapsed": true
   },
   "outputs": [],
   "source": [
    "def get_dp_logistic_regression(X_train, y_train, X_test, y_test, \n",
    "                             epsilon, ratio, param_list):\n",
    "    train_eps = epsilon*ratio\n",
    "    validation_eps = epsilon-train_eps\n",
    "    #Begin validation\n",
    "    utils = []\n",
    "    for C in param_list:\n",
    "        model = DPLogisticRegression(train_eps, C=C, K=1.02, fit_intercept=True)\n",
    "        model.fit(X_train, y_train)\n",
    "        preds = model.predict(X_test)\n",
    "        score = (preds == y_test).sum() / y_test.size\n",
    "        beta = max(1.0/y_test.size, 1.0/y_train.size)\n",
    "        score += np.random.exponential(1/validation_eps)*beta*2\n",
    "        utils.append(score)\n",
    "    return np.array(utils).argmax()"
   ]
  },
  {
   "cell_type": "code",
   "execution_count": 28,
   "metadata": {
    "collapsed": true,
    "scrolled": true
   },
   "outputs": [],
   "source": [
    "def test_db_MRE(data_test, ratio=0.8, splits=5, do_private=True):\n",
    "    kf = model_selection.KFold(splits)\n",
    "    avgs = []\n",
    "    for db in data_test:\n",
    "        avg = 0\n",
    "        for train_idx, test_idx in kf.split(db.X):\n",
    "            X_val = db.X.iloc[test_idx]\n",
    "            y_val = db.y.iloc[test_idx]\n",
    "            X_train = db.X.iloc[train_idx]\n",
    "            y_train = db.y.iloc[train_idx]\n",
    "            X_ttrain, X_ttest, y_ttrain, y_ttest = model_selection.train_test_split(X_train, y_train, test_size=0.2)\n",
    "            if pd.Series.nunique(y_ttrain) == 1:\n",
    "                avg += 1.0\n",
    "                continue\n",
    "            if do_private:\n",
    "                eps = db.epsilon\n",
    "            else:\n",
    "                eps=100\n",
    "            idx = get_dp_logistic_regression(X_ttrain, y_ttrain, X_ttest, y_ttest, eps, ratio, C_list)\n",
    "            alg = DP(C_list[idx])\n",
    "            if do_private:\n",
    "                alg.model.set_epsilon(eps - (1-ratio)*eps)\n",
    "            else:\n",
    "                alg.model.set_epsilon(100)\n",
    "            alg.model.fit(X_ttrain, y_ttrain)\n",
    "            y_hat = alg.model.predict(X_val)\n",
    "            avg += (y_hat == y_val).sum() / y_val.size\n",
    "        avg /= splits\n",
    "        avgs.append(1.0-avg)\n",
    "    return np.array(avgs)"
   ]
  },
  {
   "cell_type": "code",
   "execution_count": 29,
   "metadata": {
    "collapsed": true
   },
   "outputs": [],
   "source": [
    "#Reset\n",
    "adult_perf = test_db_MRE(adult_data_test)\n",
    "lending_perf = test_db_MRE(lending_data_test)\n",
    "default_perf = test_db_MRE(default_data_test)\n",
    "magic_perf = test_db_MRE(magic_data_test)"
   ]
  },
  {
   "cell_type": "code",
   "execution_count": 30,
   "metadata": {
    "collapsed": true
   },
   "outputs": [],
   "source": [
    "adult_perf_non = test_db_MRE(adult_data_test, do_private=False)\n",
    "lending_perf_non = test_db_MRE(lending_data_test, do_private=False)\n",
    "default_perf_non = test_db_MRE(default_data_test, do_private=False)\n",
    "magic_perf_non = test_db_MRE(magic_data_test, do_private=False)"
   ]
  },
  {
   "cell_type": "code",
   "execution_count": 31,
   "metadata": {
    "collapsed": true
   },
   "outputs": [],
   "source": [
    "adult_errors['Stability'] = adult_perf\n",
    "adult_errors['NonPrivate'] = adult_perf_non\n",
    "adult_errors['eps'] = epsilons\n",
    "lending_errors['Stability'] = lending_perf\n",
    "lending_errors['NonPrivate'] = lending_perf_non\n",
    "lending_errors['eps'] = epsilons\n",
    "default_errors['Stability'] = default_perf\n",
    "default_errors['NonPrivate'] = default_perf_non\n",
    "default_errors['eps'] = epsilons\n",
    "magic_errors['Stability'] = magic_perf\n",
    "magic_errors['NonPrivate'] = magic_perf_non\n",
    "magic_errors['eps'] = epsilons"
   ]
  },
  {
   "cell_type": "code",
   "execution_count": 100,
   "metadata": {
    "collapsed": true
   },
   "outputs": [],
   "source": [
    "#DO NOT DUMP\n",
    "pickle.dump(adult_errors, open('log_regression_metadata/adult_results.pkl', 'wb'))\n",
    "pickle.dump(lending_errors, open('log_regression_metadata/lending_results.pkl', 'wb'))\n",
    "pickle.dump(default_errors, open('log_regression_metadata/default_results.pkl', 'wb'))\n",
    "pickle.dump(magic_errors, open('log_regression_metadata/megic_results.pkl', 'wb'))"
   ]
  },
  {
   "cell_type": "code",
   "execution_count": 32,
   "metadata": {
    "collapsed": true
   },
   "outputs": [],
   "source": [
    "tst = pd.concat([adult_errors, lending_errors, default_errors, magic_errors], ignore_index=True).groupby('eps').mean()"
   ]
  },
  {
   "cell_type": "code",
   "execution_count": 33,
   "metadata": {
    "collapsed": true
   },
   "outputs": [],
   "source": [
    "import matplotlib.patches as mpatches"
   ]
  },
  {
   "cell_type": "code",
   "execution_count": 70,
   "metadata": {
    "scrolled": true
   },
   "outputs": [
    {
     "data": {
      "text/plain": [
       "Text(0.5,1,'Errors of Stability, C_reg, and NonPrivate over 4 datasets')"
      ]
     },
     "execution_count": 70,
     "metadata": {},
     "output_type": "execute_result"
    },
    {
     "data": {
      "image/png": "[encoded data removed]",
      "text/plain": [
       "<matplotlib.figure.Figure at 0x7fc5336736d8>"
      ]
     },
     "metadata": {},
     "output_type": "display_data"
    }
   ],
   "source": [
    "fig, axis=plt.subplots()\n",
    "for a in alg_list:\n",
    "    axis.plot(tst.index, tst[a.name], '--', label='C=%s' % a.name)\n",
    "axis.plot(tst.index, tst['cm'], 'o-', label='C_reg')\n",
    "axis.plot(tst.index, tst['Stability'], 'o-', label='Stability')\n",
    "axis.plot(tst.index, tst['NonPrivate'], 'o-', label='NonPriv')\n",
    "axis.legend(loc='upper center', bbox_to_anchor=(0.5, -0.05),  shadow=True, ncol=3)\n",
    "axis.set_ylabel('Misclassification Rate')\n",
    "axis.set_title('Errors of Stability, C_reg, and NonPrivate over 4 datasets')"
   ]
  },
  {
   "cell_type": "code",
   "execution_count": 34,
   "metadata": {
    "scrolled": true
   },
   "outputs": [
    {
     "data": {
      "text/plain": [
       "Text(0.5,1,'Errors of Stability, C_reg, and NonPrivate over 4 datasets')"
      ]
     },
     "execution_count": 34,
     "metadata": {},
     "output_type": "execute_result"
    },
    {
     "data": {
      "image/png": "[encoded data removed]",
      "text/plain": [
       "<matplotlib.figure.Figure at 0x7f7abc8d5160>"
      ]
     },
     "metadata": {},
     "output_type": "display_data"
    }
   ],
   "source": [
    "fig, axis=plt.subplots()\n",
    "for a in alg_list:\n",
    "    axis.plot(tst.index, tst[a.name], '--', label='C=%s' % a.name)\n",
    "axis.plot(tst.index, tst['cm'], 'o-', label='C_reg')\n",
    "axis.plot(tst.index, tst['Stability'], 'o-', label='Stability')\n",
    "axis.plot(tst.index, tst['NonPrivate'], 'o-', label='NonPriv')\n",
    "axis.legend(loc='upper center', bbox_to_anchor=(0.5, -0.05),  shadow=True, ncol=3)\n",
    "axis.set_ylabel('Misclassification Rate')\n",
    "axis.set_title('Errors of Stability, C_reg, and NonPrivate over 4 datasets')"
   ]
  },
  {
   "cell_type": "code",
   "execution_count": null,
   "metadata": {
    "collapsed": true
   },
   "outputs": [],
   "source": []
  }
 ],
 "metadata": {
  "kernelspec": {
   "display_name": "Python 3",
   "language": "python",
   "name": "python3"
  },
  "language_info": {
   "codemirror_mode": {
    "name": "ipython",
    "version": 3
   },
   "file_extension": ".py",
   "mimetype": "text/x-python",
   "name": "python",
   "nbconvert_exporter": "python",
   "pygments_lexer": "ipython3",
   "version": "3.6.3"
  }
 },
 "nbformat": 4,
 "nbformat_minor": 2
}
