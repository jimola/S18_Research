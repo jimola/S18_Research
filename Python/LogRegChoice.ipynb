{
 "cells": [
  {
   "cell_type": "code",
   "execution_count": 1,
   "metadata": {
    "collapsed": true
   },
   "outputs": [],
   "source": [
    "import sys, os\n",
    "sys.path = ['./scikit-learn/build/lib.linux-x86_64-3.6/'] + sys.path\n",
    "import sklearn\n",
    "from sklearn import model_selection, feature_selection\n",
    "from sklearn.preprocessing import LabelEncoder\n",
    "import matplotlib.pyplot as plt\n",
    "import numpy as np\n",
    "import pandas as pd\n",
    "from log_regression import test, DPLogisticRegression\n",
    "from ChoiceMaker import DTChoice\n",
    "import ChoiceMaker\n",
    "import graphviz\n",
    "import copy\n",
    "%matplotlib inline"
   ]
  },
  {
   "cell_type": "code",
   "execution_count": 2,
   "metadata": {
    "collapsed": true
   },
   "outputs": [],
   "source": [
    "import pickle\n",
    "\"\"\"Method for loading or running a function (if it doesn't exist) located in the metadata folder\"\"\"\n",
    "def load_or_run(name, f):\n",
    "    name = 'log_regression_metadata/' + name\n",
    "    try:\n",
    "        r = pickle.load(open(name, 'rb'))\n",
    "    except:\n",
    "        r = f()\n",
    "        pickle.dump(r, open(name, 'wb'))\n",
    "    return r"
   ]
  },
  {
   "cell_type": "markdown",
   "metadata": {},
   "source": [
    "### Data Generation Methods"
   ]
  },
  {
   "cell_type": "code",
   "execution_count": 3,
   "metadata": {
    "collapsed": true
   },
   "outputs": [],
   "source": [
    "def reshape_dset(db, ncol, nrow, y_ratio, seed=12345, prng=None):\n",
    "    \"\"\"Rescales an input database to the desired parameters.\n",
    "    Parameters\n",
    "    ----------\n",
    "    db: Input array. We assume last col is the output col.\n",
    "        The output col must be binary.\n",
    "        \n",
    "    ncol: Desired number of columns in output.\n",
    "    \n",
    "    nrow: Desired number of rows.\n",
    "    \n",
    "    y_ratio: Desired percentage of class 2 in the output\n",
    "    \n",
    "    seed: seed value to use. Default: 12345\n",
    "    \n",
    "    prng: random number generator. One of seed or prng must not be None. \n",
    "    \"\"\"\n",
    "    if(prng == None):\n",
    "        prng = np.random.RandomState(seed)\n",
    "    ys = db[db.columns[-1]]\n",
    "    v1, v2 = ys.unique()[:2]\n",
    "    Z1 = db[ys == v1]\n",
    "    s1 = int(y_ratio*nrow)\n",
    "    Z2 = db[ys == v2]\n",
    "    s2 = nrow - s1\n",
    "    def reshape(Z, nrow):\n",
    "        db = pd.DataFrame()\n",
    "        while db.shape[0] + Z.shape[0] < nrow:\n",
    "            db = pd.concat((db, Z), ignore_index=True)\n",
    "        return pd.concat((db, Z.sample(nrow - db.shape[0])), ignore_index=True)\n",
    "    db = pd.concat((reshape(Z1, s1), reshape(Z2, s2)), ignore_index=True)\n",
    "    db_x = db[db.columns[:-1]]\n",
    "    ys = db[db.columns[-1]]\n",
    "    db = pd.DataFrame()\n",
    "    while db.shape[1] + db_x.shape[1] < ncol:\n",
    "        db = pd.concat((db, db_x), axis=1, ignore_index=True)\n",
    "    rand_cols = np.random.choice(db_x.columns, ncol-db.shape[1], replace=False)\n",
    "    return pd.concat((db, db_x[rand_cols], ys), axis=1, ignore_index=True)"
   ]
  },
  {
   "cell_type": "markdown",
   "metadata": {},
   "source": [
    "### ChoiceMaker Classes"
   ]
  },
  {
   "cell_type": "code",
   "execution_count": 4,
   "metadata": {
    "collapsed": true
   },
   "outputs": [],
   "source": [
    "#TODO: Change this to sklearn.model_selection.KFold\n",
    "def manual_CV(db, parts, clf):\n",
    "    \"\"\"Does cross-validation on the dataframe.\"\"\"\n",
    "    kf = model_selection.KFold(parts)\n",
    "    arr = []\n",
    "    for train_idx, test_idx in kf.split(db.X):\n",
    "        X_test = db.X.iloc[test_idx]\n",
    "        y_test = db.y.iloc[test_idx]\n",
    "        X_train = db.X.iloc[train_idx]\n",
    "        y_train = db.y.iloc[train_idx]\n",
    "        #Have to fix case when only one class exists\n",
    "        if len(np.unique(y_train)) == 1:\n",
    "            score = (y_train == y_train.iloc[0]).sum() / len(y_train)\n",
    "            arr.append(score)\n",
    "        else:\n",
    "            clf.fit(X_train, y_train)\n",
    "            arr.append(clf.score(X_test, y_test))\n",
    "    return np.array(arr)"
   ]
  },
  {
   "cell_type": "code",
   "execution_count": 5,
   "metadata": {
    "collapsed": true
   },
   "outputs": [],
   "source": [
    "#alg_list\n",
    "class DP:\n",
    "    def __init__(self, C):\n",
    "        self.name = str(C)\n",
    "        self.model = DPLogisticRegression(0.1, C=C, K=1.02, fit_intercept=True)\n",
    "    def error(self, db):\n",
    "        A = manual_CV(db, 5, self.model)\n",
    "        return 1.0-A.mean()\n",
    "    def run(self, db):\n",
    "        self.model.set_epsilon(db.epsilon)\n",
    "        return self.model.fit(db.X, db.y)"
   ]
  },
  {
   "cell_type": "code",
   "execution_count": 6,
   "metadata": {
    "collapsed": true
   },
   "outputs": [],
   "source": [
    "class DB:\n",
    "    def __init__(self, X, y, epsilon=1):\n",
    "        self.epsilon = epsilon\n",
    "        self.ncol = X.shape[1]\n",
    "        self.X = pd.get_dummies(X)\n",
    "        self.y = y"
   ]
  },
  {
   "cell_type": "code",
   "execution_count": 7,
   "metadata": {
    "collapsed": true
   },
   "outputs": [],
   "source": [
    "class DBMetafeatures:\n",
    "    def __init__(self):\n",
    "        self.sensitivities = {'nrow': 0, 'ncol': 0, 'eps': 0, 'numy': 1}\n",
    "    \n",
    "    def __call__(self, dataset):\n",
    "        return {'nrow': dataset.X.shape[0], \n",
    "                'ncol': dataset.ncol,\n",
    "                'eps': dataset.epsilon, \n",
    "                'numy': dataset.y.sum()}"
   ]
  },
  {
   "cell_type": "code",
   "execution_count": 8,
   "metadata": {
    "collapsed": true
   },
   "outputs": [],
   "source": [
    "#Generating Tset methods\n",
    "def gen_tset_size_range(eps_vals, col_vals, row_vals, ratios, reps, db, prng=None):\n",
    "    \"\"\"Generates a database for each member of the cross product of the arguments\n",
    "    \n",
    "    Params:\n",
    "    db: Database to perform surgery on\n",
    "    \"\"\"\n",
    "    for c in col_vals:\n",
    "        for r in row_vals:\n",
    "            for e in eps_vals:\n",
    "                for ratio in ratios:\n",
    "                    for x in range(0, reps):\n",
    "                        G = reshape_dset(db, ncol=c, nrow=r, y_ratio=ratio, prng=prng)\n",
    "                        ncol = adult.shape[1]\n",
    "                        last_name = G.columns[-1]\n",
    "                        yield DB(G.drop([last_name], axis=1), G[last_name], e)\n",
    "            \n",
    "#G = gen_tset_size_range(4, [0.2, 0.4, 0.6, 0.8, 1.0], np.arange(20, 200, 20))"
   ]
  },
  {
   "cell_type": "markdown",
   "metadata": {},
   "source": [
    "### Adult Dataset Preprocessing"
   ]
  },
  {
   "cell_type": "code",
   "execution_count": 9,
   "metadata": {
    "collapsed": true
   },
   "outputs": [],
   "source": [
    "adult = pd.read_csv('data/adult.data', header=None)\n",
    "adult = adult.rename(columns = {0: 'age', 1: 'workclass', 2: 'fnlwgt', 3: 'education', \n",
    "                                4: 'education_num', 5: 'marital_status', 6: 'occupation',\n",
    "                                7: 'relationship', 8: 'race', 9: 'sex', 10: 'captial_gain',\n",
    "                                11: 'captial_loss', 12: 'hours-per-week', 13: 'native_country', 14: 'TARGET'})\n",
    "adult = adult.drop('education', axis=1)"
   ]
  },
  {
   "cell_type": "code",
   "execution_count": 10,
   "metadata": {
    "collapsed": true
   },
   "outputs": [],
   "source": [
    "le = LabelEncoder()\n",
    "adult['TARGET'] = le.fit_transform(adult['TARGET'])"
   ]
  },
  {
   "cell_type": "markdown",
   "metadata": {},
   "source": [
    "### Magic Dataset"
   ]
  },
  {
   "cell_type": "code",
   "execution_count": 11,
   "metadata": {
    "collapsed": true
   },
   "outputs": [],
   "source": [
    "magic = pd.read_csv('data/magic.csv', header=None)"
   ]
  },
  {
   "cell_type": "code",
   "execution_count": 12,
   "metadata": {
    "collapsed": true
   },
   "outputs": [],
   "source": [
    "magic[10] = le.fit_transform(magic[10])"
   ]
  },
  {
   "cell_type": "markdown",
   "metadata": {},
   "source": [
    "### Credit Default Dataset Preprocessing"
   ]
  },
  {
   "cell_type": "code",
   "execution_count": 13,
   "metadata": {
    "collapsed": true
   },
   "outputs": [],
   "source": [
    "default = pd.read_csv('data/application_train.csv')\n",
    "default['TARGET'] = le.fit_transform(default['TARGET'])"
   ]
  },
  {
   "cell_type": "code",
   "execution_count": 14,
   "metadata": {
    "collapsed": true
   },
   "outputs": [],
   "source": [
    "#C = default.corr()\n",
    "#default = default[abs(C['TARGET']).sort_values().index[-30:]].sample(10000)"
   ]
  },
  {
   "cell_type": "code",
   "execution_count": 15,
   "metadata": {
    "collapsed": true
   },
   "outputs": [],
   "source": [
    "#For simplicity, get rid of all columns with missing data\n",
    "default = default[default.columns[default.notnull().all()]].sample(10000)"
   ]
  },
  {
   "cell_type": "code",
   "execution_count": 16,
   "metadata": {
    "collapsed": true
   },
   "outputs": [],
   "source": [
    "#Put target at end\n",
    "new_cols = list(default.columns)\n",
    "new_cols[1] = new_cols[-1]\n",
    "new_cols[-1] = 'TARGET'\n",
    "default = default[new_cols]"
   ]
  },
  {
   "cell_type": "markdown",
   "metadata": {},
   "source": [
    "### Lending Dataset Preprocessing"
   ]
  },
  {
   "cell_type": "code",
   "execution_count": 17,
   "metadata": {
    "collapsed": true
   },
   "outputs": [],
   "source": [
    "lending = pd.read_csv('data/fam_credit_ss.csv')"
   ]
  },
  {
   "cell_type": "code",
   "execution_count": 18,
   "metadata": {
    "collapsed": true
   },
   "outputs": [],
   "source": [
    "#Swap first and last column\n",
    "L = list(lending.columns)\n",
    "L[0] = L[-1]\n",
    "L[-1] = 'credit_card'\n",
    "lending = lending[L]"
   ]
  },
  {
   "cell_type": "code",
   "execution_count": 19,
   "metadata": {},
   "outputs": [
    {
     "data": {
      "text/plain": [
       "social_security       4\n",
       "stud_loan             4\n",
       "medical_exp           4\n",
       "income             5963\n",
       "marital_status        6\n",
       "auto_insurance      712\n",
       "children             10\n",
       "age                  85\n",
       "gender                2\n",
       "housing               3\n",
       "health_status         7\n",
       "work_hours           93\n",
       "credit_card           2\n",
       "dtype: int64"
      ]
     },
     "execution_count": 19,
     "metadata": {},
     "output_type": "execute_result"
    }
   ],
   "source": [
    "#Some columns should be changed to object\n",
    "lending.select_dtypes(['int64']).apply(pd.Series.nunique)"
   ]
  },
  {
   "cell_type": "code",
   "execution_count": 20,
   "metadata": {
    "collapsed": true
   },
   "outputs": [],
   "source": [
    "unordered_cols = ['social_security', 'stud_loan', 'medical_exp', 'marital_status', 'housing', 'health_status']\n",
    "lending[unordered_cols] = lending[unordered_cols].astype('object')"
   ]
  },
  {
   "cell_type": "markdown",
   "metadata": {},
   "source": [
    "### Data analysis"
   ]
  },
  {
   "cell_type": "code",
   "execution_count": 21,
   "metadata": {
    "collapsed": true
   },
   "outputs": [],
   "source": [
    "prng = np.random.RandomState(12345)\n",
    "eps_vals = [0.1, 0.2, 0.4, 0.8, 1.6, 3.2]\n",
    "col_vals = np.arange(2, 20, 2)\n",
    "row_vals = [20, 40, 100, 150, 300, 600, 1000, 2000, 3000]\n",
    "ratios = [0.15, 0.3, 0.5, 0.7, 0.85]\n",
    "num_reps = 3\n",
    "C_list = [0.1, 1, 10]\n",
    "alg_list = [DP(C=x) for x in C_list]\n",
    "def split_db(db, prng=None):\n",
    "    return gen_tset_size_range(eps_vals, col_vals, row_vals, ratios, num_reps, db, prng)"
   ]
  },
  {
   "cell_type": "code",
   "execution_count": 22,
   "metadata": {
    "collapsed": true
   },
   "outputs": [],
   "source": [
    "#Database Generation:\n",
    "#Unfortunately, these have to be lists, not generators\n",
    "adult_data = load_or_run('adult.p', lambda: list(split_db(adult, prng)))\n",
    "default_data = load_or_run('default.p', lambda: list(split_db(default, prng)))\n",
    "lending_data = load_or_run('lending.p', lambda: list(split_db(lending, prng)))\n",
    "magic_data = load_or_run('magic.p', lambda: list(split_db(magic, prng)))"
   ]
  },
  {
   "cell_type": "code",
   "execution_count": null,
   "metadata": {
    "collapsed": true,
    "scrolled": true
   },
   "outputs": [],
   "source": [
    "def get_cm(db):\n",
    "    return DTChoice(db, DBMetafeatures(), {a.name: a for a in alg_list}, reps=1)\n",
    "from multiprocessing import Pool\n",
    "pool = Pool(processes=3)\n",
    "cms = pool.map(get_cm, [adult_data, default_data, lending_data])\n",
    "adult_cm = cms[0]\n",
    "default_cm = cms[1]\n",
    "lending_cm = cms[2]"
   ]
  },
  {
   "cell_type": "code",
   "execution_count": null,
   "metadata": {
    "collapsed": true
   },
   "outputs": [],
   "source": [
    "#magic_cm = get_cm(magic_data)"
   ]
  },
  {
   "cell_type": "code",
   "execution_count": 23,
   "metadata": {
    "collapsed": true
   },
   "outputs": [],
   "source": [
    "adult_cm = pickle.load(open('log_regression_metadata/adult_cm.p', 'rb'))\n",
    "default_cm = pickle.load(open('log_regression_metadata/default_cm.p', 'rb'))\n",
    "lending_cm = pickle.load(open('log_regression_metadata/lending_cm.p', 'rb'))\n",
    "magic_cm = pickle.load(open('log_regression_metadata/magic_cm.p', 'rb'))\n",
    "#pickle.dump(adult_cm, open('log_regression_metadata/adult_cm.p', 'wb'))\n",
    "#pickle.dump(default_cm, open('log_regression_metadata/default_cm.p', 'wb'))\n",
    "#pickle.dump(lending_cm, open('log_regression_metadata/lending_cm.p', 'wb'))\n",
    "#pickle.dump(magic_cm, open('log_regression_metadata/magic_cm.p', 'wb'))"
   ]
  },
  {
   "cell_type": "code",
   "execution_count": 34,
   "metadata": {},
   "outputs": [],
   "source": [
    "#Experiment 1: Test the adult data and the lending data's prediction power on default data.\n",
    "#Trials are cached within lending and adult data\n",
    "import importlib\n",
    "importlib.reload(sklearn)\n",
    "default_test_cm = DTChoice(adult_data + lending_data + magic_data, DBMetafeatures(), \n",
    "                       {a.name: a for a in alg_list},\n",
    "                       pd.concat((adult_cm.regrets, lending_cm.regrets, magic_cm.regrets[['0.1', '1', '10']]), ignore_index=True))\n",
    "default_test_cm.model = sklearn.tree.DecisionTreeClassifier(min_samples_leaf=10, max_depth=3)\n",
    "default_test_cm.retrain_model()\n",
    "\n",
    "adult_test_cm = DTChoice(default_data + lending_data + magic_data, DBMetafeatures(), \n",
    "                       {a.name: a for a in alg_list},\n",
    "                       pd.concat((default_cm.regrets, lending_cm.regrets, magic_cm.regrets[['0.1', '1', '10']]), ignore_index=True))\n",
    "adult_test_cm.model = sklearn.tree.DecisionTreeClassifier(min_samples_leaf=10, max_depth=3)\n",
    "adult_test_cm.retrain_model()\n",
    "\n",
    "lending_test_cm = DTChoice(adult_data + default_data + magic_data, DBMetafeatures(), \n",
    "                       {a.name: a for a in alg_list},\n",
    "                       pd.concat((adult_cm.regrets, default_cm.regrets, magic_cm.regrets[['0.1', '1', '10']]), ignore_index=True))\n",
    "lending_test_cm.model = sklearn.tree.DecisionTreeClassifier(min_samples_leaf=10, max_depth=3)\n",
    "lending_test_cm.retrain_model()\n",
    "\n",
    "magic_test_cm = DTChoice(adult_data + default_data + lending_data, DBMetafeatures(), \n",
    "                       {a.name: a for a in alg_list},\n",
    "                       pd.concat((adult_cm.regrets, default_cm.regrets, lending_cm.regrets), ignore_index=True))\n",
    "magic_test_cm.model = sklearn.tree.DecisionTreeClassifier(min_samples_leaf=10, max_depth=3)\n",
    "magic_test_cm.retrain_model()"
   ]
  },
  {
   "cell_type": "code",
   "execution_count": 35,
   "metadata": {},
   "outputs": [
    {
     "data": {
      "image/svg+xml": [
       "<?xml version=\"1.0\" encoding=\"UTF-8\" standalone=\"no\"?>\n",
       "<!DOCTYPE svg PUBLIC \"-//W3C//DTD SVG 1.1//EN\"\n",
       " \"http://www.w3.org/Graphics/SVG/1.1/DTD/svg11.dtd\">\n",
       "<!-- Generated by graphviz version 2.40.1 (20161225.0304)\n",
       " -->\n",
       "<!-- Title: Tree Pages: 1 -->\n",
       "<svg width=\"1603pt\" height=\"373pt\"\n",
       " viewBox=\"0.00 0.00 1602.50 373.00\" xmlns=\"http://www.w3.org/2000/svg\" xmlns:xlink=\"http://www.w3.org/1999/xlink\">\n",
       "<g id=\"graph0\" class=\"graph\" transform=\"scale(1 1) rotate(0) translate(4 369)\">\n",
       "<title>Tree</title>\n",
       "<polygon fill=\"#ffffff\" stroke=\"transparent\" points=\"-4,4 -4,-369 1598.5,-369 1598.5,4 -4,4\"/>\n",
       "<!-- 0 -->\n",
       "<g id=\"node1\" class=\"node\">\n",
       "<title>0</title>\n",
       "<path fill=\"transparent\" stroke=\"#000000\" d=\"M874.5,-365C874.5,-365 710.5,-365 710.5,-365 704.5,-365 698.5,-359 698.5,-353 698.5,-353 698.5,-309 698.5,-309 698.5,-303 704.5,-297 710.5,-297 710.5,-297 874.5,-297 874.5,-297 880.5,-297 886.5,-303 886.5,-309 886.5,-309 886.5,-353 886.5,-353 886.5,-359 880.5,-365 874.5,-365\"/>\n",
       "<text text-anchor=\"middle\" x=\"792.5\" y=\"-349.8\" font-family=\"Helvetica,sans-Serif\" font-size=\"14.00\" fill=\"#000000\">X[40] &lt;= &#45;15.179</text>\n",
       "<text text-anchor=\"middle\" x=\"792.5\" y=\"-334.8\" font-family=\"Helvetica,sans-Serif\" font-size=\"14.00\" fill=\"#000000\">gini = 0.084</text>\n",
       "<text text-anchor=\"middle\" x=\"792.5\" y=\"-319.8\" font-family=\"Helvetica,sans-Serif\" font-size=\"14.00\" fill=\"#000000\">samples = 21870</text>\n",
       "<text text-anchor=\"middle\" x=\"792.5\" y=\"-304.8\" font-family=\"Helvetica,sans-Serif\" font-size=\"14.00\" fill=\"#000000\">value = [0.916, 0.877, 0.813]</text>\n",
       "</g>\n",
       "<!-- 1 -->\n",
       "<g id=\"node2\" class=\"node\">\n",
       "<title>1</title>\n",
       "<path fill=\"transparent\" stroke=\"#000000\" d=\"M672.5,-261C672.5,-261 508.5,-261 508.5,-261 502.5,-261 496.5,-255 496.5,-249 496.5,-249 496.5,-205 496.5,-205 496.5,-199 502.5,-193 508.5,-193 508.5,-193 672.5,-193 672.5,-193 678.5,-193 684.5,-199 684.5,-205 684.5,-205 684.5,-249 684.5,-249 684.5,-255 678.5,-261 672.5,-261\"/>\n",
       "<text text-anchor=\"middle\" x=\"590.5\" y=\"-245.8\" font-family=\"Helvetica,sans-Serif\" font-size=\"14.00\" fill=\"#000000\">X[40] &lt;= &#45;15.488</text>\n",
       "<text text-anchor=\"middle\" x=\"590.5\" y=\"-230.8\" font-family=\"Helvetica,sans-Serif\" font-size=\"14.00\" fill=\"#000000\">gini = 0.065</text>\n",
       "<text text-anchor=\"middle\" x=\"590.5\" y=\"-215.8\" font-family=\"Helvetica,sans-Serif\" font-size=\"14.00\" fill=\"#000000\">samples = 1458</text>\n",
       "<text text-anchor=\"middle\" x=\"590.5\" y=\"-200.8\" font-family=\"Helvetica,sans-Serif\" font-size=\"14.00\" fill=\"#000000\">value = [0.922, 0.926, 0.935]</text>\n",
       "</g>\n",
       "<!-- 0&#45;&gt;1 -->\n",
       "<g id=\"edge1\" class=\"edge\">\n",
       "<title>0&#45;&gt;1</title>\n",
       "<path fill=\"none\" stroke=\"#000000\" d=\"M726.3576,-296.9465C707.0003,-286.9803 685.6958,-276.0117 665.8138,-265.7754\"/>\n",
       "<polygon fill=\"#000000\" stroke=\"#000000\" points=\"667.2839,-262.5957 656.791,-261.13 664.0797,-268.8193 667.2839,-262.5957\"/>\n",
       "<text text-anchor=\"middle\" x=\"664.416\" y=\"-281.2388\" font-family=\"Helvetica,sans-Serif\" font-size=\"14.00\" fill=\"#000000\">True</text>\n",
       "</g>\n",
       "<!-- 8 -->\n",
       "<g id=\"node9\" class=\"node\">\n",
       "<title>8</title>\n",
       "<path fill=\"transparent\" stroke=\"#000000\" d=\"M1075.5,-261C1075.5,-261 911.5,-261 911.5,-261 905.5,-261 899.5,-255 899.5,-249 899.5,-249 899.5,-205 899.5,-205 899.5,-199 905.5,-193 911.5,-193 911.5,-193 1075.5,-193 1075.5,-193 1081.5,-193 1087.5,-199 1087.5,-205 1087.5,-205 1087.5,-249 1087.5,-249 1087.5,-255 1081.5,-261 1075.5,-261\"/>\n",
       "<text text-anchor=\"middle\" x=\"993.5\" y=\"-245.8\" font-family=\"Helvetica,sans-Serif\" font-size=\"14.00\" fill=\"#000000\">X[21] &lt;= 13.056</text>\n",
       "<text text-anchor=\"middle\" x=\"993.5\" y=\"-230.8\" font-family=\"Helvetica,sans-Serif\" font-size=\"14.00\" fill=\"#000000\">gini = 0.085</text>\n",
       "<text text-anchor=\"middle\" x=\"993.5\" y=\"-215.8\" font-family=\"Helvetica,sans-Serif\" font-size=\"14.00\" fill=\"#000000\">samples = 20412</text>\n",
       "<text text-anchor=\"middle\" x=\"993.5\" y=\"-200.8\" font-family=\"Helvetica,sans-Serif\" font-size=\"14.00\" fill=\"#000000\">value = [0.915, 0.873, 0.805]</text>\n",
       "</g>\n",
       "<!-- 0&#45;&gt;8 -->\n",
       "<g id=\"edge8\" class=\"edge\">\n",
       "<title>0&#45;&gt;8</title>\n",
       "<path fill=\"none\" stroke=\"#000000\" d=\"M858.3149,-296.9465C877.5765,-286.9803 898.7755,-276.0117 918.5591,-265.7754\"/>\n",
       "<polygon fill=\"#000000\" stroke=\"#000000\" points=\"920.2641,-268.834 927.5372,-261.13 917.0472,-262.6169 920.2641,-268.834\"/>\n",
       "<text text-anchor=\"middle\" x=\"919.9604\" y=\"-281.2542\" font-family=\"Helvetica,sans-Serif\" font-size=\"14.00\" fill=\"#000000\">False</text>\n",
       "</g>\n",
       "<!-- 2 -->\n",
       "<g id=\"node3\" class=\"node\">\n",
       "<title>2</title>\n",
       "<path fill=\"transparent\" stroke=\"#000000\" d=\"M367.5,-157C367.5,-157 203.5,-157 203.5,-157 197.5,-157 191.5,-151 191.5,-145 191.5,-145 191.5,-101 191.5,-101 191.5,-95 197.5,-89 203.5,-89 203.5,-89 367.5,-89 367.5,-89 373.5,-89 379.5,-95 379.5,-101 379.5,-101 379.5,-145 379.5,-145 379.5,-151 373.5,-157 367.5,-157\"/>\n",
       "<text text-anchor=\"middle\" x=\"285.5\" y=\"-141.8\" font-family=\"Helvetica,sans-Serif\" font-size=\"14.00\" fill=\"#000000\">X[23] &lt;= &#45;8.13</text>\n",
       "<text text-anchor=\"middle\" x=\"285.5\" y=\"-126.8\" font-family=\"Helvetica,sans-Serif\" font-size=\"14.00\" fill=\"#000000\">gini = 0.002</text>\n",
       "<text text-anchor=\"middle\" x=\"285.5\" y=\"-111.8\" font-family=\"Helvetica,sans-Serif\" font-size=\"14.00\" fill=\"#000000\">samples = 972</text>\n",
       "<text text-anchor=\"middle\" x=\"285.5\" y=\"-96.8\" font-family=\"Helvetica,sans-Serif\" font-size=\"14.00\" fill=\"#000000\">value = [0.998, 0.997, 0.903]</text>\n",
       "</g>\n",
       "<!-- 1&#45;&gt;2 -->\n",
       "<g id=\"edge2\" class=\"edge\">\n",
       "<title>1&#45;&gt;2</title>\n",
       "<path fill=\"none\" stroke=\"#000000\" d=\"M496.0848,-194.806C462.2624,-183.2731 423.9584,-170.212 389.3792,-158.4211\"/>\n",
       "<polygon fill=\"#000000\" stroke=\"#000000\" points=\"390.3262,-155.0462 379.7317,-155.1315 388.067,-161.6716 390.3262,-155.0462\"/>\n",
       "</g>\n",
       "<!-- 5 -->\n",
       "<g id=\"node6\" class=\"node\">\n",
       "<title>5</title>\n",
       "<path fill=\"transparent\" stroke=\"#000000\" d=\"M669,-157C669,-157 512,-157 512,-157 506,-157 500,-151 500,-145 500,-145 500,-101 500,-101 500,-95 506,-89 512,-89 512,-89 669,-89 669,-89 675,-89 681,-95 681,-101 681,-101 681,-145 681,-145 681,-151 675,-157 669,-157\"/>\n",
       "<text text-anchor=\"middle\" x=\"590.5\" y=\"-141.8\" font-family=\"Helvetica,sans-Serif\" font-size=\"14.00\" fill=\"#000000\">X[33] &lt;= &#45;3.525</text>\n",
       "<text text-anchor=\"middle\" x=\"590.5\" y=\"-126.8\" font-family=\"Helvetica,sans-Serif\" font-size=\"14.00\" fill=\"#000000\">gini = 0.002</text>\n",
       "<text text-anchor=\"middle\" x=\"590.5\" y=\"-111.8\" font-family=\"Helvetica,sans-Serif\" font-size=\"14.00\" fill=\"#000000\">samples = 486</text>\n",
       "<text text-anchor=\"middle\" x=\"590.5\" y=\"-96.8\" font-family=\"Helvetica,sans-Serif\" font-size=\"14.00\" fill=\"#000000\">value = [0.77, 0.785, 0.998]</text>\n",
       "</g>\n",
       "<!-- 1&#45;&gt;5 -->\n",
       "<g id=\"edge5\" class=\"edge\">\n",
       "<title>1&#45;&gt;5</title>\n",
       "<path fill=\"none\" stroke=\"#000000\" d=\"M590.5,-192.9465C590.5,-184.776 590.5,-175.9318 590.5,-167.3697\"/>\n",
       "<polygon fill=\"#000000\" stroke=\"#000000\" points=\"594.0001,-167.13 590.5,-157.13 587.0001,-167.13 594.0001,-167.13\"/>\n",
       "</g>\n",
       "<!-- 3 -->\n",
       "<g id=\"node4\" class=\"node\">\n",
       "<title>3</title>\n",
       "<path fill=\"transparent\" stroke=\"#000000\" d=\"M161,-53C161,-53 12,-53 12,-53 6,-53 0,-47 0,-41 0,-41 0,-12 0,-12 0,-6 6,0 12,0 12,0 161,0 161,0 167,0 173,-6 173,-12 173,-12 173,-41 173,-41 173,-47 167,-53 161,-53\"/>\n",
       "<text text-anchor=\"middle\" x=\"86.5\" y=\"-37.8\" font-family=\"Helvetica,sans-Serif\" font-size=\"14.00\" fill=\"#000000\">gini = 0.0</text>\n",
       "<text text-anchor=\"middle\" x=\"86.5\" y=\"-22.8\" font-family=\"Helvetica,sans-Serif\" font-size=\"14.00\" fill=\"#000000\">samples = 18</text>\n",
       "<text text-anchor=\"middle\" x=\"86.5\" y=\"-7.8\" font-family=\"Helvetica,sans-Serif\" font-size=\"14.00\" fill=\"#000000\">value = [0.998, 1.0, 0.957]</text>\n",
       "</g>\n",
       "<!-- 2&#45;&gt;3 -->\n",
       "<g id=\"edge3\" class=\"edge\">\n",
       "<title>2&#45;&gt;3</title>\n",
       "<path fill=\"none\" stroke=\"#000000\" d=\"M215.34,-88.9777C194.1877,-78.7204 171.0926,-67.521 150.3723,-57.4732\"/>\n",
       "<polygon fill=\"#000000\" stroke=\"#000000\" points=\"151.8687,-54.3091 141.3436,-53.095 148.8143,-60.6076 151.8687,-54.3091\"/>\n",
       "</g>\n",
       "<!-- 4 -->\n",
       "<g id=\"node5\" class=\"node\">\n",
       "<title>4</title>\n",
       "<path fill=\"transparent\" stroke=\"#000000\" d=\"M367.5,-53C367.5,-53 203.5,-53 203.5,-53 197.5,-53 191.5,-47 191.5,-41 191.5,-41 191.5,-12 191.5,-12 191.5,-6 197.5,0 203.5,0 203.5,0 367.5,0 367.5,0 373.5,0 379.5,-6 379.5,-12 379.5,-12 379.5,-41 379.5,-41 379.5,-47 373.5,-53 367.5,-53\"/>\n",
       "<text text-anchor=\"middle\" x=\"285.5\" y=\"-37.8\" font-family=\"Helvetica,sans-Serif\" font-size=\"14.00\" fill=\"#000000\">gini = 0.002</text>\n",
       "<text text-anchor=\"middle\" x=\"285.5\" y=\"-22.8\" font-family=\"Helvetica,sans-Serif\" font-size=\"14.00\" fill=\"#000000\">samples = 954</text>\n",
       "<text text-anchor=\"middle\" x=\"285.5\" y=\"-7.8\" font-family=\"Helvetica,sans-Serif\" font-size=\"14.00\" fill=\"#000000\">value = [0.998, 0.997, 0.902]</text>\n",
       "</g>\n",
       "<!-- 2&#45;&gt;4 -->\n",
       "<g id=\"edge4\" class=\"edge\">\n",
       "<title>2&#45;&gt;4</title>\n",
       "<path fill=\"none\" stroke=\"#000000\" d=\"M285.5,-88.9777C285.5,-80.7364 285.5,-71.887 285.5,-63.5153\"/>\n",
       "<polygon fill=\"#000000\" stroke=\"#000000\" points=\"289.0001,-63.2484 285.5,-53.2485 282.0001,-63.2485 289.0001,-63.2484\"/>\n",
       "</g>\n",
       "<!-- 6 -->\n",
       "<g id=\"node7\" class=\"node\">\n",
       "<title>6</title>\n",
       "<path fill=\"#8139e5\" fill-opacity=\"0.003922\" stroke=\"#000000\" d=\"M573.5,-53C573.5,-53 409.5,-53 409.5,-53 403.5,-53 397.5,-47 397.5,-41 397.5,-41 397.5,-12 397.5,-12 397.5,-6 403.5,0 409.5,0 409.5,0 573.5,0 573.5,0 579.5,0 585.5,-6 585.5,-12 585.5,-12 585.5,-41 585.5,-41 585.5,-47 579.5,-53 573.5,-53\"/>\n",
       "<text text-anchor=\"middle\" x=\"491.5\" y=\"-37.8\" font-family=\"Helvetica,sans-Serif\" font-size=\"14.00\" fill=\"#000000\">gini = 0.001</text>\n",
       "<text text-anchor=\"middle\" x=\"491.5\" y=\"-22.8\" font-family=\"Helvetica,sans-Serif\" font-size=\"14.00\" fill=\"#000000\">samples = 54</text>\n",
       "<text text-anchor=\"middle\" x=\"491.5\" y=\"-7.8\" font-family=\"Helvetica,sans-Serif\" font-size=\"14.00\" fill=\"#000000\">value = [0.757, 0.768, 0.999]</text>\n",
       "</g>\n",
       "<!-- 5&#45;&gt;6 -->\n",
       "<g id=\"edge6\" class=\"edge\">\n",
       "<title>5&#45;&gt;6</title>\n",
       "<path fill=\"none\" stroke=\"#000000\" d=\"M555.5963,-88.9777C546.1082,-79.7292 535.8343,-69.7147 526.3491,-60.4691\"/>\n",
       "<polygon fill=\"#000000\" stroke=\"#000000\" points=\"528.5454,-57.7223 518.9414,-53.2485 523.6593,-62.7349 528.5454,-57.7223\"/>\n",
       "</g>\n",
       "<!-- 7 -->\n",
       "<g id=\"node8\" class=\"node\">\n",
       "<title>7</title>\n",
       "<path fill=\"transparent\" stroke=\"#000000\" d=\"M779.5,-53C779.5,-53 615.5,-53 615.5,-53 609.5,-53 603.5,-47 603.5,-41 603.5,-41 603.5,-12 603.5,-12 603.5,-6 609.5,0 615.5,0 615.5,0 779.5,0 779.5,0 785.5,0 791.5,-6 791.5,-12 791.5,-12 791.5,-41 791.5,-41 791.5,-47 785.5,-53 779.5,-53\"/>\n",
       "<text text-anchor=\"middle\" x=\"697.5\" y=\"-37.8\" font-family=\"Helvetica,sans-Serif\" font-size=\"14.00\" fill=\"#000000\">gini = 0.002</text>\n",
       "<text text-anchor=\"middle\" x=\"697.5\" y=\"-22.8\" font-family=\"Helvetica,sans-Serif\" font-size=\"14.00\" fill=\"#000000\">samples = 432</text>\n",
       "<text text-anchor=\"middle\" x=\"697.5\" y=\"-7.8\" font-family=\"Helvetica,sans-Serif\" font-size=\"14.00\" fill=\"#000000\">value = [0.772, 0.787, 0.998]</text>\n",
       "</g>\n",
       "<!-- 5&#45;&gt;7 -->\n",
       "<g id=\"edge7\" class=\"edge\">\n",
       "<title>5&#45;&gt;7</title>\n",
       "<path fill=\"none\" stroke=\"#000000\" d=\"M628.2242,-88.9777C638.5806,-79.6376 649.8031,-69.5163 660.139,-60.1947\"/>\n",
       "<polygon fill=\"#000000\" stroke=\"#000000\" points=\"662.7591,-62.5449 667.8411,-53.2485 658.0709,-57.3467 662.7591,-62.5449\"/>\n",
       "</g>\n",
       "<!-- 9 -->\n",
       "<g id=\"node10\" class=\"node\">\n",
       "<title>9</title>\n",
       "<path fill=\"transparent\" stroke=\"#000000\" d=\"M1075.5,-157C1075.5,-157 911.5,-157 911.5,-157 905.5,-157 899.5,-151 899.5,-145 899.5,-145 899.5,-101 899.5,-101 899.5,-95 905.5,-89 911.5,-89 911.5,-89 1075.5,-89 1075.5,-89 1081.5,-89 1087.5,-95 1087.5,-101 1087.5,-101 1087.5,-145 1087.5,-145 1087.5,-151 1081.5,-157 1075.5,-157\"/>\n",
       "<text text-anchor=\"middle\" x=\"993.5\" y=\"-141.8\" font-family=\"Helvetica,sans-Serif\" font-size=\"14.00\" fill=\"#000000\">X[36] &lt;= 4.254</text>\n",
       "<text text-anchor=\"middle\" x=\"993.5\" y=\"-126.8\" font-family=\"Helvetica,sans-Serif\" font-size=\"14.00\" fill=\"#000000\">gini = 0.091</text>\n",
       "<text text-anchor=\"middle\" x=\"993.5\" y=\"-111.8\" font-family=\"Helvetica,sans-Serif\" font-size=\"14.00\" fill=\"#000000\">samples = 16281</text>\n",
       "<text text-anchor=\"middle\" x=\"993.5\" y=\"-96.8\" font-family=\"Helvetica,sans-Serif\" font-size=\"14.00\" fill=\"#000000\">value = [0.909, 0.855, 0.785]</text>\n",
       "</g>\n",
       "<!-- 8&#45;&gt;9 -->\n",
       "<g id=\"edge9\" class=\"edge\">\n",
       "<title>8&#45;&gt;9</title>\n",
       "<path fill=\"none\" stroke=\"#000000\" d=\"M993.5,-192.9465C993.5,-184.776 993.5,-175.9318 993.5,-167.3697\"/>\n",
       "<polygon fill=\"#000000\" stroke=\"#000000\" points=\"997.0001,-167.13 993.5,-157.13 990.0001,-167.13 997.0001,-167.13\"/>\n",
       "</g>\n",
       "<!-- 12 -->\n",
       "<g id=\"node13\" class=\"node\">\n",
       "<title>12</title>\n",
       "<path fill=\"transparent\" stroke=\"#000000\" d=\"M1373,-157C1373,-157 1216,-157 1216,-157 1210,-157 1204,-151 1204,-145 1204,-145 1204,-101 1204,-101 1204,-95 1210,-89 1216,-89 1216,-89 1373,-89 1373,-89 1379,-89 1385,-95 1385,-101 1385,-101 1385,-145 1385,-145 1385,-151 1379,-157 1373,-157\"/>\n",
       "<text text-anchor=\"middle\" x=\"1294.5\" y=\"-141.8\" font-family=\"Helvetica,sans-Serif\" font-size=\"14.00\" fill=\"#000000\">X[13] &lt;= &#45;13.214</text>\n",
       "<text text-anchor=\"middle\" x=\"1294.5\" y=\"-126.8\" font-family=\"Helvetica,sans-Serif\" font-size=\"14.00\" fill=\"#000000\">gini = 0.057</text>\n",
       "<text text-anchor=\"middle\" x=\"1294.5\" y=\"-111.8\" font-family=\"Helvetica,sans-Serif\" font-size=\"14.00\" fill=\"#000000\">samples = 4131</text>\n",
       "<text text-anchor=\"middle\" x=\"1294.5\" y=\"-96.8\" font-family=\"Helvetica,sans-Serif\" font-size=\"14.00\" fill=\"#000000\">value = [0.94, 0.943, 0.881]</text>\n",
       "</g>\n",
       "<!-- 8&#45;&gt;12 -->\n",
       "<g id=\"edge12\" class=\"edge\">\n",
       "<title>8&#45;&gt;12</title>\n",
       "<path fill=\"none\" stroke=\"#000000\" d=\"M1087.5002,-194.5215C1121.3992,-182.8089 1159.7721,-169.5505 1194.1901,-157.6586\"/>\n",
       "<polygon fill=\"#000000\" stroke=\"#000000\" points=\"1195.4772,-160.917 1203.7859,-154.3431 1193.1911,-154.3008 1195.4772,-160.917\"/>\n",
       "</g>\n",
       "<!-- 10 -->\n",
       "<g id=\"node11\" class=\"node\">\n",
       "<title>10</title>\n",
       "<path fill=\"transparent\" stroke=\"#000000\" d=\"M971,-53C971,-53 822,-53 822,-53 816,-53 810,-47 810,-41 810,-41 810,-12 810,-12 810,-6 816,0 822,0 822,0 971,0 971,0 977,0 983,-6 983,-12 983,-12 983,-41 983,-41 983,-47 977,-53 971,-53\"/>\n",
       "<text text-anchor=\"middle\" x=\"896.5\" y=\"-37.8\" font-family=\"Helvetica,sans-Serif\" font-size=\"14.00\" fill=\"#000000\">gini = 0.093</text>\n",
       "<text text-anchor=\"middle\" x=\"896.5\" y=\"-22.8\" font-family=\"Helvetica,sans-Serif\" font-size=\"14.00\" fill=\"#000000\">samples = 15246</text>\n",
       "<text text-anchor=\"middle\" x=\"896.5\" y=\"-7.8\" font-family=\"Helvetica,sans-Serif\" font-size=\"14.00\" fill=\"#000000\">value = [0.907, 0.85, 0.78]</text>\n",
       "</g>\n",
       "<!-- 9&#45;&gt;10 -->\n",
       "<g id=\"edge10\" class=\"edge\">\n",
       "<title>9&#45;&gt;10</title>\n",
       "<path fill=\"none\" stroke=\"#000000\" d=\"M959.3014,-88.9777C950.005,-79.7292 939.9386,-69.7147 930.6451,-60.4691\"/>\n",
       "<polygon fill=\"#000000\" stroke=\"#000000\" points=\"932.9449,-57.82 923.3871,-53.2485 928.0079,-62.7825 932.9449,-57.82\"/>\n",
       "</g>\n",
       "<!-- 11 -->\n",
       "<g id=\"node12\" class=\"node\">\n",
       "<title>11</title>\n",
       "<path fill=\"transparent\" stroke=\"#000000\" d=\"M1170,-53C1170,-53 1013,-53 1013,-53 1007,-53 1001,-47 1001,-41 1001,-41 1001,-12 1001,-12 1001,-6 1007,0 1013,0 1013,0 1170,0 1170,0 1176,0 1182,-6 1182,-12 1182,-12 1182,-41 1182,-41 1182,-47 1176,-53 1170,-53\"/>\n",
       "<text text-anchor=\"middle\" x=\"1091.5\" y=\"-37.8\" font-family=\"Helvetica,sans-Serif\" font-size=\"14.00\" fill=\"#000000\">gini = 0.07</text>\n",
       "<text text-anchor=\"middle\" x=\"1091.5\" y=\"-22.8\" font-family=\"Helvetica,sans-Serif\" font-size=\"14.00\" fill=\"#000000\">samples = 1035</text>\n",
       "<text text-anchor=\"middle\" x=\"1091.5\" y=\"-7.8\" font-family=\"Helvetica,sans-Serif\" font-size=\"14.00\" fill=\"#000000\">value = [0.928, 0.93, 0.859]</text>\n",
       "</g>\n",
       "<!-- 9&#45;&gt;11 -->\n",
       "<g id=\"edge11\" class=\"edge\">\n",
       "<title>9&#45;&gt;11</title>\n",
       "<path fill=\"none\" stroke=\"#000000\" d=\"M1028.0511,-88.9777C1037.4434,-79.7292 1047.6136,-69.7147 1057.0029,-60.4691\"/>\n",
       "<polygon fill=\"#000000\" stroke=\"#000000\" points=\"1059.6661,-62.7587 1064.3357,-53.2485 1054.7546,-57.7709 1059.6661,-62.7587\"/>\n",
       "</g>\n",
       "<!-- 13 -->\n",
       "<g id=\"node14\" class=\"node\">\n",
       "<title>13</title>\n",
       "<path fill=\"transparent\" stroke=\"#000000\" d=\"M1376.5,-53C1376.5,-53 1212.5,-53 1212.5,-53 1206.5,-53 1200.5,-47 1200.5,-41 1200.5,-41 1200.5,-12 1200.5,-12 1200.5,-6 1206.5,0 1212.5,0 1212.5,0 1376.5,0 1376.5,0 1382.5,0 1388.5,-6 1388.5,-12 1388.5,-12 1388.5,-41 1388.5,-41 1388.5,-47 1382.5,-53 1376.5,-53\"/>\n",
       "<text text-anchor=\"middle\" x=\"1294.5\" y=\"-37.8\" font-family=\"Helvetica,sans-Serif\" font-size=\"14.00\" fill=\"#000000\">gini = 0.037</text>\n",
       "<text text-anchor=\"middle\" x=\"1294.5\" y=\"-22.8\" font-family=\"Helvetica,sans-Serif\" font-size=\"14.00\" fill=\"#000000\">samples = 3807</text>\n",
       "<text text-anchor=\"middle\" x=\"1294.5\" y=\"-7.8\" font-family=\"Helvetica,sans-Serif\" font-size=\"14.00\" fill=\"#000000\">value = [0.963, 0.961, 0.872]</text>\n",
       "</g>\n",
       "<!-- 12&#45;&gt;13 -->\n",
       "<g id=\"edge13\" class=\"edge\">\n",
       "<title>12&#45;&gt;13</title>\n",
       "<path fill=\"none\" stroke=\"#000000\" d=\"M1294.5,-88.9777C1294.5,-80.7364 1294.5,-71.887 1294.5,-63.5153\"/>\n",
       "<polygon fill=\"#000000\" stroke=\"#000000\" points=\"1298.0001,-63.2484 1294.5,-53.2485 1291.0001,-63.2485 1298.0001,-63.2484\"/>\n",
       "</g>\n",
       "<!-- 14 -->\n",
       "<g id=\"node15\" class=\"node\">\n",
       "<title>14</title>\n",
       "<path fill=\"transparent\" stroke=\"#000000\" d=\"M1582.5,-53C1582.5,-53 1418.5,-53 1418.5,-53 1412.5,-53 1406.5,-47 1406.5,-41 1406.5,-41 1406.5,-12 1406.5,-12 1406.5,-6 1412.5,0 1418.5,0 1418.5,0 1582.5,0 1582.5,0 1588.5,0 1594.5,-6 1594.5,-12 1594.5,-12 1594.5,-41 1594.5,-41 1594.5,-47 1588.5,-53 1582.5,-53\"/>\n",
       "<text text-anchor=\"middle\" x=\"1500.5\" y=\"-37.8\" font-family=\"Helvetica,sans-Serif\" font-size=\"14.00\" fill=\"#000000\">gini = 0.009</text>\n",
       "<text text-anchor=\"middle\" x=\"1500.5\" y=\"-22.8\" font-family=\"Helvetica,sans-Serif\" font-size=\"14.00\" fill=\"#000000\">samples = 324</text>\n",
       "<text text-anchor=\"middle\" x=\"1500.5\" y=\"-7.8\" font-family=\"Helvetica,sans-Serif\" font-size=\"14.00\" fill=\"#000000\">value = [0.672, 0.727, 0.991]</text>\n",
       "</g>\n",
       "<!-- 12&#45;&gt;14 -->\n",
       "<g id=\"edge14\" class=\"edge\">\n",
       "<title>12&#45;&gt;14</title>\n",
       "<path fill=\"none\" stroke=\"#000000\" d=\"M1367.1279,-88.9777C1389.1225,-78.6744 1413.1463,-67.4205 1434.6693,-57.3381\"/>\n",
       "<polygon fill=\"#000000\" stroke=\"#000000\" points=\"1436.1563,-60.5066 1443.7272,-53.095 1433.1868,-54.1677 1436.1563,-60.5066\"/>\n",
       "</g>\n",
       "</g>\n",
       "</svg>\n"
      ],
      "text/plain": [
       "<graphviz.files.Source at 0x7f4f1cb86710>"
      ]
     },
     "execution_count": 35,
     "metadata": {},
     "output_type": "execute_result"
    }
   ],
   "source": [
    "dot_data = sklearn.tree.export_graphviz(magic_test_cm.model, out_file = None, filled=True, rounded=True)\n",
    "graph = graphviz.Source(dot_data)\n",
    "graph"
   ]
  },
  {
   "cell_type": "code",
   "execution_count": 83,
   "metadata": {
    "collapsed": true
   },
   "outputs": [],
   "source": [
    "#test every third database in adult_data\n",
    "import copy\n",
    "adult_data_test = []\n",
    "for i in range(len(adult_data)):\n",
    "    if i%3 == 0:\n",
    "        adult_data_test.append(copy.copy(adult_data[i]))\n",
    "default_data_test = []\n",
    "for i in range(len(default_data)):\n",
    "    if i%3 == 0:\n",
    "        default_data_test.append(copy.copy(default_data[i]))\n",
    "lending_data_test = []\n",
    "for i in range(len(lending_data)):\n",
    "    if i%3 == 0:\n",
    "        lending_data_test.append(copy.copy(lending_data[i]))\n",
    "magic_data_test = []\n",
    "for i in range(len(magic_data)):\n",
    "    if i%3 == 0:\n",
    "        magic_data_test.append(copy.copy(magic_data[i]))\n",
    "epsilons = [db.epsilon for db in lending_data_test]"
   ]
  },
  {
   "cell_type": "code",
   "execution_count": 37,
   "metadata": {},
   "outputs": [],
   "source": [
    "adult_errors = [adult_test_cm.get_errors(x, ratio=0.2) for x in adult_data_test]\n",
    "adult_errors = pd.concat(adult_errors)\n",
    "adult_errors = adult_errors.reset_index(drop=True)"
   ]
  },
  {
   "cell_type": "code",
   "execution_count": 40,
   "metadata": {},
   "outputs": [],
   "source": [
    "lending_errors = [lending_test_cm.get_errors(x, ratio=0.2) for x in lending_data_test]\n",
    "lending_errors = pd.concat(lending_errors)\n",
    "lending_errors = lending_errors.reset_index(drop=True)"
   ]
  },
  {
   "cell_type": "code",
   "execution_count": 42,
   "metadata": {},
   "outputs": [
    {
     "data": {
      "text/plain": [
       "0.1    0.314389\n",
       "1      0.349443\n",
       "10     0.417879\n",
       "cm     0.289928\n",
       "dtype: float64"
      ]
     },
     "execution_count": 42,
     "metadata": {},
     "output_type": "execute_result"
    }
   ],
   "source": [
    "default_errors = [default_test_cm.get_errors(x, ratio=0.2) for x in default_data_test]\n",
    "default_errors = pd.concat(default_errors, ignore_index=True)\n",
    "default_errors.mean(axis=0)"
   ]
  },
  {
   "cell_type": "code",
   "execution_count": 73,
   "metadata": {},
   "outputs": [
    {
     "data": {
      "text/plain": [
       "0.1    0.301445\n",
       "1      0.322730\n",
       "10     0.386158\n",
       "cm     0.297185\n",
       "dtype: float64"
      ]
     },
     "execution_count": 73,
     "metadata": {},
     "output_type": "execute_result"
    }
   ],
   "source": [
    "magic_errors = [magic_test_cm.get_errors(x, ratio=0.2) for x in magic_data_test]\n",
    "magic_errors = pd.concat(magic_errors, ignore_index=True)\n",
    "magic_errors.mean(axis=0)"
   ]
  },
  {
   "cell_type": "markdown",
   "metadata": {
    "collapsed": true
   },
   "source": [
    "### Kamalika's method"
   ]
  },
  {
   "cell_type": "code",
   "execution_count": 45,
   "metadata": {
    "collapsed": true
   },
   "outputs": [],
   "source": [
    "def get_dp_logistic_regression(X_train, y_train, X_test, y_test, \n",
    "                             epsilon, ratio, param_list):\n",
    "    train_eps = epsilon*ratio\n",
    "    validation_eps = epsilon-train_eps\n",
    "    #Begin validation\n",
    "    utils = []\n",
    "    for C in param_list:\n",
    "        model = DPLogisticRegression(train_eps, C=C, K=1.02, fit_intercept=True)\n",
    "        model.fit(X_train, y_train)\n",
    "        preds = model.predict(X_test)\n",
    "        score = (preds == y_test).sum() / y_test.size\n",
    "        beta = max(1.0/y_test.size, 1.0/y_train.size)\n",
    "        score += np.random.exponential(1/validation_eps)*beta*2\n",
    "        utils.append(score)\n",
    "    return np.array(utils).argmax()"
   ]
  },
  {
   "cell_type": "code",
   "execution_count": 74,
   "metadata": {
    "scrolled": true
   },
   "outputs": [],
   "source": [
    "def test_db_MRE(data_test, ratio=0.8, splits=5, do_private=True):\n",
    "    kf = model_selection.KFold(splits)\n",
    "    avgs = []\n",
    "    for db in data_test:\n",
    "        avg = 0\n",
    "        for train_idx, test_idx in kf.split(db.X):\n",
    "            X_val = db.X.iloc[test_idx]\n",
    "            y_val = db.y.iloc[test_idx]\n",
    "            X_train = db.X.iloc[train_idx]\n",
    "            y_train = db.y.iloc[train_idx]\n",
    "            X_ttrain, X_ttest, y_ttrain, y_ttest = model_selection.train_test_split(X_train, y_train, test_size=0.2)\n",
    "            if pd.Series.nunique(y_ttrain) == 1:\n",
    "                avg += 1.0\n",
    "                continue\n",
    "            if do_private:\n",
    "                eps = db.epsilon\n",
    "            else:\n",
    "                eps=100\n",
    "            idx = get_dp_logistic_regression(X_ttrain, y_ttrain, X_ttest, y_ttest, eps, ratio, C_list)\n",
    "            alg = DP(C_list[idx])\n",
    "            if do_private:\n",
    "                alg.model.set_epsilon(eps - (1-ratio)*eps)\n",
    "            else:\n",
    "                alg.model.set_epsilon(100)\n",
    "            alg.model.fit(X_ttrain, y_ttrain)\n",
    "            y_hat = alg.model.predict(X_val)\n",
    "            avg += (y_hat == y_val).sum() / y_val.size\n",
    "        avg /= splits\n",
    "        avgs.append(1.0-avg)\n",
    "    return np.array(avgs)"
   ]
  },
  {
   "cell_type": "code",
   "execution_count": 75,
   "metadata": {
    "collapsed": true
   },
   "outputs": [],
   "source": [
    "#Reset\n",
    "adult_perf = test_db_MRE(adult_data_test)\n",
    "lending_perf = test_db_MRE(lending_data_test)\n",
    "default_perf = test_db_MRE(default_data_test)\n",
    "magic_perf = test_db_MRE(magic_data_test)"
   ]
  },
  {
   "cell_type": "code",
   "execution_count": 86,
   "metadata": {
    "collapsed": true
   },
   "outputs": [],
   "source": [
    "adult_perf_non = test_db_MRE(adult_data_test, do_private=False)\n",
    "lending_perf_non = test_db_MRE(lending_data_test, do_private=False)\n",
    "default_perf_non = test_db_MRE(default_data_test, do_private=False)\n",
    "magic_perf_non = test_db_MRE(magic_data_test, do_private=False)"
   ]
  },
  {
   "cell_type": "code",
   "execution_count": 91,
   "metadata": {},
   "outputs": [],
   "source": [
    "adult_errors['Stability'] = adult_perf\n",
    "adult_errors['NonPrivate'] = adult_perf_non\n",
    "lending_errors['Stability'] = lending_perf\n",
    "lending_errors['NonPrivate'] = lending_perf_non\n",
    "default_errors['Stability'] = default_perf\n",
    "default_errors['NonPrivate'] = default_perf_non\n",
    "magic_errors['Stability'] = magic_perf\n",
    "magic_errors['NonPrivate'] = magic_perf_non"
   ]
  },
  {
   "cell_type": "code",
   "execution_count": 95,
   "metadata": {},
   "outputs": [],
   "source": [
    "adult_errors['eps'] = epsilons\n",
    "tst = adult_errors.groupby('eps').mean()"
   ]
  },
  {
   "cell_type": "code",
   "execution_count": 96,
   "metadata": {
    "scrolled": false
   },
   "outputs": [
    {
     "data": {
      "text/plain": [
       "[<matplotlib.lines.Line2D at 0x7f4f141f0cc0>,\n",
       " <matplotlib.lines.Line2D at 0x7f4f141f0860>,\n",
       " <matplotlib.lines.Line2D at 0x7f4f141f0fd0>,\n",
       " <matplotlib.lines.Line2D at 0x7f4f141fc630>,\n",
       " <matplotlib.lines.Line2D at 0x7f4f141fccc0>,\n",
       " <matplotlib.lines.Line2D at 0x7f4f1427b550>]"
      ]
     },
     "execution_count": 96,
     "metadata": {},
     "output_type": "execute_result"
    },
    {
     "data": {
      "image/png": "[encoded data removed]",
      "text/plain": [
       "<matplotlib.figure.Figure at 0x7f4f1561ed30>"
      ]
     },
     "metadata": {},
     "output_type": "display_data"
    }
   ],
   "source": [
    "plt.plot(tst)"
   ]
  },
  {
   "cell_type": "code",
   "execution_count": 97,
   "metadata": {},
   "outputs": [
    {
     "data": {
      "text/html": [
       "<div>\n",
       "<style>\n",
       "    .dataframe thead tr:only-child th {\n",
       "        text-align: right;\n",
       "    }\n",
       "\n",
       "    .dataframe thead th {\n",
       "        text-align: left;\n",
       "    }\n",
       "\n",
       "    .dataframe tbody tr th {\n",
       "        vertical-align: top;\n",
       "    }\n",
       "</style>\n",
       "<table border=\"1\" class=\"dataframe\">\n",
       "  <thead>\n",
       "    <tr style=\"text-align: right;\">\n",
       "      <th></th>\n",
       "      <th>0.1</th>\n",
       "      <th>1</th>\n",
       "      <th>10</th>\n",
       "      <th>cm</th>\n",
       "      <th>Stability</th>\n",
       "      <th>NonPrivate</th>\n",
       "    </tr>\n",
       "    <tr>\n",
       "      <th>eps</th>\n",
       "      <th></th>\n",
       "      <th></th>\n",
       "      <th></th>\n",
       "      <th></th>\n",
       "      <th></th>\n",
       "      <th></th>\n",
       "    </tr>\n",
       "  </thead>\n",
       "  <tbody>\n",
       "    <tr>\n",
       "      <th>0.1</th>\n",
       "      <td>0.325198</td>\n",
       "      <td>0.358765</td>\n",
       "      <td>0.425096</td>\n",
       "      <td>0.298705</td>\n",
       "      <td>0.367903</td>\n",
       "      <td>0.292244</td>\n",
       "    </tr>\n",
       "    <tr>\n",
       "      <th>0.2</th>\n",
       "      <td>0.309412</td>\n",
       "      <td>0.365105</td>\n",
       "      <td>0.429820</td>\n",
       "      <td>0.301302</td>\n",
       "      <td>0.356388</td>\n",
       "      <td>0.290209</td>\n",
       "    </tr>\n",
       "    <tr>\n",
       "      <th>0.4</th>\n",
       "      <td>0.307949</td>\n",
       "      <td>0.352879</td>\n",
       "      <td>0.426021</td>\n",
       "      <td>0.281517</td>\n",
       "      <td>0.335165</td>\n",
       "      <td>0.286862</td>\n",
       "    </tr>\n",
       "    <tr>\n",
       "      <th>0.8</th>\n",
       "      <td>0.316458</td>\n",
       "      <td>0.366967</td>\n",
       "      <td>0.421431</td>\n",
       "      <td>0.287937</td>\n",
       "      <td>0.320095</td>\n",
       "      <td>0.288651</td>\n",
       "    </tr>\n",
       "    <tr>\n",
       "      <th>1.6</th>\n",
       "      <td>0.313712</td>\n",
       "      <td>0.348245</td>\n",
       "      <td>0.409913</td>\n",
       "      <td>0.285122</td>\n",
       "      <td>0.306738</td>\n",
       "      <td>0.288286</td>\n",
       "    </tr>\n",
       "    <tr>\n",
       "      <th>3.2</th>\n",
       "      <td>0.316217</td>\n",
       "      <td>0.350719</td>\n",
       "      <td>0.414326</td>\n",
       "      <td>0.287956</td>\n",
       "      <td>0.300898</td>\n",
       "      <td>0.285243</td>\n",
       "    </tr>\n",
       "  </tbody>\n",
       "</table>\n",
       "</div>"
      ],
      "text/plain": [
       "          0.1         1        10        cm  Stability  NonPrivate\n",
       "eps                                                               \n",
       "0.1  0.325198  0.358765  0.425096  0.298705   0.367903    0.292244\n",
       "0.2  0.309412  0.365105  0.429820  0.301302   0.356388    0.290209\n",
       "0.4  0.307949  0.352879  0.426021  0.281517   0.335165    0.286862\n",
       "0.8  0.316458  0.366967  0.421431  0.287937   0.320095    0.288651\n",
       "1.6  0.313712  0.348245  0.409913  0.285122   0.306738    0.288286\n",
       "3.2  0.316217  0.350719  0.414326  0.287956   0.300898    0.285243"
      ]
     },
     "execution_count": 97,
     "metadata": {},
     "output_type": "execute_result"
    }
   ],
   "source": [
    "tst"
   ]
  },
  {
   "cell_type": "code",
   "execution_count": 100,
   "metadata": {},
   "outputs": [
    {
     "data": {
      "text/plain": [
       "array([ 0.32519794,  0.35876502,  0.4250963 ,  0.29870453,  0.36790329,\n",
       "        0.29224362,  0.30941193,  0.36510453,  0.42981975,  0.30130247,\n",
       "        0.35638807,  0.29020864,  0.30794856,  0.3528786 ,  0.4260214 ,\n",
       "        0.28151728,  0.33516543,  0.28686173,  0.31645844,  0.36696749,\n",
       "        0.42143128,  0.28793745,  0.32009465,  0.28865144,  0.31371193,\n",
       "        0.34824486,  0.40991276,  0.28512222,  0.30673786,  0.28828601,\n",
       "        0.31621687,  0.35071852,  0.41432593,  0.28795597,  0.30089794,\n",
       "        0.28524321])"
      ]
     },
     "execution_count": 100,
     "metadata": {},
     "output_type": "execute_result"
    }
   ],
   "source": [
    "x_pos = np.array([12*x + y for x in range(6) for y in range(6)])\n",
    "colors = ['red', 'blue', 'green']*3\n",
    "np.array(tst).flatten()"
   ]
  },
  {
   "cell_type": "code",
   "execution_count": 101,
   "metadata": {},
   "outputs": [
    {
     "data": {
      "text/plain": [
       "<Container object of 36 artists>"
      ]
     },
     "execution_count": 101,
     "metadata": {},
     "output_type": "execute_result"
    },
    {
     "data": {
      "image/png": "[encoded data removed]",
      "text/plain": [
       "<matplotlib.figure.Figure at 0x7f4f143a40b8>"
      ]
     },
     "metadata": {},
     "output_type": "display_data"
    }
   ],
   "source": [
    "fig, axis = plt.subplots()\n",
    "axis.bar(x_pos, np.array(tst).flatten(), color=colors)"
   ]
  },
  {
   "cell_type": "code",
   "execution_count": null,
   "metadata": {
    "collapsed": true
   },
   "outputs": [],
   "source": []
  }
 ],
 "metadata": {
  "kernelspec": {
   "display_name": "Python 3",
   "language": "python",
   "name": "python3"
  },
  "language_info": {
   "codemirror_mode": {
    "name": "ipython",
    "version": 3
   },
   "file_extension": ".py",
   "mimetype": "text/x-python",
   "name": "python",
   "nbconvert_exporter": "python",
   "pygments_lexer": "ipython3",
   "version": "3.6.3"
  }
 },
 "nbformat": 4,
 "nbformat_minor": 2
}
