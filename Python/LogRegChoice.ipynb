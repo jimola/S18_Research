{
 "cells": [
  {
   "cell_type": "code",
   "execution_count": 1,
   "metadata": {
    "collapsed": true
   },
   "outputs": [],
   "source": [
    "import sklearn\n",
    "from sklearn import model_selection, feature_selection\n",
    "from sklearn.preprocessing import LabelEncoder\n",
    "import matplotlib.pyplot as plt\n",
    "import numpy as np\n",
    "import pandas as pd\n",
    "from log_regression import test, DPLogisticRegression\n",
    "from ChoiceMaker import ChoiceMaker, DTChoice\n",
    "import graphviz\n",
    "import seaborn as sns\n",
    "import copy\n",
    "%matplotlib inline"
   ]
  },
  {
   "cell_type": "code",
   "execution_count": 2,
   "metadata": {
    "collapsed": true
   },
   "outputs": [],
   "source": [
    "import pickle\n",
    "\"\"\"Method for loading or running a function (if it doesn't exist) located in the metadata folder\"\"\"\n",
    "def load_or_run(name, f):\n",
    "    name = 'log_regression_metadata/' + name\n",
    "    try:\n",
    "        r = pickle.load(open(name, 'rb'))\n",
    "    except:\n",
    "        r = f()\n",
    "        pickle.dump(r, open(name, 'wb'))\n",
    "    return r"
   ]
  },
  {
   "cell_type": "markdown",
   "metadata": {},
   "source": [
    "### Data Generation Methods"
   ]
  },
  {
   "cell_type": "code",
   "execution_count": 3,
   "metadata": {
    "collapsed": true
   },
   "outputs": [],
   "source": [
    "#train_set\n",
    "#def gen_binary_data(domain, nrow, seed):\n",
    "ncol = 7\n",
    "nrow = 1000\n",
    "seed=12345\n",
    "y_ratio=0.4\n",
    "def gen_data(low, high, ncol, nrow, y_ratio, seed=12345, prng=None):\n",
    "    \"\"\"Generates an array containing a binary output and inputs drawn \n",
    "    from Gaussians. The output is the last column of the array\n",
    "    and the inputs are the other columns. The inputs are conditionally\n",
    "    independent of each other given the output. Thus, input at column i\n",
    "    for output value j are drawn from a normal with mean mu_ij and \n",
    "    sigma_ij. Furthermore, we force sigma_ij = sigma_i with no dependence\n",
    "    on j because this assumption allows us to derive logistic regression\n",
    "    as the best fitting algorithm. We draw sigma_i and mu_ij randomly.\n",
    "    We ensure sigma_i is at most one-quarter of high-low to ensure the\n",
    "    Gaussian will mostly fit in the [low, high] interval.\n",
    "    \n",
    "    Parameters\n",
    "    ----------\n",
    "\n",
    "    low: lower bound on an input value\n",
    "    \n",
    "    high: upper bound on an input value\n",
    "    \n",
    "    ncol: number of inputs of the dataset\n",
    "    \n",
    "    nrow: number of rows in the dataset\n",
    "    \n",
    "    y_ratio: fraction of rows that take value 0 on the output column\n",
    "    \n",
    "    seed: seed value to use. Default: 12345\n",
    "    \n",
    "    prng: random number generator. One of seed or prng must not be None. \n",
    "    \"\"\"\n",
    "    if(prng == None):\n",
    "        prng = np.random.RandomState(seed)\n",
    "    sigmas = prng.uniform(0, (high-low)/6, ncol)\n",
    "    s1 = int(y_ratio*nrow)\n",
    "    s2 = nrow-s1\n",
    "    def gen_col(sigma, sz):\n",
    "        mu = prng.uniform(low+3*sigma, high-3*sigma)\n",
    "        ans = prng.normal(mu, sigma, sz)\n",
    "        c = (ans < low).sum()\n",
    "        while(c > 0):\n",
    "            ans[ans < low] = prng.normal(mu, sigma, c)\n",
    "            c = (ans < low).sum()\n",
    "        c = (ans > high).sum()\n",
    "        while(c > 0):\n",
    "            ans[ans > high] = prng.normal(mu, sigma, c)\n",
    "            c = (ans > high).sum()\n",
    "        return ans\n",
    "    P1 = np.array([gen_col(s, s1) for s in sigmas] + [np.zeros(s1)]).T\n",
    "    P2 = np.array([gen_col(s, s2) for s in sigmas] + [np.ones(s2)]).T\n",
    "    A = np.concatenate((P1, P2))\n",
    "    return A[np.random.permutation(len(A))]"
   ]
  },
  {
   "cell_type": "code",
   "execution_count": 4,
   "metadata": {
    "collapsed": true
   },
   "outputs": [],
   "source": [
    "def reshape_dset(db, ncol, nrow, y_ratio, seed=12345, prng=None):\n",
    "    \"\"\"Rescales an input database to the desired parameters.\n",
    "    Parameters\n",
    "    ----------\n",
    "    db: Input array. We assume last row is the output row.\n",
    "        The output row must be binary.\n",
    "        \n",
    "    ncol: Desired number of columns in output.\n",
    "    \n",
    "    nrow: Desired number of rows.\n",
    "    \n",
    "    y_ratio: Desired percentage of class 2 in the output\n",
    "    \n",
    "    seed: seed value to use. Default: 12345\n",
    "    \n",
    "    prng: random number generator. One of seed or prng must not be None. \n",
    "    \"\"\"\n",
    "    if(prng == None):\n",
    "        prng = np.random.RandomState(seed)\n",
    "    ys = db[db.columns[-1]]\n",
    "    v1, v2 = ys.unique()[:2]\n",
    "    Z1 = db[ys == v1]\n",
    "    s1 = int(y_ratio*nrow)\n",
    "    Z2 = db[ys == v2]\n",
    "    s2 = nrow - s1\n",
    "    def reshape(Z, nrow):\n",
    "        db = pd.DataFrame()\n",
    "        while db.shape[0] + Z.shape[0] < nrow:\n",
    "            db = pd.concat((db, Z), ignore_index=True)\n",
    "        return pd.concat((db, Z.sample(nrow - db.shape[0])), ignore_index=True)\n",
    "    db = pd.concat((reshape(Z1, s1), reshape(Z2, s2)), ignore_index=True)\n",
    "    db_x = db[db.columns[:-1]]\n",
    "    ys = db[db.columns[-1]]\n",
    "    db = pd.DataFrame()\n",
    "    while db.shape[1] + db_x.shape[1] < ncol:\n",
    "        db = pd.concat((db, db_x), axis=1, ignore_index=True)\n",
    "    rand_cols = np.random.choice(db_x.columns, ncol-db.shape[1], replace=False)\n",
    "    return pd.concat((db, db_x[rand_cols], ys), axis=1, ignore_index=True)"
   ]
  },
  {
   "cell_type": "markdown",
   "metadata": {},
   "source": [
    "### ChoiceMaker Classes"
   ]
  },
  {
   "cell_type": "code",
   "execution_count": 45,
   "metadata": {
    "collapsed": true
   },
   "outputs": [],
   "source": [
    "#TODO: Change this to sklearn.model_selection.KFold\n",
    "def manual_CV(db, parts, clf):\n",
    "    \"\"\"Does cross-validation on the dataframe.\"\"\"\n",
    "    kf = model_selection.KFold(parts)\n",
    "    arr = []\n",
    "    for train_idx, test_idx in kf.split(db.X):\n",
    "        X_test = db.X.iloc[test_idx]\n",
    "        y_test = db.y.iloc[test_idx]\n",
    "        X_train = db.X.iloc[train_idx]\n",
    "        y_train = db.y.iloc[train_idx]\n",
    "        #Have to fix case when only one class exists\n",
    "        if len(np.unique(y_train)) == 1:\n",
    "            score = (y_train == y_train.iloc[0]).sum() / len(y_train)\n",
    "            arr.append(score)\n",
    "        else:\n",
    "            clf.fit(X_train, y_train)\n",
    "            arr.append(clf.score(X_test, y_test))\n",
    "    return np.array(arr)"
   ]
  },
  {
   "cell_type": "code",
   "execution_count": 62,
   "metadata": {
    "collapsed": true
   },
   "outputs": [],
   "source": [
    "#alg_list\n",
    "class DP:\n",
    "    def __init__(self, C):\n",
    "        self.name = str(C)\n",
    "        self.model = DPLogisticRegression(0.1, C=C, K=1.02, fit_intercept=True)\n",
    "    def error(self, db):\n",
    "        A = manual_CV(db, 5, self.model)\n",
    "        return 1.0-A.mean()\n",
    "    def run(self, db):\n",
    "        self.model.set_epsilon(db.epsilon)\n",
    "        return self.model.fit(db.X, db.y)\n",
    "\n",
    "class DPEither:\n",
    "    def __init__(self, C1, C2):\n",
    "        self.name = 'Either'\n",
    "        self.DP1 = DP(C1)\n",
    "        self.DP2 = DP(C2)\n",
    "    def error(self, db):\n",
    "        if np.random.randint(3) == 1:\n",
    "            A = self.DP1.error(db)\n",
    "        else:\n",
    "            A = self.DP2.error(db)\n",
    "        return 1.0-A.mean()\n",
    "    def run(self, db):\n",
    "        if np.random.randint(3) == 1:\n",
    "            return self.DP1.run(db)\n",
    "        else:\n",
    "            return self.DP2.run(db)"
   ]
  },
  {
   "cell_type": "code",
   "execution_count": 7,
   "metadata": {
    "collapsed": true
   },
   "outputs": [],
   "source": [
    "class DB:\n",
    "    def __init__(self, X, y, epsilon=1):\n",
    "        self.epsilon = epsilon\n",
    "        self.ncol = X.shape[1]\n",
    "        self.X = pd.get_dummies(X)\n",
    "        self.y = y"
   ]
  },
  {
   "cell_type": "code",
   "execution_count": 8,
   "metadata": {
    "collapsed": true
   },
   "outputs": [],
   "source": [
    "class DBMetafeatures:\n",
    "    def __init__(self):\n",
    "        self.sensitivities = {'nrow': 0, 'ncol': 0, 'eps': 0, 'numy': 1}\n",
    "    \n",
    "    def __call__(self, dataset):\n",
    "        return {'nrow': dataset.X.shape[0], \n",
    "                'ncol': dataset.ncol,\n",
    "                'eps': dataset.epsilon, \n",
    "                'numy': dataset.y.sum()}"
   ]
  },
  {
   "cell_type": "code",
   "execution_count": 9,
   "metadata": {
    "collapsed": true
   },
   "outputs": [],
   "source": [
    "#Generating Tset methods\n",
    "def gen_tset_size_range(eps_vals, col_vals, row_vals, ratios, reps=3, db=None, prng=None):\n",
    "    \"\"\"Generates a database for each member of the cross product of the arguments\n",
    "    \n",
    "    Params:\n",
    "    db: \"Real database\" to perform surgery on. If None, then synthetic database.\n",
    "    \"\"\"\n",
    "    for c in col_vals:\n",
    "        for r in row_vals:\n",
    "            for e in eps_vals:\n",
    "                for ratio in ratios:\n",
    "                    for x in range(0, reps):\n",
    "                        if db is None:\n",
    "                            G = pd.DataFrame(gen_data(low=0, high=1, ncol=c, nrow=r, y_ratio=ratio, prng=prng))\n",
    "                        else:\n",
    "                            G = reshape_dset(db, ncol=c, nrow=r, y_ratio=ratio, prng=prng)\n",
    "                        last_name = G.columns[-1]\n",
    "                        yield DB(G.drop([last_name], axis=1), G[last_name], e)\n",
    "            \n",
    "#G = gen_tset_size_range(4, [0.2, 0.4, 0.6, 0.8, 1.0], np.arange(20, 200, 20))"
   ]
  },
  {
   "cell_type": "markdown",
   "metadata": {},
   "source": [
    "### Adult Dataset Preprocessing"
   ]
  },
  {
   "cell_type": "code",
   "execution_count": 10,
   "metadata": {
    "collapsed": true
   },
   "outputs": [],
   "source": [
    "adult = pd.read_csv('data/adult.data', header=None)\n",
    "adult = adult.rename(columns = {0: 'age', 1: 'workclass', 2: 'fnlwgt', 3: 'education', \n",
    "                                4: 'education_num', 5: 'marital_status', 6: 'occupation',\n",
    "                                7: 'relationship', 8: 'race', 9: 'sex', 10: 'captial_gain',\n",
    "                                11: 'captial_loss', 12: 'hours-per-week', 13: 'native_country', 14: 'TARGET'})\n",
    "adult = adult.drop('education', axis=1)"
   ]
  },
  {
   "cell_type": "code",
   "execution_count": 11,
   "metadata": {
    "collapsed": true
   },
   "outputs": [],
   "source": [
    "le = LabelEncoder()\n",
    "adult['TARGET'] = le.fit_transform(adult['TARGET'])"
   ]
  },
  {
   "cell_type": "code",
   "execution_count": 12,
   "metadata": {
    "collapsed": true,
    "scrolled": true
   },
   "outputs": [],
   "source": [
    "#adult_cm = load_or_run('adult_cm.p', lambda: DTChoice(adult_data, DBMetafeatures(), {a.name: a for a in alg_list}, reps=1))"
   ]
  },
  {
   "cell_type": "markdown",
   "metadata": {},
   "source": [
    "### Credit Default Dataset Preprocessing"
   ]
  },
  {
   "cell_type": "code",
   "execution_count": 13,
   "metadata": {
    "collapsed": true
   },
   "outputs": [],
   "source": [
    "default = pd.read_csv('data/application_train.csv')\n",
    "default['TARGET'] = le.fit_transform(default['TARGET'])"
   ]
  },
  {
   "cell_type": "code",
   "execution_count": 14,
   "metadata": {
    "collapsed": true
   },
   "outputs": [],
   "source": [
    "#C = default.corr()\n",
    "#default = default[abs(C['TARGET']).sort_values().index[-30:]].sample(10000)"
   ]
  },
  {
   "cell_type": "code",
   "execution_count": 15,
   "metadata": {
    "collapsed": true
   },
   "outputs": [],
   "source": [
    "#For simplicity, get rid of all columns with missing data\n",
    "default = default[default.columns[default.notnull().all()]].sample(10000)"
   ]
  },
  {
   "cell_type": "code",
   "execution_count": 16,
   "metadata": {
    "collapsed": true
   },
   "outputs": [],
   "source": [
    "#Put target at end\n",
    "new_cols = list(default.columns)\n",
    "new_cols[1] = new_cols[-1]\n",
    "new_cols[-1] = 'TARGET'\n",
    "default = default[new_cols]"
   ]
  },
  {
   "cell_type": "code",
   "execution_count": 17,
   "metadata": {
    "collapsed": true,
    "scrolled": true
   },
   "outputs": [],
   "source": [
    "#default_cm = load_or_run('default_cm.p', lambda: DTChoice(default_data, DBMetafeatures(), {a.name: a for a in alg_list}, reps=1))"
   ]
  },
  {
   "cell_type": "markdown",
   "metadata": {},
   "source": [
    "### Lending Dataset Preprocessing"
   ]
  },
  {
   "cell_type": "code",
   "execution_count": 18,
   "metadata": {
    "collapsed": true
   },
   "outputs": [],
   "source": [
    "lending = pd.read_csv('data/fam_credit_ss.csv')"
   ]
  },
  {
   "cell_type": "code",
   "execution_count": 19,
   "metadata": {
    "collapsed": true
   },
   "outputs": [],
   "source": [
    "#Swap first and last column\n",
    "L = list(lending.columns)\n",
    "L[0] = L[-1]\n",
    "L[-1] = 'credit_card'\n",
    "lending = lending[L]"
   ]
  },
  {
   "cell_type": "code",
   "execution_count": 20,
   "metadata": {},
   "outputs": [
    {
     "data": {
      "text/plain": [
       "social_security       4\n",
       "stud_loan             4\n",
       "medical_exp           4\n",
       "income             5963\n",
       "marital_status        6\n",
       "auto_insurance      712\n",
       "children             10\n",
       "age                  85\n",
       "gender                2\n",
       "housing               3\n",
       "health_status         7\n",
       "work_hours           93\n",
       "credit_card           2\n",
       "dtype: int64"
      ]
     },
     "execution_count": 20,
     "metadata": {},
     "output_type": "execute_result"
    }
   ],
   "source": [
    "#Some columns should be changed to object\n",
    "lending.select_dtypes(['int64']).apply(pd.Series.nunique)"
   ]
  },
  {
   "cell_type": "code",
   "execution_count": 21,
   "metadata": {
    "collapsed": true
   },
   "outputs": [],
   "source": [
    "unordered_cols = ['social_security', 'stud_loan', 'medical_exp', 'marital_status', 'housing', 'health_status']\n",
    "lending[unordered_cols] = lending[unordered_cols].astype('object')"
   ]
  },
  {
   "cell_type": "code",
   "execution_count": 22,
   "metadata": {
    "collapsed": true,
    "scrolled": true
   },
   "outputs": [],
   "source": [
    "#lending_cm = load_or_run('lending_cm.p', lambda: DTChoice(lending_data, DBMetafeatures(), {a.name: a for a in alg_list}, reps=1))"
   ]
  },
  {
   "cell_type": "markdown",
   "metadata": {},
   "source": [
    "### Data analysis"
   ]
  },
  {
   "cell_type": "code",
   "execution_count": 63,
   "metadata": {
    "collapsed": true
   },
   "outputs": [],
   "source": [
    "prng = np.random.RandomState(12345)\n",
    "eps_vals = [0.1, 0.2, 0.4, 0.8, 1.6, 3.2]\n",
    "col_vals = np.arange(2, 20, 2)\n",
    "row_vals = [20, 40, 100, 150, 300, 600, 1000, 2000, 3000]\n",
    "ratios = [0.15, 0.3, 0.5, 0.7, 0.85]\n",
    "num_reps = 3\n",
    "alg_list = [DP(C=x) for x in [0.1, 2]]\n",
    "def split_db(db, prng=None):\n",
    "    return gen_tset_size_range(eps_vals, col_vals, row_vals, ratios, num_reps, db, prng)"
   ]
  },
  {
   "cell_type": "code",
   "execution_count": null,
   "metadata": {
    "scrolled": true
   },
   "outputs": [],
   "source": [
    "#Database Generation:\n",
    "#Unfortunately, these have to be lists, not generators\n",
    "adult_data = list(split_db(adult, prng))\n",
    "default_data = list(split_db(default, prng))\n",
    "lending_data = list(split_db(lending, prng))"
   ]
  },
  {
   "cell_type": "code",
   "execution_count": 64,
   "metadata": {
    "scrolled": true
   },
   "outputs": [
    {
     "name": "stderr",
     "output_type": "stream",
     "text": [
      "Process ForkPoolWorker-28:\n",
      "Process ForkPoolWorker-30:\n",
      "Process ForkPoolWorker-29:\n",
      "Traceback (most recent call last):\n",
      "Traceback (most recent call last):\n",
      "Traceback (most recent call last):\n",
      "  File \"/home/jacob/anaconda3/lib/python3.6/multiprocessing/process.py\", line 258, in _bootstrap\n",
      "    self.run()\n",
      "  File \"/home/jacob/anaconda3/lib/python3.6/multiprocessing/process.py\", line 258, in _bootstrap\n",
      "    self.run()\n",
      "  File \"/home/jacob/anaconda3/lib/python3.6/multiprocessing/process.py\", line 93, in run\n",
      "    self._target(*self._args, **self._kwargs)\n",
      "  File \"/home/jacob/anaconda3/lib/python3.6/multiprocessing/process.py\", line 93, in run\n",
      "    self._target(*self._args, **self._kwargs)\n",
      "  File \"/home/jacob/anaconda3/lib/python3.6/multiprocessing/pool.py\", line 108, in worker\n",
      "    task = get()\n",
      "  File \"/home/jacob/anaconda3/lib/python3.6/multiprocessing/process.py\", line 258, in _bootstrap\n",
      "    self.run()\n",
      "  File \"/home/jacob/anaconda3/lib/python3.6/multiprocessing/pool.py\", line 108, in worker\n",
      "    task = get()\n",
      "  File \"/home/jacob/anaconda3/lib/python3.6/multiprocessing/queues.py\", line 334, in get\n",
      "    with self._rlock:\n",
      "  File \"/home/jacob/anaconda3/lib/python3.6/multiprocessing/process.py\", line 93, in run\n",
      "    self._target(*self._args, **self._kwargs)\n",
      "  File \"/home/jacob/anaconda3/lib/python3.6/multiprocessing/synchronize.py\", line 96, in __enter__\n",
      "    return self._semlock.__enter__()\n",
      "  File \"/home/jacob/anaconda3/lib/python3.6/multiprocessing/queues.py\", line 334, in get\n",
      "    with self._rlock:\n",
      "  File \"/home/jacob/anaconda3/lib/python3.6/multiprocessing/pool.py\", line 108, in worker\n",
      "    task = get()\n",
      "KeyboardInterrupt\n",
      "  File \"/home/jacob/anaconda3/lib/python3.6/multiprocessing/synchronize.py\", line 96, in __enter__\n",
      "    return self._semlock.__enter__()\n",
      "KeyboardInterrupt\n",
      "  File \"/home/jacob/anaconda3/lib/python3.6/multiprocessing/queues.py\", line 335, in get\n",
      "    res = self._reader.recv_bytes()\n",
      "  File \"/home/jacob/anaconda3/lib/python3.6/multiprocessing/connection.py\", line 216, in recv_bytes\n",
      "    buf = self._recv_bytes(maxlength)\n",
      "  File \"/home/jacob/anaconda3/lib/python3.6/multiprocessing/connection.py\", line 407, in _recv_bytes\n",
      "    buf = self._recv(4)\n",
      "  File \"/home/jacob/anaconda3/lib/python3.6/multiprocessing/connection.py\", line 379, in _recv\n",
      "    chunk = read(handle, remaining)\n",
      "KeyboardInterrupt\n"
     ]
    }
   ],
   "source": [
    "def get_cm(db):\n",
    "    return DTChoice(db, DBMetafeatures(), {a.name: a for a in alg_list}, reps=1)\n",
    "from multiprocessing import Pool\n",
    "pool = Pool(processes=3)\n",
    "cms = pool.map(get_cm, [adult_data, default_data, lending_data])"
   ]
  },
  {
   "cell_type": "code",
   "execution_count": 65,
   "metadata": {
    "collapsed": true
   },
   "outputs": [],
   "source": [
    "adult_cm = cms[0]\n",
    "default_cm = cms[1]\n",
    "lending_cm = cms[2]"
   ]
  },
  {
   "cell_type": "code",
   "execution_count": 185,
   "metadata": {},
   "outputs": [
    {
     "data": {
      "text/plain": [
       "0.79876543209876538"
      ]
     },
     "execution_count": 185,
     "metadata": {},
     "output_type": "execute_result"
    }
   ],
   "source": [
    "adult_cm.model.score(lending_cm.X, lending_cm.y.idxmin(axis=1))"
   ]
  },
  {
   "cell_type": "code",
   "execution_count": 186,
   "metadata": {},
   "outputs": [
    {
     "data": {
      "text/plain": [
       "0.28885048010973935"
      ]
     },
     "execution_count": 186,
     "metadata": {},
     "output_type": "execute_result"
    }
   ],
   "source": [
    "lending_cm.y.lookup(lending_cm.y.index, adult_cm.model.predict(lending_cm.X)).mean()"
   ]
  },
  {
   "cell_type": "code",
   "execution_count": 189,
   "metadata": {},
   "outputs": [
    {
     "data": {
      "text/plain": [
       "0.1    0.315192\n",
       "2      0.370752\n",
       "dtype: float64"
      ]
     },
     "execution_count": 189,
     "metadata": {},
     "output_type": "execute_result"
    }
   ],
   "source": [
    "lending_cm.y.mean(axis=0)\n",
    "#This does better assuming we don't spend any budget."
   ]
  },
  {
   "cell_type": "code",
   "execution_count": null,
   "metadata": {},
   "outputs": [],
   "source": [
    "L = [adult_cm.get_regret(x) for x in lending_data]\n",
    "lending_pred_regrets = pd.concat(L, ignore_index=True)"
   ]
  },
  {
   "cell_type": "code",
   "execution_count": 146,
   "metadata": {},
   "outputs": [
    {
     "data": {
      "text/plain": [
       "0.1    0.065242\n",
       "2      0.120399\n",
       "cm     0.069100\n",
       "dtype: float64"
      ]
     },
     "execution_count": 146,
     "metadata": {},
     "output_type": "execute_result"
    }
   ],
   "source": [
    "#This is the real test where we set ratio=0.2. It performs slightly worse :/\n",
    "lending_pred_regrets.mean()"
   ]
  },
  {
   "cell_type": "code",
   "execution_count": 193,
   "metadata": {},
   "outputs": [
    {
     "ename": "AttributeError",
     "evalue": "module 'pandas' has no attribute 'conct'",
     "output_type": "error",
     "traceback": [
      "\u001b[0;31m---------------------------------------------------------------------------\u001b[0m",
      "\u001b[0;31mAttributeError\u001b[0m                            Traceback (most recent call last)",
      "\u001b[0;32m<ipython-input-193-0cde2ca8995d>\u001b[0m in \u001b[0;36m<module>\u001b[0;34m()\u001b[0m\n\u001b[1;32m      1\u001b[0m \u001b[0mL\u001b[0m \u001b[0;34m=\u001b[0m \u001b[0;34m[\u001b[0m\u001b[0madult_cm\u001b[0m\u001b[0;34m.\u001b[0m\u001b[0mget_regret\u001b[0m\u001b[0;34m(\u001b[0m\u001b[0mx\u001b[0m\u001b[0;34m,\u001b[0m \u001b[0mratio\u001b[0m\u001b[0;34m=\u001b[0m\u001b[0;36m0.01\u001b[0m\u001b[0;34m)\u001b[0m \u001b[0;32mfor\u001b[0m \u001b[0mx\u001b[0m \u001b[0;32min\u001b[0m \u001b[0mlending_data\u001b[0m\u001b[0;34m]\u001b[0m\u001b[0;34m\u001b[0m\u001b[0m\n\u001b[0;32m----> 2\u001b[0;31m \u001b[0mlending_pred_regrets_ideal\u001b[0m \u001b[0;34m=\u001b[0m \u001b[0mpd\u001b[0m\u001b[0;34m.\u001b[0m\u001b[0mconct\u001b[0m\u001b[0;34m(\u001b[0m\u001b[0mL\u001b[0m\u001b[0;34m,\u001b[0m \u001b[0mignore_index\u001b[0m\u001b[0;34m=\u001b[0m\u001b[0;32mTrue\u001b[0m\u001b[0;34m)\u001b[0m\u001b[0;34m\u001b[0m\u001b[0m\n\u001b[0m",
      "\u001b[0;31mAttributeError\u001b[0m: module 'pandas' has no attribute 'conct'"
     ]
    }
   ],
   "source": [
    "L = [adult_cm.get_regret(x, ratio=0.01) for x in lending_data]"
   ]
  },
  {
   "cell_type": "code",
   "execution_count": 194,
   "metadata": {
    "collapsed": true
   },
   "outputs": [],
   "source": [
    "lending_pred_regrets_ideal = pd.concat(L, ignore_index=True)"
   ]
  },
  {
   "cell_type": "code",
   "execution_count": 195,
   "metadata": {},
   "outputs": [
    {
     "data": {
      "text/plain": [
       "0.1    0.061813\n",
       "2      0.117851\n",
       "cm     0.070892\n",
       "dtype: float64"
      ]
     },
     "execution_count": 195,
     "metadata": {},
     "output_type": "execute_result"
    }
   ],
   "source": [
    "lending_pred_regrets_ideal.mean()"
   ]
  },
  {
   "cell_type": "code",
   "execution_count": 66,
   "metadata": {
    "collapsed": true
   },
   "outputs": [],
   "source": [
    "#Experiment 1: Test the adult data and the lending data's prediction power on default data.\n",
    "#Trials are cached within lending and adult data\n",
    "default_test_cm = DTChoice(adult_data + lending_data, DBMetafeatures(), \n",
    "                       {a.name: a for a in alg_list}, 1,\n",
    "                       pd.concat((adult_cm.y, lending_cm.y), ignore_index=True))\n",
    "\n",
    "adult_test_cm = DTChoice(default_data + lending_data, DBMetafeatures(), \n",
    "                       {a.name: a for a in alg_list}, 1,\n",
    "                       pd.concat((default_cm.y, lending_cm.y), ignore_index=True))\n",
    "\n",
    "lending_test_cm = DTChoice(adult_data + default_data, DBMetafeatures(), \n",
    "                       {a.name: a for a in alg_list}, 1,\n",
    "                       pd.concat((adult_cm.y, default_cm.y), ignore_index=True))"
   ]
  },
  {
   "cell_type": "code",
   "execution_count": 208,
   "metadata": {
    "collapsed": true
   },
   "outputs": [],
   "source": [
    "#This may end up improving our result\n",
    "class DBMetafeatures:\n",
    "    def __init__(self):\n",
    "        A = {'nrow': 0, 'ncol': 0, 'eps': 0, 'numy': 1}\n",
    "        B = A.copy()\n",
    "        for a, b in A.items():\n",
    "            start = False\n",
    "            for c, d in A.items():\n",
    "                if start:\n",
    "                    B[a + '*' + c] = max(b, d)\n",
    "                    B[a + '/' + c] = max(b, d)\n",
    "                if a == c:\n",
    "                    start = True\n",
    "        self.sensitivities = B\n",
    "    def __call__(self, dataset):\n",
    "        A = {'nrow': dataset.X.shape[0], \n",
    "                'ncol': dataset.ncol,\n",
    "                'eps': dataset.epsilon, \n",
    "                'numy': dataset.y.sum()}\n",
    "        B = A.copy()\n",
    "        for a, b in A.items():\n",
    "            start = False\n",
    "            for c, d in A.items():\n",
    "                if start:\n",
    "                    B[a + '*' + c] = b*d\n",
    "                    B[a + '/' + c] = b/d\n",
    "                if a == c:\n",
    "                    start = True\n",
    "        return B"
   ]
  },
  {
   "cell_type": "code",
   "execution_count": 184,
   "metadata": {
    "scrolled": false
   },
   "outputs": [
    {
     "name": "stderr",
     "output_type": "stream",
     "text": [
      "IOPub data rate exceeded.\n",
      "The notebook server will temporarily stop sending output\n",
      "to the client in order to avoid crashing it.\n",
      "To change this limit, set the config variable\n",
      "`--NotebookApp.iopub_data_rate_limit`.\n"
     ]
    }
   ],
   "source": [
    "dot_data = sklearn.tree.export_graphviz(adult_cm.model, out_file = None, filled=True, rounded=True)\n",
    "graph = graphviz.Source(dot_data)\n",
    "graph"
   ]
  },
  {
   "cell_type": "markdown",
   "metadata": {
    "collapsed": true
   },
   "source": [
    "### Synthetic database"
   ]
  },
  {
   "cell_type": "code",
   "execution_count": 23,
   "metadata": {
    "collapsed": true
   },
   "outputs": [],
   "source": [
    "#cm = DTChoice(train_set, DBMetafeatures(), {a.name: a for a in alg_list}, reps=1)"
   ]
  },
  {
   "cell_type": "code",
   "execution_count": null,
   "metadata": {
    "collapsed": true
   },
   "outputs": [],
   "source": []
  }
 ],
 "metadata": {
  "kernelspec": {
   "display_name": "Python 3",
   "language": "python",
   "name": "python3"
  },
  "language_info": {
   "codemirror_mode": {
    "name": "ipython",
    "version": 3
   },
   "file_extension": ".py",
   "mimetype": "text/x-python",
   "name": "python",
   "nbconvert_exporter": "python",
   "pygments_lexer": "ipython3",
   "version": "3.6.3"
  }
 },
 "nbformat": 4,
 "nbformat_minor": 2
}
