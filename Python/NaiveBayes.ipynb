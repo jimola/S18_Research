{
 "cells": [
  {
   "cell_type": "code",
   "execution_count": 1,
   "metadata": {
    "collapsed": true
   },
   "outputs": [],
   "source": [
    "import sys, os\n",
    "sys.path = ['./scikit-learn/build/lib.linux-x86_64-3.6/', './pythia/', './pythia/codepak/cutils/'] + sys.path\n",
    "os.environ['DPCOMP_CORE'] = './dpcomp_core'\n",
    "\n",
    "from sklearn import model_selection, feature_selection\n",
    "from sklearn.tree import DecisionTreeClassifier, export_graphviz\n",
    "from sklearn.preprocessing import LabelEncoder\n",
    "import matplotlib.pyplot as plt\n",
    "import numpy as np\n",
    "import pandas as pd\n",
    "from log_regression import test, DPLogisticRegression\n",
    "from ChoiceMaker import DTChoice\n",
    "import graphviz\n",
    "import copy\n",
    "%matplotlib inline"
   ]
  },
  {
   "cell_type": "code",
   "execution_count": 2,
   "metadata": {
    "collapsed": true
   },
   "outputs": [],
   "source": [
    "from sklearn import tree"
   ]
  },
  {
   "cell_type": "code",
   "execution_count": 3,
   "metadata": {
    "collapsed": true
   },
   "outputs": [],
   "source": [
    "from dpcomp_core.algorithm import *\n",
    "from dpcomp_core.algorithm.dawa import l1partition\n",
    "from dpcomp_core.query_nd_union import ndRangeUnion\n",
    "from dpcomp_core import workload\n",
    "from dpcomp_core import experiment\n",
    "from dpcomp_core import metric\n",
    "from dpcomp_core import dataset\n",
    "import p_helper\n",
    "import codepak.l1partition\n",
    "\n",
    "import pickle"
   ]
  },
  {
   "cell_type": "code",
   "execution_count": 21,
   "metadata": {
    "collapsed": true
   },
   "outputs": [],
   "source": [
    "class Data:\n",
    "    def __init__(self, data, dom_size, scale, wktype, eps):\n",
    "        if(isinstance(data, dataset.Dataset)):\n",
    "            x = np.around(data.payload)\n",
    "        else:\n",
    "            x = np.array(data)\n",
    "        self.x = x\n",
    "        self.dom_size = dom_size\n",
    "        self.scale = scale\n",
    "        if(wktype):\n",
    "            self.Q = workload.Prefix1D(domain_shape_int=dom_size)\n",
    "        else:\n",
    "            self.Q = workload.Identity((dom_size,))\n",
    "        self.wkload_type = wktype\n",
    "        self.epsilon = eps \n",
    "    @classmethod\n",
    "    def from_name(cls, dbname, dom_size, scale, wktype, eps):\n",
    "        x = dataset.DatasetSampledFromFile(nickname=dbname,\n",
    "            sample_to_scale=int(scale), reduce_to_dom_shape=int(dom_size),\n",
    "            seed=12345)\n",
    "        return cls(x, dom_size, scale, wktype, eps)\n",
    "class HistAlgo:\n",
    "    def __init__(self, name, seed=12345):\n",
    "        self.S = np.random.RandomState(seed)\n",
    "        self.name = name\n",
    "\n",
    "    def error(self, data):\n",
    "        R = self._alg.Run(data.Q, data.x, data.epsilon, self.S.randint(2**32))\n",
    "        return np.linalg.norm(R-data.x)\n",
    "\n",
    "    def run(self, data):\n",
    "        R = self._alg.Run(data.Q, data.x, data.epsilon, self.S.randint(2**32))\n",
    "        return R"
   ]
  },
  {
   "cell_type": "code",
   "execution_count": 149,
   "metadata": {
    "collapsed": true
   },
   "outputs": [],
   "source": [
    "class Dawa(HistAlgo):\n",
    "    def __init__(self, seed=12345):\n",
    "        self._alg = dawa.dawa_engine()\n",
    "        super().__init__(\"DAWA\", seed)\n",
    "\n",
    "class Identity(HistAlgo):\n",
    "    def __init__(self, seed=12345):\n",
    "        self._alg = identity.identity_engine()\n",
    "        super().__init__(\"Id\", seed)\n",
    "\n",
    "#We don't use this algorithm; haha\n",
    "class Hb(HistAlgo):\n",
    "    def __init__(self):\n",
    "        self._alg = HB.HB_engine()\n",
    "        super().__init__(\"Hb\")\n",
    "hist_list = {'Dawa': Dawa(), 'Laplace': Identity()}\n",
    "\n",
    "class Oracle(HistAlgo):\n",
    "    def __init__(self):\n",
    "        self._dawa = Dawa()\n",
    "        self._id = Identity()\n",
    "    def run(self, data):\n",
    "        E1 = self._dawa.error(data)\n",
    "        E2 = self._id.error(data)\n",
    "        R1 = self._dawa.run(data)\n",
    "        R2 = self._id.run(data)\n",
    "        if E1 < E2:\n",
    "            return R1\n",
    "        else:\n",
    "            return R2"
   ]
  },
  {
   "cell_type": "code",
   "execution_count": 150,
   "metadata": {},
   "outputs": [],
   "source": [
    "db = Data.from_name('ADULT', 2048, 512, False, 1.0)"
   ]
  },
  {
   "cell_type": "code",
   "execution_count": 161,
   "metadata": {},
   "outputs": [],
   "source": [
    "db = Data(np.array([5,5]), 2, 1000, False, 1.0)"
   ]
  },
  {
   "cell_type": "code",
   "execution_count": 164,
   "metadata": {},
   "outputs": [
    {
     "data": {
      "text/plain": [
       "1.7057992222332847"
      ]
     },
     "execution_count": 164,
     "metadata": {},
     "output_type": "execute_result"
    }
   ],
   "source": [
    "np.array([Dawa(s).run(db) for s in range(500)])[:, 0].std()"
   ]
  },
  {
   "cell_type": "code",
   "execution_count": 165,
   "metadata": {},
   "outputs": [
    {
     "data": {
      "text/plain": [
       "1.3368378563128098"
      ]
     },
     "execution_count": 165,
     "metadata": {},
     "output_type": "execute_result"
    }
   ],
   "source": [
    "np.array([Identity(s).run(db) for s in range(500)])[:, 0].std()"
   ]
  },
  {
   "cell_type": "code",
   "execution_count": 103,
   "metadata": {},
   "outputs": [
    {
     "data": {
      "text/plain": [
       "63.499419064560442"
      ]
     },
     "execution_count": 103,
     "metadata": {},
     "output_type": "execute_result"
    }
   ],
   "source": [
    "Identity().error(db)"
   ]
  },
  {
   "cell_type": "code",
   "execution_count": 23,
   "metadata": {
    "collapsed": true
   },
   "outputs": [],
   "source": [
    "#Goal: See if algorithm runs are consistent with what Pythia sent us!\n",
    "scale=8192\n",
    "dom_size=4096\n",
    "epsilon=.0875"
   ]
  },
  {
   "cell_type": "code",
   "execution_count": 351,
   "metadata": {},
   "outputs": [],
   "source": [
    "dfadult1 = pickle.load(open('NaiveBayes/alg_errors/e1.0/ADULTFRANK.I.2048.pkl', 'rb'), encoding='bytes')"
   ]
  },
  {
   "cell_type": "code",
   "execution_count": 394,
   "metadata": {},
   "outputs": [],
   "source": [
    "arr = []\n",
    "for scale in [128, 256, 512, 1024, 2048, 4096]:\n",
    "    dfadult = pickle.load(open('NaiveBayes/alg_errors/e' + str(1.0) + '/ADULTFRANK.I.' + str(scale) + '.pkl', 'rb'), encoding='bytes')\n",
    "    arr.append([ dfadult[b'Dawa'][x][b'avg'] for x in dfadult1[b'Dawa'].keys() ])\n",
    "arr = np.array(arr)"
   ]
  },
  {
   "cell_type": "code",
   "execution_count": 395,
   "metadata": {},
   "outputs": [
    {
     "data": {
      "text/plain": [
       "array([[  3.59781237,   4.45366073,  14.05168212,  22.56771436,\n",
       "          9.53966101,  18.25991306,   5.05213754,  20.93667696,\n",
       "          4.91903147,  20.99330563,  20.6211817 ,  20.65333863,\n",
       "         20.96810892,  21.29078877,   7.08089547,  20.75566573,\n",
       "         24.10082913,  23.63002485,  24.1881462 ,  12.18850302],\n",
       "       [  2.56311373,   3.22242373,  13.69850364,  28.09861251,\n",
       "          6.96617892,  17.29579732,   2.64564227,  21.32614446,\n",
       "          4.06063204,  22.49227604,  21.69146603,  21.2385045 ,\n",
       "         21.31425784,  22.02324868,   5.43769437,  21.43424699,\n",
       "         29.4634015 ,  25.88221849,  26.30392612,  10.86259717],\n",
       "       [  3.055585  ,   2.22542103,  13.0013173 ,  35.39695521,\n",
       "          8.12675517,  17.89440292,   3.19648754,  27.10722488,\n",
       "          3.75692427,  24.64765441,  25.45953766,  24.9363976 ,\n",
       "         26.24262659,  25.11354229,   5.59079555,  25.35606316,\n",
       "         39.42458203,  32.22661755,  35.25520423,   9.51583489],\n",
       "       [  4.58166611,   5.66307527,  23.40206899,  42.36835508,\n",
       "         11.77678585,  31.18360991,   6.230717  ,  34.89433669,\n",
       "          6.3871601 ,  34.49355575,  35.68666435,  34.28248311,\n",
       "         35.33470599,  36.31331641,   7.87282016,  34.29222226,\n",
       "         47.49536946,  41.64739391,  46.81217469,  17.54197077],\n",
       "       [  6.32259716,   4.60226435,  22.92716594,  46.51633855,\n",
       "         12.53688775,  32.87805837,   4.85410375,  38.5161693 ,\n",
       "          5.62578227,  39.03291091,  37.84804359,  36.3618922 ,\n",
       "         36.91595151,  36.85256827,   7.73396958,  37.18036971,\n",
       "         50.24880988,  44.96904877,  52.17353805,  19.18266907],\n",
       "       [  5.94882288,   5.72459979,  24.09740358,  50.61391904,\n",
       "         12.07035538,  35.55342357,   5.8232633 ,  38.2477444 ,\n",
       "          5.92685454,  41.52596403,  38.09240167,  37.08618779,\n",
       "         36.52581685,  38.54152576,   8.07547505,  37.37320806,\n",
       "         59.22396868,  47.39382622,  54.82387247,  20.90284302]])"
      ]
     },
     "execution_count": 395,
     "metadata": {},
     "output_type": "execute_result"
    }
   ],
   "source": [
    "arr"
   ]
  },
  {
   "cell_type": "code",
   "execution_count": 403,
   "metadata": {},
   "outputs": [
    {
     "data": {
      "text/plain": [
       "[<matplotlib.lines.Line2D at 0x7ff4639a6b00>,\n",
       " <matplotlib.lines.Line2D at 0x7ff4639a6c50>,\n",
       " <matplotlib.lines.Line2D at 0x7ff4639a6da0>,\n",
       " <matplotlib.lines.Line2D at 0x7ff4639a6ef0>,\n",
       " <matplotlib.lines.Line2D at 0x7ff46392f080>,\n",
       " <matplotlib.lines.Line2D at 0x7ff46392f1d0>,\n",
       " <matplotlib.lines.Line2D at 0x7ff46392f320>,\n",
       " <matplotlib.lines.Line2D at 0x7ff46392f470>,\n",
       " <matplotlib.lines.Line2D at 0x7ff46392f5c0>,\n",
       " <matplotlib.lines.Line2D at 0x7ff46392f710>,\n",
       " <matplotlib.lines.Line2D at 0x7ff463985da0>,\n",
       " <matplotlib.lines.Line2D at 0x7ff46392f978>,\n",
       " <matplotlib.lines.Line2D at 0x7ff46392fac8>,\n",
       " <matplotlib.lines.Line2D at 0x7ff46392fc18>,\n",
       " <matplotlib.lines.Line2D at 0x7ff46392fd68>,\n",
       " <matplotlib.lines.Line2D at 0x7ff46392feb8>,\n",
       " <matplotlib.lines.Line2D at 0x7ff463934048>,\n",
       " <matplotlib.lines.Line2D at 0x7ff463934198>,\n",
       " <matplotlib.lines.Line2D at 0x7ff4639342e8>,\n",
       " <matplotlib.lines.Line2D at 0x7ff463934438>]"
      ]
     },
     "execution_count": 403,
     "metadata": {},
     "output_type": "execute_result"
    },
    {
     "data": {
      "image/png": "[encoded data removed]",
      "text/plain": [
       "<matplotlib.figure.Figure at 0x7ff4639b51d0>"
      ]
     },
     "metadata": {},
     "output_type": "display_data"
    }
   ],
   "source": [
    "plt.plot(arr)"
   ]
  },
  {
   "cell_type": "code",
   "execution_count": 105,
   "metadata": {},
   "outputs": [
    {
     "data": {
      "text/plain": [
       "dict_keys([32, 64, 4096, 262144, 1024, 8192, 128, 524288, 256, 16384, 4194304, 2097152, 8388608, 1048576, 512, 16777216, 131072, 32768, 65536, 2048])"
      ]
     },
     "execution_count": 105,
     "metadata": {},
     "output_type": "execute_result"
    }
   ],
   "source": [
    "dfadult1[b'Laplace'].keys()"
   ]
  },
  {
   "cell_type": "code",
   "execution_count": 106,
   "metadata": {},
   "outputs": [
    {
     "data": {
      "text/plain": [
       "{b'all': [],\n",
       " b'avg': 5.625782268768063,\n",
       " b'yerr': array([ 1.28758946,  0.8536528 ])}"
      ]
     },
     "execution_count": 106,
     "metadata": {},
     "output_type": "execute_result"
    }
   ],
   "source": [
    "dfadult1[b'Dawa'][256]"
   ]
  },
  {
   "cell_type": "code",
   "execution_count": 107,
   "metadata": {},
   "outputs": [
    {
     "data": {
      "text/plain": [
       "{b'all': [],\n",
       " b'avg': 63.736107805382574,\n",
       " b'yerr': array([ 1.06448977,  0.88103967])}"
      ]
     },
     "execution_count": 107,
     "metadata": {},
     "output_type": "execute_result"
    }
   ],
   "source": [
    "dfadult1[b'Laplace'][256]"
   ]
  },
  {
   "cell_type": "code",
   "execution_count": 79,
   "metadata": {},
   "outputs": [
    {
     "data": {
      "text/plain": [
       "{b'all': [],\n",
       " b'avg': 35.334705987028613,\n",
       " b'yerr': array([ 2.29608369,  1.51453763])}"
      ]
     },
     "execution_count": 79,
     "metadata": {},
     "output_type": "execute_result"
    }
   ],
   "source": [
    "dfadult1[b'Dawa'][8388608]"
   ]
  },
  {
   "cell_type": "code",
   "execution_count": 46,
   "metadata": {
    "collapsed": true
   },
   "outputs": [],
   "source": [
    "class HistMetafeats:\n",
    "    def __init__(self, seed=12345):\n",
    "        self.S = np.random.RandomState(seed)\n",
    "        self.sensitivities = {'scale': 0, 'shape': 0, 'nnz': 1, 'tvd': 2, 'partition': 2}\n",
    "    @staticmethod\n",
    "    def dev(H):\n",
    "        return np.linalg.norm(H-H.mean(), ord=1)\n",
    "    def min_cost(self, H):\n",
    "        dw_part = codepak.l1partition.L1partition_true(H.astype('int32'), 1, 0.3, gethist=False)\n",
    "        return p_helper.pcost(dw_part, H, 0.7)\n",
    "    def __call__(self, data):\n",
    "        if(isinstance(data.x, dataset.DatasetSampledFromFile)):\n",
    "            x = data.x.payload\n",
    "        else:\n",
    "            x = data.x\n",
    "        #Instead of having epsilon be a metafeature, multiply database histogram\n",
    "        #by epsilon and pretend epsilon=1. Verify that all metafeatures will\n",
    "        #the same relative noise added to them\n",
    "        H = np.around(x*data.epsilon).astype('int')\n",
    "        nnz = np.count_nonzero(H)\n",
    "        tvd = HistMetafeats.dev(H)\n",
    "        cost = self.min_cost(H)\n",
    "        return {'scale': data.scale, 'shape': data.dom_size,\n",
    "                             'nnz': nnz, 'tvd': tvd, 'partition': cost}"
   ]
  },
  {
   "cell_type": "code",
   "execution_count": 47,
   "metadata": {
    "collapsed": true
   },
   "outputs": [],
   "source": [
    "prng = np.random.RandomState(12246)\n",
    "scales=np.power(2, np.arange(5, 25))\n",
    "dom_sizes = np.power(2, np.arange(7, 13))\n",
    "epsilon=1"
   ]
  },
  {
   "cell_type": "code",
   "execution_count": 387,
   "metadata": {},
   "outputs": [
    {
     "ename": "EOFError",
     "evalue": "Ran out of input",
     "output_type": "error",
     "traceback": [
      "\u001b[0;31m---------------------------------------------------------------------------\u001b[0m",
      "\u001b[0;31mEOFError\u001b[0m                                  Traceback (most recent call last)",
      "\u001b[0;32m<ipython-input-387-4de4c48c621e>\u001b[0m in \u001b[0;36m<module>\u001b[0;34m()\u001b[0m\n\u001b[1;32m      1\u001b[0m \u001b[0;31m#cms = [nb_cm_adult, nb_cm_hepth, nb_cm_income, nb_cm_medcost, nb_cm_nettrace, nb_cm_patent, nb_cm_searchlogs]\u001b[0m\u001b[0;34m\u001b[0m\u001b[0;34m\u001b[0m\u001b[0m\n\u001b[1;32m      2\u001b[0m \u001b[0;31m#pickle.dump(cms, open('NaiveBayes/choicemakers/all_cm.pkl', 'wb'))\u001b[0m\u001b[0;34m\u001b[0m\u001b[0;34m\u001b[0m\u001b[0m\n\u001b[0;32m----> 3\u001b[0;31m \u001b[0mcms\u001b[0m \u001b[0;34m=\u001b[0m \u001b[0mpickle\u001b[0m\u001b[0;34m.\u001b[0m\u001b[0mload\u001b[0m\u001b[0;34m(\u001b[0m\u001b[0mopen\u001b[0m\u001b[0;34m(\u001b[0m\u001b[0;34m'NaiveBayes/choicemakers/all_cm.pkl'\u001b[0m\u001b[0;34m,\u001b[0m \u001b[0;34m'rb'\u001b[0m\u001b[0;34m)\u001b[0m\u001b[0;34m)\u001b[0m\u001b[0;34m\u001b[0m\u001b[0m\n\u001b[0m",
      "\u001b[0;31mEOFError\u001b[0m: Ran out of input"
     ]
    }
   ],
   "source": [
    "#cms = [nb_cm_adult, nb_cm_hepth, nb_cm_income, nb_cm_medcost, nb_cm_nettrace, nb_cm_patent, nb_cm_searchlogs]\n",
    "#pickle.dump(cms, open('NaiveBayes/choicemakers/all_cm.pkl', 'wb'))\n",
    "cms = pickle.load(open('NaiveBayes/choicemakers/all_cm.pkl', 'rb'))"
   ]
  },
  {
   "cell_type": "code",
   "execution_count": 48,
   "metadata": {},
   "outputs": [
    {
     "name": "stdout",
     "output_type": "stream",
     "text": [
      "0\n",
      "20\n",
      "40\n",
      "60\n",
      "80\n",
      "100\n",
      "120\n",
      "140\n",
      "160\n",
      "180\n",
      "200\n",
      "220\n",
      "240\n",
      "260\n",
      "280\n",
      "300\n",
      "320\n",
      "340\n",
      "360\n",
      "380\n",
      "400\n",
      "420\n",
      "440\n",
      "460\n",
      "480\n",
      "500\n",
      "520\n",
      "540\n",
      "560\n",
      "580\n",
      "600\n",
      "620\n",
      "640\n",
      "660\n",
      "680\n",
      "700\n"
     ]
    }
   ],
   "source": [
    "regrets_avg = []\n",
    "feats = []\n",
    "filenames = ['ADULTFRANK', 'INCOME', 'MEDCOST', 'NETTRACE', 'PATENT', 'SEARCHLOGS']\n",
    "dsizes = [128, 256, 512, 1024, 2048, 4096] #We didn't include 8192 because reshaping takes too long!\n",
    "scales = np.power(2, np.add(range(20), 5))\n",
    "epsilon = 1.0\n",
    "for f in filenames:\n",
    "    for k in dsizes:\n",
    "        print(len(regrets_avg))\n",
    "        with open('NaiveBayes/alg_errors/e' + str(epsilon) + '/' + \n",
    "                 f + '.I.' + str(k) + '.pkl', 'rb') as input:\n",
    "            D = pickle.load(input, encoding='bytes')\n",
    "            for scale in scales:\n",
    "                regrets_avg.append({'Laplace': D[b'Laplace'][scale][b'avg'], 'Dawa': D[b'Dawa'][scale][b'avg']})\n",
    "            \n",
    "            input.close()\n",
    "        x = np.load('dpcomp_core/datafiles/1D/' + f + '.n4096.npy')\n",
    "        x = p_helper.change_size(x, k)\n",
    "        for scale in scales:\n",
    "            x = np.divide(x, float(sum(x))/scale, dtype=float)\n",
    "            dw_part = codepak.l1partition.L1partition_true(x.astype('int32'), 1, 0.3, gethist=False)\n",
    "            dw_score = p_helper.pcost(dw_part, x, 0.7)\n",
    "            tvd = np.linalg.norm(x-x.mean(), ord=1)\n",
    "            \n",
    "            feats.append({'db': f, 'scale': scale, 'domsize': k, 'nnz': np.count_nonzero(x),\n",
    "                          'tvd': tvd, 'partition': dw_score})"
   ]
  },
  {
   "cell_type": "code",
   "execution_count": 49,
   "metadata": {
    "collapsed": true
   },
   "outputs": [],
   "source": [
    "feats = pd.DataFrame(feats)\n",
    "regrets_avg = pd.DataFrame(regrets_avg)\n",
    "big_cm = DTChoice(feats.drop('db', axis=1), HistMetafeats(), hist_list, regrets=regrets_avg / regrets_avg.max())"
   ]
  },
  {
   "cell_type": "code",
   "execution_count": 50,
   "metadata": {
    "collapsed": true
   },
   "outputs": [
    {
     "ename": "NameError",
     "evalue": "name 'cms' is not defined",
     "output_type": "error",
     "traceback": [
      "\u001b[0;31m---------------------------------------------------------------------------\u001b[0m",
      "\u001b[0;31mNameError\u001b[0m                                 Traceback (most recent call last)",
      "\u001b[0;32m<ipython-input-50-ecc87e492f8c>\u001b[0m in \u001b[0;36m<module>\u001b[0;34m()\u001b[0m\n\u001b[0;32m----> 1\u001b[0;31m \u001b[0mXs\u001b[0m \u001b[0;34m=\u001b[0m \u001b[0mpd\u001b[0m\u001b[0;34m.\u001b[0m\u001b[0mconcat\u001b[0m\u001b[0;34m(\u001b[0m\u001b[0mobj\u001b[0m\u001b[0;34m.\u001b[0m\u001b[0mX\u001b[0m \u001b[0;32mfor\u001b[0m \u001b[0mobj\u001b[0m \u001b[0;32min\u001b[0m \u001b[0mcms\u001b[0m\u001b[0;34m)\u001b[0m\u001b[0;34m.\u001b[0m\u001b[0mreset_index\u001b[0m\u001b[0;34m(\u001b[0m\u001b[0mdrop\u001b[0m\u001b[0;34m=\u001b[0m\u001b[0;32mTrue\u001b[0m\u001b[0;34m)\u001b[0m\u001b[0;34m\u001b[0m\u001b[0m\n\u001b[0m\u001b[1;32m      2\u001b[0m \u001b[0mys\u001b[0m \u001b[0;34m=\u001b[0m \u001b[0mpd\u001b[0m\u001b[0;34m.\u001b[0m\u001b[0mconcat\u001b[0m\u001b[0;34m(\u001b[0m\u001b[0mobj\u001b[0m\u001b[0;34m.\u001b[0m\u001b[0my\u001b[0m \u001b[0;32mfor\u001b[0m \u001b[0mobj\u001b[0m \u001b[0;32min\u001b[0m \u001b[0mcms\u001b[0m\u001b[0;34m)\u001b[0m\u001b[0;34m.\u001b[0m\u001b[0mreset_index\u001b[0m\u001b[0;34m(\u001b[0m\u001b[0mdrop\u001b[0m\u001b[0;34m=\u001b[0m\u001b[0;32mTrue\u001b[0m\u001b[0;34m)\u001b[0m\u001b[0;34m\u001b[0m\u001b[0m\n\u001b[1;32m      3\u001b[0m \u001b[0mregrets\u001b[0m \u001b[0;34m=\u001b[0m \u001b[0mpd\u001b[0m\u001b[0;34m.\u001b[0m\u001b[0mconcat\u001b[0m\u001b[0;34m(\u001b[0m\u001b[0mobj\u001b[0m\u001b[0;34m.\u001b[0m\u001b[0mregrets\u001b[0m \u001b[0;32mfor\u001b[0m \u001b[0mobj\u001b[0m \u001b[0;32min\u001b[0m \u001b[0mcms\u001b[0m\u001b[0;34m)\u001b[0m\u001b[0;34m.\u001b[0m\u001b[0mreset_index\u001b[0m\u001b[0;34m(\u001b[0m\u001b[0mdrop\u001b[0m\u001b[0;34m=\u001b[0m\u001b[0;32mTrue\u001b[0m\u001b[0;34m)\u001b[0m\u001b[0;34m.\u001b[0m\u001b[0mdrop\u001b[0m\u001b[0;34m(\u001b[0m\u001b[0;34m'hb'\u001b[0m\u001b[0;34m,\u001b[0m \u001b[0maxis\u001b[0m\u001b[0;34m=\u001b[0m\u001b[0;36m1\u001b[0m\u001b[0;34m)\u001b[0m\u001b[0;34m\u001b[0m\u001b[0m\n\u001b[1;32m      4\u001b[0m \u001b[0mbig_cm\u001b[0m \u001b[0;34m=\u001b[0m \u001b[0mDTChoice\u001b[0m\u001b[0;34m(\u001b[0m\u001b[0mXs\u001b[0m\u001b[0;34m,\u001b[0m \u001b[0mHistMetafeats\u001b[0m\u001b[0;34m(\u001b[0m\u001b[0;34m)\u001b[0m\u001b[0;34m,\u001b[0m \u001b[0mhist_list\u001b[0m\u001b[0;34m,\u001b[0m \u001b[0mregrets\u001b[0m\u001b[0;34m=\u001b[0m\u001b[0mregrets\u001b[0m\u001b[0;34m)\u001b[0m\u001b[0;34m\u001b[0m\u001b[0m\n",
      "\u001b[0;31mNameError\u001b[0m: name 'cms' is not defined"
     ]
    }
   ],
   "source": [
    "Xs = pd.concat(obj.X for obj in cms).reset_index(drop=True)\n",
    "ys = pd.concat(obj.y for obj in cms).reset_index(drop=True)\n",
    "regrets = pd.concat(obj.regrets for obj in cms).reset_index(drop=True).drop('hb', axis=1)\n",
    "big_cm = DTChoice(Xs, HistMetafeats(), hist_list, regrets=regrets)"
   ]
  },
  {
   "cell_type": "code",
   "execution_count": 337,
   "metadata": {
    "collapsed": true
   },
   "outputs": [],
   "source": [
    "big_cm.C = 0\n",
    "big_cm.model = DecisionTreeClassifier(min_samples_leaf=10, max_depth=5)\n",
    "big_cm.retrain_model()"
   ]
  },
  {
   "cell_type": "code",
   "execution_count": 338,
   "metadata": {},
   "outputs": [
    {
     "data": {
      "text/plain": [
       "Dawa       0.226662\n",
       "Laplace    0.491427\n",
       "dtype: float64"
      ]
     },
     "execution_count": 338,
     "metadata": {},
     "output_type": "execute_result"
    }
   ],
   "source": [
    "big_cm.regrets.mean(axis=0)"
   ]
  },
  {
   "cell_type": "code",
   "execution_count": 339,
   "metadata": {},
   "outputs": [
    {
     "data": {
      "image/svg+xml": [
       "<?xml version=\"1.0\" encoding=\"UTF-8\" standalone=\"no\"?>\n",
       "<!DOCTYPE svg PUBLIC \"-//W3C//DTD SVG 1.1//EN\"\n",
       " \"http://www.w3.org/Graphics/SVG/1.1/DTD/svg11.dtd\">\n",
       "<!-- Generated by graphviz version 2.40.1 (20161225.0304)\n",
       " -->\n",
       "<!-- Title: Tree Pages: 1 -->\n",
       "<svg width=\"1304pt\" height=\"581pt\"\n",
       " viewBox=\"0.00 0.00 1304.00 581.00\" xmlns=\"http://www.w3.org/2000/svg\" xmlns:xlink=\"http://www.w3.org/1999/xlink\">\n",
       "<g id=\"graph0\" class=\"graph\" transform=\"scale(1 1) rotate(0) translate(4 577)\">\n",
       "<title>Tree</title>\n",
       "<polygon fill=\"#ffffff\" stroke=\"transparent\" points=\"-4,4 -4,-577 1300,-577 1300,4 -4,4\"/>\n",
       "<!-- 0 -->\n",
       "<g id=\"node1\" class=\"node\">\n",
       "<title>0</title>\n",
       "<path fill=\"transparent\" stroke=\"#000000\" d=\"M545,-573C545,-573 422,-573 422,-573 416,-573 410,-567 410,-561 410,-561 410,-517 410,-517 410,-511 416,-505 422,-505 422,-505 545,-505 545,-505 551,-505 557,-511 557,-517 557,-517 557,-561 557,-561 557,-567 551,-573 545,-573\"/>\n",
       "<text text-anchor=\"middle\" x=\"483.5\" y=\"-557.8\" font-family=\"Helvetica,sans-Serif\" font-size=\"14.00\" fill=\"#000000\">X[56] &lt;= 0.816</text>\n",
       "<text text-anchor=\"middle\" x=\"483.5\" y=\"-542.8\" font-family=\"Helvetica,sans-Serif\" font-size=\"14.00\" fill=\"#000000\">gini = 0.227</text>\n",
       "<text text-anchor=\"middle\" x=\"483.5\" y=\"-527.8\" font-family=\"Helvetica,sans-Serif\" font-size=\"14.00\" fill=\"#000000\">samples = 720</text>\n",
       "<text text-anchor=\"middle\" x=\"483.5\" y=\"-512.8\" font-family=\"Helvetica,sans-Serif\" font-size=\"14.00\" fill=\"#000000\">value = [0.773, 0.509]</text>\n",
       "</g>\n",
       "<!-- 1 -->\n",
       "<g id=\"node2\" class=\"node\">\n",
       "<title>1</title>\n",
       "<path fill=\"transparent\" stroke=\"#000000\" d=\"M463,-469C463,-469 340,-469 340,-469 334,-469 328,-463 328,-457 328,-457 328,-413 328,-413 328,-407 334,-401 340,-401 340,-401 463,-401 463,-401 469,-401 475,-407 475,-413 475,-413 475,-457 475,-457 475,-463 469,-469 463,-469\"/>\n",
       "<text text-anchor=\"middle\" x=\"401.5\" y=\"-453.8\" font-family=\"Helvetica,sans-Serif\" font-size=\"14.00\" fill=\"#000000\">X[17] &lt;= &#45;30.269</text>\n",
       "<text text-anchor=\"middle\" x=\"401.5\" y=\"-438.8\" font-family=\"Helvetica,sans-Serif\" font-size=\"14.00\" fill=\"#000000\">gini = 0.208</text>\n",
       "<text text-anchor=\"middle\" x=\"401.5\" y=\"-423.8\" font-family=\"Helvetica,sans-Serif\" font-size=\"14.00\" fill=\"#000000\">samples = 667</text>\n",
       "<text text-anchor=\"middle\" x=\"401.5\" y=\"-408.8\" font-family=\"Helvetica,sans-Serif\" font-size=\"14.00\" fill=\"#000000\">value = [0.792, 0.499]</text>\n",
       "</g>\n",
       "<!-- 0&#45;&gt;1 -->\n",
       "<g id=\"edge1\" class=\"edge\">\n",
       "<title>0&#45;&gt;1</title>\n",
       "<path fill=\"none\" stroke=\"#000000\" d=\"M456.6501,-504.9465C449.6417,-496.0578 442.0045,-486.3716 434.709,-477.1188\"/>\n",
       "<polygon fill=\"#000000\" stroke=\"#000000\" points=\"437.3502,-474.8157 428.4102,-469.13 431.8533,-479.1498 437.3502,-474.8157\"/>\n",
       "<text text-anchor=\"middle\" x=\"425.4737\" y=\"-490.2569\" font-family=\"Helvetica,sans-Serif\" font-size=\"14.00\" fill=\"#000000\">True</text>\n",
       "</g>\n",
       "<!-- 20 -->\n",
       "<g id=\"node21\" class=\"node\">\n",
       "<title>20</title>\n",
       "<path fill=\"transparent\" stroke=\"#000000\" d=\"M628,-461.5C628,-461.5 505,-461.5 505,-461.5 499,-461.5 493,-455.5 493,-449.5 493,-449.5 493,-420.5 493,-420.5 493,-414.5 499,-408.5 505,-408.5 505,-408.5 628,-408.5 628,-408.5 634,-408.5 640,-414.5 640,-420.5 640,-420.5 640,-449.5 640,-449.5 640,-455.5 634,-461.5 628,-461.5\"/>\n",
       "<text text-anchor=\"middle\" x=\"566.5\" y=\"-446.3\" font-family=\"Helvetica,sans-Serif\" font-size=\"14.00\" fill=\"#000000\">gini = 0.367</text>\n",
       "<text text-anchor=\"middle\" x=\"566.5\" y=\"-431.3\" font-family=\"Helvetica,sans-Serif\" font-size=\"14.00\" fill=\"#000000\">samples = 53</text>\n",
       "<text text-anchor=\"middle\" x=\"566.5\" y=\"-416.3\" font-family=\"Helvetica,sans-Serif\" font-size=\"14.00\" fill=\"#000000\">value = [0.544, 0.633]</text>\n",
       "</g>\n",
       "<!-- 0&#45;&gt;20 -->\n",
       "<g id=\"edge20\" class=\"edge\">\n",
       "<title>0&#45;&gt;20</title>\n",
       "<path fill=\"none\" stroke=\"#000000\" d=\"M510.6773,-504.9465C519.7318,-493.6012 529.823,-480.9567 538.9086,-469.5724\"/>\n",
       "<polygon fill=\"#000000\" stroke=\"#000000\" points=\"541.8151,-471.5414 545.3173,-461.5422 536.3439,-467.175 541.8151,-471.5414\"/>\n",
       "<text text-anchor=\"middle\" x=\"548.1073\" y=\"-482.686\" font-family=\"Helvetica,sans-Serif\" font-size=\"14.00\" fill=\"#000000\">False</text>\n",
       "</g>\n",
       "<!-- 2 -->\n",
       "<g id=\"node3\" class=\"node\">\n",
       "<title>2</title>\n",
       "<path fill=\"#e58139\" fill-opacity=\"0.003922\" stroke=\"#000000\" d=\"M381,-365C381,-365 258,-365 258,-365 252,-365 246,-359 246,-353 246,-353 246,-309 246,-309 246,-303 252,-297 258,-297 258,-297 381,-297 381,-297 387,-297 393,-303 393,-309 393,-309 393,-353 393,-353 393,-359 387,-365 381,-365\"/>\n",
       "<text text-anchor=\"middle\" x=\"319.5\" y=\"-349.8\" font-family=\"Helvetica,sans-Serif\" font-size=\"14.00\" fill=\"#000000\">X[125] &lt;= &#45;16.483</text>\n",
       "<text text-anchor=\"middle\" x=\"319.5\" y=\"-334.8\" font-family=\"Helvetica,sans-Serif\" font-size=\"14.00\" fill=\"#000000\">gini = 0.752</text>\n",
       "<text text-anchor=\"middle\" x=\"319.5\" y=\"-319.8\" font-family=\"Helvetica,sans-Serif\" font-size=\"14.00\" fill=\"#000000\">samples = 26</text>\n",
       "<text text-anchor=\"middle\" x=\"319.5\" y=\"-304.8\" font-family=\"Helvetica,sans-Serif\" font-size=\"14.00\" fill=\"#000000\">value = [0.248, 0.109]</text>\n",
       "</g>\n",
       "<!-- 1&#45;&gt;2 -->\n",
       "<g id=\"edge2\" class=\"edge\">\n",
       "<title>1&#45;&gt;2</title>\n",
       "<path fill=\"none\" stroke=\"#000000\" d=\"M374.6501,-400.9465C367.6417,-392.0578 360.0045,-382.3716 352.709,-373.1188\"/>\n",
       "<polygon fill=\"#000000\" stroke=\"#000000\" points=\"355.3502,-370.8157 346.4102,-365.13 349.8533,-375.1498 355.3502,-370.8157\"/>\n",
       "</g>\n",
       "<!-- 5 -->\n",
       "<g id=\"node6\" class=\"node\">\n",
       "<title>5</title>\n",
       "<path fill=\"transparent\" stroke=\"#000000\" d=\"M546,-365C546,-365 423,-365 423,-365 417,-365 411,-359 411,-353 411,-353 411,-309 411,-309 411,-303 417,-297 423,-297 423,-297 546,-297 546,-297 552,-297 558,-303 558,-309 558,-309 558,-353 558,-353 558,-359 552,-365 546,-365\"/>\n",
       "<text text-anchor=\"middle\" x=\"484.5\" y=\"-349.8\" font-family=\"Helvetica,sans-Serif\" font-size=\"14.00\" fill=\"#000000\">X[46] &lt;= 2.045</text>\n",
       "<text text-anchor=\"middle\" x=\"484.5\" y=\"-334.8\" font-family=\"Helvetica,sans-Serif\" font-size=\"14.00\" fill=\"#000000\">gini = 0.186</text>\n",
       "<text text-anchor=\"middle\" x=\"484.5\" y=\"-319.8\" font-family=\"Helvetica,sans-Serif\" font-size=\"14.00\" fill=\"#000000\">samples = 641</text>\n",
       "<text text-anchor=\"middle\" x=\"484.5\" y=\"-304.8\" font-family=\"Helvetica,sans-Serif\" font-size=\"14.00\" fill=\"#000000\">value = [0.814, 0.514]</text>\n",
       "</g>\n",
       "<!-- 1&#45;&gt;5 -->\n",
       "<g id=\"edge5\" class=\"edge\">\n",
       "<title>1&#45;&gt;5</title>\n",
       "<path fill=\"none\" stroke=\"#000000\" d=\"M428.6773,-400.9465C435.7712,-392.0578 443.5015,-382.3716 450.886,-373.1188\"/>\n",
       "<polygon fill=\"#000000\" stroke=\"#000000\" points=\"453.7594,-375.1293 457.2616,-365.13 448.2882,-370.7628 453.7594,-375.1293\"/>\n",
       "</g>\n",
       "<!-- 3 -->\n",
       "<g id=\"node4\" class=\"node\">\n",
       "<title>3</title>\n",
       "<path fill=\"#e58139\" fill-opacity=\"0.015686\" stroke=\"#000000\" d=\"M216,-253.5C216,-253.5 93,-253.5 93,-253.5 87,-253.5 81,-247.5 81,-241.5 81,-241.5 81,-212.5 81,-212.5 81,-206.5 87,-200.5 93,-200.5 93,-200.5 216,-200.5 216,-200.5 222,-200.5 228,-206.5 228,-212.5 228,-212.5 228,-241.5 228,-241.5 228,-247.5 222,-253.5 216,-253.5\"/>\n",
       "<text text-anchor=\"middle\" x=\"154.5\" y=\"-238.3\" font-family=\"Helvetica,sans-Serif\" font-size=\"14.00\" fill=\"#000000\">gini = 0.675</text>\n",
       "<text text-anchor=\"middle\" x=\"154.5\" y=\"-223.3\" font-family=\"Helvetica,sans-Serif\" font-size=\"14.00\" fill=\"#000000\">samples = 10</text>\n",
       "<text text-anchor=\"middle\" x=\"154.5\" y=\"-208.3\" font-family=\"Helvetica,sans-Serif\" font-size=\"14.00\" fill=\"#000000\">value = [0.325, 0.178]</text>\n",
       "</g>\n",
       "<!-- 2&#45;&gt;3 -->\n",
       "<g id=\"edge3\" class=\"edge\">\n",
       "<title>2&#45;&gt;3</title>\n",
       "<path fill=\"none\" stroke=\"#000000\" d=\"M265.4728,-296.9465C246.0749,-284.72 224.2834,-270.9847 205.18,-258.9437\"/>\n",
       "<polygon fill=\"#000000\" stroke=\"#000000\" points=\"206.9362,-255.9135 196.6102,-253.5422 203.2036,-261.8353 206.9362,-255.9135\"/>\n",
       "</g>\n",
       "<!-- 4 -->\n",
       "<g id=\"node5\" class=\"node\">\n",
       "<title>4</title>\n",
       "<path fill=\"#e58139\" fill-opacity=\"0.007843\" stroke=\"#000000\" d=\"M381,-253.5C381,-253.5 258,-253.5 258,-253.5 252,-253.5 246,-247.5 246,-241.5 246,-241.5 246,-212.5 246,-212.5 246,-206.5 252,-200.5 258,-200.5 258,-200.5 381,-200.5 381,-200.5 387,-200.5 393,-206.5 393,-212.5 393,-212.5 393,-241.5 393,-241.5 393,-247.5 387,-253.5 381,-253.5\"/>\n",
       "<text text-anchor=\"middle\" x=\"319.5\" y=\"-238.3\" font-family=\"Helvetica,sans-Serif\" font-size=\"14.00\" fill=\"#000000\">gini = 0.799</text>\n",
       "<text text-anchor=\"middle\" x=\"319.5\" y=\"-223.3\" font-family=\"Helvetica,sans-Serif\" font-size=\"14.00\" fill=\"#000000\">samples = 16</text>\n",
       "<text text-anchor=\"middle\" x=\"319.5\" y=\"-208.3\" font-family=\"Helvetica,sans-Serif\" font-size=\"14.00\" fill=\"#000000\">value = [0.201, 0.066]</text>\n",
       "</g>\n",
       "<!-- 2&#45;&gt;4 -->\n",
       "<g id=\"edge4\" class=\"edge\">\n",
       "<title>2&#45;&gt;4</title>\n",
       "<path fill=\"none\" stroke=\"#000000\" d=\"M319.5,-296.9465C319.5,-286.2621 319.5,-274.4254 319.5,-263.5742\"/>\n",
       "<polygon fill=\"#000000\" stroke=\"#000000\" points=\"323.0001,-263.5421 319.5,-253.5422 316.0001,-263.5422 323.0001,-263.5421\"/>\n",
       "</g>\n",
       "<!-- 6 -->\n",
       "<g id=\"node7\" class=\"node\">\n",
       "<title>6</title>\n",
       "<path fill=\"transparent\" stroke=\"#000000\" d=\"M546,-261C546,-261 423,-261 423,-261 417,-261 411,-255 411,-249 411,-249 411,-205 411,-205 411,-199 417,-193 423,-193 423,-193 546,-193 546,-193 552,-193 558,-199 558,-205 558,-205 558,-249 558,-249 558,-255 552,-261 546,-261\"/>\n",
       "<text text-anchor=\"middle\" x=\"484.5\" y=\"-245.8\" font-family=\"Helvetica,sans-Serif\" font-size=\"14.00\" fill=\"#000000\">X[67] &lt;= 5.209</text>\n",
       "<text text-anchor=\"middle\" x=\"484.5\" y=\"-230.8\" font-family=\"Helvetica,sans-Serif\" font-size=\"14.00\" fill=\"#000000\">gini = 0.095</text>\n",
       "<text text-anchor=\"middle\" x=\"484.5\" y=\"-215.8\" font-family=\"Helvetica,sans-Serif\" font-size=\"14.00\" fill=\"#000000\">samples = 278</text>\n",
       "<text text-anchor=\"middle\" x=\"484.5\" y=\"-200.8\" font-family=\"Helvetica,sans-Serif\" font-size=\"14.00\" fill=\"#000000\">value = [0.905, 0.453]</text>\n",
       "</g>\n",
       "<!-- 5&#45;&gt;6 -->\n",
       "<g id=\"edge6\" class=\"edge\">\n",
       "<title>5&#45;&gt;6</title>\n",
       "<path fill=\"none\" stroke=\"#000000\" d=\"M484.5,-296.9465C484.5,-288.776 484.5,-279.9318 484.5,-271.3697\"/>\n",
       "<polygon fill=\"#000000\" stroke=\"#000000\" points=\"488.0001,-271.13 484.5,-261.13 481.0001,-271.13 488.0001,-271.13\"/>\n",
       "</g>\n",
       "<!-- 13 -->\n",
       "<g id=\"node14\" class=\"node\">\n",
       "<title>13</title>\n",
       "<path fill=\"transparent\" stroke=\"#000000\" d=\"M873,-261C873,-261 750,-261 750,-261 744,-261 738,-255 738,-249 738,-249 738,-205 738,-205 738,-199 744,-193 750,-193 750,-193 873,-193 873,-193 879,-193 885,-199 885,-205 885,-205 885,-249 885,-249 885,-255 879,-261 873,-261\"/>\n",
       "<text text-anchor=\"middle\" x=\"811.5\" y=\"-245.8\" font-family=\"Helvetica,sans-Serif\" font-size=\"14.00\" fill=\"#000000\">X[110] &lt;= &#45;0.837</text>\n",
       "<text text-anchor=\"middle\" x=\"811.5\" y=\"-230.8\" font-family=\"Helvetica,sans-Serif\" font-size=\"14.00\" fill=\"#000000\">gini = 0.257</text>\n",
       "<text text-anchor=\"middle\" x=\"811.5\" y=\"-215.8\" font-family=\"Helvetica,sans-Serif\" font-size=\"14.00\" fill=\"#000000\">samples = 363</text>\n",
       "<text text-anchor=\"middle\" x=\"811.5\" y=\"-200.8\" font-family=\"Helvetica,sans-Serif\" font-size=\"14.00\" fill=\"#000000\">value = [0.743, 0.562]</text>\n",
       "</g>\n",
       "<!-- 5&#45;&gt;13 -->\n",
       "<g id=\"edge13\" class=\"edge\">\n",
       "<title>5&#45;&gt;13</title>\n",
       "<path fill=\"none\" stroke=\"#000000\" d=\"M558.2929,-307.5307C608.8326,-291.4569 675.9354,-270.1153 728.364,-253.4408\"/>\n",
       "<polygon fill=\"#000000\" stroke=\"#000000\" points=\"729.5067,-256.7502 737.9755,-250.3839 727.3851,-250.0795 729.5067,-256.7502\"/>\n",
       "</g>\n",
       "<!-- 7 -->\n",
       "<g id=\"node8\" class=\"node\">\n",
       "<title>7</title>\n",
       "<path fill=\"#e58139\" fill-opacity=\"0.003922\" stroke=\"#000000\" d=\"M300,-157C300,-157 177,-157 177,-157 171,-157 165,-151 165,-145 165,-145 165,-101 165,-101 165,-95 171,-89 177,-89 177,-89 300,-89 300,-89 306,-89 312,-95 312,-101 312,-101 312,-145 312,-145 312,-151 306,-157 300,-157\"/>\n",
       "<text text-anchor=\"middle\" x=\"238.5\" y=\"-141.8\" font-family=\"Helvetica,sans-Serif\" font-size=\"14.00\" fill=\"#000000\">X[59] &lt;= &#45;15.889</text>\n",
       "<text text-anchor=\"middle\" x=\"238.5\" y=\"-126.8\" font-family=\"Helvetica,sans-Serif\" font-size=\"14.00\" fill=\"#000000\">gini = 0.035</text>\n",
       "<text text-anchor=\"middle\" x=\"238.5\" y=\"-111.8\" font-family=\"Helvetica,sans-Serif\" font-size=\"14.00\" fill=\"#000000\">samples = 95</text>\n",
       "<text text-anchor=\"middle\" x=\"238.5\" y=\"-96.8\" font-family=\"Helvetica,sans-Serif\" font-size=\"14.00\" fill=\"#000000\">value = [0.965, 0.432]</text>\n",
       "</g>\n",
       "<!-- 6&#45;&gt;7 -->\n",
       "<g id=\"edge7\" class=\"edge\">\n",
       "<title>6&#45;&gt;7</title>\n",
       "<path fill=\"none\" stroke=\"#000000\" d=\"M410.6919,-195.7966C382.5969,-183.919 350.4024,-170.3084 321.5109,-158.0941\"/>\n",
       "<polygon fill=\"#000000\" stroke=\"#000000\" points=\"322.8296,-154.8517 312.256,-154.1814 320.1038,-161.2992 322.8296,-154.8517\"/>\n",
       "</g>\n",
       "<!-- 10 -->\n",
       "<g id=\"node11\" class=\"node\">\n",
       "<title>10</title>\n",
       "<path fill=\"#e58139\" fill-opacity=\"0.003922\" stroke=\"#000000\" d=\"M546,-157C546,-157 423,-157 423,-157 417,-157 411,-151 411,-145 411,-145 411,-101 411,-101 411,-95 417,-89 423,-89 423,-89 546,-89 546,-89 552,-89 558,-95 558,-101 558,-101 558,-145 558,-145 558,-151 552,-157 546,-157\"/>\n",
       "<text text-anchor=\"middle\" x=\"484.5\" y=\"-141.8\" font-family=\"Helvetica,sans-Serif\" font-size=\"14.00\" fill=\"#000000\">X[49] &lt;= 4.969</text>\n",
       "<text text-anchor=\"middle\" x=\"484.5\" y=\"-126.8\" font-family=\"Helvetica,sans-Serif\" font-size=\"14.00\" fill=\"#000000\">gini = 0.126</text>\n",
       "<text text-anchor=\"middle\" x=\"484.5\" y=\"-111.8\" font-family=\"Helvetica,sans-Serif\" font-size=\"14.00\" fill=\"#000000\">samples = 183</text>\n",
       "<text text-anchor=\"middle\" x=\"484.5\" y=\"-96.8\" font-family=\"Helvetica,sans-Serif\" font-size=\"14.00\" fill=\"#000000\">value = [0.874, 0.464]</text>\n",
       "</g>\n",
       "<!-- 6&#45;&gt;10 -->\n",
       "<g id=\"edge10\" class=\"edge\">\n",
       "<title>6&#45;&gt;10</title>\n",
       "<path fill=\"none\" stroke=\"#000000\" d=\"M484.5,-192.9465C484.5,-184.776 484.5,-175.9318 484.5,-167.3697\"/>\n",
       "<polygon fill=\"#000000\" stroke=\"#000000\" points=\"488.0001,-167.13 484.5,-157.13 481.0001,-167.13 488.0001,-167.13\"/>\n",
       "</g>\n",
       "<!-- 8 -->\n",
       "<g id=\"node9\" class=\"node\">\n",
       "<title>8</title>\n",
       "<path fill=\"#e58139\" fill-opacity=\"0.039216\" stroke=\"#000000\" d=\"M135,-53C135,-53 12,-53 12,-53 6,-53 0,-47 0,-41 0,-41 0,-12 0,-12 0,-6 6,0 12,0 12,0 135,0 135,0 141,0 147,-6 147,-12 147,-12 147,-41 147,-41 147,-47 141,-53 135,-53\"/>\n",
       "<text text-anchor=\"middle\" x=\"73.5\" y=\"-37.8\" font-family=\"Helvetica,sans-Serif\" font-size=\"14.00\" fill=\"#000000\">gini = 0.051</text>\n",
       "<text text-anchor=\"middle\" x=\"73.5\" y=\"-22.8\" font-family=\"Helvetica,sans-Serif\" font-size=\"14.00\" fill=\"#000000\">samples = 18</text>\n",
       "<text text-anchor=\"middle\" x=\"73.5\" y=\"-7.8\" font-family=\"Helvetica,sans-Serif\" font-size=\"14.00\" fill=\"#000000\">value = [0.949, 0.224]</text>\n",
       "</g>\n",
       "<!-- 7&#45;&gt;8 -->\n",
       "<g id=\"edge8\" class=\"edge\">\n",
       "<title>7&#45;&gt;8</title>\n",
       "<path fill=\"none\" stroke=\"#000000\" d=\"M180.3272,-88.9777C163.182,-78.9504 144.4975,-68.0228 127.618,-58.1508\"/>\n",
       "<polygon fill=\"#000000\" stroke=\"#000000\" points=\"129.3724,-55.1223 118.9734,-53.095 125.8385,-61.1648 129.3724,-55.1223\"/>\n",
       "</g>\n",
       "<!-- 9 -->\n",
       "<g id=\"node10\" class=\"node\">\n",
       "<title>9</title>\n",
       "<path fill=\"#e58139\" fill-opacity=\"0.007843\" stroke=\"#000000\" d=\"M300,-53C300,-53 177,-53 177,-53 171,-53 165,-47 165,-41 165,-41 165,-12 165,-12 165,-6 171,0 177,0 177,0 300,0 300,0 306,0 312,-6 312,-12 312,-12 312,-41 312,-41 312,-47 306,-53 300,-53\"/>\n",
       "<text text-anchor=\"middle\" x=\"238.5\" y=\"-37.8\" font-family=\"Helvetica,sans-Serif\" font-size=\"14.00\" fill=\"#000000\">gini = 0.032</text>\n",
       "<text text-anchor=\"middle\" x=\"238.5\" y=\"-22.8\" font-family=\"Helvetica,sans-Serif\" font-size=\"14.00\" fill=\"#000000\">samples = 77</text>\n",
       "<text text-anchor=\"middle\" x=\"238.5\" y=\"-7.8\" font-family=\"Helvetica,sans-Serif\" font-size=\"14.00\" fill=\"#000000\">value = [0.968, 0.481]</text>\n",
       "</g>\n",
       "<!-- 7&#45;&gt;9 -->\n",
       "<g id=\"edge9\" class=\"edge\">\n",
       "<title>7&#45;&gt;9</title>\n",
       "<path fill=\"none\" stroke=\"#000000\" d=\"M238.5,-88.9777C238.5,-80.7364 238.5,-71.887 238.5,-63.5153\"/>\n",
       "<polygon fill=\"#000000\" stroke=\"#000000\" points=\"242.0001,-63.2484 238.5,-53.2485 235.0001,-63.2485 242.0001,-63.2484\"/>\n",
       "</g>\n",
       "<!-- 11 -->\n",
       "<g id=\"node12\" class=\"node\">\n",
       "<title>11</title>\n",
       "<path fill=\"#e58139\" fill-opacity=\"0.011765\" stroke=\"#000000\" d=\"M465,-53C465,-53 342,-53 342,-53 336,-53 330,-47 330,-41 330,-41 330,-12 330,-12 330,-6 336,0 342,0 342,0 465,0 465,0 471,0 477,-6 477,-12 477,-12 477,-41 477,-41 477,-47 471,-53 465,-53\"/>\n",
       "<text text-anchor=\"middle\" x=\"403.5\" y=\"-37.8\" font-family=\"Helvetica,sans-Serif\" font-size=\"14.00\" fill=\"#000000\">gini = 0.051</text>\n",
       "<text text-anchor=\"middle\" x=\"403.5\" y=\"-22.8\" font-family=\"Helvetica,sans-Serif\" font-size=\"14.00\" fill=\"#000000\">samples = 38</text>\n",
       "<text text-anchor=\"middle\" x=\"403.5\" y=\"-7.8\" font-family=\"Helvetica,sans-Serif\" font-size=\"14.00\" fill=\"#000000\">value = [0.949, 0.468]</text>\n",
       "</g>\n",
       "<!-- 10&#45;&gt;11 -->\n",
       "<g id=\"edge11\" class=\"edge\">\n",
       "<title>10&#45;&gt;11</title>\n",
       "<path fill=\"none\" stroke=\"#000000\" d=\"M455.9424,-88.9777C448.3331,-79.9123 440.1061,-70.111 432.4747,-61.0192\"/>\n",
       "<polygon fill=\"#000000\" stroke=\"#000000\" points=\"435.062,-58.6577 425.9521,-53.2485 429.7005,-63.1581 435.062,-58.6577\"/>\n",
       "</g>\n",
       "<!-- 12 -->\n",
       "<g id=\"node13\" class=\"node\">\n",
       "<title>12</title>\n",
       "<path fill=\"#e58139\" fill-opacity=\"0.003922\" stroke=\"#000000\" d=\"M630,-53C630,-53 507,-53 507,-53 501,-53 495,-47 495,-41 495,-41 495,-12 495,-12 495,-6 501,0 507,0 507,0 630,0 630,0 636,0 642,-6 642,-12 642,-12 642,-41 642,-41 642,-47 636,-53 630,-53\"/>\n",
       "<text text-anchor=\"middle\" x=\"568.5\" y=\"-37.8\" font-family=\"Helvetica,sans-Serif\" font-size=\"14.00\" fill=\"#000000\">gini = 0.145</text>\n",
       "<text text-anchor=\"middle\" x=\"568.5\" y=\"-22.8\" font-family=\"Helvetica,sans-Serif\" font-size=\"14.00\" fill=\"#000000\">samples = 145</text>\n",
       "<text text-anchor=\"middle\" x=\"568.5\" y=\"-7.8\" font-family=\"Helvetica,sans-Serif\" font-size=\"14.00\" fill=\"#000000\">value = [0.855, 0.462]</text>\n",
       "</g>\n",
       "<!-- 10&#45;&gt;12 -->\n",
       "<g id=\"edge12\" class=\"edge\">\n",
       "<title>10&#45;&gt;12</title>\n",
       "<path fill=\"none\" stroke=\"#000000\" d=\"M514.1153,-88.9777C522.0064,-79.9123 530.5381,-70.111 538.4522,-61.0192\"/>\n",
       "<polygon fill=\"#000000\" stroke=\"#000000\" points=\"541.2906,-63.0892 545.2164,-53.2485 536.0107,-58.4932 541.2906,-63.0892\"/>\n",
       "</g>\n",
       "<!-- 14 -->\n",
       "<g id=\"node15\" class=\"node\">\n",
       "<title>14</title>\n",
       "<path fill=\"#e58139\" fill-opacity=\"0.007843\" stroke=\"#000000\" d=\"M873,-157C873,-157 750,-157 750,-157 744,-157 738,-151 738,-145 738,-145 738,-101 738,-101 738,-95 744,-89 750,-89 750,-89 873,-89 873,-89 879,-89 885,-95 885,-101 885,-101 885,-145 885,-145 885,-151 879,-157 873,-157\"/>\n",
       "<text text-anchor=\"middle\" x=\"811.5\" y=\"-141.8\" font-family=\"Helvetica,sans-Serif\" font-size=\"14.00\" fill=\"#000000\">X[54] &lt;= &#45;3.897</text>\n",
       "<text text-anchor=\"middle\" x=\"811.5\" y=\"-126.8\" font-family=\"Helvetica,sans-Serif\" font-size=\"14.00\" fill=\"#000000\">gini = 0.181</text>\n",
       "<text text-anchor=\"middle\" x=\"811.5\" y=\"-111.8\" font-family=\"Helvetica,sans-Serif\" font-size=\"14.00\" fill=\"#000000\">samples = 55</text>\n",
       "<text text-anchor=\"middle\" x=\"811.5\" y=\"-96.8\" font-family=\"Helvetica,sans-Serif\" font-size=\"14.00\" fill=\"#000000\">value = [0.819, 0.434]</text>\n",
       "</g>\n",
       "<!-- 13&#45;&gt;14 -->\n",
       "<g id=\"edge14\" class=\"edge\">\n",
       "<title>13&#45;&gt;14</title>\n",
       "<path fill=\"none\" stroke=\"#000000\" d=\"M811.5,-192.9465C811.5,-184.776 811.5,-175.9318 811.5,-167.3697\"/>\n",
       "<polygon fill=\"#000000\" stroke=\"#000000\" points=\"815.0001,-167.13 811.5,-157.13 808.0001,-167.13 815.0001,-167.13\"/>\n",
       "</g>\n",
       "<!-- 17 -->\n",
       "<g id=\"node18\" class=\"node\">\n",
       "<title>17</title>\n",
       "<path fill=\"transparent\" stroke=\"#000000\" d=\"M1115.5,-157C1115.5,-157 999.5,-157 999.5,-157 993.5,-157 987.5,-151 987.5,-145 987.5,-145 987.5,-101 987.5,-101 987.5,-95 993.5,-89 999.5,-89 999.5,-89 1115.5,-89 1115.5,-89 1121.5,-89 1127.5,-95 1127.5,-101 1127.5,-101 1127.5,-145 1127.5,-145 1127.5,-151 1121.5,-157 1115.5,-157\"/>\n",
       "<text text-anchor=\"middle\" x=\"1057.5\" y=\"-141.8\" font-family=\"Helvetica,sans-Serif\" font-size=\"14.00\" fill=\"#000000\">X[43] &lt;= &#45;7.793</text>\n",
       "<text text-anchor=\"middle\" x=\"1057.5\" y=\"-126.8\" font-family=\"Helvetica,sans-Serif\" font-size=\"14.00\" fill=\"#000000\">gini = 0.27</text>\n",
       "<text text-anchor=\"middle\" x=\"1057.5\" y=\"-111.8\" font-family=\"Helvetica,sans-Serif\" font-size=\"14.00\" fill=\"#000000\">samples = 308</text>\n",
       "<text text-anchor=\"middle\" x=\"1057.5\" y=\"-96.8\" font-family=\"Helvetica,sans-Serif\" font-size=\"14.00\" fill=\"#000000\">value = [0.73, 0.585]</text>\n",
       "</g>\n",
       "<!-- 13&#45;&gt;17 -->\n",
       "<g id=\"edge17\" class=\"edge\">\n",
       "<title>13&#45;&gt;17</title>\n",
       "<path fill=\"none\" stroke=\"#000000\" d=\"M885.3081,-195.7966C914.4247,-183.4871 947.9444,-169.3162 977.6274,-156.7673\"/>\n",
       "<polygon fill=\"#000000\" stroke=\"#000000\" points=\"979.2717,-159.8721 987.1195,-152.7544 976.5459,-153.4246 979.2717,-159.8721\"/>\n",
       "</g>\n",
       "<!-- 15 -->\n",
       "<g id=\"node16\" class=\"node\">\n",
       "<title>15</title>\n",
       "<path fill=\"#e58139\" fill-opacity=\"0.082353\" stroke=\"#000000\" d=\"M788.5,-53C788.5,-53 672.5,-53 672.5,-53 666.5,-53 660.5,-47 660.5,-41 660.5,-41 660.5,-12 660.5,-12 660.5,-6 666.5,0 672.5,0 672.5,0 788.5,0 788.5,0 794.5,0 800.5,-6 800.5,-12 800.5,-12 800.5,-41 800.5,-41 800.5,-47 794.5,-53 788.5,-53\"/>\n",
       "<text text-anchor=\"middle\" x=\"730.5\" y=\"-37.8\" font-family=\"Helvetica,sans-Serif\" font-size=\"14.00\" fill=\"#000000\">gini = 0.175</text>\n",
       "<text text-anchor=\"middle\" x=\"730.5\" y=\"-22.8\" font-family=\"Helvetica,sans-Serif\" font-size=\"14.00\" fill=\"#000000\">samples = 10</text>\n",
       "<text text-anchor=\"middle\" x=\"730.5\" y=\"-7.8\" font-family=\"Helvetica,sans-Serif\" font-size=\"14.00\" fill=\"#000000\">value = [0.825, 0.01]</text>\n",
       "</g>\n",
       "<!-- 14&#45;&gt;15 -->\n",
       "<g id=\"edge15\" class=\"edge\">\n",
       "<title>14&#45;&gt;15</title>\n",
       "<path fill=\"none\" stroke=\"#000000\" d=\"M782.9424,-88.9777C775.3331,-79.9123 767.1061,-70.111 759.4747,-61.0192\"/>\n",
       "<polygon fill=\"#000000\" stroke=\"#000000\" points=\"762.062,-58.6577 752.9521,-53.2485 756.7005,-63.1581 762.062,-58.6577\"/>\n",
       "</g>\n",
       "<!-- 16 -->\n",
       "<g id=\"node17\" class=\"node\">\n",
       "<title>16</title>\n",
       "<path fill=\"#e58139\" fill-opacity=\"0.007843\" stroke=\"#000000\" d=\"M954,-53C954,-53 831,-53 831,-53 825,-53 819,-47 819,-41 819,-41 819,-12 819,-12 819,-6 825,0 831,0 831,0 954,0 954,0 960,0 966,-6 966,-12 966,-12 966,-41 966,-41 966,-47 960,-53 954,-53\"/>\n",
       "<text text-anchor=\"middle\" x=\"892.5\" y=\"-37.8\" font-family=\"Helvetica,sans-Serif\" font-size=\"14.00\" fill=\"#000000\">gini = 0.182</text>\n",
       "<text text-anchor=\"middle\" x=\"892.5\" y=\"-22.8\" font-family=\"Helvetica,sans-Serif\" font-size=\"14.00\" fill=\"#000000\">samples = 45</text>\n",
       "<text text-anchor=\"middle\" x=\"892.5\" y=\"-7.8\" font-family=\"Helvetica,sans-Serif\" font-size=\"14.00\" fill=\"#000000\">value = [0.818, 0.528]</text>\n",
       "</g>\n",
       "<!-- 14&#45;&gt;16 -->\n",
       "<g id=\"edge16\" class=\"edge\">\n",
       "<title>14&#45;&gt;16</title>\n",
       "<path fill=\"none\" stroke=\"#000000\" d=\"M840.0576,-88.9777C847.6669,-79.9123 855.8939,-70.111 863.5253,-61.0192\"/>\n",
       "<polygon fill=\"#000000\" stroke=\"#000000\" points=\"866.2995,-63.1581 870.0479,-53.2485 860.938,-58.6577 866.2995,-63.1581\"/>\n",
       "</g>\n",
       "<!-- 18 -->\n",
       "<g id=\"node19\" class=\"node\">\n",
       "<title>18</title>\n",
       "<path fill=\"#e58139\" fill-opacity=\"0.007843\" stroke=\"#000000\" d=\"M1119,-53C1119,-53 996,-53 996,-53 990,-53 984,-47 984,-41 984,-41 984,-12 984,-12 984,-6 990,0 996,0 996,0 1119,0 1119,0 1125,0 1131,-6 1131,-12 1131,-12 1131,-41 1131,-41 1131,-47 1125,-53 1119,-53\"/>\n",
       "<text text-anchor=\"middle\" x=\"1057.5\" y=\"-37.8\" font-family=\"Helvetica,sans-Serif\" font-size=\"14.00\" fill=\"#000000\">gini = 0.853</text>\n",
       "<text text-anchor=\"middle\" x=\"1057.5\" y=\"-22.8\" font-family=\"Helvetica,sans-Serif\" font-size=\"14.00\" fill=\"#000000\">samples = 16</text>\n",
       "<text text-anchor=\"middle\" x=\"1057.5\" y=\"-7.8\" font-family=\"Helvetica,sans-Serif\" font-size=\"14.00\" fill=\"#000000\">value = [0.147, 0.012]</text>\n",
       "</g>\n",
       "<!-- 17&#45;&gt;18 -->\n",
       "<g id=\"edge18\" class=\"edge\">\n",
       "<title>17&#45;&gt;18</title>\n",
       "<path fill=\"none\" stroke=\"#000000\" d=\"M1057.5,-88.9777C1057.5,-80.7364 1057.5,-71.887 1057.5,-63.5153\"/>\n",
       "<polygon fill=\"#000000\" stroke=\"#000000\" points=\"1061.0001,-63.2484 1057.5,-53.2485 1054.0001,-63.2485 1061.0001,-63.2484\"/>\n",
       "</g>\n",
       "<!-- 19 -->\n",
       "<g id=\"node20\" class=\"node\">\n",
       "<title>19</title>\n",
       "<path fill=\"transparent\" stroke=\"#000000\" d=\"M1284,-53C1284,-53 1161,-53 1161,-53 1155,-53 1149,-47 1149,-41 1149,-41 1149,-12 1149,-12 1149,-6 1155,0 1161,0 1161,0 1284,0 1284,0 1290,0 1296,-6 1296,-12 1296,-12 1296,-41 1296,-41 1296,-47 1290,-53 1284,-53\"/>\n",
       "<text text-anchor=\"middle\" x=\"1222.5\" y=\"-37.8\" font-family=\"Helvetica,sans-Serif\" font-size=\"14.00\" fill=\"#000000\">gini = 0.238</text>\n",
       "<text text-anchor=\"middle\" x=\"1222.5\" y=\"-22.8\" font-family=\"Helvetica,sans-Serif\" font-size=\"14.00\" fill=\"#000000\">samples = 292</text>\n",
       "<text text-anchor=\"middle\" x=\"1222.5\" y=\"-7.8\" font-family=\"Helvetica,sans-Serif\" font-size=\"14.00\" fill=\"#000000\">value = [0.762, 0.616]</text>\n",
       "</g>\n",
       "<!-- 17&#45;&gt;19 -->\n",
       "<g id=\"edge19\" class=\"edge\">\n",
       "<title>17&#45;&gt;19</title>\n",
       "<path fill=\"none\" stroke=\"#000000\" d=\"M1115.6728,-88.9777C1132.818,-78.9504 1151.5025,-68.0228 1168.382,-58.1508\"/>\n",
       "<polygon fill=\"#000000\" stroke=\"#000000\" points=\"1170.1615,-61.1648 1177.0266,-53.095 1166.6276,-55.1223 1170.1615,-61.1648\"/>\n",
       "</g>\n",
       "</g>\n",
       "</svg>\n"
      ],
      "text/plain": [
       "<graphviz.files.Source at 0x7ff49aa85208>"
      ]
     },
     "execution_count": 339,
     "metadata": {},
     "output_type": "execute_result"
    }
   ],
   "source": [
    "dot_data = export_graphviz(big_cm.model, out_file = None, filled=True, rounded=True)\n",
    "graph = graphviz.Source(dot_data)\n",
    "graph"
   ]
  },
  {
   "cell_type": "code",
   "execution_count": 340,
   "metadata": {
    "collapsed": true
   },
   "outputs": [],
   "source": [
    "#Run on credit card default dataset\n",
    "skin = pd.read_csv('data/Skin.csv', sep='\\t', header=None)\n",
    "skin = skin.apply(lambda x: x-x.min())\n",
    "skin[3] = skin[3].astype('category')\n",
    "skin_shape = skin.apply(pd.Series.nunique)"
   ]
  },
  {
   "cell_type": "code",
   "execution_count": 341,
   "metadata": {
    "collapsed": true
   },
   "outputs": [],
   "source": [
    "default = pd.read_csv('data/default.csv', header=1)\n",
    "default = default.apply(lambda x: x-x.min())\n",
    "default = default.drop('ID', axis=1)\n",
    "default['default payment next month'] = default['default payment next month'].astype('category')\n",
    "#default.apply(pd.Series.nunique)"
   ]
  },
  {
   "cell_type": "code",
   "execution_count": 342,
   "metadata": {
    "collapsed": true
   },
   "outputs": [],
   "source": [
    "def PrivateNaiveBayes(db, test, budget, shape, choicemaker=None, alg=None, prng=None):\n",
    "    k = len(db.columns)\n",
    "    epsilon = budget/k\n",
    "    y_name = db.columns[-1]\n",
    "    ys = db[y_name]\n",
    "    [i0, i1] = db[y_name].cat.categories\n",
    "    if prng is None:\n",
    "        prng = np.random.RandomState()\n",
    "    ys_prob = Data(pd.value_counts(ys).sort_index(), shape[db.columns[-1]], len(ys), False, epsilon)\n",
    "    if choicemaker is None:\n",
    "        Hy = alg[0].run(ys_prob)\n",
    "    else:\n",
    "        Hy = choicemaker.choose(ys_prob)\n",
    "    #Hy = get_hist(ys, epsilon, prng, shape[db.columns[-1]])\n",
    "    Hy /= Hy.sum()\n",
    "\n",
    "    total_probs0 = np.repeat(Hy[i0], len(test))\n",
    "    total_probs1 = np.repeat(Hy[i1], len(test))\n",
    "    num_zeros = (ys == i0).sum()\n",
    "    num_ones = (ys == i1).sum()\n",
    "    for c in db.columns[:-1]:\n",
    "        cnts = pd.value_counts(db[ys == i0][c])\n",
    "        hist0 = np.zeros(shape[c], dtype='int32')\n",
    "        hist0[cnts.index] += cnts\n",
    "        col0_hist = Data(hist0, shape[c], num_zeros, False, epsilon)\n",
    "        if choicemaker is None:\n",
    "            histx0 = alg[1].run(col0_hist)\n",
    "        else:\n",
    "            histx0 = choicemaker.choose(col0_hist)\n",
    "        total_probs0 *= histx0[test[c]] / histx0.sum()\n",
    "\n",
    "        cnts = pd.value_counts(db[ys == i1][c])\n",
    "        hist1 = np.zeros(shape[c], dtype='int32')\n",
    "        hist1[cnts.index] += cnts\n",
    "        col1_hist = Data(hist1, shape[c], num_ones, False, epsilon)\n",
    "        if choicemaker is None:\n",
    "            histx1 = alg[1].run(col1_hist)\n",
    "        else:\n",
    "            histx1 = choicemaker.choose(col1_hist)\n",
    "        total_probs1 *= histx1[test[c]] / histx1.sum()\n",
    "    return total_probs0 / (total_probs1 + total_probs0)"
   ]
  },
  {
   "cell_type": "code",
   "execution_count": 343,
   "metadata": {
    "collapsed": true
   },
   "outputs": [],
   "source": [
    "from sklearn.metrics import roc_auc_score"
   ]
  },
  {
   "cell_type": "code",
   "execution_count": 349,
   "metadata": {
    "collapsed": true
   },
   "outputs": [],
   "source": [
    "def run_tests(db, db_shape, big_cm, eps):\n",
    "    perfs = []\n",
    "    for y in range(0, 20):\n",
    "        for x in [1000, 10000, 100000]:\n",
    "            half = int(x/2)\n",
    "            perf_size={'size' : x}\n",
    "            train = db.sample(half, replace=True).reset_index(drop=True)\n",
    "            test = db.sample(half, replace=True).reset_index(drop=True)\n",
    "            probs = PrivateNaiveBayes(train, test, eps, db_shape, big_cm)\n",
    "            perf_size['cm'] = roc_auc_score(test[3], probs)\n",
    "            for name, alg in hist_list.items():\n",
    "                probs = PrivateNaiveBayes(train, test, eps, db_shape, alg=[alg, alg])\n",
    "                perf_size[name] = roc_auc_score(test[3], probs)\n",
    "            #probs = PrivateNaiveBayes(train, test, eps, db_shape, alg=Oracle())\n",
    "            probs = PrivateNaiveBayes(train, test, eps, db_shape, alg=[hist_list['Laplace'], hist_list['Dawa']])\n",
    "            perf_size['oracle'] = roc_auc_score(test[3], probs)\n",
    "            perfs.append(perf_size)\n",
    "    return pd.DataFrame(perfs)"
   ]
  },
  {
   "cell_type": "code",
   "execution_count": 348,
   "metadata": {
    "collapsed": true
   },
   "outputs": [
    {
     "name": "stdout",
     "output_type": "stream",
     "text": [
      "Dawa\n",
      "53.0301012937\n",
      "Laplace\n",
      "100.569463994\n",
      "\n",
      "Dawa\n",
      "45.8288960758\n",
      "Laplace\n",
      "119.885949334\n",
      "\n",
      "Dawa\n",
      "136.122880903\n",
      "Laplace\n",
      "86.2228535224\n",
      "\n",
      "Dawa\n",
      "618.118049255\n",
      "Laplace\n",
      "363.745122532\n",
      "\n",
      "Dawa\n",
      "547.552220184\n",
      "Laplace\n",
      "257.928244702\n",
      "\n",
      "Dawa\n",
      "287.208280366\n",
      "Laplace\n",
      "39.3180270947\n",
      "\n",
      "Dawa\n",
      "503.170337527\n",
      "Laplace\n",
      "204.381063101\n",
      "\n",
      "Dawa\n",
      "300.151294911\n",
      "Laplace\n",
      "274.347003944\n",
      "\n",
      "Dawa\n",
      "66.6001307219\n",
      "Laplace\n",
      "43.0805093426\n",
      "\n",
      "Dawa\n",
      "130.480633753\n",
      "Laplace\n",
      "90.0643821943\n",
      "\n",
      "Dawa\n",
      "412.298066458\n",
      "Laplace\n",
      "196.567822505\n",
      "\n",
      "Dawa\n",
      "666.672197212\n",
      "Laplace\n",
      "133.918409291\n",
      "\n",
      "Dawa\n",
      "241.960427892\n",
      "Laplace\n",
      "205.060038189\n",
      "\n",
      "Dawa\n",
      "154.698967633\n",
      "Laplace\n",
      "18.0801913135\n",
      "\n",
      "Dawa\n",
      "156.994971897\n",
      "Laplace\n",
      "135.351919404\n",
      "\n",
      "Dawa\n",
      "255.384644984\n",
      "Laplace\n",
      "41.3113657184\n",
      "\n",
      "Dawa\n",
      "1122.47096135\n",
      "Laplace\n",
      "86.3059582037\n",
      "\n",
      "Dawa\n",
      "207.216847011\n",
      "Laplace\n",
      "79.5199296074\n",
      "\n",
      "Dawa\n",
      "99.3037348948\n",
      "Laplace\n",
      "166.475809953\n",
      "\n",
      "Dawa\n",
      "55.6834605112\n",
      "Laplace\n",
      "169.615594622\n",
      "\n",
      "Dawa\n",
      "112.793067738\n",
      "Laplace\n",
      "36.5465999927\n",
      "\n",
      "Dawa\n",
      "210.50064987\n",
      "Laplace\n",
      "100.592816159\n",
      "\n",
      "Dawa\n",
      "300.088287362\n",
      "Laplace\n",
      "64.6493539957\n",
      "\n",
      "Dawa\n",
      "236.173917728\n",
      "Laplace\n",
      "85.3040984038\n",
      "\n",
      "Dawa\n",
      "330.83748696\n",
      "Laplace\n",
      "237.152888382\n",
      "\n",
      "Dawa\n",
      "411.098384415\n",
      "Laplace\n",
      "41.0314356692\n",
      "\n",
      "Dawa\n",
      "131.564521277\n",
      "Laplace\n",
      "112.452566749\n",
      "\n",
      "Dawa\n",
      "252.250978308\n",
      "Laplace\n",
      "86.4546561979\n",
      "\n",
      "Dawa\n",
      "371.104307489\n",
      "Laplace\n",
      "116.18226288\n",
      "\n",
      "Dawa\n",
      "67.1263133742\n",
      "Laplace\n",
      "68.2270338754\n",
      "\n",
      "Dawa\n",
      "281.378649944\n",
      "Laplace\n",
      "90.0895962388\n",
      "\n",
      "Dawa\n",
      "139.317622738\n",
      "Laplace\n",
      "140.80889044\n",
      "\n",
      "Dawa\n",
      "206.797789455\n",
      "Laplace\n",
      "24.6077848915\n",
      "\n",
      "Dawa\n",
      "375.228406819\n",
      "Laplace\n",
      "104.789479596\n",
      "\n",
      "Dawa\n",
      "250.026515626\n",
      "Laplace\n",
      "82.9633477453\n",
      "\n",
      "Dawa\n",
      "500.038667004\n",
      "Laplace\n",
      "201.101329971\n",
      "\n",
      "Dawa\n",
      "198.070950884\n",
      "Laplace\n",
      "105.477955748\n",
      "\n",
      "Dawa\n",
      "118.316921129\n",
      "Laplace\n",
      "98.6735169556\n",
      "\n",
      "Dawa\n",
      "297.210049203\n",
      "Laplace\n",
      "100.83829515\n",
      "\n",
      "Dawa\n",
      "121.294599878\n",
      "Laplace\n",
      "369.168294302\n",
      "\n",
      "Dawa\n",
      "183.627467503\n",
      "Laplace\n",
      "84.2560675334\n",
      "\n",
      "Dawa\n",
      "95.4096459042\n",
      "Laplace\n",
      "61.0070603369\n",
      "\n",
      "Dawa\n",
      "40.0056685735\n",
      "Laplace\n",
      "23.3595675029\n",
      "\n",
      "Dawa\n",
      "341.538605213\n",
      "Laplace\n",
      "129.400810019\n",
      "\n",
      "Dawa\n",
      "524.727805357\n",
      "Laplace\n",
      "31.3964841535\n",
      "\n",
      "Dawa\n",
      "318.43649891\n",
      "Laplace\n",
      "107.154822989\n",
      "\n",
      "Dawa\n",
      "86.8653558346\n",
      "Laplace\n",
      "80.3376521239\n",
      "\n",
      "Dawa\n",
      "107.892349036\n",
      "Laplace\n",
      "228.706565775\n",
      "\n",
      "Dawa\n",
      "236.877258895\n",
      "Laplace\n",
      "109.895547077\n",
      "\n",
      "Dawa\n",
      "182.52954594\n",
      "Laplace\n",
      "144.491851446\n",
      "\n",
      "Dawa\n",
      "32.1166030561\n",
      "Laplace\n",
      "159.759613072\n",
      "\n",
      "Dawa\n",
      "338.500775049\n",
      "Laplace\n",
      "524.331004287\n",
      "\n",
      "Dawa\n",
      "704.968007218\n",
      "Laplace\n",
      "225.936134906\n",
      "\n",
      "Dawa\n",
      "28.8725714717\n",
      "Laplace\n",
      "125.203156956\n",
      "\n",
      "Dawa\n",
      "93.4578221912\n",
      "Laplace\n",
      "187.977921341\n",
      "\n",
      "Dawa\n",
      "132.507056293\n",
      "Laplace\n",
      "74.0810910184\n",
      "\n",
      "Dawa\n",
      "71.0652929914\n",
      "Laplace\n",
      "55.2654967488\n",
      "\n",
      "Dawa\n",
      "170.3858081\n",
      "Laplace\n",
      "58.0735266219\n",
      "\n",
      "Dawa\n",
      "122.758288017\n",
      "Laplace\n",
      "175.446969878\n",
      "\n",
      "Dawa\n",
      "203.340825487\n",
      "Laplace\n",
      "263.665245348\n",
      "\n"
     ]
    }
   ],
   "source": [
    "db = skin\n",
    "db_shape = skin_shape\n",
    "budget = 0.05\n",
    "shape=skin_shape\n",
    "for y in range(0, 20):\n",
    "    for x in [1000, 10000, 1000000]:\n",
    "        half = int(x/2)\n",
    "        train = db.sample(half, replace=False).reset_index(drop=True)\n",
    "        test = db.sample(half, replace=False).reset_index(drop=True)\n",
    "        db2 = train\n",
    "        k = len(db.columns)\n",
    "        epsilon = budget/k\n",
    "        y_name = db2.columns[-1]\n",
    "        ys = db2[y_name]\n",
    "        [i0, i1] = db2[y_name].cat.categories\n",
    "        prng = np.random.RandomState()\n",
    "        ys_prob = Data(pd.value_counts(ys).sort_index(), shape[db2.columns[-1]], len(ys), False, epsilon)\n",
    "        for key, alg in hist_list.items():\n",
    "            print(key), \n",
    "            print( np.linalg.norm( alg.run(ys_prob) - ys_prob.x))\n",
    "        print()"
   ]
  },
  {
   "cell_type": "code",
   "execution_count": 350,
   "metadata": {},
   "outputs": [
    {
     "data": {
      "text/html": [
       "<div>\n",
       "<style>\n",
       "    .dataframe thead tr:only-child th {\n",
       "        text-align: right;\n",
       "    }\n",
       "\n",
       "    .dataframe thead th {\n",
       "        text-align: left;\n",
       "    }\n",
       "\n",
       "    .dataframe tbody tr th {\n",
       "        vertical-align: top;\n",
       "    }\n",
       "</style>\n",
       "<table border=\"1\" class=\"dataframe\">\n",
       "  <thead>\n",
       "    <tr style=\"text-align: right;\">\n",
       "      <th></th>\n",
       "      <th>Dawa</th>\n",
       "      <th>Laplace</th>\n",
       "      <th>cm</th>\n",
       "      <th>oracle</th>\n",
       "    </tr>\n",
       "    <tr>\n",
       "      <th>size</th>\n",
       "      <th></th>\n",
       "      <th></th>\n",
       "      <th></th>\n",
       "      <th></th>\n",
       "    </tr>\n",
       "  </thead>\n",
       "  <tbody>\n",
       "    <tr>\n",
       "      <th>1000</th>\n",
       "      <td>0.445154</td>\n",
       "      <td>0.504931</td>\n",
       "      <td>0.501988</td>\n",
       "      <td>0.426283</td>\n",
       "    </tr>\n",
       "    <tr>\n",
       "      <th>10000</th>\n",
       "      <td>0.109545</td>\n",
       "      <td>0.404020</td>\n",
       "      <td>0.432130</td>\n",
       "      <td>0.103446</td>\n",
       "    </tr>\n",
       "    <tr>\n",
       "      <th>100000</th>\n",
       "      <td>0.033070</td>\n",
       "      <td>0.132832</td>\n",
       "      <td>0.172806</td>\n",
       "      <td>0.035407</td>\n",
       "    </tr>\n",
       "  </tbody>\n",
       "</table>\n",
       "</div>"
      ],
      "text/plain": [
       "            Dawa   Laplace        cm    oracle\n",
       "size                                          \n",
       "1000    0.445154  0.504931  0.501988  0.426283\n",
       "10000   0.109545  0.404020  0.432130  0.103446\n",
       "100000  0.033070  0.132832  0.172806  0.035407"
      ]
     },
     "execution_count": 350,
     "metadata": {},
     "output_type": "execute_result"
    }
   ],
   "source": [
    "perfs = run_tests(skin, skin_shape, big_cm, 0.2)\n",
    "perfs.groupby('size').mean()"
   ]
  },
  {
   "cell_type": "code",
   "execution_count": null,
   "metadata": {
    "collapsed": true
   },
   "outputs": [],
   "source": [
    "perfs2 = run_tests(default, big_cm)"
   ]
  },
  {
   "cell_type": "code",
   "execution_count": 186,
   "metadata": {},
   "outputs": [
    {
     "data": {
      "text/plain": [
       "{'Dawa': <__main__.Dawa at 0x7ff49b036da0>,\n",
       " 'Laplace': <__main__.Identity at 0x7ff49b036438>}"
      ]
     },
     "execution_count": 186,
     "metadata": {},
     "output_type": "execute_result"
    }
   ],
   "source": [
    "hist_list"
   ]
  },
  {
   "cell_type": "code",
   "execution_count": null,
   "metadata": {
    "collapsed": true
   },
   "outputs": [],
   "source": [
    "skin.apply(pd.Series.nunique)"
   ]
  },
  {
   "cell_type": "code",
   "execution_count": null,
   "metadata": {
    "collapsed": true
   },
   "outputs": [],
   "source": [
    "db = skin.sample(1000, replace=True).reset_index(drop=True)\n",
    "y_name = db.columns[-1]\n",
    "ys = db[y_name]\n",
    "x = dataset.Dataset(np.array(pd.value_counts(ys).sort_index()))\n",
    "ys_prob = Data(x, shape[db.columns[-1]], len(ys), False, epsilon)\n",
    "R1, R2 = Oracle().run(ys_prob)"
   ]
  },
  {
   "cell_type": "code",
   "execution_count": null,
   "metadata": {
    "collapsed": true
   },
   "outputs": [],
   "source": [
    "pd.value_counts(ys).sort_index()"
   ]
  },
  {
   "cell_type": "code",
   "execution_count": null,
   "metadata": {
    "collapsed": true
   },
   "outputs": [],
   "source": [
    "big_cm.X.columns"
   ]
  },
  {
   "cell_type": "code",
   "execution_count": null,
   "metadata": {
    "collapsed": true
   },
   "outputs": [],
   "source": []
  }
 ],
 "metadata": {
  "kernelspec": {
   "display_name": "Python 3",
   "language": "python",
   "name": "python3"
  },
  "language_info": {
   "codemirror_mode": {
    "name": "ipython",
    "version": 3
   },
   "file_extension": ".py",
   "mimetype": "text/x-python",
   "name": "python",
   "nbconvert_exporter": "python",
   "pygments_lexer": "ipython3",
   "version": "3.6.3"
  }
 },
 "nbformat": 4,
 "nbformat_minor": 2
}
