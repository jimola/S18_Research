{
 "cells": [
  {
   "cell_type": "code",
   "execution_count": 172,
   "metadata": {},
   "outputs": [],
   "source": [
    "library(parallel)\n",
    "source('PTrees.R')\n",
    "source('Datasets.R')\n",
    "library(class)\n",
    "source('PTrees_General.R')\n",
    "source('Graph.R')"
   ]
  },
  {
   "cell_type": "code",
   "execution_count": 189,
   "metadata": {
    "collapsed": true
   },
   "outputs": [],
   "source": [
    "#P1: predict whether to stop\n",
    "dtree_helper <- function(t, dataset, fixed_params, predictors){\n",
    "    data <- dataset$data\n",
    "    x_names <- dataset$x_names\n",
    "    y_names <- dataset$y_names\n",
    "    rng <- dataset$rng\n",
    "    ys <- get(y_names, data)\n",
    "    t$nrows <- Inf\n",
    "    effects <- predictors$P1(t, dataset, fixed_params)\n",
    "    fixed_params$epsilon <- fixed_params$epsilon-effects$used\n",
    "    if(fixed_params$dep == 0 || effects$action == 1){ #t$nrows < params$sigma\n",
    "        get_leaf_node(ys, t, fixed_params$epsilon)\n",
    "        return()\n",
    "    }\n",
    "    fixed_params$dep <- fixed_params$dep-1\n",
    "    attr_best <- 0\n",
    "    if(effects$action==2){\n",
    "        atp <- lapply(x_names, function(name) cond_eval(name, data, rng, ys))\n",
    "        utilities <- sapply(atp, function(x) -x$ent)\n",
    "        attr_best <- exp_mech(atp, utilities, fixed_params$query_budget, ent_util$sens)\n",
    "        fixed_params$epsilon <- fixed_params$epsilon-fixed_params$query_budget\n",
    "    }else{\n",
    "        name <- sample(x_names, 1)\n",
    "        attr_best <- cond_eval(name, data, range_bounds, ys)\n",
    "    }\n",
    "    t$name <- paste(t$name, attr_best$name, sep=';')\n",
    "    t$pars <- split(attr_best)\n",
    "    t$attr <- attr_best$name\n",
    "    col <- get(attr_best$name, data)\n",
    "    dataset$x_names <- x_names[x_names != attr_best$name]\n",
    "    for(fn in t$pars){\n",
    "        subset <- (fn$fn)(col)\n",
    "        dataset$data <- data[subset, ]\n",
    "        dtree_helper(t$AddChild(fn$name), dataset, fixed_params, predictors)\n",
    "    }\n",
    "}\n",
    "\n",
    "dtree_outer <- function(dataset, dep, epsilon, predictors){\n",
    "    dt <- Node$new('')\n",
    "    params <- list(collect_size=TRUE, sigma=0, query_budget=epsilon/(2*(dep+1)), num_attr=length(dataset$x_names),\n",
    "                   epsilon=epsilon, dep=dep)\n",
    "    if(TRUE){\n",
    "        params$sigma <- get_sigma(dataset$data, dataset$x_names, dataset$y_names) / params$query_budget\n",
    "        dtree_helper(dt, dataset,  params, predictors)\n",
    "        if(FALSE){\n",
    "            prune_tree(dt, y_name %>% get(data) %>% levels)\n",
    "        }   \n",
    "    }else{\n",
    "        params$collect_size <- FALSE\n",
    "        params$query_budget <- params$query_budget*2\n",
    "        dtree_helper(dt, dataset, params, predictors)\n",
    "    }\n",
    "    return(dt)\n",
    "}"
   ]
  },
  {
   "cell_type": "code",
   "execution_count": 200,
   "metadata": {},
   "outputs": [
    {
     "data": {
      "text/html": [
       "0.767361111111111"
      ],
      "text/latex": [
       "0.767361111111111"
      ],
      "text/markdown": [
       "0.767361111111111"
      ],
      "text/plain": [
       "[1] 0.7673611"
      ]
     },
     "metadata": {},
     "output_type": "display_data"
    }
   ],
   "source": [
    "S2 <- split_data(ttt, 0.7)\n",
    "t <- dtree_outer(S2$train, 5, 5, list(P1=function(t, dataset, fixed_params){\n",
    "    t$nrows <- hist_noiser(nrow(dataset$data), fixed_params$query_budget)\n",
    "    a <- 1\n",
    "    if(t$nrows >= fixed_params$sigma)\n",
    "        a <- 2\n",
    "    return(list(action=a, used=fixed_params$query_budget))\n",
    "}))\n",
    "test_tree(t, S2$test)"
   ]
  },
  {
   "cell_type": "code",
   "execution_count": null,
   "metadata": {
    "collapsed": true
   },
   "outputs": [],
   "source": [
    "#What will allow me to do maximal data exploration?"
   ]
  },
  {
   "cell_type": "code",
   "execution_count": 208,
   "metadata": {},
   "outputs": [
    {
     "data": {
      "text/html": [
       "0"
      ],
      "text/latex": [
       "0"
      ],
      "text/markdown": [
       "0"
      ],
      "text/plain": [
       "[1] 0"
      ]
     },
     "metadata": {},
     "output_type": "display_data"
    }
   ],
   "source": [
    "as.integer(runif(1, 0, 2))"
   ]
  },
  {
   "cell_type": "code",
   "execution_count": 248,
   "metadata": {
    "collapsed": true
   },
   "outputs": [],
   "source": [
    "get_max_app <- function(ys, eps){\n",
    "    m <- data.frame(table(ys))\n",
    "    counts <- hist_noiser(m$Freq, eps)\n",
    "    idx <- which.max(counts)\n",
    "    guess <- m$ys[idx]\n",
    "    return(guess)\n",
    "}\n",
    "dtree_helper_train <- function(dataset, params, validation){\n",
    "    data <- dataset$data\n",
    "    x_names <- dataset$x_names\n",
    "    y_names <- dataset$y_names\n",
    "    ys <- get(y_names, data)\n",
    "    nrows <- hist_noiser(nrow(data), params$query_budget)\n",
    "    params$epsilon <- params$epsilon-params$query_budget\n",
    "    guess <- get_max_app(ys, params$epsilon)\n",
    "    leaf_performance <- sum(get(y_names, validation) == guess)\n",
    "    if(params$dep == 0 || nrows < 20)\n",
    "        return(list(per=leaf_performance, data=data.frame()))\n",
    "    atp <- lapply(x_names, function(name) cond_eval(name, data, dataset$rng, ys))\n",
    "    utilities <- sapply(atp, function(x) -x$ent)\n",
    "    attr_exp <- exp_mech(atp, utilities, params$query_budget, ent_util$sens)\n",
    "    attr_rand <- sample(atp, 1)[[1]]\n",
    "    attr <- 0\n",
    "    if(runif(1) < 0.5){\n",
    "        attr <- attr_exp\n",
    "        params$epsilon <- params$epsilon-params$query_budget\n",
    "    }else{\n",
    "        attr <- attr_rand\n",
    "    }\n",
    "    stop_performance <- sum(guess == get(y_names, validation))\n",
    "    pars <- split(attr)\n",
    "    tot_right <- 0\n",
    "    rec_calls <- data.frame()\n",
    "    params$x_names <- x_names[x_names != attr$name]\n",
    "    params$dep <- params$dep-1\n",
    "    col_train <- get(attr$name, data)\n",
    "    col_test <- get(attr$name, validation)\n",
    "    for(fn in pars){\n",
    "        dataset$data <- data[fn$fn(col_train), ]\n",
    "        L <- dtree_helper_train(dataset, params, validation[fn$fn(col_test), ])\n",
    "        tot_right <- tot_right+L$per\n",
    "        rec_calls <- rbind(rec_calls, L$data)\n",
    "    }\n",
    "    rec_calls <- rbind(rec_calls, data.frame(right=tot_right))\n",
    "    return(list(per=tot_right, data=rec_calls))\n",
    "}\n",
    "dtree_outer_train <- function(dataset, dep, epsilon){\n",
    "    params <- list(collect_size=TRUE,  query_budget=epsilon/(2*(dep+1)), dep=dep, epsilon=epsilon)\n",
    "    if(TRUE){\n",
    "        return(dtree_helper_train(dataset$train, params, dataset$test$data))\n",
    "        if(FALSE){\n",
    "            prune_tree(dt, y_name %>% get(data) %>% levels)\n",
    "        }\n",
    "    }else{\n",
    "        params$collect_size <- FALSE\n",
    "        params$query_budget <- params$query_budget*2\n",
    "        #dtree_helper_train(data, test, attrs, y_name, dep, epsilon, params)\n",
    "    }\n",
    "}"
   ]
  },
  {
   "cell_type": "code",
   "execution_count": 249,
   "metadata": {},
   "outputs": [
    {
     "data": {
      "text/html": [
       "<dl>\n",
       "\t<dt>$per</dt>\n",
       "\t\t<dd>401</dd>\n",
       "\t<dt>$data</dt>\n",
       "\t\t<dd><table>\n",
       "<thead><tr><th scope=col>right</th></tr></thead>\n",
       "<tbody>\n",
       "\t<tr><td>  0</td></tr>\n",
       "\t<tr><td>  0</td></tr>\n",
       "\t<tr><td>  1</td></tr>\n",
       "\t<tr><td> 13</td></tr>\n",
       "\t<tr><td> 16</td></tr>\n",
       "\t<tr><td> 32</td></tr>\n",
       "\t<tr><td>  8</td></tr>\n",
       "\t<tr><td>  8</td></tr>\n",
       "\t<tr><td> 26</td></tr>\n",
       "\t<tr><td> 34</td></tr>\n",
       "\t<tr><td> 46</td></tr>\n",
       "\t<tr><td> 30</td></tr>\n",
       "\t<tr><td>  5</td></tr>\n",
       "\t<tr><td> 16</td></tr>\n",
       "\t<tr><td>  0</td></tr>\n",
       "\t<tr><td>  0</td></tr>\n",
       "\t<tr><td>  0</td></tr>\n",
       "\t<tr><td> 22</td></tr>\n",
       "\t<tr><td> 29</td></tr>\n",
       "\t<tr><td> 13</td></tr>\n",
       "\t<tr><td>  0</td></tr>\n",
       "\t<tr><td>  1</td></tr>\n",
       "\t<tr><td>  0</td></tr>\n",
       "\t<tr><td>  0</td></tr>\n",
       "\t<tr><td>  1</td></tr>\n",
       "\t<tr><td> 11</td></tr>\n",
       "\t<tr><td>  0</td></tr>\n",
       "\t<tr><td>  0</td></tr>\n",
       "\t<tr><td>  2</td></tr>\n",
       "\t<tr><td> 25</td></tr>\n",
       "\t<tr><td> 30</td></tr>\n",
       "\t<tr><td> 11</td></tr>\n",
       "\t<tr><td>401</td></tr>\n",
       "</tbody>\n",
       "</table>\n",
       "</dd>\n",
       "</dl>\n"
      ],
      "text/latex": [
       "\\begin{description}\n",
       "\\item[\\$per] 401\n",
       "\\item[\\$data] \\begin{tabular}{r|l}\n",
       " right\\\\\n",
       "\\hline\n",
       "\t   0\\\\\n",
       "\t   0\\\\\n",
       "\t   1\\\\\n",
       "\t  13\\\\\n",
       "\t  16\\\\\n",
       "\t  32\\\\\n",
       "\t   8\\\\\n",
       "\t   8\\\\\n",
       "\t  26\\\\\n",
       "\t  34\\\\\n",
       "\t  46\\\\\n",
       "\t  30\\\\\n",
       "\t   5\\\\\n",
       "\t  16\\\\\n",
       "\t   0\\\\\n",
       "\t   0\\\\\n",
       "\t   0\\\\\n",
       "\t  22\\\\\n",
       "\t  29\\\\\n",
       "\t  13\\\\\n",
       "\t   0\\\\\n",
       "\t   1\\\\\n",
       "\t   0\\\\\n",
       "\t   0\\\\\n",
       "\t   1\\\\\n",
       "\t  11\\\\\n",
       "\t   0\\\\\n",
       "\t   0\\\\\n",
       "\t   2\\\\\n",
       "\t  25\\\\\n",
       "\t  30\\\\\n",
       "\t  11\\\\\n",
       "\t 401\\\\\n",
       "\\end{tabular}\n",
       "\n",
       "\\end{description}\n"
      ],
      "text/markdown": [
       "$per\n",
       ":   401\n",
       "$data\n",
       ":   \n",
       "right | \n",
       "|---|---|---|---|---|---|---|---|---|---|---|---|---|---|---|---|---|---|---|---|---|---|---|---|---|---|---|---|---|---|---|---|---|\n",
       "|   0 | \n",
       "|   0 | \n",
       "|   1 | \n",
       "|  13 | \n",
       "|  16 | \n",
       "|  32 | \n",
       "|   8 | \n",
       "|   8 | \n",
       "|  26 | \n",
       "|  34 | \n",
       "|  46 | \n",
       "|  30 | \n",
       "|   5 | \n",
       "|  16 | \n",
       "|   0 | \n",
       "|   0 | \n",
       "|   0 | \n",
       "|  22 | \n",
       "|  29 | \n",
       "|  13 | \n",
       "|   0 | \n",
       "|   1 | \n",
       "|   0 | \n",
       "|   0 | \n",
       "|   1 | \n",
       "|  11 | \n",
       "|   0 | \n",
       "|   0 | \n",
       "|   2 | \n",
       "|  25 | \n",
       "|  30 | \n",
       "|  11 | \n",
       "| 401 | \n",
       "\n",
       "\n",
       "\n",
       "\n",
       "\n"
      ],
      "text/plain": [
       "$per\n",
       "[1] 401\n",
       "\n",
       "$data\n",
       "   right\n",
       "1      0\n",
       "2      0\n",
       "3      1\n",
       "4     13\n",
       "5     16\n",
       "6     32\n",
       "7      8\n",
       "8      8\n",
       "9     26\n",
       "10    34\n",
       "11    46\n",
       "12    30\n",
       "13     5\n",
       "14    16\n",
       "15     0\n",
       "16     0\n",
       "17     0\n",
       "18    22\n",
       "19    29\n",
       "20    13\n",
       "21     0\n",
       "22     1\n",
       "23     0\n",
       "24     0\n",
       "25     1\n",
       "26    11\n",
       "27     0\n",
       "28     0\n",
       "29     2\n",
       "30    25\n",
       "31    30\n",
       "32    11\n",
       "33   401\n"
      ]
     },
     "metadata": {},
     "output_type": "display_data"
    }
   ],
   "source": [
    "S1 <- split_data(bind, 0.7)\n",
    "dtree_outer_train(S1, 5, 5)"
   ]
  },
  {
   "cell_type": "code",
   "execution_count": 98,
   "metadata": {
    "collapsed": true
   },
   "outputs": [],
   "source": [
    "L3 <- data.frame()\n",
    "L4 <- data.frame()\n",
    "set.seed(12345)\n",
    "#S1 <- split_data(bind, 0.7)\n",
    "#S2 <- split_data(ttt, 0.7)\n",
    "S3 <- split_data(nurs, 0.5)\n",
    "#S4 <- split_data(contra, 0.7)\n",
    "#S5 <- split_data(loan, 0.7)\n",
    "#S6 <- split_data(student, 0.7)"
   ]
  },
  {
   "cell_type": "code",
   "execution_count": null,
   "metadata": {
    "scrolled": true
   },
   "outputs": [],
   "source": [
    "#dtree_general_train(S1, 5, 5)\n",
    "#dtree_general_train(S2, 5, 5)\n",
    "#dtree_general_train(S3, 5, 5)\n",
    "#dtree_general_train(S4, 5, 5)\n",
    "#dtree_general_train(S5, 5, 5)\n",
    "#dtree_general_train(S6, 5, 5)"
   ]
  },
  {
   "cell_type": "code",
   "execution_count": 101,
   "metadata": {
    "collapsed": true
   },
   "outputs": [],
   "source": [
    "L3 <- mutate(L3, best=as.factor(best), )"
   ]
  },
  {
   "cell_type": "code",
   "execution_count": 102,
   "metadata": {
    "collapsed": true
   },
   "outputs": [],
   "source": [
    "L3_data <- data.frame(nrow=L3$nrow %>% log10, pct=L3$attrs_left / L3$attr_size)"
   ]
  },
  {
   "cell_type": "code",
   "execution_count": 157,
   "metadata": {
    "scrolled": true
   },
   "outputs": [],
   "source": [
    "eps_test <- c(0.5, 1:10)\n",
    "predict1 <- list(L4=function(params){\n",
    "    a <- knn(L3_data, data.frame(nrow=params$nrow %>% log10, pct=params$attr_left / params$num_attr), L3$best, k=1) %>% as.integer\n",
    "    return(a)\n",
    "})\n",
    "T1 <- get_data(S3, eps_test, function(d, b, dep){dtree_general(d,b,dep,predict1)}, \"Learning\")\n",
    "predict2 <- list(L4=function(params){\n",
    "    if(params$nrow < params$sigma)\n",
    "        return(1)\n",
    "    else\n",
    "        return(2)\n",
    "})\n",
    "T2 <- get_data(S3, eps_test, function(d, b, dep){dtree_general(d,b,dep,predict2)}, \"No Learning, stopping\")\n",
    "predict3 <- list(L4=function(params){\n",
    "    return(2)\n",
    "})\n",
    "T3 <- get_data(S3, eps_test, function(d, b, dep){dtree_general(d,b,dep,predict3)}, \"No Learning, no stopping\")"
   ]
  },
  {
   "cell_type": "code",
   "execution_count": 159,
   "metadata": {},
   "outputs": [
    {
     "data": {},
     "metadata": {},
     "output_type": "display_data"
    },
    {
     "data": {
      "image/png": "[encoded data removed]",
      "text/plain": [
       "plot without title"
      ]
     },
     "metadata": {},
     "output_type": "display_data"
    }
   ],
   "source": [
    "get_plot(rbind(T1, T2, T3))"
   ]
  },
  {
   "cell_type": "code",
   "execution_count": 153,
   "metadata": {},
   "outputs": [],
   "source": [
    "dt_gen <- function(d, b, dep){dtree_general(d,b,dep,predict1)}\n",
    "G <- mapply(function(...) sapply(eps_test, function(e){test(S3, e, 5, dt_gen)}), 1:10)"
   ]
  },
  {
   "cell_type": "code",
   "execution_count": 155,
   "metadata": {},
   "outputs": [],
   "source": [
    "DF <- data.frame(eps=eps_test, performance=rowMeans(G), desc=\"Learning\")"
   ]
  },
  {
   "cell_type": "code",
   "execution_count": 141,
   "metadata": {},
   "outputs": [
    {
     "data": {
      "text/html": [
       "5649"
      ],
      "text/latex": [
       "5649"
      ],
      "text/markdown": [
       "5649"
      ],
      "text/plain": [
       "[1] 5649"
      ]
     },
     "metadata": {},
     "output_type": "display_data"
    },
    {
     "data": {
      "text/html": [
       "5910"
      ],
      "text/latex": [
       "5910"
      ],
      "text/markdown": [
       "5910"
      ],
      "text/plain": [
       "[1] 5910"
      ]
     },
     "metadata": {},
     "output_type": "display_data"
    },
    {
     "data": {
      "text/html": [
       "5883"
      ],
      "text/latex": [
       "5883"
      ],
      "text/markdown": [
       "5883"
      ],
      "text/plain": [
       "[1] 5883"
      ]
     },
     "metadata": {},
     "output_type": "display_data"
    }
   ],
   "source": [
    "ys <- get(S3$test$y_names, S3$test$data)\n",
    "sum(predict(t, S3$test$data, ys[1]) == ys)\n",
    "sum(predict(t2, S3$test$data, ys[1]) == ys)\n",
    "sum(predict(t3, S3$test$data, ys[1]) == ys)"
   ]
  },
  {
   "cell_type": "code",
   "execution_count": 104,
   "metadata": {},
   "outputs": [
    {
     "data": {},
     "metadata": {},
     "output_type": "display_data"
    },
    {
     "data": {
      "image/png": "[encoded data removed]",
      "text/plain": [
       "plot without title"
      ]
     },
     "metadata": {},
     "output_type": "display_data"
    }
   ],
   "source": [
    "ggplot(L3, aes(x=attrs_left / attr_size, y=nrow, color=best))+geom_point() +scale_y_log10()"
   ]
  },
  {
   "cell_type": "code",
   "execution_count": 163,
   "metadata": {
    "collapsed": true
   },
   "outputs": [],
   "source": [
    "#Is knn the problem? Could I do it manually?\n",
    "#Get a draft of everything I've done so far before I'm gone (version of my thesis to send to Jean)\n",
    "#Meet with Matt while I'm at home\n",
    "#Ask my mom if Jean can talk to her\n",
    "#How hands-on are the professors with their students? How much meeting time vs \n",
    "#How technical are they? How many do they currently have?\n",
    "#What is the group culture like? Ask to talk to the students."
   ]
  }
 ],
 "metadata": {
  "kernelspec": {
   "display_name": "R",
   "language": "R",
   "name": "ir"
  },
  "language_info": {
   "codemirror_mode": "r",
   "file_extension": ".r",
   "mimetype": "text/x-r-source",
   "name": "R",
   "pygments_lexer": "r",
   "version": "3.4.3"
  }
 },
 "nbformat": 4,
 "nbformat_minor": 2
}
