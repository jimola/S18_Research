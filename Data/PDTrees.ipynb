{
 "cells": [
  {
   "cell_type": "code",
   "execution_count": 322,
   "metadata": {},
   "outputs": [],
   "source": [
    "library(data.table)\n",
    "library(dplyr)\n",
    "library(ggplot2)\n",
    "library(stringr)\n",
    "library(DT)\n",
    "library(tidyr)\n",
    "library(corrplot)\n",
    "library(leaflet)\n",
    "library(lubridate)\n",
    "library(data.tree)\n",
    "library(purrr)"
   ]
  },
  {
   "cell_type": "code",
   "execution_count": 323,
   "metadata": {
    "collapsed": true
   },
   "outputs": [],
   "source": [
    "i3 <- iris\n",
    "i3$Noise <- as.factor(floor(runif(nrow(iris), 0, 4)))\n",
    "attr_names <- names(i3)[-5]\n",
    "class_name <- names(i3)[5]\n",
    "lvls <- levels(i3$Species)\n",
    "inf <- 99999"
   ]
  },
  {
   "cell_type": "code",
   "execution_count": 324,
   "metadata": {
    "collapsed": true
   },
   "outputs": [],
   "source": [
    "#Entropy utility function\n",
    "ent_util <- list(func=function(data){\n",
    "    return(\n",
    "        function(col){\n",
    "            -get_best_val(get(col, data$xs), data$ys, col)$ent\n",
    "        }\n",
    "    )\n",
    "}, sens=log(nrow(i3)+1)/log(2) + 1/log(2))\n",
    "\n",
    "#Two functions for computing exponential mech.\n",
    "exp_mech2 <- function(data, domain, util, eps){\n",
    "    n <- length(domain)\n",
    "    wghts <- exp(eps*sapply(domain, util$func(data)) / (2*util$sens))\n",
    "    prob <- wghts / sum(wghts)\n",
    "    u <- runif(1)\n",
    "    i <- min(n, findInterval(u, cumsum(prob))+1)\n",
    "    return(domain[[i]])\n",
    "}\n",
    "exp_mech <- function(domain, util, eps, sens=1){\n",
    "    n <- length(domain)\n",
    "    wghts <- exp(eps*util / (2*sens))\n",
    "    prob <- wghts / sum(wghts)\n",
    "    u <- runif(1)\n",
    "    i <- min(n, findInterval(u, cumsum(prob))+1)\n",
    "    return(domain[[i]])\n",
    "}"
   ]
  },
  {
   "cell_type": "code",
   "execution_count": 397,
   "metadata": {
    "collapsed": true
   },
   "outputs": [],
   "source": [
    "#Entropy function\n",
    "get_ent <- function(r){\n",
    "    if(!is.matrix(r)){\n",
    "        r <- matrix(r, nrow=1)\n",
    "    }\n",
    "    r <- r / rowSums(r)\n",
    "    ent <- -r*log(r) / log(2)\n",
    "    ent[is.nan(ent)] = 0\n",
    "    return(rowSums(ent))\n",
    "}\n",
    "#Computes conditional utility of a real attribute as well as the value to split on\n",
    "cond_eval_num <- function(xs, ys, uti=get_ent, eps=0, min=0, max=100){\n",
    "    xs_ord <- order(xs)\n",
    "    ys_ord <- ys[xs_ord]\n",
    "    ind <- matrix(sapply(levels(ys), function(x){cumsum(as.integer(ys_ord == x))}), ncol=2)\n",
    "    ind2 <- -sweep(ind, 2, ind[nrow(ind), ])\n",
    "    changed <- xs[xs_ord] != shift(xs[xs_ord], fill=0, type='lead')\n",
    "    ind <- subset(ind, changed)\n",
    "    ind2 <- subset(ind2, changed)\n",
    "    d <- nrow(ind)\n",
    "    if(d == 0){\n",
    "        return(list(ent=inf, split=runif(1, min, max), type='numeric'))\n",
    "    }\n",
    "    ents <- c(uti(ind[d, ]),  (uti(ind) * 1:d + uti(ind2) * (d-1):0)/d)\n",
    "    if(eps == 0){\n",
    "        split_ind <- which(ents == min(ents))[[1]]\n",
    "        return(list(ent=ents[split_ind], split=xs[xs_ord[changed][split_ind]], type='numeric'))\n",
    "    }\n",
    "    split_ind <- exp_mech(1:length(ents), -ents, eps, ent_util$sens)\n",
    "    if(split_ind != 1)\n",
    "        min = xs[xs_ord[changed][split_ind-1]]\n",
    "    if(split_ind != d+1)\n",
    "        max = xs[xs_ord[changed][split_ind]]\n",
    "    s <- runif(1, min, max)\n",
    "    return(list(ent=ents[split_ind], split=s, type='numeric'))\n",
    "}\n",
    "#Computes conditional utility of a factor variable\n",
    "cond_eval_fac <- function(xs, ys, uti=get_ent){\n",
    "    t <- table(xs, ys)\n",
    "    ents <- uti(table(xs, ys)) * rowSums(t)\n",
    "    ent <- sum(ents) / sum(t)\n",
    "    return(list(ent=ent, split=levels(xs), type='factor'))\n",
    "}\n",
    "#cond_eval_num(i3$Sepal.Length, i3$Species, \"Sepal_Length\")\n",
    "#cond_eval_fac(i3$Noise, i3$Species, \"\")"
   ]
  },
  {
   "cell_type": "code",
   "execution_count": 326,
   "metadata": {
    "scrolled": false
   },
   "outputs": [],
   "source": [
    "#An equality functional\n",
    "equality <- function(a){\n",
    "    function(d){\n",
    "        d == a\n",
    "    }\n",
    "}\n",
    "#Returns a non-private decision tree (helper)\n",
    "decision_tree <- function(data, pred, attrs, node, d){\n",
    "    p <- get(pred, data)\n",
    "    if(length(attrs) == 0 || d <= 0 || get_ent(table(p)) == 0){\n",
    "        m <- data.frame(table(p))\n",
    "        idx <- which.max(m$Freq)\n",
    "        guess <- m$p[idx]\n",
    "        node$guess <- guess\n",
    "        node$name <- paste(node$name, guess, sep=';')\n",
    "        return()\n",
    "    }\n",
    "    best_attr <- list(ent=inf)\n",
    "    for(c in attrs){\n",
    "        xs <- get(c, data)\n",
    "        e <- 0\n",
    "        if(class(xs) == 'factor')\n",
    "            e <- cond_eval_fac(xs, p)\n",
    "        else if(class(xs) == 'numeric')\n",
    "            e <- cond_eval_num(xs, p)\n",
    "        e$name <- c\n",
    "        if(e$ent < best_attr$ent){\n",
    "            best_attr <- e\n",
    "        }\n",
    "    }\n",
    "    node$name <- paste(node$name, best_attr$name, sep=';')\n",
    "    ba <- best_attr$name\n",
    "    nl <- attrs[attrs!= ba]\n",
    "    if(best_attr$type == 'numeric'){\n",
    "        s1 <- get(ba, data) < best_attr$split\n",
    "        s <- best_attr$split\n",
    "        decision_tree(data[s1,], pred, nl,  node$AddChild(paste(\"<=\", s, sep='')), d-1)\n",
    "        decision_tree(data[!s1,], pred, nl, node$AddChild(paste(\">\", s, sep='')), d-1)\n",
    "        node$pars <- c(function(d){return(d <= s)}, function(d){return(d > s)})\n",
    "    }else if(best_attr$type == 'factor'){\n",
    "        p <- get(ba, data)\n",
    "        dec_f <- lapply(best_attr$split, equality)\n",
    "        for(a in best_attr$split){\n",
    "            decision_tree(data[p == a,], pred, nl, node$AddChild(a), d-1)\n",
    "        }\n",
    "        node$pars <- dec_f\n",
    "    }\n",
    "    node$attr <- ba\n",
    "}\n",
    "#Returns a decision tree (call this one)\n",
    "dtree <- function(data, pred, attrs, d=3){\n",
    "    dt <- Node$new('')\n",
    "    decision_tree(data, pred, attrs, dt, d)\n",
    "    return(dt)\n",
    "}"
   ]
  },
  {
   "cell_type": "code",
   "execution_count": 327,
   "metadata": {},
   "outputs": [],
   "source": [
    "#Returns Laplacian Noise\n",
    "laplacian <- function(epsilon, len=1, sensitivity=1){\n",
    "    lam <- epsilon/sensitivity\n",
    "    sign <- 1-2*as.integer(runif(len) < 0.5)\n",
    "    return(rexp(len, lam)*sign)\n",
    "}\n",
    "#Noises a vector of histogram values (sensitivity 1, final value cannot be negative)\n",
    "hist_noiser <- function(vals, epsilon){\n",
    "    fuzz <- vals + laplacian(epsilon, length(vals))\n",
    "    count <- sum(fuzz < 0)\n",
    "    while(count > 0){\n",
    "        fuzz[fuzz < 0] <- laplacian(epsilon, count)\n",
    "        count <- sum(fuzz < 0)\n",
    "    }\n",
    "    return(fuzz)\n",
    "}"
   ]
  },
  {
   "cell_type": "code",
   "execution_count": 404,
   "metadata": {},
   "outputs": [],
   "source": [
    "#Picks which conditional utility function to use, factor or numeric\n",
    "cond_eval <- function(name, data, range_bounds, ys){\n",
    "    xs <- get(name, data)\n",
    "    r <- 0\n",
    "    if(class(xs) == 'numeric'){\n",
    "        b <- get(name, range_bounds)\n",
    "        r <- cond_eval_num(xs, ys, min=b$min, max=b$max)\n",
    "    }else if(class(xs) == 'factor')\n",
    "        r <- cond_eval_fac(xs, ys)\n",
    "    r$name <- name\n",
    "    return(r)\n",
    "}\n",
    "#Produces a private decision tree (Helper function)\n",
    "decision_tree_private <- function(data, range_bounds, pred, attrs, node, eps, d){\n",
    "    p <- get(pred, data)\n",
    "    factors <- data[lapply(data, class) == 'factor']\n",
    "    factors <- factors[names(factors) != pred]\n",
    "    l <- lapply(factors, function(x) nrow(data.frame(table(x))))\n",
    "    t <- l %>% reduce(`max`)\n",
    "    C <- nrow(data.frame(table(get(pred, data))))\n",
    "    nrows <- hist_noiser(nrow(data), eps)\n",
    "    node$nrows <- nrows\n",
    "    if(length(attrs) == 0 || d <= 0 || nrows / (C*t) < sqrt(2) / eps){\n",
    "        m <- data.frame(table(p))\n",
    "        node$counts <-  hist_noiser(m$Freq, eps) #m$Freq+laplacian(eps, nrow(m))\n",
    "        idx <- which.max(node$counts)\n",
    "        guess <- m$p[idx]\n",
    "        node$guess <- guess\n",
    "        node$name <- paste(node$name, guess, sep=';')\n",
    "        return()\n",
    "    }\n",
    "    atp <- lapply(attrs, function(name) cond_eval(name, data, range_bounds, p))\n",
    "    best_attr <- exp_mech(atp, sapply(atp, function(x) -x$ent), eps)\n",
    "    node$name <- paste(node$name, best_attr$name, sep=';')\n",
    "    node$branch <- node$name\n",
    "    ba <- best_attr$name\n",
    "    nl <- attrs[attrs!= ba]\n",
    "    if(best_attr$type == 'numeric'){\n",
    "        s1 <- get(ba, data) < best_attr$split\n",
    "        s <- best_attr$split\n",
    "        decision_tree_private(data[s1,], range_bounds, pred, nl, node$AddChild(paste(\"<=\", s, sep='')), eps, d-1)\n",
    "        decision_tree_private(data[!s1,], range_bounds, pred, nl, node$AddChild(paste(\">\", s, sep='')), eps, d-1)\n",
    "        node$pars <- c(function(d){return(d <= s)}, function(d){return(d > s)})\n",
    "    }else if(best_attr$type == 'factor'){\n",
    "        p <- get(ba, data)\n",
    "        dec_f <- lapply(best_attr$split, equality)\n",
    "        for(a in best_attr$split){\n",
    "            decision_tree_private(data[p == a,], range_bounds, pred, nl, node$AddChild(a), eps, d-1)\n",
    "        }\n",
    "        node$pars <- dec_f\n",
    "    }\n",
    "    node$attr <- ba\n",
    "}\n",
    "#Returns a private decision tree (call this one)\n",
    "dt_private <- function(data, range_bounds, pred, attrs, B, d=3){\n",
    "    dt_p <- Node$new('')\n",
    "    eps <- B/(2*(d+1))\n",
    "    decision_tree_private(data, range_bounds, pred, attrs, dt_p, eps, d)\n",
    "    return(dt_p)\n",
    "}"
   ]
  },
  {
   "cell_type": "code",
   "execution_count": 100,
   "metadata": {
    "collapsed": true
   },
   "outputs": [],
   "source": [
    "#Predicts the output for a dataset given the \n",
    "predict <- function(t, D, levels){\n",
    "    preds <- rep(levels[[1]], nrow(D))\n",
    "    if(nrow(D) == 0)\n",
    "        return(preds)\n",
    "    if(!is.null(t$guess)){\n",
    "        return(rep(t$guess, nrow(D)))\n",
    "    }\n",
    "    for(i in 1:length(t$pars)){\n",
    "        mask <- t$pars[[i]](get(t$attr, D))\n",
    "        preds[mask] <- predict(t$children[[i]], D[mask, ], levels)\n",
    "    }\n",
    "    return(preds)\n",
    "}"
   ]
  },
  {
   "cell_type": "code",
   "execution_count": 10,
   "metadata": {
    "collapsed": true
   },
   "outputs": [],
   "source": [
    "#Pruning helper method\n",
    "top_down <- function(t, ratio){\n",
    "    t$nrows <- ratio*t$nrows\n",
    "    if(is.null(t$guess)){\n",
    "        tot_child <- 0\n",
    "        for(c in t$children){\n",
    "            tot_child <- tot_child + c$nrows\n",
    "        }\n",
    "        for(c in t$children){\n",
    "            top_down(c, t$nrows / tot_child)\n",
    "        }\n",
    "    }\n",
    "}\n",
    "#Pruning helper method\n",
    "bottom_up <- function(t){\n",
    "    if(!is.null(t$guess)){\n",
    "        t$counts <- t$counts * t$nrows / sum(t$counts)\n",
    "    }else{\n",
    "        cnts <- 0\n",
    "        for(c in t$children){\n",
    "            cnts <- cnts + bottom_up(c)\n",
    "        }\n",
    "        t$counts <- cnts * t$nrows / sum(cnts)\n",
    "    }\n",
    "    err_rate <- 1-max(t$counts) / t$nrows\n",
    "    t$pess_err_rate <- err_rate + 0.67 * sqrt(err_rate * (1-err_rate) / t$nrows)\n",
    "    return(t$counts)\n",
    "}\n",
    "#Decides if a node should be pruned using the method of C4.5\n",
    "prune <- function(t){\n",
    "    cond_err <- 0\n",
    "    if(is.null(t$guess)){\n",
    "        for(c in t$children){\n",
    "            cond_err <- cond_err + c$pess_err_rate * c$nrows / t$nrows\n",
    "        }\n",
    "    }\n",
    "    if(cond_err > t$pess_err_rate){\n",
    "        t$guess <- lvls[t$counts == max(t$counts)][[1]]\n",
    "        t$children <- NULL\n",
    "    }else{\n",
    "        for(c in t$children)\n",
    "            prune(c)\n",
    "    }\n",
    "}\n",
    "#Does a full prune (call this one)\n",
    "prune_tree <- function(t){\n",
    "    top_down(t)\n",
    "    bottom_up(t)\n",
    "    prune(t)\n",
    "}"
   ]
  },
  {
   "cell_type": "code",
   "execution_count": 15,
   "metadata": {},
   "outputs": [],
   "source": [
    "#ggplot(d, aes(x=i, y=a)) + geom_line() + geom_point()"
   ]
  },
  {
   "cell_type": "code",
   "execution_count": 406,
   "metadata": {},
   "outputs": [],
   "source": [
    "#Tests the normal decision tree\n",
    "test <- function(data, x_names, y_name, cutoff=0.8, d=3){\n",
    "    len = as.integer(nrow(data) * cutoff)\n",
    "    dt <- dtree(data[1:len,], y_name, x_names, d)\n",
    "    ys <- get(y_name, data)[len:nrow(data)]\n",
    "    pres <- predict(dt, data[len:nrow(data),], as.factor(levels(ys)))\n",
    "    return(sum(pres == ys) / (nrow(data) - len))\n",
    "}\n",
    "#Tests the private decision tree\n",
    "test_private <- function(data, range_bounds, x_names, y_name, eps, cutoff=0.8, d=3){\n",
    "    len = as.integer(nrow(data) * cutoff)\n",
    "    dtp <- dt_private(data[1:len,], range_bounds, y_name, x_names, eps, d)\n",
    "    ys <- get(y_name, data)[len:nrow(data)]\n",
    "    pres <- predict(dtp, data[len:nrow(data),], as.factor(levels(ys)))\n",
    "    return(sum(pres == ys) / (nrow(data) - len))\n",
    "}"
   ]
  },
  {
   "cell_type": "code",
   "execution_count": 144,
   "metadata": {},
   "outputs": [],
   "source": [
    "#Import adult dataset\n",
    "adult <- fread('../Yang_Research/data-unsorted/adult/adult_cleaner_no_relationship.csv')\n",
    "#We need to know how to \n",
    "adult_maxes = list(age=list(min=16, max=100), education.num=list(min=1, max=16), capital.gain=list(min=0, max=99999),\n",
    "                  capital.loss=list(min=0, max=99999), hours.per.week=list(min=1, max=100))"
   ]
  },
  {
   "cell_type": "code",
   "execution_count": 132,
   "metadata": {
    "collapsed": true
   },
   "outputs": [],
   "source": [
    "#My implementation can only handle numerics or factors\n",
    "to_num_fac <- function(row){\n",
    "    if(class(row) == 'integer')\n",
    "        return(as.numeric(row))\n",
    "    else if(class(row) == 'character')\n",
    "        return(as.factor(row))\n",
    "    return(row)\n",
    "}"
   ]
  },
  {
   "cell_type": "code",
   "execution_count": 153,
   "metadata": {},
   "outputs": [],
   "source": [
    "adult <- data.frame(adult %>% lapply(to_num_fac))"
   ]
  },
  {
   "cell_type": "code",
   "execution_count": 405,
   "metadata": {
    "scrolled": true
   },
   "outputs": [],
   "source": [
    "len <- as.integer(nrow(adult) * 0.5)\n",
    "y_name <- names(adult)[13]\n",
    "xs_name <- names(adult)[-13]\n",
    "dt_p <- dt_private(adult[1:len, ], adult_maxes, y_name, xs_name, 10)"
   ]
  },
  {
   "cell_type": "code",
   "execution_count": 411,
   "metadata": {},
   "outputs": [
    {
     "data": {
      "text/html": [
       "0.806729653572021"
      ],
      "text/latex": [
       "0.806729653572021"
      ],
      "text/markdown": [
       "0.806729653572021"
      ],
      "text/plain": [
       "[1] 0.8067297"
      ]
     },
     "metadata": {},
     "output_type": "display_data"
    }
   ],
   "source": [
    "test_private(adult, adult_maxes, xs_name, y_name, 100, d=5)"
   ]
  },
  {
   "cell_type": "code",
   "execution_count": null,
   "metadata": {
    "collapsed": true
   },
   "outputs": [],
   "source": []
  }
 ],
 "metadata": {
  "kernelspec": {
   "display_name": "R",
   "language": "R",
   "name": "ir"
  },
  "language_info": {
   "codemirror_mode": "r",
   "file_extension": ".r",
   "mimetype": "text/x-r-source",
   "name": "R",
   "pygments_lexer": "r",
   "version": "3.4.3"
  }
 },
 "nbformat": 4,
 "nbformat_minor": 2
}
