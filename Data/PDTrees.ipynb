{
 "cells": [
  {
   "cell_type": "code",
   "execution_count": 1,
   "metadata": {},
   "outputs": [
    {
     "name": "stderr",
     "output_type": "stream",
     "text": [
      "\n",
      "Attaching package: ‘dplyr’\n",
      "\n",
      "The following objects are masked from ‘package:data.table’:\n",
      "\n",
      "    between, first, last\n",
      "\n",
      "The following objects are masked from ‘package:stats’:\n",
      "\n",
      "    filter, lag\n",
      "\n",
      "The following objects are masked from ‘package:base’:\n",
      "\n",
      "    intersect, setdiff, setequal, union\n",
      "\n",
      "corrplot 0.84 loaded\n",
      "\n",
      "Attaching package: ‘lubridate’\n",
      "\n",
      "The following objects are masked from ‘package:data.table’:\n",
      "\n",
      "    hour, isoweek, mday, minute, month, quarter, second, wday, week,\n",
      "    yday, year\n",
      "\n",
      "The following object is masked from ‘package:base’:\n",
      "\n",
      "    date\n",
      "\n",
      "\n",
      "Attaching package: ‘purrr’\n",
      "\n",
      "The following object is masked from ‘package:data.table’:\n",
      "\n",
      "    transpose\n",
      "\n"
     ]
    }
   ],
   "source": [
    "library(data.table)\n",
    "library(dplyr)\n",
    "library(ggplot2)\n",
    "library(stringr)\n",
    "library(DT)\n",
    "library(tidyr)\n",
    "library(corrplot)\n",
    "library(leaflet)\n",
    "library(lubridate)\n",
    "library(data.tree)\n",
    "library(purrr)"
   ]
  },
  {
   "cell_type": "code",
   "execution_count": 2,
   "metadata": {
    "collapsed": true
   },
   "outputs": [],
   "source": [
    "i3 <- iris\n",
    "i3$Noise <- as.factor(floor(runif(nrow(iris), 0, 4)))\n",
    "attr_names <- names(i3)[-5]\n",
    "class_name <- names(i3)[5]\n",
    "lvls <- levels(i3$Species)\n",
    "inf <- 99999"
   ]
  },
  {
   "cell_type": "code",
   "execution_count": 3,
   "metadata": {
    "collapsed": true
   },
   "outputs": [],
   "source": [
    "#Entropy utility function\n",
    "ent_util <- list(func=function(data){\n",
    "    return(\n",
    "        function(col){\n",
    "            -get_best_val(get(col, data$xs), data$ys, col)$ent\n",
    "        }\n",
    "    )\n",
    "}, sens=(log(1000)+1)/(1000*log(2)))\n",
    "\n",
    "#Two functions for computing exponential mech.\n",
    "exp_mech2 <- function(data, domain, util, eps){\n",
    "    n <- length(domain)\n",
    "    wghts <- exp(eps*sapply(domain, util$func(data)) / (2*util$sens))\n",
    "    prob <- wghts / sum(wghts)\n",
    "    u <- runif(1)\n",
    "    i <- min(n, findInterval(u, cumsum(prob))+1)\n",
    "    return(domain[[i]])\n",
    "}\n",
    "exp_mech <- function(domain, util, eps, sens=1){\n",
    "    if(eps == 0){\n",
    "        return(domain[util==max(util)][[1]])\n",
    "    }\n",
    "    util <- util-max(util)\n",
    "    n <- length(domain)\n",
    "    wghts <- exp(eps*util / (2*sens))\n",
    "    if(sum(wghts) < 0.001){\n",
    "        return(exp_mech(domain, util, 0, sens))\n",
    "    }\n",
    "    prob <- wghts / sum(wghts)\n",
    "    u <- runif(1)\n",
    "    i <- min(n, findInterval(u, cumsum(prob))+1)\n",
    "    return(domain[[i]])\n",
    "}"
   ]
  },
  {
   "cell_type": "code",
   "execution_count": 4,
   "metadata": {
    "collapsed": true
   },
   "outputs": [],
   "source": [
    "#Entropy function\n",
    "get_ent <- function(r){\n",
    "    if(!is.matrix(r)){\n",
    "        r <- matrix(r, nrow=1)\n",
    "    }\n",
    "    r <- r / rowSums(r)\n",
    "    ent <- -r*log(r) / log(2)\n",
    "    ent[is.nan(ent)] = 0\n",
    "    return(rowSums(ent))\n",
    "}\n",
    "#Computes conditional utility of a real attribute as well as the value to split on\n",
    "cond_eval_num <- function(xs, ys, uti=get_ent, eps=0, min=0, max=100){\n",
    "    if(length(ys) == 0){\n",
    "        return(list(ent=inf, split=runif(1, min, max), type='numeric'))\n",
    "    }\n",
    "    xs_ord <- order(xs)\n",
    "    ys_ord <- ys[xs_ord]\n",
    "    ind <- matrix(sapply(levels(ys), function(x){cumsum(as.integer(ys_ord == x))}), ncol=length(levels(ys)))\n",
    "    ind2 <- -sweep(ind, 2, ind[nrow(ind), ])\n",
    "    changed <- xs[xs_ord] != shift(xs[xs_ord], type='lead')\n",
    "    changed[is.na(changed)] = TRUE\n",
    "    ind <- subset(ind, changed)\n",
    "    ind2 <- subset(ind2, changed)\n",
    "    d <- nrow(ind)\n",
    "    ents <- c(uti(ind[d, ]),  (uti(ind) * 1:d + uti(ind2) * (d-1):0)/d)\n",
    "    if(eps == 0){\n",
    "        split_ind <- which(ents == min(ents))[[1]]\n",
    "        return(list(ent=ents[split_ind], split=xs[xs_ord[changed][split_ind]], type='numeric'))\n",
    "    }\n",
    "    split_ind <- exp_mech(1:length(ents), -ents, eps, ent_util$sens)\n",
    "    if(split_ind != 1)\n",
    "        min = xs[xs_ord[changed][split_ind-1]]\n",
    "    if(split_ind != d+1)\n",
    "        max = xs[xs_ord[changed][split_ind]]\n",
    "    s <- runif(1, min, max)\n",
    "    return(list(ent=ents[split_ind], split=s, type='numeric'))\n",
    "}\n",
    "#Computes conditional utility of a factor variable\n",
    "cond_eval_fac <- function(xs, ys, uti=get_ent){\n",
    "    t <- table(xs, ys)\n",
    "    ents <- uti(table(xs, ys)) * rowSums(t)\n",
    "    ent <- sum(ents) / sum(t)\n",
    "    if(is.nan(ent))\n",
    "        ent <- inf\n",
    "    return(list(ent=ent, split=levels(xs), type='factor'))\n",
    "}\n",
    "#cond_eval_num(i3$Sepal.Length, i3$Species, \"Sepal_Length\")\n",
    "#cond_eval_fac(i3$Noise, i3$Species, \"\")"
   ]
  },
  {
   "cell_type": "code",
   "execution_count": 5,
   "metadata": {
    "collapsed": true,
    "scrolled": false
   },
   "outputs": [],
   "source": [
    "#An equality functional\n",
    "equality <- function(a){\n",
    "    function(d){\n",
    "        d == a\n",
    "    }\n",
    "}\n",
    "#Returns a non-private decision tree (helper)\n",
    "decision_tree <- function(data, pred, attrs, node, d){\n",
    "    p <- get(pred, data)\n",
    "    if(length(attrs) == 0 || d <= 0 || get_ent(table(p)) == 0){\n",
    "        m <- data.frame(table(p))\n",
    "        idx <- which.max(m$Freq)\n",
    "        guess <- m$p[idx]\n",
    "        node$guess <- guess\n",
    "        node$name <- paste(node$name, guess, sep=';')\n",
    "        return()\n",
    "    }\n",
    "    best_attr <- list(ent=inf)\n",
    "    for(c in attrs){\n",
    "        xs <- get(c, data)\n",
    "        e <- 0\n",
    "        if(class(xs) == 'factor')\n",
    "            e <- cond_eval_fac(xs, p)\n",
    "        else if(class(xs) == 'numeric')\n",
    "            e <- cond_eval_num(xs, p)\n",
    "        e$name <- c\n",
    "        if(e$ent < best_attr$ent){\n",
    "            best_attr <- e\n",
    "        }\n",
    "    }\n",
    "    node$name <- paste(node$name, best_attr$name, sep=';')\n",
    "    ba <- best_attr$name\n",
    "    nl <- attrs[attrs!= ba]\n",
    "    if(best_attr$type == 'numeric'){\n",
    "        s1 <- get(ba, data) < best_attr$split\n",
    "        s <- best_attr$split\n",
    "        decision_tree(data[s1,], pred, nl,  node$AddChild(paste(\"<=\", s, sep='')), d-1)\n",
    "        decision_tree(data[!s1,], pred, nl, node$AddChild(paste(\">\", s, sep='')), d-1)\n",
    "        node$pars <- c(function(d){return(d <= s)}, function(d){return(d > s)})\n",
    "    }else if(best_attr$type == 'factor'){\n",
    "        p <- get(ba, data)\n",
    "        dec_f <- lapply(best_attr$split, equality)\n",
    "        for(a in best_attr$split){\n",
    "            decision_tree(data[p == a,], pred, nl, node$AddChild(a), d-1)\n",
    "        }\n",
    "        node$pars <- dec_f\n",
    "    }\n",
    "    node$attr <- ba\n",
    "}\n",
    "#Returns a decision tree (call this one)\n",
    "dtree <- function(data, pred, attrs, d=3){\n",
    "    dt <- Node$new('')\n",
    "    decision_tree(data, pred, attrs, dt, d)\n",
    "    return(dt)\n",
    "}"
   ]
  },
  {
   "cell_type": "code",
   "execution_count": 6,
   "metadata": {
    "collapsed": true
   },
   "outputs": [],
   "source": [
    "#Returns Laplacian Noise\n",
    "laplacian <- function(epsilon, len=1, sensitivity=1){\n",
    "    lam <- epsilon/sensitivity\n",
    "    sign <- 1-2*as.integer(runif(len) < 0.5)\n",
    "    return(rexp(len, lam)*sign)\n",
    "}\n",
    "claplace <- function(x, lambda){\n",
    "    if(x < 0)\n",
    "        return(0.5*exp(x*lambda))\n",
    "    else\n",
    "        return(1-0.5*exp(-x*lambda))\n",
    "        \n",
    "}\n",
    "#Noises a vector of histogram values (sensitivity 1, final value cannot be negative)\n",
    "hist_noiser <- function(vals, epsilon=0){\n",
    "    if(epsilon==0)\n",
    "        return(vals)\n",
    "    fuzz <- vals + laplacian(epsilon, length(vals))\n",
    "    count <- sum(fuzz < 0)\n",
    "    while(count > 0){\n",
    "        fuzz[fuzz < 0] <- laplacian(epsilon, count)\n",
    "        count <- sum(fuzz < 0)\n",
    "    }\n",
    "    return(fuzz)\n",
    "}"
   ]
  },
  {
   "cell_type": "code",
   "execution_count": 7,
   "metadata": {
    "collapsed": true
   },
   "outputs": [],
   "source": [
    "#Picks which conditional utility function to use, factor or numeric\n",
    "#name, ent, split, type\n",
    "cond_eval <- function(name, data, range_bounds, ys){\n",
    "    xs <- get(name, data)\n",
    "    r <- 0\n",
    "    if(class(xs) == 'numeric'){\n",
    "        b <- get(name, range_bounds)\n",
    "        r <- cond_eval_num(xs, ys, min=b$min, max=b$max)\n",
    "    }else if(class(xs) == 'factor')\n",
    "        r <- cond_eval_fac(xs, ys)\n",
    "    r$name <- name\n",
    "    return(r)\n",
    "}\n",
    "#Produces a private decision tree (Helper function)\n",
    "decision_tree_private <- function(data, range_bounds, pred, attrs, node, eps, d){\n",
    "    p <- get(pred, data)\n",
    "    sizes <- lapply(data, function(col){\n",
    "        if(class(col) == 'numeric')\n",
    "            return(2)\n",
    "        return(length(levels(col)))\n",
    "    })\n",
    "    t <- sizes[attrs] %>% reduce(`max`)\n",
    "    C <- get(pred, sizes)\n",
    "    nrows <- hist_noiser(nrow(data), eps)\n",
    "    node$nrows <- nrows\n",
    "    if(length(attrs) == 0 || d <= 0 || nrows / (C*t) < sqrt(2) / eps && eps != 0){\n",
    "        m <- data.frame(table(p))\n",
    "        node$counts <-  hist_noiser(m$Freq, eps) #m$Freq+laplacian(eps, nrow(m))\n",
    "        idx <- which.max(node$counts)\n",
    "        guess <- m$p[idx]\n",
    "        node$guess <- guess\n",
    "        node$name <- paste(node$name, guess, sep=';')\n",
    "        return()\n",
    "    }\n",
    "    atp <- lapply(attrs, function(name) cond_eval(name, data, range_bounds, p))\n",
    "    best_attr <- exp_mech(atp, sapply(atp, function(x) -x$ent), eps, ent_util$sens)\n",
    "    node$name <- paste(node$name, best_attr$name, sep=';')\n",
    "    node$branch <- node$name\n",
    "    ba <- best_attr$name\n",
    "    nl <- attrs[attrs!= ba]\n",
    "    if(best_attr$type == 'numeric'){\n",
    "        s1 <- get(ba, data) < best_attr$split\n",
    "        s <- best_attr$split\n",
    "        decision_tree_private(data[s1,], range_bounds, pred, nl, node$AddChild(paste(\"<=\", s, sep='')), eps, d-1)\n",
    "        decision_tree_private(data[!s1,], range_bounds, pred, nl, node$AddChild(paste(\">\", s, sep='')), eps, d-1)\n",
    "        node$pars <- c(function(d){return(d <= s)}, function(d){return(d > s)})\n",
    "    }else if(best_attr$type == 'factor'){\n",
    "        p <- get(ba, data)\n",
    "        dec_f <- lapply(best_attr$split, equality)\n",
    "        for(a in best_attr$split){\n",
    "            decision_tree_private(data[p == a,], range_bounds, pred, nl, node$AddChild(a), eps, d-1)\n",
    "        }\n",
    "        node$pars <- dec_f\n",
    "    }\n",
    "    node$attr <- ba\n",
    "}\n",
    "#Returns a private decision tree (call this one)\n",
    "dt_private <- function(data, range_bounds, pred, attrs, B, d=3){\n",
    "    dt_p <- Node$new('')\n",
    "    eps <- B/(2*(d+1))\n",
    "    decision_tree_private(data, range_bounds, pred, attrs, dt_p, eps, d)\n",
    "    return(dt_p)\n",
    "}"
   ]
  },
  {
   "cell_type": "code",
   "execution_count": 8,
   "metadata": {
    "collapsed": true
   },
   "outputs": [],
   "source": [
    "#Predicts the output for a dataset given the \n",
    "predict <- function(t, D, levels){\n",
    "    preds <- rep(levels[[1]], nrow(D))\n",
    "    if(nrow(D) == 0)\n",
    "        return(preds)\n",
    "    if(!is.null(t$guess)){\n",
    "        return(rep(t$guess, nrow(D)))\n",
    "    }\n",
    "    for(i in 1:length(t$pars)){\n",
    "        mask <- t$pars[[i]](get(t$attr, D))\n",
    "        preds[mask] <- predict(t$children[[i]], D[mask, ], levels)\n",
    "    }\n",
    "    return(preds)\n",
    "}"
   ]
  },
  {
   "cell_type": "code",
   "execution_count": 58,
   "metadata": {
    "collapsed": true
   },
   "outputs": [],
   "source": [
    "dt <- dt_private(adult, adult_maxes, y_name, xs_name, 100)"
   ]
  },
  {
   "cell_type": "code",
   "execution_count": 62,
   "metadata": {
    "collapsed": true
   },
   "outputs": [],
   "source": [
    "#Pruning helper method\n",
    "top_down <- function(t, ratio){\n",
    "    t$nrows <- ratio*t$nrows\n",
    "    if(is.null(t$guess)){\n",
    "        tot_child <- 0\n",
    "        for(c in t$children){\n",
    "            tot_child <- tot_child + c$nrows\n",
    "        }\n",
    "        for(c in t$children){\n",
    "            top_down(c, t$nrows / tot_child)\n",
    "        }\n",
    "    }\n",
    "}\n",
    "#Pruning helper method\n",
    "bottom_up <- function(t){\n",
    "    if(!is.null(t$guess)){\n",
    "        t$counts <- t$counts * t$nrows / sum(t$counts)\n",
    "    }else{\n",
    "        cnts <- 0\n",
    "        for(c in t$children){\n",
    "            cnts <- cnts + bottom_up(c)\n",
    "        }\n",
    "        t$counts <- cnts * t$nrows / sum(cnts)\n",
    "    }\n",
    "    err_rate <- 1-max(t$counts) / t$nrows\n",
    "    t$pess_err_rate <- err_rate + 0.67 * sqrt(err_rate * (1-err_rate) / t$nrows)\n",
    "    return(t$counts)\n",
    "}\n",
    "#Decides if a node should be pruned using the method of C4.5\n",
    "prune <- function(t, lvls){\n",
    "    cond_err <- 0\n",
    "    if(is.null(t$guess)){\n",
    "        for(c in t$children){\n",
    "            cond_err <- cond_err + c$pess_err_rate * c$nrows / t$nrows\n",
    "        }\n",
    "    }\n",
    "    if(cond_err > t$pess_err_rate){\n",
    "        t$guess <- lvls[t$counts == max(t$counts)][[1]]\n",
    "        t$children <- NULL\n",
    "    }else{\n",
    "        for(c in t$children)\n",
    "            prune(c, lvls)\n",
    "    }\n",
    "}\n",
    "#Does a full prune (call this one)\n",
    "prune_tree <- function(t, lvls){\n",
    "    top_down(t, 1)\n",
    "    bottom_up(t)\n",
    "    prune(t, lvls)\n",
    "}"
   ]
  },
  {
   "cell_type": "code",
   "execution_count": 21,
   "metadata": {
    "collapsed": true
   },
   "outputs": [],
   "source": [
    "#Tests the private decision tree\n",
    "test_private <- function(dtp, data, y_name, cutoff=0.8){\n",
    "    len = as.integer(nrow(data) * cutoff)\n",
    "    ys <- get(y_name, data)[len:nrow(data)]\n",
    "    pres <- predict(dtp, data[len:nrow(data),], as.factor(levels(ys)))\n",
    "    return(sum(pres == ys) / (nrow(data) - len))\n",
    "}"
   ]
  },
  {
   "cell_type": "code",
   "execution_count": 11,
   "metadata": {
    "collapsed": true
   },
   "outputs": [],
   "source": [
    "#Import adult dataset\n",
    "adult <- fread('../data-unsorted/adult/adult_cleaner_no_relationship.csv')\n",
    "#We need to know how to \n",
    "adult_maxes = list(age=list(min=16, max=100), education.num=list(min=1, max=16), capital.gain=list(min=0, max=99999),\n",
    "                  capital.loss=list(min=0, max=99999), hours.per.week=list(min=1, max=100))"
   ]
  },
  {
   "cell_type": "code",
   "execution_count": 12,
   "metadata": {
    "collapsed": true
   },
   "outputs": [],
   "source": [
    "#My implementation can only handle numerics or factors\n",
    "to_num_fac <- function(row){\n",
    "    if(class(row) == 'integer')\n",
    "        return(as.numeric(row))\n",
    "    else if(class(row) == 'character')\n",
    "        return(as.factor(row))\n",
    "    return(row)\n",
    "}"
   ]
  },
  {
   "cell_type": "code",
   "execution_count": 13,
   "metadata": {
    "collapsed": true
   },
   "outputs": [],
   "source": [
    "adult <- data.frame(adult %>% lapply(to_num_fac))"
   ]
  },
  {
   "cell_type": "code",
   "execution_count": 14,
   "metadata": {
    "collapsed": true,
    "scrolled": true
   },
   "outputs": [],
   "source": [
    "len <- as.integer(nrow(adult) * 0.5)\n",
    "y_name <- names(adult)[13]\n",
    "xs_name <- names(adult)[-13]\n",
    "dt_p <- dt_private(adult[1:len, ], adult_maxes, y_name, xs_name, 10)"
   ]
  },
  {
   "cell_type": "code",
   "execution_count": 15,
   "metadata": {
    "collapsed": true,
    "scrolled": true
   },
   "outputs": [],
   "source": [
    "decision_tree_private2 <- function(data, range_bounds, pred, attrs, node, eps, d){\n",
    "    p <- get(pred, data)\n",
    "    if(length(attrs) == 0 || d <= 0 ){\n",
    "        m <- data.frame(table(p))\n",
    "        node$counts <-  hist_noiser(m$Freq, eps)\n",
    "        idx <- which.max(node$counts)\n",
    "        guess <- m$p[idx]\n",
    "        node$guess <- guess\n",
    "        node$name <- paste(node$name, guess, sep=';')\n",
    "        return()\n",
    "    }\n",
    "    sizes <- lapply(data, function(col){\n",
    "        if(class(col) == 'numeric')\n",
    "            return(2)\n",
    "        length(levels(col)) %>% return\n",
    "    })\n",
    "    t <- sizes[attrs] %>% reduce(`max`)\n",
    "    C <- get(pred, sizes)\n",
    "    N <- nrow(data)+0.01\n",
    "    if_prob <- claplace(-N/(t*C) + sqrt(2)/eps, eps) %>% log #sensitivity epsilon/2\n",
    "    uti1 <- lapply(levels(p), function(x) list(ent=sum(p == x) / N - if_prob, name=x))\n",
    "    atp <- lapply(attrs, function(name) cond_eval(name, data, range_bounds, p))\n",
    "    U <- c(atp, uti1)\n",
    "    #print(sapply(U, function(x) -x$ent))\n",
    "    best_attr <- exp_mech(U, sapply(U, function(x) -x$ent), eps, ent_util$sens)\n",
    "    node$name <- paste(node$name, best_attr$name, sep=';')\n",
    "    if(is.null(best_attr$split)){\n",
    "        node$guess <- best_attr$name\n",
    "        return()\n",
    "    }\n",
    "    node$branch <- node$name\n",
    "    ba <- best_attr$name\n",
    "    nl <- attrs[attrs!= ba]\n",
    "    if(best_attr$type == 'numeric'){\n",
    "        s1 <- get(ba, data) < best_attr$split\n",
    "        s <- best_attr$split\n",
    "        decision_tree_private2(data[s1,], range_bounds, pred, nl, node$AddChild(paste(\"<=\", s, sep='')), eps, d-1)\n",
    "        decision_tree_private2(data[!s1,], range_bounds, pred, nl, node$AddChild(paste(\">\", s, sep='')), eps, d-1)\n",
    "        node$pars <- c(function(d){return(d <= s)}, function(d){return(d > s)})\n",
    "    }else if(best_attr$type == 'factor'){\n",
    "        p <- get(ba, data)\n",
    "        dec_f <- lapply(best_attr$split, equality)\n",
    "        for(a in best_attr$split){\n",
    "            decision_tree_private2(data[p == a,], range_bounds, pred, nl, node$AddChild(a), eps, d-1)\n",
    "        }\n",
    "        node$pars <- dec_f\n",
    "    }\n",
    "    node$attr <- ba\n",
    "}\n",
    "\n",
    "dt_private2 <- function(data, range_bounds, pred, attrs, B, d=3){\n",
    "    dt_p <- Node$new('')\n",
    "    eps <- B/(d+1)\n",
    "    decision_tree_private2(data, range_bounds, pred, attrs, dt_p, eps, d)\n",
    "    return(dt_p)\n",
    "}\n",
    "#dt_private2(adult, adult_maxes, y_name, xs_name, 100)"
   ]
  },
  {
   "cell_type": "code",
   "execution_count": 65,
   "metadata": {},
   "outputs": [
    {
     "data": {
      "text/html": [
       "0.788330847008122"
      ],
      "text/latex": [
       "0.788330847008122"
      ],
      "text/markdown": [
       "0.788330847008122"
      ],
      "text/plain": [
       "[1] 0.7883308"
      ]
     },
     "metadata": {},
     "output_type": "display_data"
    },
    {
     "data": {
      "text/html": [
       "0.788330847008122"
      ],
      "text/latex": [
       "0.788330847008122"
      ],
      "text/markdown": [
       "0.788330847008122"
      ],
      "text/plain": [
       "[1] 0.7883308"
      ]
     },
     "metadata": {},
     "output_type": "display_data"
    }
   ],
   "source": [
    "dt <- dt_private(adult, adult_maxes, y_name, xs_name, 1)\n",
    "test_private(dt, adult, y_name, 0.8)\n",
    "prune_tree(dt, y_name %>% get(adult) %>% levels)\n",
    "test_private(dt, adult, y_name, 0.8)"
   ]
  },
  {
   "cell_type": "code",
   "execution_count": null,
   "metadata": {
    "collapsed": true
   },
   "outputs": [],
   "source": [
    "baseline <- test(adult, xs_name, y_name, d=5)\n",
    "test_eps <- c(0.5, 1:10)\n",
    "m1 <- 0\n",
    "m2 <- 0\n",
    "for(i in 1:10){\n",
    "    m1 <- m1+sapply(test_eps, function(e) test_private(adult, adult_maxes, xs_name, y_name, e, 0.8, 5, dt_private))\n",
    "    m2 <- m2+sapply(test_eps, function(e) test_private(adult, adult_maxes, xs_name, y_name, e, 0.8, 5, dt_private2))\n",
    "}\n",
    "m1 <- m1/10\n",
    "m2 <- m2/10"
   ]
  },
  {
   "cell_type": "code",
   "execution_count": null,
   "metadata": {
    "collapsed": true
   },
   "outputs": [],
   "source": [
    "test_private(adult, adult_maxes, xs_name, y_name, 5, 0.8, 5, dt_private)"
   ]
  },
  {
   "cell_type": "code",
   "execution_count": null,
   "metadata": {
    "collapsed": true
   },
   "outputs": [],
   "source": [
    "test_private(adult, adult_maxes, xs_name, y_name, 5, 0.8, 5, dt_private2)"
   ]
  },
  {
   "cell_type": "code",
   "execution_count": null,
   "metadata": {
    "collapsed": true
   },
   "outputs": [],
   "source": [
    "d <- data.frame(e=test_eps, A1 <- m1, A2 <- m2)"
   ]
  },
  {
   "cell_type": "code",
   "execution_count": null,
   "metadata": {
    "collapsed": true
   },
   "outputs": [],
   "source": [
    "ggplot(d, aes(x=e, y=A1), color='blue') + geom_line() + geom_line(aes(x=e, y=A2), color='red')"
   ]
  },
  {
   "cell_type": "code",
   "execution_count": 98,
   "metadata": {
    "collapsed": true
   },
   "outputs": [],
   "source": [
    "score <- function(t, D, func){\n",
    "    t$train_cnts <- D$earning %>% table %>% as.character %>% paste(collapse='/')\n",
    "    if(!is.null(t$pars)){\n",
    "        for(i in 1:length(t$pars)){\n",
    "            mask <- t$pars[[i]](get(t$attr, D))\n",
    "            score(t$children[[i]], D[mask, ], str)\n",
    "        }\n",
    "    }\n",
    "}\n",
    "score2 <- function(t, D, func){\n",
    "    t$test_cnts <- D$earning %>% table %>% as.character %>% paste(collapse='/')\n",
    "    if(!is.null(t$pars)){\n",
    "        for(i in 1:length(t$pars)){\n",
    "            mask <- t$pars[[i]](get(t$attr, D))\n",
    "            score2(t$children[[i]], D[mask, ], str)\n",
    "        }\n",
    "    }\n",
    "}"
   ]
  },
  {
   "cell_type": "code",
   "execution_count": 102,
   "metadata": {
    "collapsed": true
   },
   "outputs": [],
   "source": [
    "half <- as.integer(0.5*nrow(adult))\n",
    "adult_train <- adult[1:half, ]\n",
    "adult_test <- adult[(half+1):nrow(adult), ]\n",
    "dt <- dt_private(adult_train, adult_maxes, y_name, xs_name, 100, d=5)"
   ]
  },
  {
   "cell_type": "code",
   "execution_count": 103,
   "metadata": {
    "collapsed": true
   },
   "outputs": [],
   "source": [
    "score(dt, adult_train)\n",
    "score2(dt, adult_test)"
   ]
  },
  {
   "cell_type": "code",
   "execution_count": 104,
   "metadata": {},
   "outputs": [
    {
     "name": "stdout",
     "output_type": "stream",
     "text": [
      "                                          levelName train_cnts  test_cnts\n",
      "1   ;education.num                                  11353/3728 11301/3780\n",
      "2    ¦--<=9;hours.per.week                            5848/954   5891/888\n",
      "3    ¦   ¦--<=30;native.country                        1020/23    1053/41\n",
      "4    ¦   ¦   ¦--Cambodia;<=50K                             0/0        0/0\n",
      "5    ¦   ¦   ¦--Canada;<=50K                               5/0        1/0\n",
      "6    ¦   ¦   ¦--China;<=50K                                3/0        0/1\n",
      "7    ¦   ¦   ¦--Columbia;>50K                              1/0        1/0\n",
      "8    ¦   ¦   ¦--Cuba;<=50K                                 4/0        1/0\n",
      "9    ¦   ¦   ¦--Dominican-Republic;>50K                    0/0        1/0\n",
      "10   ¦   ¦   ¦--Ecuador;<=50K                              2/0        0/0\n",
      "11   ¦   ¦   ¦--El-Salvador;workclass                      7/0        9/0\n",
      "12   ¦   ¦   ¦   ¦--Federal-gov;>50K                       0/0        0/0\n",
      "13   ¦   ¦   ¦   ¦--Local-gov;<=50K                        0/0        0/0\n",
      "14   ¦   ¦   ¦   ¦--Private;sex                            6/0        8/0\n",
      "15   ¦   ¦   ¦   ¦   ¦--Female;<=50K                       3/0        3/0\n",
      "16   ¦   ¦   ¦   ¦   °--Male;<=50K                         3/0        5/0\n",
      "17   ¦   ¦   ¦   ¦--Self-emp-inc;>50K                      0/0        0/0\n",
      "18   ¦   ¦   ¦   ¦--Self-emp-not-inc;<=50K                 1/0        1/0\n",
      "19   ¦   ¦   ¦   ¦--State-gov;<=50K                        0/0        0/0\n",
      "20   ¦   ¦   ¦   °--Without-pay;<=50K                      0/0        0/0\n",
      "21   ¦   ¦   ¦--England;>50K                               2/0        2/1\n",
      "22   ¦   ¦   ¦--France;<=50K                               0/0        2/0\n",
      "23   ¦   ¦   ¦--Germany;<=50K                              5/1        1/0\n",
      "24   ¦   ¦   ¦--Greece;<=50K                               0/0        0/0\n",
      "25   ¦   ¦   ¦--Guatemala;<=50K                            4/0        2/0\n",
      "26   ¦   ¦   ¦--Haiti;<=50K                                4/0        2/0\n",
      "27   ¦   ¦   ¦--Holand-Netherlands;>50K                    0/0        0/0\n",
      "28   ¦   ¦   ¦--Honduras;>50K                              1/0        2/0\n",
      "29   ¦   ¦   ¦--Hong;<=50K                                 1/0        0/0\n",
      "30   ¦   ¦   ¦--Hungary;>50K                               1/0        1/0\n",
      "31   ¦   ¦   ¦--India;>50K                                 1/0        1/0\n",
      "32   ¦   ¦   ¦--Iran;<=50K                                 1/0        0/0\n",
      "33   ¦   ¦   ¦--Ireland;<=50K                              1/0        0/0\n",
      "34   ¦   ¦   ¦--Italy;<=50K                                2/1        3/0\n",
      "35   ¦   ¦   ¦--Jamaica;>50K                               2/0        3/0\n",
      "36   ¦   ¦   ¦--Japan;>50K                                 0/0        0/1\n",
      "37   ¦   ¦   ¦--Laos;<=50K                                 0/0        0/0\n",
      "38   ¦   ¦   ¦--Mexico;occupation                         27/0       25/0\n",
      "39   ¦   ¦   ¦   ¦--Adm-clerical;>50K                      1/0        0/0\n",
      "40   ¦   ¦   ¦   ¦--Armed-Forces;>50K                      0/0        0/0\n",
      "41   ¦   ¦   ¦   ¦--Craft-repair;>50K                      0/0        1/0\n",
      "42   ¦   ¦   ¦   ¦--Exec-managerial;<=50K                  0/0        0/0\n",
      "43   ¦   ¦   ¦   ¦--Farming-fishing;<=50K                  6/0        2/0\n",
      "44   ¦   ¦   ¦   ¦--Handlers-cleaners;<=50K                3/0        5/0\n",
      "45   ¦   ¦   ¦   ¦--Machine-op-inspct;<=50K                2/0        3/0\n",
      "46   ¦   ¦   ¦   ¦--Other-service;<=50K                    5/0        9/0\n",
      "47   ¦   ¦   ¦   ¦--Priv-house-serv;<=50K                  3/0        3/0\n",
      "48   ¦   ¦   ¦   ¦--Prof-specialty;<=50K                   1/0        1/0\n",
      "49   ¦   ¦   ¦   ¦--Protective-serv;<=50K                  0/0        0/0\n",
      "50   ¦   ¦   ¦   ¦--Sales;<=50K                            6/0        1/0\n",
      "51   ¦   ¦   ¦   ¦--Tech-support;>50K                      0/0        0/0\n",
      "52   ¦   ¦   ¦   °--Transport-moving;>50K                  0/0        0/0\n",
      "53   ¦   ¦   ¦--Nicaragua;<=50K                            2/0        2/0\n",
      "54   ¦   ¦   ¦--Outlying-US(Guam-USVI-etc);>50K            0/0        0/0\n",
      "55   ¦   ¦   ¦--Peru;<=50K                                 3/0        2/0\n",
      "56   ¦   ¦   ¦--Philippines;<=50K                          5/0        7/0\n",
      "57   ¦   ¦   ¦--Poland;<=50K                               2/0        1/0\n",
      "58   ¦   ¦   ¦--Portugal;<=50K                             1/0        1/0\n",
      "59   ¦   ¦   ¦--Puerto-Rico;<=50K                          6/0        4/0\n",
      "60   ¦   ¦   ¦--Scotland;<=50K                             1/0        0/0\n",
      "61   ¦   ¦   ¦--South;<=50K                                1/0        2/0\n",
      "62   ¦   ¦   ¦--Taiwan;>50K                                0/0        1/0\n",
      "63   ¦   ¦   ¦--Thailand;<=50K                             0/0        1/0\n",
      "64   ¦   ¦   ¦--Trinadad&Tobago;<=50K                      2/0        2/0\n",
      "65   ¦   ¦   ¦--United-States;marital.status            922/21     970/38\n",
      "66   ¦   ¦   ¦   ¦--Divorced;race                         95/1       98/2\n",
      "67   ¦   ¦   ¦   ¦   ¦--Amer-Indian-Eskimo;>50K            0/0        2/0\n",
      "68   ¦   ¦   ¦   ¦   ¦--Asian-Pac-Islander;>50K            0/0        0/0\n",
      "69   ¦   ¦   ¦   ¦   ¦--Black;<=50K                       12/0       21/0\n",
      "70   ¦   ¦   ¦   ¦   ¦--Other;>50K                         1/0        0/0\n",
      "71   ¦   ¦   ¦   ¦   °--White;<=50K                       82/1       75/2\n",
      "72   ¦   ¦   ¦   ¦--Married-AF-spouse;<=50K                2/0        1/0\n",
      "73   ¦   ¦   ¦   ¦--Married-civ-spouse;capital.gain     198/20     182/35\n",
      "74   ¦   ¦   ¦   ¦   ¦--<=0;<=50K                       184/17     165/31\n",
      "75   ¦   ¦   ¦   ¦   °-->0;<=50K                          14/3       17/4\n",
      "76   ¦   ¦   ¦   ¦--Married-spouse-absent;<=50K           10/0        8/0\n",
      "77   ¦   ¦   ¦   ¦--Never-married;capital.gain           503/0      565/0\n",
      "78   ¦   ¦   ¦   ¦   ¦--<=0;<=50K                        488/0      553/0\n",
      "79   ¦   ¦   ¦   ¦   °-->0;<=50K                          15/0       12/0\n",
      "80   ¦   ¦   ¦   ¦--Separated;<=50K                       33/0       39/0\n",
      "81   ¦   ¦   ¦   °--Widowed;sex                           81/0       77/1\n",
      "82   ¦   ¦   ¦       ¦--Female;<=50K                      71/0       64/1\n",
      "83   ¦   ¦   ¦       °--Male;<=50K                        10/0       13/0\n",
      "84   ¦   ¦   ¦--Vietnam;<=50K                              1/0        2/0\n",
      "85   ¦   ¦   °--Yugoslavia;>50K                            0/0        1/0\n",
      "86   ¦   °-->30;capital.gain                          4828/931   4838/847\n",
      "87   ¦       ¦--<=7298;age                            4824/842   4835/766\n",
      "88   ¦       ¦   ¦--<=74;occupation                   4805/841   4818/764\n",
      "89   ¦       ¦   ¦   ¦--Adm-clerical;<=50K              611/79     528/63\n",
      "90   ¦       ¦   ¦   ¦--Armed-Forces;<=50K                 2/0        2/0\n",
      "91   ¦       ¦   ¦   ¦--Craft-repair;<=50K             936/207   1019/207\n",
      "92   ¦       ¦   ¦   ¦--Exec-managerial;<=50K          293/124    267/110\n",
      "93   ¦       ¦   ¦   ¦--Farming-fishing;<=50K           241/16     260/30\n",
      "94   ¦       ¦   ¦   ¦--Handlers-cleaners;<=50K         351/24     388/21\n",
      "95   ¦       ¦   ¦   ¦--Machine-op-inspct;<=50K         628/81     614/73\n",
      "96   ¦       ¦   ¦   ¦--Other-service;<=50K             633/28     665/25\n",
      "97   ¦       ¦   ¦   ¦--Priv-house-serv;<=50K             29/0       29/0\n",
      "98   ¦       ¦   ¦   ¦--Prof-specialty;<=50K             75/31      86/22\n",
      "99   ¦       ¦   ¦   ¦--Protective-serv;<=50K            88/25      83/19\n",
      "100  ¦       ¦   ¦   °--... 3 nodes w/ 0 sub                             \n",
      "101  ¦       ¦   °--... 1 nodes w/ 3 sub                                 \n",
      "102  ¦       °--... 1 nodes w/ 4 sub                                     \n",
      "103  °--... 1 nodes w/ 201 sub                                           \n"
     ]
    }
   ],
   "source": [
    "print(dt, 'train_cnts', 'test_cnts')"
   ]
  },
  {
   "cell_type": "code",
   "execution_count": 97,
   "metadata": {},
   "outputs": [
    {
     "data": {
      "text/html": [
       "'9782/20380'"
      ],
      "text/latex": [
       "'9782/20380'"
      ],
      "text/markdown": [
       "'9782/20380'"
      ],
      "text/plain": [
       "[1] \"9782/20380\""
      ]
     },
     "metadata": {},
     "output_type": "display_data"
    }
   ],
   "source": [
    "paste(as.character(table(adult$sex)), collapse='/')"
   ]
  },
  {
   "cell_type": "code",
   "execution_count": null,
   "metadata": {
    "collapsed": true
   },
   "outputs": [],
   "source": []
  }
 ],
 "metadata": {
  "kernelspec": {
   "display_name": "R",
   "language": "R",
   "name": "ir"
  },
  "language_info": {
   "codemirror_mode": "r",
   "file_extension": ".r",
   "mimetype": "text/x-r-source",
   "name": "R",
   "pygments_lexer": "r",
   "version": "3.4.3"
  }
 },
 "nbformat": 4,
 "nbformat_minor": 2
}
