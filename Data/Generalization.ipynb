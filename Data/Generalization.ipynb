{
 "cells": [
  {
   "cell_type": "code",
   "execution_count": 5,
   "metadata": {},
   "outputs": [],
   "source": [
    "library(parallel)\n",
    "source('PTrees.R')\n",
    "source('Datasets.R')"
   ]
  },
  {
   "cell_type": "code",
   "execution_count": 253,
   "metadata": {
    "collapsed": true
   },
   "outputs": [],
   "source": [
    "split_data <- function(D, cutoff=0.8){\n",
    "    cutoff <- as.integer(nrow(D$data)*cutoff)\n",
    "    D1 <- D\n",
    "    D2 <- D\n",
    "    D1$data <- D$data[1:cutoff, ]\n",
    "    D2$data <- D$data[(cutoff+1):nrow(D$data), ]\n",
    "    return(list(train=D1, test=D2))\n",
    "}\n",
    "test <- function(D, B, dep, dt_gen){\n",
    "    dt <- dt_gen(D$train, B, dep)\n",
    "    ys <- get(D$test$y_names, D$test$data)\n",
    "    default <- ys[1]\n",
    "    p <- predict(dt, D$test$data, default)\n",
    "    return(sum(p == ys) / length(ys))\n",
    "}"
   ]
  },
  {
   "cell_type": "code",
   "execution_count": 254,
   "metadata": {
    "collapsed": true
   },
   "outputs": [],
   "source": [
    "get_leaf_node <- function(ys, node, eps){\n",
    "    m <- data.frame(table(ys))\n",
    "    node$counts <- hist_noiser(m$Freq, eps)\n",
    "    idx <- which.max(node$counts)\n",
    "    guess <- m$ys[idx]\n",
    "    node$guess <- guess\n",
    "    node$name <- paste(node$name, guess, sep=';')\n",
    "}"
   ]
  },
  {
   "cell_type": "code",
   "execution_count": 255,
   "metadata": {
    "collapsed": true
   },
   "outputs": [],
   "source": [
    "split <- function(attr){\n",
    "    if(attr$type == 'numeric'){\n",
    "        s <- attr$split\n",
    "        return(c(list(name=paste('<=', s), fn=function(d){return(d <= s)}),\n",
    "                 list(name=paste('>', s), fn=function(d){return(d > s)})))\n",
    "    }else\n",
    "        return(lapply(attr$split, function(a) list(name=a, fn=equality(a))))\n",
    "}"
   ]
  },
  {
   "cell_type": "code",
   "execution_count": 198,
   "metadata": {},
   "outputs": [],
   "source": [
    "get_sigma <- function(data, attrs, y_name){\n",
    "    sizes <- lapply(data, function(col){\n",
    "        if(class(col) == 'numeric')\n",
    "            return(2)\n",
    "        return(length(levels(col)))\n",
    "    })\n",
    "    t <- sizes[attrs] %>% reduce(`max`)\n",
    "    C <- get(y_name, sizes)\n",
    "    return(C*t*sqrt(2))\n",
    "}"
   ]
  },
  {
   "cell_type": "code",
   "execution_count": 258,
   "metadata": {
    "collapsed": true
   },
   "outputs": [],
   "source": [
    "predict <- function(t, D, default){\n",
    "    preds <- rep(default, nrow(D))\n",
    "    if(nrow(D) == 0)\n",
    "        return(preds) \n",
    "    if(!is.null(t$guess)){\n",
    "        return(rep(t$guess, nrow(D)))\n",
    "    }\n",
    "    for(i in 1:length(t$pars)){\n",
    "        mask <- t$pars[[i]]$fn(get(t$attr, D))\n",
    "        preds[mask] <- predict(t$children[[i]], D[mask, ], default)\n",
    "    }\n",
    "    return(preds)\n",
    "}"
   ]
  },
  {
   "cell_type": "code",
   "execution_count": 300,
   "metadata": {},
   "outputs": [],
   "source": [
    "L1 <- list(dir=1, pts=data.frame())\n",
    "L2 <- list(dir=0, pts=data.frame())\n",
    "L3 <- list(dir=0, pts=data.frame())\n",
    "L4 <- list(dir=1, pts=data.frame())\n",
    "\n",
    "NoisyBranch <- function(learner, params){\n",
    "    return(rbind(learner$pts, params$attr_left))\n",
    "} #Stub\n",
    "\n",
    "dtree_helper <- function(t, data, attrs, y_name, D_ranges, dep, epsilon, params){\n",
    "    ys <- get(y_name, data)\n",
    "    t$nrows <- Inf\n",
    "    #Decides whether to collect the size info\n",
    "    L3$pts <<- NoisyBranch(L3, list(attr_left=attrs %>% length))\n",
    "    if(params$collect_size || L3$dir){\n",
    "        t$nrows <- hist_noiser(nrow(data), params$query_budget)\n",
    "        epsilon <- epsilon-params$query_budget\n",
    "    }\n",
    "    if(dep == 0 || t$nrows < params$sigma){\n",
    "        get_leaf_node(ys, t, epsilon)\n",
    "        return()\n",
    "    }\n",
    "    attr_best <- 0\n",
    "    L4$pts <<- NoisyBranch(L4, list(attr_left=attrs %>% length))\n",
    "    if(L4$dir){\n",
    "        atp <- lapply(attrs, function(name) cond_eval(name, data, range_bounds, ys))\n",
    "        utilities <- sapply(atp, function(x) -x$ent)\n",
    "        attr_best <- exp_mech(atp, utilities, params$query_budget, ent_util$sens)\n",
    "        epsilon <- epsilon-params$query_budget\n",
    "    }else{\n",
    "        attr_best <- random(attrs)\n",
    "    }\n",
    "    t$name <- paste(t$name, attr_best$name, sep=';')\n",
    "    t$pars <- split(attr_best)\n",
    "    t$attr <- attr_best$name\n",
    "    col <- get(attr_best$name, data)\n",
    "    attr_new <- attrs[attrs != attr_best$name]\n",
    "    for(fn in t$pars){\n",
    "        subset <- (fn$fn)(col)\n",
    "        dtree_helper(t$AddChild(fn$name), data[subset, ], attr_new, y_name, D_ranges, dep-1, epsilon, params)\n",
    "    }\n",
    "}\n",
    "\n",
    "dtree_outer <- function(data, attrs, y_name, D_ranges, dep, epsilon){\n",
    "    dt <- Node$new('')\n",
    "    params <- list(collect_size=TRUE, sigma=0, query_budget=epsilon/(2*(dep+1)))\n",
    "    if(L1$dir){\n",
    "        params$sigma <- get_sigma(data, attrs, y_name) / params$query_budget\n",
    "        dtree_helper(dt, data, attrs, y_name, D_ranges, dep, epsilon, params)\n",
    "        if(L2$dir){\n",
    "            prune_tree(dt, y_name %>% get(data) %>% levels)\n",
    "        }   \n",
    "    }else{\n",
    "        params$collect_size <- FALSE\n",
    "        params$query_budget <- params$query_budget*2\n",
    "        dt <- dtree_helper(dt, data, attrs, y_name, D_ranges, dep, epsilon, params)\n",
    "    }\n",
    "    return(dt)\n",
    "}\n",
    "dtree_general <- function(D, B, dep) dtree_outer(D$data, D$x_names, D$y_names, D$rng, dep, B)"
   ]
  },
  {
   "cell_type": "code",
   "execution_count": 301,
   "metadata": {
    "scrolled": true
   },
   "outputs": [],
   "source": [
    "t <- dtree_outer(ttt$data, ttt$x_names, ttt$y_names, ttt$rng, 4, 10)"
   ]
  },
  {
   "cell_type": "code",
   "execution_count": 278,
   "metadata": {},
   "outputs": [
    {
     "data": {
      "text/html": [
       "0.767361111111111"
      ],
      "text/latex": [
       "0.767361111111111"
      ],
      "text/markdown": [
       "0.767361111111111"
      ],
      "text/plain": [
       "[1] 0.7673611"
      ]
     },
     "metadata": {},
     "output_type": "display_data"
    }
   ],
   "source": [
    "T <- split_data(ttt, 0.7)\n",
    "test(T, 5, 4, dtree_general)"
   ]
  },
  {
   "cell_type": "code",
   "execution_count": 296,
   "metadata": {
    "collapsed": true
   },
   "outputs": [],
   "source": [
    "?mutate"
   ]
  },
  {
   "cell_type": "code",
   "execution_count": null,
   "metadata": {
    "collapsed": true
   },
   "outputs": [],
   "source": []
  }
 ],
 "metadata": {
  "kernelspec": {
   "display_name": "R",
   "language": "R",
   "name": "ir"
  },
  "language_info": {
   "codemirror_mode": "r",
   "file_extension": ".r",
   "mimetype": "text/x-r-source",
   "name": "R",
   "pygments_lexer": "r",
   "version": "3.4.3"
  }
 },
 "nbformat": 4,
 "nbformat_minor": 2
}
