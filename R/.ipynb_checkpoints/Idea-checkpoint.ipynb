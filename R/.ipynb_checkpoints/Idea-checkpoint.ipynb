{
 "cells": [
  {
   "cell_type": "code",
   "execution_count": 121,
   "metadata": {},
   "outputs": [],
   "source": [
    "source('PTrees.R')\n",
    "#exp_mech(domain, util, eps, sens=1)\n",
    "#get_ent(matrix) - entropy computed on rows\n",
    "#cond_eval_num(xs, ys, uti=get_ent, eps=0, min=0, max=0)\n",
    "#cond_eval_fac(xs, ys, uti=get_ent)\n",
    "#cond_eval(attr_name, data, range_bounds, ys):\n",
    "#   returns a list with (name, type, ent, split) attributes\n",
    "#laplacian(epsilon, length=1, sensitivity=1) - variance 2(s^2/e^2)\n",
    "#claplace(x, lambda) - CDF of Laplace with variance 2/lambda^2 eval at x\n",
    "#hist_noiser(vals, epsilon=0)\n",
    "#dtree(data, pred_name, attr_names, depth=3)\n",
    "#dt_private(data, range_bounds, pred_name, attrs_names, budget, d=3)\n",
    "#predict(tree, dataset, y_levels)\n",
    "#prune_tree(tree, y_levels)\n",
    "#test_private(tree, data, y_name, train_test_cutoff=0.8)"
   ]
  },
  {
   "cell_type": "code",
   "execution_count": 122,
   "metadata": {},
   "outputs": [],
   "source": [
    "source('Datasets.R')"
   ]
  },
  {
   "cell_type": "code",
   "execution_count": 123,
   "metadata": {
    "collapsed": true
   },
   "outputs": [],
   "source": [
    "set.seed(12345)"
   ]
  },
  {
   "cell_type": "code",
   "execution_count": 120,
   "metadata": {},
   "outputs": [
    {
     "data": {
      "text/html": [
       "0.836549300444268"
      ],
      "text/latex": [
       "0.836549300444268"
      ],
      "text/markdown": [
       "0.836549300444268"
      ],
      "text/plain": [
       "[1] 0.8365493"
      ]
     },
     "metadata": {},
     "output_type": "display_data"
    }
   ],
   "source": [
    "#dt <- dt_private(adult, adult_maxes, adult_y_names, adult_x_names, 10, 5)\n",
    "#test_private(dt, adult, adult_y_names)"
   ]
  },
  {
   "cell_type": "code",
   "execution_count": 56,
   "metadata": {
    "collapsed": true
   },
   "outputs": [],
   "source": [
    "decision_tree_sep <- function(data, range_bounds, pred, attrs, node, eps, d){\n",
    "    p <- get(pred, data)\n",
    "    if(length(attrs) == 0 || d <= 0){\n",
    "        m <- data.frame(table(p))\n",
    "        node$counts <-  hist_noiser(m$Freq, eps) #m$Freq+laplacian(eps, nrow(m))\n",
    "        idx <- which.max(node$counts)\n",
    "        guess <- m$p[idx]\n",
    "        node$guess <- guess\n",
    "        node$name <- paste(node$name, guess, sep=';')\n",
    "        return()\n",
    "    }\n",
    "    atp <- lapply(attrs, function(name) cond_eval(name, data, range_bounds, p))\n",
    "    best_attr <- exp_mech(atp, sapply(atp, function(x) -x$ent), eps, ent_util$sens)\n",
    "    node$name <- paste(node$name, best_attr$name, sep=';')\n",
    "    node$branch <- node$name\n",
    "    ba <- best_attr$name\n",
    "    nl <- attrs[attrs!= ba]\n",
    "    if(best_attr$type == 'numeric'){\n",
    "        s1 <- get(ba, data) < best_attr$split\n",
    "        s <- best_attr$split\n",
    "        decision_tree_sep(data[s1,], range_bounds, pred, nl, node$AddChild(paste(\"<=\", s, sep='')), eps, d-1)\n",
    "        decision_tree_sep(data[!s1,], range_bounds, pred, nl, node$AddChild(paste(\">\", s, sep='')), eps, d-1)\n",
    "        node$pars <- c(function(d){return(d <= s)}, function(d){return(d > s)})\n",
    "    }else if(best_attr$type == 'factor'){\n",
    "        p <- get(ba, data)\n",
    "        dec_f <- lapply(best_attr$split, equality)\n",
    "        for(a in best_attr$split){\n",
    "            decision_tree_sep(data[p == a,], range_bounds, pred, nl, node$AddChild(a), eps, d-1)\n",
    "        }\n",
    "        node$pars <- dec_f\n",
    "    }\n",
    "    node$attr <- ba\n",
    "}\n",
    "#Returns a private decision tree (call this one)\n",
    "dt_sep <- function(data, range_bounds, pred, attrs, B, d=3){\n",
    "    eps <- B/(d+2)\n",
    "    dt_p <- Node$new('')\n",
    "    nrow <- hist_noiser(nrow(data), eps)\n",
    "    sizes <- lapply(data, function(col){\n",
    "        if(class(col) == 'numeric')\n",
    "            return(2)\n",
    "        return(length(levels(col)))\n",
    "    })\n",
    "    t <- sizes[attrs] %>% reduce(`max`)\n",
    "    C <- get(pred, sizes)\n",
    "    d_vanish <- as.integer(log(B*nrow / (sqrt(2) * C*t)) / log(2))+1\n",
    "    d <- min(d, d_vanish)\n",
    "    decision_tree_sep(data, range_bounds, pred, attrs, dt_p, eps, d)\n",
    "    return(dt_p)\n",
    "}"
   ]
  },
  {
   "cell_type": "code",
   "execution_count": 87,
   "metadata": {
    "collapsed": true
   },
   "outputs": [],
   "source": [
    "dt <- dt_sep(adult, adult_maxes, adult_y_names, adult_x_names, 10, 5)"
   ]
  },
  {
   "cell_type": "code",
   "execution_count": 45,
   "metadata": {
    "collapsed": true
   },
   "outputs": [],
   "source": [
    "get_adult_dt_sep <- function(eps, d){dt_sep(adult, adult_maxes, adult_y_names, adult_x_names, eps, d)}\n",
    "get_adult_dt_pri <- function(eps, d){dt_private(adult, adult_maxes, adult_y_names, adult_x_names, eps, d)}\n",
    "adult_test <- function(dt){test_private(dt, adult, adult_y_names)}"
   ]
  },
  {
   "cell_type": "code",
   "execution_count": 88,
   "metadata": {},
   "outputs": [
    {
     "data": {
      "text/html": [
       "0.830266865572684"
      ],
      "text/latex": [
       "0.830266865572684"
      ],
      "text/markdown": [
       "0.830266865572684"
      ],
      "text/plain": [
       "[1] 0.8302669"
      ]
     },
     "metadata": {},
     "output_type": "display_data"
    }
   ],
   "source": [
    "test_private(dt, adult, adult_y_names)"
   ]
  },
  {
   "cell_type": "code",
   "execution_count": 90,
   "metadata": {},
   "outputs": [
    {
     "data": {
      "text/html": [
       "0.802420023205702"
      ],
      "text/latex": [
       "0.802420023205702"
      ],
      "text/markdown": [
       "0.802420023205702"
      ],
      "text/plain": [
       "[1] 0.80242"
      ]
     },
     "metadata": {},
     "output_type": "display_data"
    }
   ],
   "source": [
    "get_adult_dt_sep(10, 5) %>% adult_test"
   ]
  },
  {
   "cell_type": "code",
   "execution_count": 213,
   "metadata": {
    "collapsed": true
   },
   "outputs": [],
   "source": [
    "generate_data <- function(attr_names, class, attr_sizes, cur_val, nrow, d_continue, p_stop=0.3){\n",
    "    attr_sz <- 0\n",
    "    attr <- 0\n",
    "    if(attr_names %>% length > 0){\n",
    "        attr <- sample(attr_names, 1)\n",
    "        attr_sz <- get(attr, attr_sizes)\n",
    "    }\n",
    "    if(d_continue <= 0 && runif(1) < p_stop || attr_sz > nrow || attr==0){\n",
    "        cur_val[class] <- runif(1, max=class %>% get(attr_sizes)) %>% as.integer\n",
    "        df <- lapply(cur_val, function(x) rep(x, nrow)) %>% data.frame\n",
    "        L <- lapply(attr_names, function(x) runif(nrow, max=x %>% get(attr_sizes)) %>% as.integer)\n",
    "        names(L) <- attr_names\n",
    "        df2 <- data.frame(L)\n",
    "        if(length(df2) > 0)\n",
    "            df <- cbind(df, df2)\n",
    "        return(df)\n",
    "    }\n",
    "    D <- data.frame()\n",
    "    attr_names <- attr_names[attr_names != attr]\n",
    "    r <- 1+rmultinom(1, nrow-attr_sz, integer(attr_sz)+1)\n",
    "    for(i in 1:attr_sz){\n",
    "        c <- cur_val\n",
    "        c[attr] = i-1\n",
    "        D <- rbind(D, generate_data(attr_names, class, attr_sizes, c, r[i], d_continue-1, p_stop))\n",
    "    }\n",
    "    return(D)\n",
    "}"
   ]
  },
  {
   "cell_type": "code",
   "execution_count": 280,
   "metadata": {
    "collapsed": true
   },
   "outputs": [],
   "source": [
    "attr_names <- LETTERS[1:10]\n",
    "class <- 'P'\n",
    "attr_sizes <- list(A=3, B=2, C=5, D=4, E=2, F=2, G=2, H=3, I=5, J=4, P=3)\n",
    "cur_val <- list()\n",
    "nrow <- 6000\n",
    "d_continue <- 3\n",
    "D <- generate_data(attr_names, class, attr_sizes, cur_val, nrow, d_continue) %>% lapply(function(x) as.factor(x)) %>% data.frame\n",
    "D <- D[sample(1:nrow(D), nrow(D)), ]"
   ]
  },
  {
   "cell_type": "code",
   "execution_count": 285,
   "metadata": {
    "collapsed": true
   },
   "outputs": [],
   "source": [
    "cutoff <- as.integer(nrow(D)*0.8)\n",
    "dt <- dtree(D[1:cutoff, ], class, attr_names, 5)\n",
    "dtp <- dt_private(D[1:cutoff, ], list(), class, attr_names, 5, 5)"
   ]
  },
  {
   "cell_type": "code",
   "execution_count": 288,
   "metadata": {
    "collapsed": true
   },
   "outputs": [],
   "source": [
    "dtp2 <- dt_sep(D[1:cutoff, ], list(), class, attr_names, 5, 5)"
   ]
  },
  {
   "cell_type": "code",
   "execution_count": 286,
   "metadata": {},
   "outputs": [
    {
     "data": {
      "text/html": [
       "0.800999167360533"
      ],
      "text/latex": [
       "0.800999167360533"
      ],
      "text/markdown": [
       "0.800999167360533"
      ],
      "text/plain": [
       "[1] 0.8009992"
      ]
     },
     "metadata": {},
     "output_type": "display_data"
    }
   ],
   "source": [
    "test_private(dt, D[cutoff:nrow(D), ], class)"
   ]
  },
  {
   "cell_type": "code",
   "execution_count": 287,
   "metadata": {},
   "outputs": [
    {
     "data": {
      "text/html": [
       "0.74188176519567"
      ],
      "text/latex": [
       "0.74188176519567"
      ],
      "text/markdown": [
       "0.74188176519567"
      ],
      "text/plain": [
       "[1] 0.7418818"
      ]
     },
     "metadata": {},
     "output_type": "display_data"
    }
   ],
   "source": [
    "test_private(dtp, D[cutoff:nrow(D), ], class)"
   ]
  },
  {
   "cell_type": "code",
   "execution_count": 289,
   "metadata": {},
   "outputs": [
    {
     "data": {
      "text/html": [
       "0.800999167360533"
      ],
      "text/latex": [
       "0.800999167360533"
      ],
      "text/markdown": [
       "0.800999167360533"
      ],
      "text/plain": [
       "[1] 0.8009992"
      ]
     },
     "metadata": {},
     "output_type": "display_data"
    }
   ],
   "source": [
    "test_private(dtp2, D[cutoff:nrow(D), ], class)"
   ]
  },
  {
   "cell_type": "code",
   "execution_count": 299,
   "metadata": {
    "collapsed": true
   },
   "outputs": [],
   "source": [
    "G1 <- sapply(1:10, function(a) sapply(eps_test, function(e) {dt_private(D[1:cutoff, ], list(), class, attr_names, e, 5) %>% test_private(D[cutoff:nrow(D), ], class)}))\n",
    "G2 <- sapply(1:10, function(a) sapply(eps_test, function(e) {dt_sep(D[1:cutoff, ], list(), class, attr_names, e, 5) %>% test_private(D[cutoff:nrow(D), ], class)}))"
   ]
  },
  {
   "cell_type": "code",
   "execution_count": 341,
   "metadata": {
    "collapsed": true
   },
   "outputs": [],
   "source": [
    "DF <- rbind(data.frame(eps=eps_test, performance=rowMeans(G1), advice='Size Advice'),\n",
    "            data.frame(eps=eps_test, performance=rowMeans(G2), advice='No Advice'))"
   ]
  },
  {
   "cell_type": "code",
   "execution_count": 342,
   "metadata": {},
   "outputs": [
    {
     "data": {},
     "metadata": {},
     "output_type": "display_data"
    },
    {
     "data": {
      "image/png": "[encoded data removed]",
      "text/plain": [
       "plot without title"
      ]
     },
     "metadata": {},
     "output_type": "display_data"
    }
   ],
   "source": [
    "ggplot(DF, aes(x=eps, y=performance, color=advice))+geom_line()"
   ]
  },
  {
   "cell_type": "code",
   "execution_count": null,
   "metadata": {
    "collapsed": true
   },
   "outputs": [],
   "source": [
    "decision_tree_sep()"
   ]
  }
 ],
 "metadata": {
  "kernelspec": {
   "display_name": "R",
   "language": "R",
   "name": "ir"
  },
  "language_info": {
   "codemirror_mode": "r",
   "file_extension": ".r",
   "mimetype": "text/x-r-source",
   "name": "R",
   "pygments_lexer": "r",
   "version": "3.4.3"
  }
 },
 "nbformat": 4,
 "nbformat_minor": 2
}
